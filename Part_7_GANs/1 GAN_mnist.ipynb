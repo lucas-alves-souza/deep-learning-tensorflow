{
 "cells": [
  {
   "cell_type": "code",
   "execution_count": 1,
   "metadata": {
    "ExecuteTime": {
     "end_time": "2022-06-29T23:48:39.092790Z",
     "start_time": "2022-06-29T23:48:33.022400Z"
    },
    "colab": {},
    "colab_type": "code",
    "id": "1hB3219A4bC4"
   },
   "outputs": [
    {
     "name": "stderr",
     "output_type": "stream",
     "text": [
      "2022-06-29 20:48:33.763388: W tensorflow/stream_executor/platform/default/dso_loader.cc:64] Could not load dynamic library 'libcudart.so.11.0'; dlerror: libcudart.so.11.0: cannot open shared object file: No such file or directory\n",
      "2022-06-29 20:48:33.763462: I tensorflow/stream_executor/cuda/cudart_stub.cc:29] Ignore above cudart dlerror if you do not have a GPU set up on your machine.\n"
     ]
    }
   ],
   "source": [
    "import tensorflow_datasets as tfds"
   ]
  },
  {
   "cell_type": "code",
   "execution_count": 2,
   "metadata": {
    "ExecuteTime": {
     "end_time": "2022-06-29T23:48:44.127039Z",
     "start_time": "2022-06-29T23:48:39.107747Z"
    },
    "colab": {
     "base_uri": "https://localhost:8080/",
     "height": 195,
     "referenced_widgets": [
      "f4443d8d91d044b0ad2bac8a1a23800c",
      "a773fcc408dc4573895f264279079fd5",
      "30a87d0ca8e44f1eb6a72002f42c2fa0",
      "2835c27c94f94fb3bf0028ce24478b8f",
      "e3d86ceea7eb44da90f7650fd608b3f8",
      "7b56ff24fb1c49cd8ae98df793c6f245",
      "94ac83ef683044d38f659836738273d6",
      "b7ffca859d5448c5a367fe6cf0a2b4fa"
     ]
    },
    "colab_type": "code",
    "executionInfo": {
     "elapsed": 12542,
     "status": "ok",
     "timestamp": 1599740430751,
     "user": {
      "displayName": "Denny Seccon",
      "photoUrl": "https://lh3.googleusercontent.com/a-/AOh14GgJKBMgIypXsiOd8ZOSskERpZBMuJN6csHlr9Wo=s64",
      "userId": "03904535882374894686"
     },
     "user_tz": 180
    },
    "id": "KUk93xJP4bDH",
    "outputId": "3a57286a-c14e-4afd-90bc-44ae3bb6841c",
    "scrolled": true
   },
   "outputs": [
    {
     "name": "stderr",
     "output_type": "stream",
     "text": [
      "2022-06-29 20:48:39.116264: W tensorflow/core/platform/cloud/google_auth_provider.cc:184] All attempts to get a Google authentication bearer token failed, returning an empty token. Retrieving token from files failed with \"NOT_FOUND: Could not locate the credentials file.\". Retrieving token from GCE failed with \"FAILED_PRECONDITION: Error executing an HTTP request: libcurl code 6 meaning 'Couldn't resolve host name', error details: Could not resolve host: metadata\".\n"
     ]
    },
    {
     "name": "stdout",
     "output_type": "stream",
     "text": [
      "\u001b[1mDownloading and preparing dataset 11.06 MiB (download: 11.06 MiB, generated: 21.00 MiB, total: 32.06 MiB) to ~/tensorflow_datasets/mnist/3.0.1...\u001b[0m\n"
     ]
    },
    {
     "data": {
      "application/vnd.jupyter.widget-view+json": {
       "model_id": "3fd816dda2724ec6af6fe8859879ebb7",
       "version_major": 2,
       "version_minor": 0
      },
      "text/plain": [
       "HBox(children=(FloatProgress(value=0.0, description='Dl Completed...', max=4.0, style=ProgressStyle(descriptio…"
      ]
     },
     "metadata": {},
     "output_type": "display_data"
    },
    {
     "name": "stdout",
     "output_type": "stream",
     "text": [
      "\n",
      "\u001b[1mDataset mnist downloaded and prepared to ~/tensorflow_datasets/mnist/3.0.1. Subsequent calls will reuse this data.\u001b[0m\n"
     ]
    },
    {
     "name": "stderr",
     "output_type": "stream",
     "text": [
      "2022-06-29 20:48:43.849207: W tensorflow/stream_executor/platform/default/dso_loader.cc:64] Could not load dynamic library 'libcuda.so.1'; dlerror: libcuda.so.1: cannot open shared object file: No such file or directory\n",
      "2022-06-29 20:48:43.849225: W tensorflow/stream_executor/cuda/cuda_driver.cc:269] failed call to cuInit: UNKNOWN ERROR (303)\n",
      "2022-06-29 20:48:43.849237: I tensorflow/stream_executor/cuda/cuda_diagnostics.cc:156] kernel driver does not appear to be running on this host (lucas): /proc/driver/nvidia/version does not exist\n",
      "2022-06-29 20:48:43.849480: I tensorflow/core/platform/cpu_feature_guard.cc:193] This TensorFlow binary is optimized with oneAPI Deep Neural Network Library (oneDNN) to use the following CPU instructions in performance-critical operations:  AVX2 FMA\n",
      "To enable them in other operations, rebuild TensorFlow with the appropriate compiler flags.\n"
     ]
    }
   ],
   "source": [
    "ds_train = tfds.load('mnist', split = 'train', as_supervised = True)\n",
    "def transform(f, l):\n",
    "    return f/255, l\n",
    "ds_train = ds_train.map(transform)"
   ]
  },
  {
   "cell_type": "code",
   "execution_count": 3,
   "metadata": {
    "ExecuteTime": {
     "end_time": "2022-06-29T23:48:52.761396Z",
     "start_time": "2022-06-29T23:48:52.607830Z"
    },
    "colab": {},
    "colab_type": "code",
    "id": "UP2drAlz7hPF"
   },
   "outputs": [
    {
     "name": "stderr",
     "output_type": "stream",
     "text": [
      "2022-06-29 20:48:52.756875: W tensorflow/core/kernels/data/cache_dataset_ops.cc:856] The calling iterator did not fully read the dataset being cached. In order to avoid unexpected truncation of the dataset, the partially cached contents of the dataset  will be discarded. This can happen if you have an input pipeline similar to `dataset.cache().take(k).repeat()`. You should use `dataset.take(k).cache().repeat()` instead.\n"
     ]
    }
   ],
   "source": [
    "feature, _ = next(iter(ds_train.take(1)))"
   ]
  },
  {
   "cell_type": "code",
   "execution_count": 4,
   "metadata": {
    "ExecuteTime": {
     "end_time": "2022-06-29T23:48:55.612660Z",
     "start_time": "2022-06-29T23:48:53.850044Z"
    },
    "colab": {
     "base_uri": "https://localhost:8080/",
     "height": 281
    },
    "colab_type": "code",
    "executionInfo": {
     "elapsed": 13650,
     "status": "ok",
     "timestamp": 1599740431932,
     "user": {
      "displayName": "Denny Seccon",
      "photoUrl": "https://lh3.googleusercontent.com/a-/AOh14GgJKBMgIypXsiOd8ZOSskERpZBMuJN6csHlr9Wo=s64",
      "userId": "03904535882374894686"
     },
     "user_tz": 180
    },
    "id": "XUYX_CPw4bDS",
    "outputId": "9a32890d-0219-43b3-f13d-c0b8ac69015d"
   },
   "outputs": [
    {
     "data": {
      "text/plain": [
       "<matplotlib.image.AxesImage at 0x7f97e8097250>"
      ]
     },
     "execution_count": 4,
     "metadata": {},
     "output_type": "execute_result"
    },
    {
     "data": {
      "image/png": "[encoded data removed]",
      "text/plain": [
       "<Figure size 432x288 with 1 Axes>"
      ]
     },
     "metadata": {
      "needs_background": "light"
     },
     "output_type": "display_data"
    }
   ],
   "source": [
    "import matplotlib.pyplot as plt\n",
    "plt.imshow(feature.numpy().reshape(28, 28), cmap = 'Greys')"
   ]
  },
  {
   "cell_type": "code",
   "execution_count": 5,
   "metadata": {
    "ExecuteTime": {
     "end_time": "2022-06-29T23:49:00.865034Z",
     "start_time": "2022-06-29T23:49:00.846642Z"
    },
    "colab": {
     "base_uri": "https://localhost:8080/",
     "height": 1000
    },
    "colab_type": "code",
    "executionInfo": {
     "elapsed": 13635,
     "status": "ok",
     "timestamp": 1599740431935,
     "user": {
      "displayName": "Denny Seccon",
      "photoUrl": "https://lh3.googleusercontent.com/a-/AOh14GgJKBMgIypXsiOd8ZOSskERpZBMuJN6csHlr9Wo=s64",
      "userId": "03904535882374894686"
     },
     "user_tz": 180
    },
    "id": "lfhLxJlW4bDa",
    "outputId": "17a6b630-f211-4d4c-962d-bf00dab1bf23"
   },
   "outputs": [
    {
     "data": {
      "text/plain": [
       "array([0.        , 0.        , 0.        , 0.        , 0.        ,\n",
       "       0.        , 0.        , 0.        , 0.        , 0.        ,\n",
       "       0.        , 0.        , 0.        , 0.        , 0.        ,\n",
       "       0.        , 0.        , 0.        , 0.        , 0.        ,\n",
       "       0.        , 0.        , 0.        , 0.        , 0.        ,\n",
       "       0.        , 0.        , 0.        , 0.        , 0.        ,\n",
       "       0.        , 0.        , 0.        , 0.        , 0.        ,\n",
       "       0.        , 0.        , 0.        , 0.        , 0.        ,\n",
       "       0.        , 0.        , 0.        , 0.        , 0.        ,\n",
       "       0.        , 0.        , 0.        , 0.        , 0.        ,\n",
       "       0.        , 0.        , 0.        , 0.        , 0.        ,\n",
       "       0.        , 0.        , 0.        , 0.        , 0.        ,\n",
       "       0.        , 0.        , 0.        , 0.        , 0.        ,\n",
       "       0.        , 0.        , 0.        , 0.        , 0.        ,\n",
       "       0.        , 0.        , 0.        , 0.        , 0.        ,\n",
       "       0.        , 0.        , 0.        , 0.        , 0.        ,\n",
       "       0.        , 0.        , 0.        , 0.        , 0.        ,\n",
       "       0.        , 0.        , 0.        , 0.        , 0.        ,\n",
       "       0.        , 0.        , 0.        , 0.        , 0.        ,\n",
       "       0.        , 0.        , 0.        , 0.        , 0.        ,\n",
       "       0.        , 0.        , 0.        , 0.        , 0.        ,\n",
       "       0.        , 0.        , 0.        , 0.        , 0.        ,\n",
       "       0.        , 0.        , 0.        , 0.        , 0.        ,\n",
       "       0.        , 0.        , 0.        , 0.        , 0.        ,\n",
       "       0.        , 0.        , 0.        , 0.        , 0.        ,\n",
       "       0.        , 0.        , 0.        , 0.        , 0.        ,\n",
       "       0.        , 0.        , 0.        , 0.        , 0.        ,\n",
       "       0.        , 0.        , 0.        , 0.        , 0.        ,\n",
       "       0.        , 0.        , 0.        , 0.        , 0.        ,\n",
       "       0.        , 0.        , 0.        , 0.        , 0.        ,\n",
       "       0.        , 0.        , 0.        , 0.        , 0.        ,\n",
       "       0.        , 0.        , 0.32941177, 0.99607843, 0.39607844,\n",
       "       0.        , 0.        , 0.        , 0.        , 0.        ,\n",
       "       0.        , 0.        , 0.        , 0.        , 0.        ,\n",
       "       0.        , 0.        , 0.        , 0.        , 0.        ,\n",
       "       0.        , 0.        , 0.        , 0.        , 0.        ,\n",
       "       0.        , 0.        , 0.        , 0.        , 0.        ,\n",
       "       0.68235296, 0.99215686, 0.46666667, 0.        , 0.        ,\n",
       "       0.        , 0.        , 0.        , 0.        , 0.        ,\n",
       "       0.        , 0.        , 0.        , 0.        , 0.        ,\n",
       "       0.        , 0.        , 0.        , 0.        , 0.        ,\n",
       "       0.        , 0.        , 0.        , 0.        , 0.        ,\n",
       "       0.        , 0.        , 0.12156863, 0.96862745, 0.7921569 ,\n",
       "       0.11372549, 0.        , 0.        , 0.        , 0.        ,\n",
       "       0.        , 0.        , 0.        , 0.        , 0.        ,\n",
       "       0.        , 0.        , 0.        , 0.        , 0.        ,\n",
       "       0.        , 0.        , 0.        , 0.00392157, 0.00392157,\n",
       "       0.        , 0.        , 0.        , 0.        , 0.        ,\n",
       "       0.5529412 , 0.99215686, 0.65882355, 0.        , 0.        ,\n",
       "       0.        , 0.        , 0.        , 0.        , 0.        ,\n",
       "       0.        , 0.        , 0.        , 0.        , 0.        ,\n",
       "       0.        , 0.        , 0.        , 0.        , 0.        ,\n",
       "       0.        , 0.25882354, 0.8156863 , 0.21960784, 0.        ,\n",
       "       0.        , 0.        , 0.        , 0.7294118 , 0.99215686,\n",
       "       0.47058824, 0.        , 0.        , 0.        , 0.        ,\n",
       "       0.        , 0.        , 0.        , 0.        , 0.        ,\n",
       "       0.        , 0.        , 0.        , 0.        , 0.        ,\n",
       "       0.        , 0.        , 0.        , 0.        , 0.22352941,\n",
       "       0.99215686, 0.46666667, 0.        , 0.        , 0.        ,\n",
       "       0.10980392, 0.9764706 , 0.9411765 , 0.09803922, 0.        ,\n",
       "       0.        , 0.        , 0.        , 0.        , 0.        ,\n",
       "       0.        , 0.        , 0.        , 0.        , 0.        ,\n",
       "       0.        , 0.        , 0.        , 0.        , 0.        ,\n",
       "       0.        , 0.        , 0.13333334, 0.99215686, 0.46666667,\n",
       "       0.        , 0.        , 0.        , 0.42745098, 0.99607843,\n",
       "       0.77254903, 0.        , 0.        , 0.        , 0.        ,\n",
       "       0.        , 0.        , 0.        , 0.        , 0.        ,\n",
       "       0.        , 0.        , 0.        , 0.        , 0.        ,\n",
       "       0.        , 0.        , 0.        , 0.        , 0.        ,\n",
       "       0.20784314, 0.99215686, 0.46666667, 0.        , 0.        ,\n",
       "       0.        , 0.5294118 , 0.99607843, 0.52156866, 0.        ,\n",
       "       0.        , 0.        , 0.        , 0.        , 0.        ,\n",
       "       0.        , 0.        , 0.        , 0.        , 0.        ,\n",
       "       0.        , 0.        , 0.        , 0.        , 0.        ,\n",
       "       0.        , 0.        , 0.        , 0.52156866, 0.99607843,\n",
       "       0.46666667, 0.        , 0.        , 0.10588235, 0.9411765 ,\n",
       "       1.        , 0.13725491, 0.        , 0.        , 0.        ,\n",
       "       0.        , 0.        , 0.        , 0.        , 0.        ,\n",
       "       0.        , 0.        , 0.        , 0.        , 0.        ,\n",
       "       0.        , 0.        , 0.        , 0.        , 0.        ,\n",
       "       0.02745098, 0.92156863, 0.99215686, 0.8156863 , 0.5921569 ,\n",
       "       0.6627451 , 0.84313726, 0.99215686, 0.80784315, 0.00784314,\n",
       "       0.        , 0.        , 0.        , 0.        , 0.        ,\n",
       "       0.        , 0.        , 0.        , 0.        , 0.        ,\n",
       "       0.        , 0.        , 0.        , 0.        , 0.        ,\n",
       "       0.        , 0.        , 0.        , 0.38039216, 0.99215686,\n",
       "       0.99215686, 0.99215686, 0.99607843, 0.99215686, 0.99215686,\n",
       "       0.99215686, 0.3372549 , 0.        , 0.        , 0.        ,\n",
       "       0.        , 0.        , 0.        , 0.        , 0.        ,\n",
       "       0.        , 0.        , 0.        , 0.        , 0.        ,\n",
       "       0.        , 0.        , 0.        , 0.        , 0.        ,\n",
       "       0.        , 0.5882353 , 0.95686275, 0.5686275 , 0.46666667,\n",
       "       0.39607844, 0.32156864, 0.99215686, 0.99215686, 0.05490196,\n",
       "       0.        , 0.        , 0.        , 0.        , 0.        ,\n",
       "       0.        , 0.        , 0.        , 0.        , 0.        ,\n",
       "       0.        , 0.        , 0.        , 0.        , 0.        ,\n",
       "       0.        , 0.        , 0.        , 0.        , 0.        ,\n",
       "       0.        , 0.        , 0.        , 0.        , 0.32941177,\n",
       "       0.99607843, 0.6745098 , 0.        , 0.        , 0.        ,\n",
       "       0.        , 0.        , 0.        , 0.        , 0.        ,\n",
       "       0.        , 0.        , 0.        , 0.        , 0.        ,\n",
       "       0.        , 0.        , 0.        , 0.        , 0.        ,\n",
       "       0.        , 0.        , 0.        , 0.        , 0.        ,\n",
       "       0.        , 0.        , 0.68235296, 0.99215686, 0.46666667,\n",
       "       0.        , 0.        , 0.        , 0.        , 0.        ,\n",
       "       0.        , 0.        , 0.        , 0.        , 0.        ,\n",
       "       0.        , 0.        , 0.        , 0.        , 0.        ,\n",
       "       0.        , 0.        , 0.        , 0.        , 0.        ,\n",
       "       0.        , 0.        , 0.        , 0.        , 0.        ,\n",
       "       0.92941177, 0.9882353 , 0.21960784, 0.        , 0.        ,\n",
       "       0.        , 0.        , 0.        , 0.        , 0.        ,\n",
       "       0.        , 0.        , 0.        , 0.        , 0.        ,\n",
       "       0.        , 0.        , 0.        , 0.        , 0.        ,\n",
       "       0.        , 0.        , 0.        , 0.        , 0.        ,\n",
       "       0.        , 0.        , 0.19607843, 0.94509804, 0.7137255 ,\n",
       "       0.        , 0.        , 0.        , 0.        , 0.        ,\n",
       "       0.        , 0.        , 0.        , 0.        , 0.        ,\n",
       "       0.        , 0.        , 0.        , 0.        , 0.        ,\n",
       "       0.        , 0.        , 0.        , 0.        , 0.        ,\n",
       "       0.        , 0.        , 0.        , 0.        , 0.        ,\n",
       "       0.73333335, 0.99607843, 0.9764706 , 0.4117647 , 0.        ,\n",
       "       0.        , 0.        , 0.        , 0.        , 0.        ,\n",
       "       0.        , 0.        , 0.        , 0.        , 0.        ,\n",
       "       0.        , 0.        , 0.        , 0.        , 0.        ,\n",
       "       0.        , 0.        , 0.        , 0.        , 0.        ,\n",
       "       0.        , 0.        , 0.        , 0.7294118 , 0.99215686,\n",
       "       0.80784315, 0.08235294, 0.        , 0.        , 0.        ,\n",
       "       0.        , 0.        , 0.        , 0.        , 0.        ,\n",
       "       0.        , 0.        , 0.        , 0.        , 0.        ,\n",
       "       0.        , 0.        , 0.        , 0.        , 0.        ,\n",
       "       0.        , 0.        , 0.        , 0.        , 0.        ,\n",
       "       0.        , 0.8901961 , 0.9490196 , 0.1254902 , 0.        ,\n",
       "       0.        , 0.        , 0.        , 0.        , 0.        ,\n",
       "       0.        , 0.        , 0.        , 0.        , 0.        ,\n",
       "       0.        , 0.        , 0.        , 0.        , 0.        ,\n",
       "       0.        , 0.        , 0.        , 0.        , 0.        ,\n",
       "       0.        , 0.        , 0.        , 0.        , 0.9254902 ,\n",
       "       0.85882354, 0.        , 0.        , 0.        , 0.        ,\n",
       "       0.        , 0.        , 0.        , 0.        , 0.        ,\n",
       "       0.        , 0.        , 0.        , 0.        , 0.        ,\n",
       "       0.        , 0.        , 0.        , 0.        , 0.        ,\n",
       "       0.        , 0.        , 0.        , 0.        , 0.        ,\n",
       "       0.        , 0.        , 0.        , 0.        , 0.        ,\n",
       "       0.        , 0.        , 0.        , 0.        , 0.        ,\n",
       "       0.        , 0.        , 0.        , 0.        , 0.        ,\n",
       "       0.        , 0.        , 0.        , 0.        , 0.        ,\n",
       "       0.        , 0.        , 0.        , 0.        , 0.        ,\n",
       "       0.        , 0.        , 0.        , 0.        , 0.        ,\n",
       "       0.        , 0.        , 0.        , 0.        , 0.        ,\n",
       "       0.        , 0.        , 0.        , 0.        , 0.        ,\n",
       "       0.        , 0.        , 0.        , 0.        , 0.        ,\n",
       "       0.        , 0.        , 0.        , 0.        , 0.        ,\n",
       "       0.        , 0.        , 0.        , 0.        , 0.        ,\n",
       "       0.        , 0.        , 0.        , 0.        , 0.        ,\n",
       "       0.        , 0.        , 0.        , 0.        , 0.        ,\n",
       "       0.        , 0.        , 0.        , 0.        , 0.        ,\n",
       "       0.        , 0.        , 0.        , 0.        ], dtype=float32)"
      ]
     },
     "execution_count": 5,
     "metadata": {},
     "output_type": "execute_result"
    }
   ],
   "source": [
    "feature.numpy().ravel()"
   ]
  },
  {
   "cell_type": "code",
   "execution_count": 6,
   "metadata": {
    "ExecuteTime": {
     "end_time": "2022-06-29T23:49:04.774722Z",
     "start_time": "2022-06-29T23:49:04.517188Z"
    },
    "colab": {
     "base_uri": "https://localhost:8080/",
     "height": 281
    },
    "colab_type": "code",
    "executionInfo": {
     "elapsed": 13598,
     "status": "ok",
     "timestamp": 1599740431937,
     "user": {
      "displayName": "Denny Seccon",
      "photoUrl": "https://lh3.googleusercontent.com/a-/AOh14GgJKBMgIypXsiOd8ZOSskERpZBMuJN6csHlr9Wo=s64",
      "userId": "03904535882374894686"
     },
     "user_tz": 180
    },
    "id": "KuRXUgSs4bDl",
    "outputId": "1886613d-2015-4668-a2c4-9a18f69080b8"
   },
   "outputs": [
    {
     "data": {
      "text/plain": [
       "<matplotlib.image.AxesImage at 0x7f978d75f610>"
      ]
     },
     "execution_count": 6,
     "metadata": {},
     "output_type": "execute_result"
    },
    {
     "data": {
      "image/png": "[encoded data removed]",
      "text/plain": [
       "<Figure size 432x288 with 1 Axes>"
      ]
     },
     "metadata": {
      "needs_background": "light"
     },
     "output_type": "display_data"
    }
   ],
   "source": [
    "import numpy as np\n",
    "imagem1 = np.arange(0, 784).reshape(28, 28)\n",
    "plt.imshow(imagem1)"
   ]
  },
  {
   "cell_type": "code",
   "execution_count": 7,
   "metadata": {
    "ExecuteTime": {
     "end_time": "2022-06-29T23:49:11.238500Z",
     "start_time": "2022-06-29T23:49:10.985344Z"
    },
    "colab": {
     "base_uri": "https://localhost:8080/",
     "height": 281
    },
    "colab_type": "code",
    "executionInfo": {
     "elapsed": 13574,
     "status": "ok",
     "timestamp": 1599740431939,
     "user": {
      "displayName": "Denny Seccon",
      "photoUrl": "https://lh3.googleusercontent.com/a-/AOh14GgJKBMgIypXsiOd8ZOSskERpZBMuJN6csHlr9Wo=s64",
      "userId": "03904535882374894686"
     },
     "user_tz": 180
    },
    "id": "mYwpCMq14bDx",
    "outputId": "9365012b-763a-4830-d861-2211dfaced1b"
   },
   "outputs": [
    {
     "data": {
      "text/plain": [
       "<matplotlib.image.AxesImage at 0x7f978d6c71c0>"
      ]
     },
     "execution_count": 7,
     "metadata": {},
     "output_type": "execute_result"
    },
    {
     "data": {
      "image/png": "[encoded data removed]",
      "text/plain": [
       "<Figure size 432x288 with 1 Axes>"
      ]
     },
     "metadata": {
      "needs_background": "light"
     },
     "output_type": "display_data"
    }
   ],
   "source": [
    "np.random.seed(42)\n",
    "imagem2 = np.random.normal(size = 784).reshape(28, 28)\n",
    "plt.imshow(imagem2)"
   ]
  },
  {
   "cell_type": "code",
   "execution_count": 8,
   "metadata": {
    "ExecuteTime": {
     "end_time": "2022-06-29T23:49:14.209835Z",
     "start_time": "2022-06-29T23:49:14.200479Z"
    },
    "colab": {
     "base_uri": "https://localhost:8080/",
     "height": 35
    },
    "colab_type": "code",
    "executionInfo": {
     "elapsed": 13546,
     "status": "ok",
     "timestamp": 1599740431940,
     "user": {
      "displayName": "Denny Seccon",
      "photoUrl": "https://lh3.googleusercontent.com/a-/AOh14GgJKBMgIypXsiOd8ZOSskERpZBMuJN6csHlr9Wo=s64",
      "userId": "03904535882374894686"
     },
     "user_tz": 180
    },
    "id": "Img582LW77VY",
    "outputId": "48f40c91-3fe8-4cd0-bca6-5f4e13bdec84"
   },
   "outputs": [
    {
     "data": {
      "text/plain": [
       "'2.9.0'"
      ]
     },
     "execution_count": 8,
     "metadata": {},
     "output_type": "execute_result"
    }
   ],
   "source": [
    "import tensorflow as tf\n",
    "tf.random.set_seed(42)\n",
    "\n",
    "tf.__version__"
   ]
  },
  {
   "cell_type": "code",
   "execution_count": 9,
   "metadata": {
    "ExecuteTime": {
     "end_time": "2022-06-29T23:49:16.434635Z",
     "start_time": "2022-06-29T23:49:16.386628Z"
    },
    "colab": {},
    "colab_type": "code",
    "id": "RxI33kuY7_Gm"
   },
   "outputs": [],
   "source": [
    "gerador = tf.keras.Sequential([\n",
    "                               tf.keras.layers.Dense(units = 128, activation = 'relu'),\n",
    "                               tf.keras.layers.Dense(units = 128, activation = 'relu'),\n",
    "                               tf.keras.layers.Dense(units = 784, activation = 'tanh')\n",
    "                               ])"
   ]
  },
  {
   "cell_type": "code",
   "execution_count": 10,
   "metadata": {
    "ExecuteTime": {
     "end_time": "2022-06-29T23:49:21.477369Z",
     "start_time": "2022-06-29T23:49:21.352450Z"
    },
    "colab": {},
    "colab_type": "code",
    "id": "cBgsPZR98Zu_"
   },
   "outputs": [],
   "source": [
    "ruido_teste = tf.random.uniform(shape = (1, 100), minval = -1, maxval = 1)\n",
    "amostra = gerador(ruido_teste)"
   ]
  },
  {
   "cell_type": "code",
   "execution_count": 11,
   "metadata": {
    "ExecuteTime": {
     "end_time": "2022-06-29T23:49:22.136114Z",
     "start_time": "2022-06-29T23:49:22.124710Z"
    },
    "colab": {
     "base_uri": "https://localhost:8080/",
     "height": 33
    },
    "colab_type": "code",
    "executionInfo": {
     "elapsed": 14468,
     "status": "ok",
     "timestamp": 1599740432897,
     "user": {
      "displayName": "Denny Seccon",
      "photoUrl": "https://lh3.googleusercontent.com/a-/AOh14GgJKBMgIypXsiOd8ZOSskERpZBMuJN6csHlr9Wo=s64",
      "userId": "03904535882374894686"
     },
     "user_tz": 180
    },
    "id": "uheaJczp8pWY",
    "outputId": "4aab39eb-6035-4162-fa34-8193cf6c8360"
   },
   "outputs": [
    {
     "data": {
      "text/plain": [
       "TensorShape([1, 784])"
      ]
     },
     "execution_count": 11,
     "metadata": {},
     "output_type": "execute_result"
    }
   ],
   "source": [
    "amostra.shape"
   ]
  },
  {
   "cell_type": "code",
   "execution_count": 12,
   "metadata": {
    "ExecuteTime": {
     "end_time": "2022-06-29T23:49:23.771470Z",
     "start_time": "2022-06-29T23:49:23.546300Z"
    },
    "colab": {
     "base_uri": "https://localhost:8080/",
     "height": 281
    },
    "colab_type": "code",
    "executionInfo": {
     "elapsed": 15327,
     "status": "ok",
     "timestamp": 1599740433787,
     "user": {
      "displayName": "Denny Seccon",
      "photoUrl": "https://lh3.googleusercontent.com/a-/AOh14GgJKBMgIypXsiOd8ZOSskERpZBMuJN6csHlr9Wo=s64",
      "userId": "03904535882374894686"
     },
     "user_tz": 180
    },
    "id": "AJyJFAbt8sMS",
    "outputId": "e2296feb-1ed8-4dcb-f0a9-dbb97a44e7a3"
   },
   "outputs": [
    {
     "data": {
      "text/plain": [
       "<matplotlib.image.AxesImage at 0x7f978d6b04c0>"
      ]
     },
     "execution_count": 12,
     "metadata": {},
     "output_type": "execute_result"
    },
    {
     "data": {
      "image/png": "[encoded data removed]",
      "text/plain": [
       "<Figure size 432x288 with 1 Axes>"
      ]
     },
     "metadata": {
      "needs_background": "light"
     },
     "output_type": "display_data"
    }
   ],
   "source": [
    "plt.imshow(amostra.numpy().reshape(28, 28))"
   ]
  },
  {
   "cell_type": "code",
   "execution_count": 13,
   "metadata": {
    "ExecuteTime": {
     "end_time": "2022-06-29T23:49:24.394451Z",
     "start_time": "2022-06-29T23:49:24.380334Z"
    },
    "colab": {},
    "colab_type": "code",
    "id": "vbuuSEnl81GV"
   },
   "outputs": [],
   "source": [
    "discriminador = tf.keras.Sequential([\n",
    "                                     tf.keras.layers.Dense(units = 128, activation = 'relu'),\n",
    "                                     tf.keras.layers.Dense(units = 128, activation = 'relu'),\n",
    "                                     tf.keras.layers.Dense(units = 1)\n",
    "                                     ])"
   ]
  },
  {
   "cell_type": "code",
   "execution_count": 14,
   "metadata": {
    "ExecuteTime": {
     "end_time": "2022-06-29T23:49:25.148620Z",
     "start_time": "2022-06-29T23:49:25.050597Z"
    },
    "colab": {
     "base_uri": "https://localhost:8080/",
     "height": 33
    },
    "colab_type": "code",
    "executionInfo": {
     "elapsed": 15303,
     "status": "ok",
     "timestamp": 1599740433791,
     "user": {
      "displayName": "Denny Seccon",
      "photoUrl": "https://lh3.googleusercontent.com/a-/AOh14GgJKBMgIypXsiOd8ZOSskERpZBMuJN6csHlr9Wo=s64",
      "userId": "03904535882374894686"
     },
     "user_tz": 180
    },
    "id": "UvuQPgAYDuhy",
    "outputId": "4273bb9c-5512-4708-b228-aa43948eee0c"
   },
   "outputs": [
    {
     "name": "stderr",
     "output_type": "stream",
     "text": [
      "2022-06-29 20:49:25.140663: W tensorflow/core/kernels/data/cache_dataset_ops.cc:856] The calling iterator did not fully read the dataset being cached. In order to avoid unexpected truncation of the dataset, the partially cached contents of the dataset  will be discarded. This can happen if you have an input pipeline similar to `dataset.cache().take(k).repeat()`. You should use `dataset.take(k).cache().repeat()` instead.\n"
     ]
    },
    {
     "data": {
      "text/plain": [
       "TensorShape([100, 28, 28, 1])"
      ]
     },
     "execution_count": 14,
     "metadata": {},
     "output_type": "execute_result"
    }
   ],
   "source": [
    "features, _ = next(iter(ds_train.batch(100)))\n",
    "features.shape"
   ]
  },
  {
   "cell_type": "code",
   "execution_count": 15,
   "metadata": {
    "ExecuteTime": {
     "end_time": "2022-06-29T23:49:27.074921Z",
     "start_time": "2022-06-29T23:49:26.938046Z"
    },
    "colab": {
     "base_uri": "https://localhost:8080/",
     "height": 33
    },
    "colab_type": "code",
    "executionInfo": {
     "elapsed": 15284,
     "status": "ok",
     "timestamp": 1599740433793,
     "user": {
      "displayName": "Denny Seccon",
      "photoUrl": "https://lh3.googleusercontent.com/a-/AOh14GgJKBMgIypXsiOd8ZOSskERpZBMuJN6csHlr9Wo=s64",
      "userId": "03904535882374894686"
     },
     "user_tz": 180
    },
    "id": "sOby4IYMEzrL",
    "outputId": "c81ccb2e-25e1-4bf4-9fbc-801fddf2e1fc"
   },
   "outputs": [
    {
     "data": {
      "text/plain": [
       "TensorShape([100, 1])"
      ]
     },
     "execution_count": 15,
     "metadata": {},
     "output_type": "execute_result"
    }
   ],
   "source": [
    "features = tf.reshape(features, shape = (-1, 784))\n",
    "logits = discriminador(features)\n",
    "logits.shape"
   ]
  },
  {
   "cell_type": "code",
   "execution_count": 16,
   "metadata": {
    "ExecuteTime": {
     "end_time": "2022-06-29T23:49:27.702041Z",
     "start_time": "2022-06-29T23:49:27.683327Z"
    },
    "colab": {
     "base_uri": "https://localhost:8080/",
     "height": 1000
    },
    "colab_type": "code",
    "executionInfo": {
     "elapsed": 15268,
     "status": "ok",
     "timestamp": 1599740433795,
     "user": {
      "displayName": "Denny Seccon",
      "photoUrl": "https://lh3.googleusercontent.com/a-/AOh14GgJKBMgIypXsiOd8ZOSskERpZBMuJN6csHlr9Wo=s64",
      "userId": "03904535882374894686"
     },
     "user_tz": 180
    },
    "id": "85tyZpXzFRp2",
    "outputId": "dd13f799-a3c6-4a80-d310-fdd481c1aa12"
   },
   "outputs": [
    {
     "data": {
      "text/plain": [
       "<tf.Tensor: shape=(100, 1), dtype=float32, numpy=\n",
       "array([[ 0.18297854],\n",
       "       [ 0.1783099 ],\n",
       "       [-0.34698248],\n",
       "       [-0.12812883],\n",
       "       [-0.1339739 ],\n",
       "       [-0.23618509],\n",
       "       [ 0.09759846],\n",
       "       [ 0.12691934],\n",
       "       [ 0.13534726],\n",
       "       [-0.42262346],\n",
       "       [-0.01353542],\n",
       "       [-0.25346327],\n",
       "       [-0.18107133],\n",
       "       [ 0.21714245],\n",
       "       [-0.45347336],\n",
       "       [-0.06052258],\n",
       "       [-0.23140463],\n",
       "       [-0.19683127],\n",
       "       [-0.21485269],\n",
       "       [-0.0340374 ],\n",
       "       [-0.2302044 ],\n",
       "       [-0.25743142],\n",
       "       [-0.3055495 ],\n",
       "       [-0.21032172],\n",
       "       [-0.14394665],\n",
       "       [-0.16955078],\n",
       "       [-0.15790632],\n",
       "       [-0.24080157],\n",
       "       [-0.11211789],\n",
       "       [ 0.02675578],\n",
       "       [ 0.00741137],\n",
       "       [-0.4790987 ],\n",
       "       [-0.29772985],\n",
       "       [-0.07231367],\n",
       "       [-0.12896499],\n",
       "       [-0.19361226],\n",
       "       [-0.03965417],\n",
       "       [-0.24924147],\n",
       "       [-0.27436423],\n",
       "       [-0.32804257],\n",
       "       [ 0.2552184 ],\n",
       "       [-0.09693012],\n",
       "       [ 0.06325636],\n",
       "       [-0.15179878],\n",
       "       [ 0.10330057],\n",
       "       [ 0.20863523],\n",
       "       [-0.01700036],\n",
       "       [ 0.10621235],\n",
       "       [-0.02607025],\n",
       "       [ 0.02734669],\n",
       "       [ 0.00855915],\n",
       "       [-0.04893109],\n",
       "       [-0.11004598],\n",
       "       [-0.0844942 ],\n",
       "       [-0.04824071],\n",
       "       [-0.10581985],\n",
       "       [ 0.3407681 ],\n",
       "       [-0.23010932],\n",
       "       [ 0.01978528],\n",
       "       [-0.42438495],\n",
       "       [-0.03313223],\n",
       "       [ 0.05536963],\n",
       "       [-0.1527548 ],\n",
       "       [-0.48404378],\n",
       "       [-0.36462605],\n",
       "       [ 0.2264479 ],\n",
       "       [ 0.20756266],\n",
       "       [ 0.1427479 ],\n",
       "       [-0.26624647],\n",
       "       [-0.2874596 ],\n",
       "       [-0.11147945],\n",
       "       [-0.04340095],\n",
       "       [-0.28437337],\n",
       "       [-0.01206816],\n",
       "       [ 0.05647735],\n",
       "       [-0.02998862],\n",
       "       [-0.47791487],\n",
       "       [-0.14395694],\n",
       "       [ 0.10036308],\n",
       "       [-0.16584131],\n",
       "       [-0.12060551],\n",
       "       [-0.1801922 ],\n",
       "       [-0.6266987 ],\n",
       "       [-0.02705099],\n",
       "       [-0.20721735],\n",
       "       [-0.07704088],\n",
       "       [ 0.03606653],\n",
       "       [-0.03323743],\n",
       "       [-0.01596684],\n",
       "       [ 0.07228339],\n",
       "       [-0.21689251],\n",
       "       [-0.10697219],\n",
       "       [-0.17503591],\n",
       "       [-0.05334903],\n",
       "       [-0.06108494],\n",
       "       [-0.35069567],\n",
       "       [ 0.0641894 ],\n",
       "       [ 0.01577786],\n",
       "       [ 0.12252669],\n",
       "       [-0.17264113]], dtype=float32)>"
      ]
     },
     "execution_count": 16,
     "metadata": {},
     "output_type": "execute_result"
    }
   ],
   "source": [
    "logits"
   ]
  },
  {
   "cell_type": "markdown",
   "metadata": {
    "colab_type": "text",
    "id": "lQTNmegGYf1q"
   },
   "source": [
    "(Já adianto que, mesmo com a mesma seed, por algum motivo misterioso, todos os valores calculados antes do logit (inclusive os gerados pelo gerador) são iguais, mas depois de passar pelo discriminador, aparece uma leve diferença, que depois se intensifica (mas não muito) no treinamento da GAN. Não consegui descobrir por que isso acontece. O curioso é que o discriminador é uma simples rede neural feed forward... até chequei os pesos mas eles são iguais usando a mesma seed. Deve ter alguma relação com arredondamentos, mas não consegui elucidar. Aviso caso alguém comente sobre divergências nos resultados. Em todos os outros notebooks, o uso da seed garantiu a reprodutibilidade.)"
   ]
  },
  {
   "cell_type": "code",
   "execution_count": 17,
   "metadata": {
    "ExecuteTime": {
     "end_time": "2022-06-29T23:49:29.467647Z",
     "start_time": "2022-06-29T23:49:29.442156Z"
    },
    "colab": {
     "base_uri": "https://localhost:8080/",
     "height": 1000
    },
    "colab_type": "code",
    "executionInfo": {
     "elapsed": 15246,
     "status": "ok",
     "timestamp": 1599740433796,
     "user": {
      "displayName": "Denny Seccon",
      "photoUrl": "https://lh3.googleusercontent.com/a-/AOh14GgJKBMgIypXsiOd8ZOSskERpZBMuJN6csHlr9Wo=s64",
      "userId": "03904535882374894686"
     },
     "user_tz": 180
    },
    "id": "zXLouvXEMjTY",
    "outputId": "6c2bbaf6-5259-4920-87c4-5f24750b4646"
   },
   "outputs": [
    {
     "data": {
      "text/plain": [
       "<tf.Tensor: shape=(100, 1), dtype=float32, numpy=\n",
       "array([[0.54561746],\n",
       "       [0.54445976],\n",
       "       [0.41411436],\n",
       "       [0.46801156],\n",
       "       [0.46655655],\n",
       "       [0.44122672],\n",
       "       [0.52438027],\n",
       "       [0.5316873 ],\n",
       "       [0.5337853 ],\n",
       "       [0.39588913],\n",
       "       [0.49661618],\n",
       "       [0.43697125],\n",
       "       [0.45485544],\n",
       "       [0.55407333],\n",
       "       [0.3885353 ],\n",
       "       [0.484874  ],\n",
       "       [0.4424056 ],\n",
       "       [0.45095044],\n",
       "       [0.44649252],\n",
       "       [0.49149147],\n",
       "       [0.44270173],\n",
       "       [0.43599525],\n",
       "       [0.42420143],\n",
       "       [0.44761252],\n",
       "       [0.46407536],\n",
       "       [0.45771354],\n",
       "       [0.46060526],\n",
       "       [0.4400888 ],\n",
       "       [0.47199985],\n",
       "       [0.5066886 ],\n",
       "       [0.5018528 ],\n",
       "       [0.38246498],\n",
       "       [0.42611253],\n",
       "       [0.48192945],\n",
       "       [0.46780336],\n",
       "       [0.45174757],\n",
       "       [0.49008778],\n",
       "       [0.43801022],\n",
       "       [0.431836  ],\n",
       "       [0.418717  ],\n",
       "       [0.5634605 ],\n",
       "       [0.47578642],\n",
       "       [0.51580876],\n",
       "       [0.462123  ],\n",
       "       [0.5258022 ],\n",
       "       [0.55197036],\n",
       "       [0.49575   ],\n",
       "       [0.5265281 ],\n",
       "       [0.4934828 ],\n",
       "       [0.50683624],\n",
       "       [0.50213975],\n",
       "       [0.48776966],\n",
       "       [0.47251624],\n",
       "       [0.478889  ],\n",
       "       [0.48794216],\n",
       "       [0.47356972],\n",
       "       [0.58437705],\n",
       "       [0.44272515],\n",
       "       [0.5049462 ],\n",
       "       [0.39546797],\n",
       "       [0.49171773],\n",
       "       [0.5138389 ],\n",
       "       [0.4618854 ],\n",
       "       [0.38129768],\n",
       "       [0.40984017],\n",
       "       [0.5563713 ],\n",
       "       [0.5517052 ],\n",
       "       [0.5356265 ],\n",
       "       [0.4338288 ],\n",
       "       [0.42862588],\n",
       "       [0.47215897],\n",
       "       [0.48915148],\n",
       "       [0.4293819 ],\n",
       "       [0.496983  ],\n",
       "       [0.5141156 ],\n",
       "       [0.49250337],\n",
       "       [0.3827446 ],\n",
       "       [0.46407276],\n",
       "       [0.5250697 ],\n",
       "       [0.4586344 ],\n",
       "       [0.4698851 ],\n",
       "       [0.45507342],\n",
       "       [0.34825945],\n",
       "       [0.49323764],\n",
       "       [0.44838023],\n",
       "       [0.48074928],\n",
       "       [0.5090157 ],\n",
       "       [0.4916914 ],\n",
       "       [0.49600837],\n",
       "       [0.518063  ],\n",
       "       [0.44598845],\n",
       "       [0.47328243],\n",
       "       [0.4563524 ],\n",
       "       [0.4866659 ],\n",
       "       [0.48473352],\n",
       "       [0.41321373],\n",
       "       [0.5160419 ],\n",
       "       [0.5039444 ],\n",
       "       [0.53059345],\n",
       "       [0.4569466 ]], dtype=float32)>"
      ]
     },
     "execution_count": 17,
     "metadata": {},
     "output_type": "execute_result"
    }
   ],
   "source": [
    "tf.nn.sigmoid(logits)"
   ]
  },
  {
   "cell_type": "code",
   "execution_count": null,
   "metadata": {
    "ExecuteTime": {
     "start_time": "2022-06-29T23:54:59.727Z"
    },
    "colab": {
     "base_uri": "https://localhost:8080/",
     "height": 1000
    },
    "colab_type": "code",
    "executionInfo": {
     "elapsed": 4586934,
     "status": "ok",
     "timestamp": 1599745005503,
     "user": {
      "displayName": "Denny Seccon",
      "photoUrl": "https://lh3.googleusercontent.com/a-/AOh14GgJKBMgIypXsiOd8ZOSskERpZBMuJN6csHlr9Wo=s64",
      "userId": "03904535882374894686"
     },
     "user_tz": 180
    },
    "id": "SMEKqQ839n9o",
    "outputId": "18e9cb49-5535-4874-c885-8efc21613d00"
   },
   "outputs": [
    {
     "name": "stdout",
     "output_type": "stream",
     "text": [
      "época: 1 erro D: 0.45627593715985615 erro G: 3.8702479009330273\n",
      "época: 2 erro D: 0.821278886894385 erro G: 3.0987844807406266\n",
      "época: 3 erro D: 1.1764746369918186 erro G: 2.8725070372223853\n"
     ]
    }
   ],
   "source": [
    "batch_size = 100\n",
    "amostras_teste = []\n",
    "treinamento_discriminador = tf.keras.optimizers.Adam(learning_rate = 0.001)\n",
    "treinamento_gerador = tf.keras.optimizers.Adam(learning_rate = 0.001)\n",
    "\n",
    "for epoca in range(300):\n",
    "    erro_gerador_batch = 0.\n",
    "    erro_discriminador_batch = 0.\n",
    "    n_batches = 0\n",
    "    for X_batch, _ in ds_train.batch(batch_size):\n",
    "        n_batches += 1\n",
    "\n",
    "        imagens_reais = tf.reshape(X_batch * 2 - 1, shape = (batch_size, -1))\n",
    "        batch_ruido = tf.random.uniform(shape = (batch_size, 100), minval = -1, maxval = 1)\n",
    "        \n",
    "        with tf.GradientTape() as tape_gerador, tf.GradientTape() as tape_discriminador:\n",
    "            imagens_ruido = gerador(batch_ruido)\n",
    "\n",
    "            logits_imagens_reais = discriminador(imagens_reais)\n",
    "            logits_imagens_ruido = discriminador(imagens_ruido)\n",
    "\n",
    "            erro_gerador = tf.reduce_mean(tf.nn.sigmoid_cross_entropy_with_logits(labels = tf.ones_like(logits_imagens_ruido), \n",
    "                                                                                  logits = logits_imagens_ruido))\n",
    "        \n",
    "            erro_discriminador_real = tf.reduce_mean(tf.nn.sigmoid_cross_entropy_with_logits(labels = tf.ones_like(logits_imagens_reais) * 0.9,\n",
    "                                                                                             logits = logits_imagens_reais))\n",
    "            erro_discriminador_ruido = tf.reduce_mean(tf.nn.sigmoid_cross_entropy_with_logits(labels = tf.zeros_like(logits_imagens_ruido),\n",
    "                                                                                              logits = logits_imagens_ruido))\n",
    "            erro_discriminador = erro_discriminador_real + erro_discriminador_ruido\n",
    "        \n",
    "        gradients = tape_gerador.gradient(erro_gerador, gerador.trainable_variables)\n",
    "        treinamento_gerador.apply_gradients(zip(gradients, gerador.trainable_variables))\n",
    "        \n",
    "        gradients = tape_discriminador.gradient(erro_discriminador, discriminador.trainable_variables)\n",
    "        treinamento_discriminador.apply_gradients(zip(gradients, discriminador.trainable_variables))\n",
    "\n",
    "        erro_gerador_batch += erro_gerador.numpy()\n",
    "        erro_discriminador_batch += erro_discriminador.numpy()\n",
    "    \n",
    "    erro_gerador_batch /= n_batches\n",
    "    erro_discriminador_batch /= n_batches\n",
    "    print('época: ' + str(epoca + 1) + ' erro D: ' + str(erro_discriminador_batch) + ' erro G: ' + str(erro_gerador_batch))\n",
    "\n",
    "    # No final de cada época, gerar uma imagem com o gerador treinado\n",
    "    ruido_teste = tf.random.uniform(shape = (1, 100), minval = -1, maxval = 1)\n",
    "    imagem_gerada = gerador(ruido_teste)\n",
    "    amostras_teste.append(imagem_gerada.numpy().reshape(28, 28))"
   ]
  },
  {
   "cell_type": "code",
   "execution_count": null,
   "metadata": {
    "ExecuteTime": {
     "start_time": "2022-06-29T23:55:00.840Z"
    },
    "colab": {
     "base_uri": "https://localhost:8080/",
     "height": 281
    },
    "colab_type": "code",
    "executionInfo": {
     "elapsed": 4586917,
     "status": "ok",
     "timestamp": 1599745005511,
     "user": {
      "displayName": "Denny Seccon",
      "photoUrl": "https://lh3.googleusercontent.com/a-/AOh14GgJKBMgIypXsiOd8ZOSskERpZBMuJN6csHlr9Wo=s64",
      "userId": "03904535882374894686"
     },
     "user_tz": 180
    },
    "id": "dPy3ugvV4bG4",
    "outputId": "d603de67-dd7d-43b6-e4b1-ed4c537fedd6"
   },
   "outputs": [],
   "source": [
    "plt.imshow(amostras_teste[0].reshape(28, 28))"
   ]
  },
  {
   "cell_type": "code",
   "execution_count": null,
   "metadata": {
    "ExecuteTime": {
     "start_time": "2022-06-29T23:55:01.425Z"
    },
    "colab": {
     "base_uri": "https://localhost:8080/",
     "height": 281
    },
    "colab_type": "code",
    "executionInfo": {
     "elapsed": 4586888,
     "status": "ok",
     "timestamp": 1599745005513,
     "user": {
      "displayName": "Denny Seccon",
      "photoUrl": "https://lh3.googleusercontent.com/a-/AOh14GgJKBMgIypXsiOd8ZOSskERpZBMuJN6csHlr9Wo=s64",
      "userId": "03904535882374894686"
     },
     "user_tz": 180
    },
    "id": "IWImx1CGc3Mq",
    "outputId": "993e8aa7-7a92-40f8-8d99-b395388bdb49"
   },
   "outputs": [],
   "source": [
    "plt.imshow(amostras_teste[100].reshape(28, 28))"
   ]
  },
  {
   "cell_type": "code",
   "execution_count": null,
   "metadata": {
    "ExecuteTime": {
     "start_time": "2022-06-29T23:55:02.007Z"
    },
    "colab": {
     "base_uri": "https://localhost:8080/",
     "height": 281
    },
    "colab_type": "code",
    "executionInfo": {
     "elapsed": 4587789,
     "status": "ok",
     "timestamp": 1599745006447,
     "user": {
      "displayName": "Denny Seccon",
      "photoUrl": "https://lh3.googleusercontent.com/a-/AOh14GgJKBMgIypXsiOd8ZOSskERpZBMuJN6csHlr9Wo=s64",
      "userId": "03904535882374894686"
     },
     "user_tz": 180
    },
    "id": "k_HiCMlnc4Ry",
    "outputId": "840bc9b5-b2cd-41d8-8e30-64a46c7927fb"
   },
   "outputs": [],
   "source": [
    "plt.imshow(amostras_teste[200].reshape(28, 28))"
   ]
  },
  {
   "cell_type": "code",
   "execution_count": null,
   "metadata": {
    "ExecuteTime": {
     "start_time": "2022-06-29T23:55:02.601Z"
    },
    "colab": {
     "base_uri": "https://localhost:8080/",
     "height": 281
    },
    "colab_type": "code",
    "executionInfo": {
     "elapsed": 4587770,
     "status": "ok",
     "timestamp": 1599745006448,
     "user": {
      "displayName": "Denny Seccon",
      "photoUrl": "https://lh3.googleusercontent.com/a-/AOh14GgJKBMgIypXsiOd8ZOSskERpZBMuJN6csHlr9Wo=s64",
      "userId": "03904535882374894686"
     },
     "user_tz": 180
    },
    "id": "isVW-FxCc38Q",
    "outputId": "f9bed25f-1b90-41ff-8fa9-15fb181f50e3"
   },
   "outputs": [],
   "source": [
    "plt.imshow(amostras_teste[-1].reshape(28, 28))"
   ]
  },
  {
   "cell_type": "markdown",
   "metadata": {
    "colab_type": "text",
    "id": "iGf1FqH_7KPT"
   },
   "source": [
    "# Agora vamos ver qual imagem o modelo gera depois de treinado por 50 milhões de épocas."
   ]
  },
  {
   "cell_type": "code",
   "execution_count": null,
   "metadata": {
    "colab": {
     "base_uri": "https://localhost:8080/",
     "height": 285
    },
    "colab_type": "code",
    "executionInfo": {
     "elapsed": 4588910,
     "status": "ok",
     "timestamp": 1599745007609,
     "user": {
      "displayName": "Denny Seccon",
      "photoUrl": "https://lh3.googleusercontent.com/a-/AOh14GgJKBMgIypXsiOd8ZOSskERpZBMuJN6csHlr9Wo=s64",
      "userId": "03904535882374894686"
     },
     "user_tz": 180
    },
    "id": "6el_q2jS-Igq",
    "outputId": "1a2787ce-0d06-4dd1-f89e-2942e29a33a7"
   },
   "outputs": [
    {
     "data": {
      "text/plain": [
       "<matplotlib.image.AxesImage at 0x7fa02ffabf28>"
      ]
     },
     "execution_count": 23,
     "metadata": {
      "tags": []
     },
     "output_type": "execute_result"
    },
    {
     "data": {
      "image/png": "[encoded data removed]",
      "text/plain": [
       "<Figure size 432x288 with 1 Axes>"
      ]
     },
     "metadata": {
      "needs_background": "light",
      "tags": []
     },
     "output_type": "display_data"
    }
   ],
   "source": [
    "img = plt.imread(\"https://i.ibb.co/VNJDTC4/mnist.png\")\n",
    "plt.imshow(img)"
   ]
  }
 ],
 "metadata": {
  "accelerator": "GPU",
  "colab": {
   "collapsed_sections": [],
   "name": "1 GAN_mnist.ipynb",
   "provenance": [],
   "toc_visible": true
  },
  "kernelspec": {
   "display_name": "Python 3 (ipykernel)",
   "language": "python",
   "name": "python3"
  },
  "language_info": {
   "codemirror_mode": {
    "name": "ipython",
    "version": 3
   },
   "file_extension": ".py",
   "mimetype": "text/x-python",
   "name": "python",
   "nbconvert_exporter": "python",
   "pygments_lexer": "ipython3",
   "version": "3.8.10"
  },
  "widgets": {
   "application/vnd.jupyter.widget-state+json": {
    "2835c27c94f94fb3bf0028ce24478b8f": {
     "model_module": "@jupyter-widgets/controls",
     "model_name": "HTMLModel",
     "state": {
      "_dom_classes": [],
      "_model_module": "@jupyter-widgets/controls",
      "_model_module_version": "1.5.0",
      "_model_name": "HTMLModel",
      "_view_count": null,
      "_view_module": "@jupyter-widgets/controls",
      "_view_module_version": "1.5.0",
      "_view_name": "HTMLView",
      "description": "",
      "description_tooltip": null,
      "layout": "IPY_MODEL_b7ffca859d5448c5a367fe6cf0a2b4fa",
      "placeholder": "​",
      "style": "IPY_MODEL_94ac83ef683044d38f659836738273d6",
      "value": " 4/4 [00:08&lt;00:00,  2.09s/ file]"
     }
    },
    "30a87d0ca8e44f1eb6a72002f42c2fa0": {
     "model_module": "@jupyter-widgets/controls",
     "model_name": "FloatProgressModel",
     "state": {
      "_dom_classes": [],
      "_model_module": "@jupyter-widgets/controls",
      "_model_module_version": "1.5.0",
      "_model_name": "FloatProgressModel",
      "_view_count": null,
      "_view_module": "@jupyter-widgets/controls",
      "_view_module_version": "1.5.0",
      "_view_name": "ProgressView",
      "bar_style": "success",
      "description": "Dl Completed...: 100%",
      "description_tooltip": null,
      "layout": "IPY_MODEL_7b56ff24fb1c49cd8ae98df793c6f245",
      "max": 4,
      "min": 0,
      "orientation": "horizontal",
      "style": "IPY_MODEL_e3d86ceea7eb44da90f7650fd608b3f8",
      "value": 4
     }
    },
    "7b56ff24fb1c49cd8ae98df793c6f245": {
     "model_module": "@jupyter-widgets/base",
     "model_name": "LayoutModel",
     "state": {
      "_model_module": "@jupyter-widgets/base",
      "_model_module_version": "1.2.0",
      "_model_name": "LayoutModel",
      "_view_count": null,
      "_view_module": "@jupyter-widgets/base",
      "_view_module_version": "1.2.0",
      "_view_name": "LayoutView",
      "align_content": null,
      "align_items": null,
      "align_self": null,
      "border": null,
      "bottom": null,
      "display": null,
      "flex": null,
      "flex_flow": null,
      "grid_area": null,
      "grid_auto_columns": null,
      "grid_auto_flow": null,
      "grid_auto_rows": null,
      "grid_column": null,
      "grid_gap": null,
      "grid_row": null,
      "grid_template_areas": null,
      "grid_template_columns": null,
      "grid_template_rows": null,
      "height": null,
      "justify_content": null,
      "justify_items": null,
      "left": null,
      "margin": null,
      "max_height": null,
      "max_width": null,
      "min_height": null,
      "min_width": null,
      "object_fit": null,
      "object_position": null,
      "order": null,
      "overflow": null,
      "overflow_x": null,
      "overflow_y": null,
      "padding": null,
      "right": null,
      "top": null,
      "visibility": null,
      "width": null
     }
    },
    "94ac83ef683044d38f659836738273d6": {
     "model_module": "@jupyter-widgets/controls",
     "model_name": "DescriptionStyleModel",
     "state": {
      "_model_module": "@jupyter-widgets/controls",
      "_model_module_version": "1.5.0",
      "_model_name": "DescriptionStyleModel",
      "_view_count": null,
      "_view_module": "@jupyter-widgets/base",
      "_view_module_version": "1.2.0",
      "_view_name": "StyleView",
      "description_width": ""
     }
    },
    "a773fcc408dc4573895f264279079fd5": {
     "model_module": "@jupyter-widgets/base",
     "model_name": "LayoutModel",
     "state": {
      "_model_module": "@jupyter-widgets/base",
      "_model_module_version": "1.2.0",
      "_model_name": "LayoutModel",
      "_view_count": null,
      "_view_module": "@jupyter-widgets/base",
      "_view_module_version": "1.2.0",
      "_view_name": "LayoutView",
      "align_content": null,
      "align_items": null,
      "align_self": null,
      "border": null,
      "bottom": null,
      "display": null,
      "flex": null,
      "flex_flow": null,
      "grid_area": null,
      "grid_auto_columns": null,
      "grid_auto_flow": null,
      "grid_auto_rows": null,
      "grid_column": null,
      "grid_gap": null,
      "grid_row": null,
      "grid_template_areas": null,
      "grid_template_columns": null,
      "grid_template_rows": null,
      "height": null,
      "justify_content": null,
      "justify_items": null,
      "left": null,
      "margin": null,
      "max_height": null,
      "max_width": null,
      "min_height": null,
      "min_width": null,
      "object_fit": null,
      "object_position": null,
      "order": null,
      "overflow": null,
      "overflow_x": null,
      "overflow_y": null,
      "padding": null,
      "right": null,
      "top": null,
      "visibility": null,
      "width": null
     }
    },
    "b7ffca859d5448c5a367fe6cf0a2b4fa": {
     "model_module": "@jupyter-widgets/base",
     "model_name": "LayoutModel",
     "state": {
      "_model_module": "@jupyter-widgets/base",
      "_model_module_version": "1.2.0",
      "_model_name": "LayoutModel",
      "_view_count": null,
      "_view_module": "@jupyter-widgets/base",
      "_view_module_version": "1.2.0",
      "_view_name": "LayoutView",
      "align_content": null,
      "align_items": null,
      "align_self": null,
      "border": null,
      "bottom": null,
      "display": null,
      "flex": null,
      "flex_flow": null,
      "grid_area": null,
      "grid_auto_columns": null,
      "grid_auto_flow": null,
      "grid_auto_rows": null,
      "grid_column": null,
      "grid_gap": null,
      "grid_row": null,
      "grid_template_areas": null,
      "grid_template_columns": null,
      "grid_template_rows": null,
      "height": null,
      "justify_content": null,
      "justify_items": null,
      "left": null,
      "margin": null,
      "max_height": null,
      "max_width": null,
      "min_height": null,
      "min_width": null,
      "object_fit": null,
      "object_position": null,
      "order": null,
      "overflow": null,
      "overflow_x": null,
      "overflow_y": null,
      "padding": null,
      "right": null,
      "top": null,
      "visibility": null,
      "width": null
     }
    },
    "e3d86ceea7eb44da90f7650fd608b3f8": {
     "model_module": "@jupyter-widgets/controls",
     "model_name": "ProgressStyleModel",
     "state": {
      "_model_module": "@jupyter-widgets/controls",
      "_model_module_version": "1.5.0",
      "_model_name": "ProgressStyleModel",
      "_view_count": null,
      "_view_module": "@jupyter-widgets/base",
      "_view_module_version": "1.2.0",
      "_view_name": "StyleView",
      "bar_color": null,
      "description_width": "initial"
     }
    },
    "f4443d8d91d044b0ad2bac8a1a23800c": {
     "model_module": "@jupyter-widgets/controls",
     "model_name": "HBoxModel",
     "state": {
      "_dom_classes": [],
      "_model_module": "@jupyter-widgets/controls",
      "_model_module_version": "1.5.0",
      "_model_name": "HBoxModel",
      "_view_count": null,
      "_view_module": "@jupyter-widgets/controls",
      "_view_module_version": "1.5.0",
      "_view_name": "HBoxView",
      "box_style": "",
      "children": [
       "IPY_MODEL_30a87d0ca8e44f1eb6a72002f42c2fa0",
       "IPY_MODEL_2835c27c94f94fb3bf0028ce24478b8f"
      ],
      "layout": "IPY_MODEL_a773fcc408dc4573895f264279079fd5"
     }
    }
   }
  }
 },
 "nbformat": 4,
 "nbformat_minor": 1
}
