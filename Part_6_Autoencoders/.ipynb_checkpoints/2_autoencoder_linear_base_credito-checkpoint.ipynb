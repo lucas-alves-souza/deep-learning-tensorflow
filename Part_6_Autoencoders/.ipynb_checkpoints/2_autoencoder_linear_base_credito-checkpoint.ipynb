{
 "cells": [
  {
   "cell_type": "markdown",
   "metadata": {
    "ExecuteTime": {
     "end_time": "2022-06-27T22:46:46.821741Z",
     "start_time": "2022-06-27T22:46:46.817374Z"
    }
   },
   "source": [
    "# Autoencoder Linear\n",
    "\n",
    "Não usa função de ativação nas camadas ocultas"
   ]
  },
  {
   "cell_type": "code",
   "execution_count": 1,
   "metadata": {
    "ExecuteTime": {
     "end_time": "2022-06-27T22:45:36.991270Z",
     "start_time": "2022-06-27T22:45:34.673607Z"
    },
    "colab": {
     "base_uri": "https://localhost:8080/",
     "height": 191
    },
    "colab_type": "code",
    "executionInfo": {
     "elapsed": 1527,
     "status": "ok",
     "timestamp": 1599589736867,
     "user": {
      "displayName": "Denny Seccon",
      "photoUrl": "https://lh3.googleusercontent.com/a-/AOh14GgJKBMgIypXsiOd8ZOSskERpZBMuJN6csHlr9Wo=s64",
      "userId": "03904535882374894686"
     },
     "user_tz": 180
    },
    "id": "zoYk5ry9Tsk5",
    "outputId": "ed24d43b-0049-464c-ffac-c255ff3d5d72"
   },
   "outputs": [
    {
     "data": {
      "text/html": [
       "<div>\n",
       "<style scoped>\n",
       "    .dataframe tbody tr th:only-of-type {\n",
       "        vertical-align: middle;\n",
       "    }\n",
       "\n",
       "    .dataframe tbody tr th {\n",
       "        vertical-align: top;\n",
       "    }\n",
       "\n",
       "    .dataframe thead th {\n",
       "        text-align: right;\n",
       "    }\n",
       "</style>\n",
       "<table border=\"1\" class=\"dataframe\">\n",
       "  <thead>\n",
       "    <tr style=\"text-align: right;\">\n",
       "      <th></th>\n",
       "      <th>income</th>\n",
       "      <th>age</th>\n",
       "      <th>loan</th>\n",
       "    </tr>\n",
       "  </thead>\n",
       "  <tbody>\n",
       "    <tr>\n",
       "      <th>0</th>\n",
       "      <td>1.453898</td>\n",
       "      <td>1.336861</td>\n",
       "      <td>1.201907</td>\n",
       "    </tr>\n",
       "    <tr>\n",
       "      <th>1</th>\n",
       "      <td>-0.762398</td>\n",
       "      <td>0.536639</td>\n",
       "      <td>0.695744</td>\n",
       "    </tr>\n",
       "    <tr>\n",
       "      <th>2</th>\n",
       "      <td>0.836733</td>\n",
       "      <td>1.637207</td>\n",
       "      <td>1.173812</td>\n",
       "    </tr>\n",
       "    <tr>\n",
       "      <th>3</th>\n",
       "      <td>-0.183244</td>\n",
       "      <td>0.362998</td>\n",
       "      <td>0.544366</td>\n",
       "    </tr>\n",
       "    <tr>\n",
       "      <th>4</th>\n",
       "      <td>1.509532</td>\n",
       "      <td>-1.631534</td>\n",
       "      <td>1.419754</td>\n",
       "    </tr>\n",
       "  </tbody>\n",
       "</table>\n",
       "</div>"
      ],
      "text/plain": [
       "     income       age      loan\n",
       "0  1.453898  1.336861  1.201907\n",
       "1 -0.762398  0.536639  0.695744\n",
       "2  0.836733  1.637207  1.173812\n",
       "3 -0.183244  0.362998  0.544366\n",
       "4  1.509532 -1.631534  1.419754"
      ]
     },
     "execution_count": 1,
     "metadata": {},
     "output_type": "execute_result"
    }
   ],
   "source": [
    "import pandas as pd\n",
    "base = pd.read_csv('credit_data.csv')\n",
    "base = base.drop('i#clientid', axis = 1)\n",
    "base = base.dropna()\n",
    "from sklearn.preprocessing import StandardScaler\n",
    "scaler_x = StandardScaler()\n",
    "base[['income', 'age', 'loan']] = scaler_x.fit_transform(base[['income', 'age', 'loan']])\n",
    "X = base.drop('c#default', axis = 1)\n",
    "y = base['c#default']\n",
    "X.head()"
   ]
  },
  {
   "cell_type": "code",
   "execution_count": 2,
   "metadata": {
    "ExecuteTime": {
     "end_time": "2022-06-27T22:45:37.009402Z",
     "start_time": "2022-06-27T22:45:37.004635Z"
    },
    "colab": {},
    "colab_type": "code",
    "executionInfo": {
     "elapsed": 1834,
     "status": "ok",
     "timestamp": 1599589737299,
     "user": {
      "displayName": "Denny Seccon",
      "photoUrl": "https://lh3.googleusercontent.com/a-/AOh14GgJKBMgIypXsiOd8ZOSskERpZBMuJN6csHlr9Wo=s64",
      "userId": "03904535882374894686"
     },
     "user_tz": 180
    },
    "id": "qSyaidZsTslE"
   },
   "outputs": [],
   "source": [
    "neuronios_entrada = 3\n",
    "neuronios_oculta = 2\n",
    "neuronios_saida = neuronios_entrada\n",
    "# 3 -> 2 -> 3"
   ]
  },
  {
   "cell_type": "code",
   "execution_count": 3,
   "metadata": {
    "ExecuteTime": {
     "end_time": "2022-06-27T22:45:49.172124Z",
     "start_time": "2022-06-27T22:45:41.310847Z"
    },
    "colab": {
     "base_uri": "https://localhost:8080/",
     "height": 35
    },
    "colab_type": "code",
    "executionInfo": {
     "elapsed": 3723,
     "status": "ok",
     "timestamp": 1599589739262,
     "user": {
      "displayName": "Denny Seccon",
      "photoUrl": "https://lh3.googleusercontent.com/a-/AOh14GgJKBMgIypXsiOd8ZOSskERpZBMuJN6csHlr9Wo=s64",
      "userId": "03904535882374894686"
     },
     "user_tz": 180
    },
    "id": "5yjCkWjFTslK",
    "outputId": "e21683bd-c0b8-4f15-d53f-872869fe4a5c"
   },
   "outputs": [
    {
     "name": "stderr",
     "output_type": "stream",
     "text": [
      "2022-06-27 19:45:42.190804: W tensorflow/stream_executor/platform/default/dso_loader.cc:64] Could not load dynamic library 'libcudart.so.11.0'; dlerror: libcudart.so.11.0: cannot open shared object file: No such file or directory\n",
      "2022-06-27 19:45:42.190875: I tensorflow/stream_executor/cuda/cudart_stub.cc:29] Ignore above cudart dlerror if you do not have a GPU set up on your machine.\n"
     ]
    },
    {
     "data": {
      "text/plain": [
       "'2.9.0'"
      ]
     },
     "execution_count": 3,
     "metadata": {},
     "output_type": "execute_result"
    }
   ],
   "source": [
    "import tensorflow as tf\n",
    "tf.random.set_seed(42)\n",
    "\n",
    "tf.__version__"
   ]
  },
  {
   "cell_type": "code",
   "execution_count": 4,
   "metadata": {
    "ExecuteTime": {
     "end_time": "2022-06-27T22:45:49.263768Z",
     "start_time": "2022-06-27T22:45:49.181697Z"
    },
    "colab": {},
    "colab_type": "code",
    "executionInfo": {
     "elapsed": 3669,
     "status": "ok",
     "timestamp": 1599589739267,
     "user": {
      "displayName": "Denny Seccon",
      "photoUrl": "https://lh3.googleusercontent.com/a-/AOh14GgJKBMgIypXsiOd8ZOSskERpZBMuJN6csHlr9Wo=s64",
      "userId": "03904535882374894686"
     },
     "user_tz": 180
    },
    "id": "ezIZ7ct6TslW"
   },
   "outputs": [],
   "source": [
    "camada_oculta = tf.keras.layers.Dense(units = neuronios_oculta, activation = None)\n",
    "camada_saida = tf.keras.layers.Dense(units = neuronios_saida, activation = None)"
   ]
  },
  {
   "cell_type": "code",
   "execution_count": 5,
   "metadata": {
    "ExecuteTime": {
     "end_time": "2022-06-27T22:45:49.327605Z",
     "start_time": "2022-06-27T22:45:49.271379Z"
    },
    "colab": {},
    "colab_type": "code",
    "executionInfo": {
     "elapsed": 3629,
     "status": "ok",
     "timestamp": 1599589739268,
     "user": {
      "displayName": "Denny Seccon",
      "photoUrl": "https://lh3.googleusercontent.com/a-/AOh14GgJKBMgIypXsiOd8ZOSskERpZBMuJN6csHlr9Wo=s64",
      "userId": "03904535882374894686"
     },
     "user_tz": 180
    },
    "id": "HKMGFSawDNZY"
   },
   "outputs": [
    {
     "name": "stderr",
     "output_type": "stream",
     "text": [
      "2022-06-27 19:45:49.275915: W tensorflow/stream_executor/platform/default/dso_loader.cc:64] Could not load dynamic library 'libcuda.so.1'; dlerror: libcuda.so.1: cannot open shared object file: No such file or directory\n",
      "2022-06-27 19:45:49.276039: W tensorflow/stream_executor/cuda/cuda_driver.cc:269] failed call to cuInit: UNKNOWN ERROR (303)\n",
      "2022-06-27 19:45:49.276105: I tensorflow/stream_executor/cuda/cuda_diagnostics.cc:156] kernel driver does not appear to be running on this host (lucas): /proc/driver/nvidia/version does not exist\n",
      "2022-06-27 19:45:49.288303: I tensorflow/core/platform/cpu_feature_guard.cc:193] This TensorFlow binary is optimized with oneAPI Deep Neural Network Library (oneDNN) to use the following CPU instructions in performance-critical operations:  AVX2 FMA\n",
      "To enable them in other operations, rebuild TensorFlow with the appropriate compiler flags.\n"
     ]
    }
   ],
   "source": [
    "X = tf.convert_to_tensor(X)"
   ]
  },
  {
   "cell_type": "code",
   "execution_count": 9,
   "metadata": {
    "ExecuteTime": {
     "end_time": "2022-06-27T22:47:39.437693Z",
     "start_time": "2022-06-27T22:47:39.429356Z"
    },
    "colab": {},
    "colab_type": "code",
    "executionInfo": {
     "elapsed": 3602,
     "status": "ok",
     "timestamp": 1599589739272,
     "user": {
      "displayName": "Denny Seccon",
      "photoUrl": "https://lh3.googleusercontent.com/a-/AOh14GgJKBMgIypXsiOd8ZOSskERpZBMuJN6csHlr9Wo=s64",
      "userId": "03904535882374894686"
     },
     "user_tz": 180
    },
    "id": "_hBz8sQKCI-l"
   },
   "outputs": [],
   "source": [
    "otimizador = tf.keras.optimizers.Adam(learning_rate = 0.01)"
   ]
  },
  {
   "cell_type": "code",
   "execution_count": 10,
   "metadata": {
    "ExecuteTime": {
     "end_time": "2022-06-27T22:47:53.589970Z",
     "start_time": "2022-06-27T22:47:40.406549Z"
    },
    "colab": {
     "base_uri": "https://localhost:8080/",
     "height": 297
    },
    "colab_type": "code",
    "executionInfo": {
     "elapsed": 6207,
     "status": "ok",
     "timestamp": 1599589741906,
     "user": {
      "displayName": "Denny Seccon",
      "photoUrl": "https://lh3.googleusercontent.com/a-/AOh14GgJKBMgIypXsiOd8ZOSskERpZBMuJN6csHlr9Wo=s64",
      "userId": "03904535882374894686"
     },
     "user_tz": 180
    },
    "id": "dGSuKNvDCJWk",
    "outputId": "01b940f4-e36e-4e12-a3c3-9dc684ac1fab"
   },
   "outputs": [
    {
     "name": "stdout",
     "output_type": "stream",
     "text": [
      "erro: 1.683243\n",
      "erro: 0.28457516\n",
      "erro: 0.21225584\n",
      "erro: 0.19593973\n",
      "erro: 0.1898937\n",
      "erro: 0.18734665\n",
      "erro: 0.186291\n",
      "erro: 0.18587916\n",
      "erro: 0.18573168\n",
      "erro: 0.18568397\n"
     ]
    }
   ],
   "source": [
    "for epoca in range(1000):\n",
    "    with tf.GradientTape() as tape:\n",
    "        X2d_encode = camada_oculta(X)\n",
    "        X3d_decode = camada_saida(X2d_encode)\n",
    "        erro = tf.keras.losses.MSE(X, X3d_decode)\n",
    "\n",
    "    # A lista de variáveis treináveis só é criada depois que o modelo já processou\n",
    "    # um batch, pois a partir dos dados de entrada ele deduz os formatos das matrizes\n",
    "    # de peso e bias, por isso só estou criando a variável `var_list` aqui dentro\n",
    "    # do loop de treinamento\n",
    "    var_list = [*camada_oculta.trainable_variables, *camada_saida.trainable_variables]\n",
    "    \n",
    "    gradientes = tape.gradient(erro, var_list)\n",
    "    \n",
    "    otimizador.apply_gradients(zip(gradientes, var_list))\n",
    "\n",
    "    if epoca % 100 == 0:\n",
    "        print('erro: ' + str(tf.reduce_mean(erro).numpy()))"
   ]
  },
  {
   "cell_type": "code",
   "execution_count": 11,
   "metadata": {
    "ExecuteTime": {
     "end_time": "2022-06-27T22:48:02.747243Z",
     "start_time": "2022-06-27T22:48:02.721760Z"
    },
    "colab": {
     "base_uri": "https://localhost:8080/",
     "height": 163
    },
    "colab_type": "code",
    "executionInfo": {
     "elapsed": 6163,
     "status": "ok",
     "timestamp": 1599589741908,
     "user": {
      "displayName": "Denny Seccon",
      "photoUrl": "https://lh3.googleusercontent.com/a-/AOh14GgJKBMgIypXsiOd8ZOSskERpZBMuJN6csHlr9Wo=s64",
      "userId": "03904535882374894686"
     },
     "user_tz": 180
    },
    "id": "GkAnMfMihKQw",
    "outputId": "3cb0fdba-6ca0-45ff-fb5c-5f6fc9c708cf"
   },
   "outputs": [
    {
     "data": {
      "text/plain": [
       "[<tf.Variable 'dense/kernel:0' shape=(3, 2) dtype=float32, numpy=\n",
       " array([[ 0.07045849,  0.45522797],\n",
       "        [-1.6739731 ,  0.8288995 ],\n",
       "        [-0.08337834,  0.5332296 ]], dtype=float32)>,\n",
       " <tf.Variable 'dense/bias:0' shape=(2,) dtype=float32, numpy=array([-0.00664757,  0.0062918 ], dtype=float32)>,\n",
       " <tf.Variable 'dense_1/kernel:0' shape=(2, 3) dtype=float32, numpy=\n",
       " array([[ 0.52961636, -0.59891176,  0.47895795],\n",
       "        [ 1.0170006 , -0.00791607,  1.0196254 ]], dtype=float32)>,\n",
       " <tf.Variable 'dense_1/bias:0' shape=(3,) dtype=float32, numpy=array([-0.00293658, -0.00389921, -0.00328222], dtype=float32)>]"
      ]
     },
     "execution_count": 11,
     "metadata": {},
     "output_type": "execute_result"
    }
   ],
   "source": [
    "var_list"
   ]
  },
  {
   "cell_type": "code",
   "execution_count": 12,
   "metadata": {
    "ExecuteTime": {
     "end_time": "2022-06-27T22:48:17.163039Z",
     "start_time": "2022-06-27T22:48:17.155522Z"
    },
    "colab": {
     "base_uri": "https://localhost:8080/",
     "height": 33
    },
    "colab_type": "code",
    "executionInfo": {
     "elapsed": 6132,
     "status": "ok",
     "timestamp": 1599589741911,
     "user": {
      "displayName": "Denny Seccon",
      "photoUrl": "https://lh3.googleusercontent.com/a-/AOh14GgJKBMgIypXsiOd8ZOSskERpZBMuJN6csHlr9Wo=s64",
      "userId": "03904535882374894686"
     },
     "user_tz": 180
    },
    "id": "FAr-aakpTslv",
    "outputId": "51112036-c223-47f8-9edf-4c71d1dd24e5"
   },
   "outputs": [
    {
     "data": {
      "text/plain": [
       "TensorShape([1997, 2])"
      ]
     },
     "execution_count": 12,
     "metadata": {},
     "output_type": "execute_result"
    }
   ],
   "source": [
    "X2d_encode.shape"
   ]
  },
  {
   "cell_type": "code",
   "execution_count": 13,
   "metadata": {
    "ExecuteTime": {
     "end_time": "2022-06-27T22:48:19.183840Z",
     "start_time": "2022-06-27T22:48:19.176508Z"
    },
    "colab": {
     "base_uri": "https://localhost:8080/",
     "height": 33
    },
    "colab_type": "code",
    "executionInfo": {
     "elapsed": 6097,
     "status": "ok",
     "timestamp": 1599589741914,
     "user": {
      "displayName": "Denny Seccon",
      "photoUrl": "https://lh3.googleusercontent.com/a-/AOh14GgJKBMgIypXsiOd8ZOSskERpZBMuJN6csHlr9Wo=s64",
      "userId": "03904535882374894686"
     },
     "user_tz": 180
    },
    "id": "nP8Egr9LTslz",
    "outputId": "a0fc67bf-7f1a-446a-e8a9-a0af5ea158b2"
   },
   "outputs": [
    {
     "data": {
      "text/plain": [
       "TensorShape([1997, 3])"
      ]
     },
     "execution_count": 13,
     "metadata": {},
     "output_type": "execute_result"
    }
   ],
   "source": [
    "X3d_decode.shape"
   ]
  },
  {
   "cell_type": "code",
   "execution_count": 14,
   "metadata": {
    "ExecuteTime": {
     "end_time": "2022-06-27T22:48:22.191143Z",
     "start_time": "2022-06-27T22:48:22.179758Z"
    },
    "colab": {
     "base_uri": "https://localhost:8080/",
     "height": 131
    },
    "colab_type": "code",
    "executionInfo": {
     "elapsed": 6068,
     "status": "ok",
     "timestamp": 1599589741915,
     "user": {
      "displayName": "Denny Seccon",
      "photoUrl": "https://lh3.googleusercontent.com/a-/AOh14GgJKBMgIypXsiOd8ZOSskERpZBMuJN6csHlr9Wo=s64",
      "userId": "03904535882374894686"
     },
     "user_tz": 180
    },
    "id": "KOt_9rTDTsl2",
    "outputId": "aab49f30-07e7-46fa-94e2-3da137e409b5"
   },
   "outputs": [
    {
     "data": {
      "text/plain": [
       "array([[6.61559251e+04, 5.90170151e+01, 8.10653213e+03],\n",
       "       [3.44151540e+04, 4.81171531e+01, 6.56474502e+03],\n",
       "       [5.73171701e+04, 6.31080495e+01, 8.02095330e+03],\n",
       "       ...,\n",
       "       [4.43114493e+04, 2.80171669e+01, 5.52278669e+03],\n",
       "       [4.37560566e+04, 6.39717958e+01, 1.62272260e+03],\n",
       "       [6.94365796e+04, 5.61526170e+01, 7.37883360e+03]])"
      ]
     },
     "execution_count": 14,
     "metadata": {},
     "output_type": "execute_result"
    }
   ],
   "source": [
    "X2 = scaler_x.inverse_transform(X.numpy())\n",
    "X2"
   ]
  },
  {
   "cell_type": "code",
   "execution_count": 15,
   "metadata": {
    "ExecuteTime": {
     "end_time": "2022-06-27T22:48:24.157146Z",
     "start_time": "2022-06-27T22:48:24.146688Z"
    },
    "colab": {
     "base_uri": "https://localhost:8080/",
     "height": 131
    },
    "colab_type": "code",
    "executionInfo": {
     "elapsed": 6039,
     "status": "ok",
     "timestamp": 1599589741920,
     "user": {
      "displayName": "Denny Seccon",
      "photoUrl": "https://lh3.googleusercontent.com/a-/AOh14GgJKBMgIypXsiOd8ZOSskERpZBMuJN6csHlr9Wo=s64",
      "userId": "03904535882374894686"
     },
     "user_tz": 180
    },
    "id": "QG9USZeGTsl5",
    "outputId": "bbf7561b-7c73-440a-c081-550689d463d2"
   },
   "outputs": [
    {
     "data": {
      "text/plain": [
       "array([[6.3491781e+04, 5.8784733e+01, 8.6718701e+03],\n",
       "       [4.4501000e+04, 4.8996906e+01, 4.4280137e+03],\n",
       "       [5.8681949e+04, 6.3227226e+01, 7.7324736e+03],\n",
       "       ...,\n",
       "       [4.7932902e+04, 2.8332777e+01, 4.7559243e+03],\n",
       "       [3.6872766e+04, 6.3369686e+01, 3.0815542e+03],\n",
       "       [6.3560004e+04, 5.5639889e+01, 8.6248828e+03]], dtype=float32)"
      ]
     },
     "execution_count": 15,
     "metadata": {},
     "output_type": "execute_result"
    }
   ],
   "source": [
    "X3d_decode2 = scaler_x.inverse_transform(X3d_decode.numpy())            # volta os dados pra escala original\n",
    "X3d_decode2"
   ]
  },
  {
   "cell_type": "code",
   "execution_count": 16,
   "metadata": {
    "ExecuteTime": {
     "end_time": "2022-06-27T22:48:29.454038Z",
     "start_time": "2022-06-27T22:48:29.332302Z"
    },
    "colab": {
     "base_uri": "https://localhost:8080/",
     "height": 33
    },
    "colab_type": "code",
    "executionInfo": {
     "elapsed": 6011,
     "status": "ok",
     "timestamp": 1599589741925,
     "user": {
      "displayName": "Denny Seccon",
      "photoUrl": "https://lh3.googleusercontent.com/a-/AOh14GgJKBMgIypXsiOd8ZOSskERpZBMuJN6csHlr9Wo=s64",
      "userId": "03904535882374894686"
     },
     "user_tz": 180
    },
    "id": "r9h0ezL0Tsl9",
    "outputId": "8d9cf535-c8fa-4cf0-a405-62b520d8e93a"
   },
   "outputs": [
    {
     "data": {
      "text/plain": [
       "6258.754107534287"
      ]
     },
     "execution_count": 16,
     "metadata": {},
     "output_type": "execute_result"
    }
   ],
   "source": [
    "from sklearn.metrics import mean_absolute_error\n",
    "mae_income = mean_absolute_error(X2[:, 0], X3d_decode2[:, 0])\n",
    "mae_income"
   ]
  },
  {
   "cell_type": "code",
   "execution_count": 17,
   "metadata": {
    "ExecuteTime": {
     "end_time": "2022-06-27T22:48:38.436086Z",
     "start_time": "2022-06-27T22:48:38.411303Z"
    },
    "colab": {
     "base_uri": "https://localhost:8080/",
     "height": 33
    },
    "colab_type": "code",
    "executionInfo": {
     "elapsed": 5964,
     "status": "ok",
     "timestamp": 1599589741930,
     "user": {
      "displayName": "Denny Seccon",
      "photoUrl": "https://lh3.googleusercontent.com/a-/AOh14GgJKBMgIypXsiOd8ZOSskERpZBMuJN6csHlr9Wo=s64",
      "userId": "03904535882374894686"
     },
     "user_tz": 180
    },
    "id": "kj1uQL0mTsmB",
    "outputId": "23af7bcb-88bc-40de-ae87-3bed8cdab3d8"
   },
   "outputs": [
    {
     "data": {
      "text/plain": [
       "0.5462912454563165"
      ]
     },
     "execution_count": 17,
     "metadata": {},
     "output_type": "execute_result"
    }
   ],
   "source": [
    "mae_age = mean_absolute_error(X2[:, 1], X3d_decode2[:, 1])\n",
    "mae_age"
   ]
  },
  {
   "cell_type": "code",
   "execution_count": 18,
   "metadata": {
    "ExecuteTime": {
     "end_time": "2022-06-27T22:48:39.397283Z",
     "start_time": "2022-06-27T22:48:39.382715Z"
    },
    "colab": {
     "base_uri": "https://localhost:8080/",
     "height": 33
    },
    "colab_type": "code",
    "executionInfo": {
     "elapsed": 5941,
     "status": "ok",
     "timestamp": 1599589741937,
     "user": {
      "displayName": "Denny Seccon",
      "photoUrl": "https://lh3.googleusercontent.com/a-/AOh14GgJKBMgIypXsiOd8ZOSskERpZBMuJN6csHlr9Wo=s64",
      "userId": "03904535882374894686"
     },
     "user_tz": 180
    },
    "id": "JMb_r_NXTsmF",
    "outputId": "df89f94a-3894-4845-ff40-4584be6d96b6"
   },
   "outputs": [
    {
     "data": {
      "text/plain": [
       "1326.1497053330331"
      ]
     },
     "execution_count": 18,
     "metadata": {},
     "output_type": "execute_result"
    }
   ],
   "source": [
    "mae_loan = mean_absolute_error(X2[:, 2], X3d_decode2[:, 2])\n",
    "mae_loan"
   ]
  },
  {
   "cell_type": "code",
   "execution_count": 19,
   "metadata": {
    "ExecuteTime": {
     "end_time": "2022-06-27T22:48:40.379055Z",
     "start_time": "2022-06-27T22:48:40.366052Z"
    },
    "colab": {},
    "colab_type": "code",
    "executionInfo": {
     "elapsed": 5915,
     "status": "ok",
     "timestamp": 1599589741939,
     "user": {
      "displayName": "Denny Seccon",
      "photoUrl": "https://lh3.googleusercontent.com/a-/AOh14GgJKBMgIypXsiOd8ZOSskERpZBMuJN6csHlr9Wo=s64",
      "userId": "03904535882374894686"
     },
     "user_tz": 180
    },
    "id": "tZcTWfARTsmI"
   },
   "outputs": [],
   "source": [
    "X_encode = pd.DataFrame({'atributo1': X2d_encode[:, 0], 'atributo2': X2d_encode[:, 1], 'classe': y})"
   ]
  },
  {
   "cell_type": "code",
   "execution_count": 20,
   "metadata": {
    "ExecuteTime": {
     "end_time": "2022-06-27T22:48:41.121249Z",
     "start_time": "2022-06-27T22:48:41.082154Z"
    },
    "colab": {
     "base_uri": "https://localhost:8080/",
     "height": 191
    },
    "colab_type": "code",
    "executionInfo": {
     "elapsed": 5892,
     "status": "ok",
     "timestamp": 1599589741941,
     "user": {
      "displayName": "Denny Seccon",
      "photoUrl": "https://lh3.googleusercontent.com/a-/AOh14GgJKBMgIypXsiOd8ZOSskERpZBMuJN6csHlr9Wo=s64",
      "userId": "03904535882374894686"
     },
     "user_tz": 180
    },
    "id": "sIfeWvhiTsmL",
    "outputId": "bd5c9d91-fa99-46f9-c99c-4c3d1563a797"
   },
   "outputs": [
    {
     "data": {
      "text/html": [
       "<div>\n",
       "<style scoped>\n",
       "    .dataframe tbody tr th:only-of-type {\n",
       "        vertical-align: middle;\n",
       "    }\n",
       "\n",
       "    .dataframe tbody tr th {\n",
       "        vertical-align: top;\n",
       "    }\n",
       "\n",
       "    .dataframe thead th {\n",
       "        text-align: right;\n",
       "    }\n",
       "</style>\n",
       "<table border=\"1\" class=\"dataframe\">\n",
       "  <thead>\n",
       "    <tr style=\"text-align: right;\">\n",
       "      <th></th>\n",
       "      <th>atributo1</th>\n",
       "      <th>atributo2</th>\n",
       "      <th>classe</th>\n",
       "    </tr>\n",
       "  </thead>\n",
       "  <tbody>\n",
       "    <tr>\n",
       "      <th>0</th>\n",
       "      <td>-2.242144</td>\n",
       "      <td>2.417169</td>\n",
       "      <td>0</td>\n",
       "    </tr>\n",
       "    <tr>\n",
       "      <th>1</th>\n",
       "      <td>-1.016727</td>\n",
       "      <td>0.475139</td>\n",
       "      <td>0</td>\n",
       "    </tr>\n",
       "    <tr>\n",
       "      <th>2</th>\n",
       "      <td>-2.786105</td>\n",
       "      <td>2.370221</td>\n",
       "      <td>0</td>\n",
       "    </tr>\n",
       "    <tr>\n",
       "      <th>3</th>\n",
       "      <td>-0.672574</td>\n",
       "      <td>0.514106</td>\n",
       "      <td>0</td>\n",
       "    </tr>\n",
       "    <tr>\n",
       "      <th>4</th>\n",
       "      <td>2.712581</td>\n",
       "      <td>0.098167</td>\n",
       "      <td>1</td>\n",
       "    </tr>\n",
       "  </tbody>\n",
       "</table>\n",
       "</div>"
      ],
      "text/plain": [
       "   atributo1  atributo2  classe\n",
       "0  -2.242144   2.417169       0\n",
       "1  -1.016727   0.475139       0\n",
       "2  -2.786105   2.370221       0\n",
       "3  -0.672574   0.514106       0\n",
       "4   2.712581   0.098167       1"
      ]
     },
     "execution_count": 20,
     "metadata": {},
     "output_type": "execute_result"
    }
   ],
   "source": [
    "X_encode.head()"
   ]
  },
  {
   "cell_type": "code",
   "execution_count": 21,
   "metadata": {
    "ExecuteTime": {
     "end_time": "2022-06-27T22:48:53.472332Z",
     "start_time": "2022-06-27T22:48:53.420947Z"
    },
    "colab": {},
    "colab_type": "code",
    "executionInfo": {
     "elapsed": 5870,
     "status": "ok",
     "timestamp": 1599589741944,
     "user": {
      "displayName": "Denny Seccon",
      "photoUrl": "https://lh3.googleusercontent.com/a-/AOh14GgJKBMgIypXsiOd8ZOSskERpZBMuJN6csHlr9Wo=s64",
      "userId": "03904535882374894686"
     },
     "user_tz": 180
    },
    "id": "uyYZWgDhTsmN"
   },
   "outputs": [],
   "source": [
    "colunas = [tf.feature_column.numeric_column(key = column) for column in X_encode.columns]\n",
    "from sklearn.model_selection import train_test_split\n",
    "X_treinamento, X_teste, y_treinamento, y_teste = train_test_split(X_encode, y, test_size = 0.3, random_state = 42)"
   ]
  },
  {
   "cell_type": "code",
   "execution_count": 22,
   "metadata": {
    "ExecuteTime": {
     "end_time": "2022-06-27T22:48:54.581637Z",
     "start_time": "2022-06-27T22:48:54.573441Z"
    },
    "colab": {},
    "colab_type": "code",
    "executionInfo": {
     "elapsed": 5848,
     "status": "ok",
     "timestamp": 1599589741945,
     "user": {
      "displayName": "Denny Seccon",
      "photoUrl": "https://lh3.googleusercontent.com/a-/AOh14GgJKBMgIypXsiOd8ZOSskERpZBMuJN6csHlr9Wo=s64",
      "userId": "03904535882374894686"
     },
     "user_tz": 180
    },
    "id": "2FjREAfSEv6L"
   },
   "outputs": [],
   "source": [
    "def make_input_fn(X, y = None, num_epochs = None, shuffle = True, batch_size = 32):\n",
    "    def input_function():\n",
    "        # As variáveis previsoras precisam ser passadas na função seguinte como um dicionário com os mesmos nomes definidos na chamada de `tf.feature_column.numeric_column`\n",
    "        ds = tf.data.Dataset.from_tensor_slices((dict(X), y))\n",
    "        if shuffle:\n",
    "            ds = ds.shuffle(1000)\n",
    "        ds = ds.batch(batch_size).repeat(num_epochs)\n",
    "        return ds\n",
    "    return input_function"
   ]
  },
  {
   "cell_type": "code",
   "execution_count": 23,
   "metadata": {
    "ExecuteTime": {
     "end_time": "2022-06-27T22:49:04.319524Z",
     "start_time": "2022-06-27T22:48:55.276206Z"
    },
    "colab": {
     "base_uri": "https://localhost:8080/",
     "height": 817
    },
    "colab_type": "code",
    "executionInfo": {
     "elapsed": 7711,
     "status": "ok",
     "timestamp": 1599589743838,
     "user": {
      "displayName": "Denny Seccon",
      "photoUrl": "https://lh3.googleusercontent.com/a-/AOh14GgJKBMgIypXsiOd8ZOSskERpZBMuJN6csHlr9Wo=s64",
      "userId": "03904535882374894686"
     },
     "user_tz": 180
    },
    "id": "-z305RdJErgO",
    "outputId": "1e9ea907-a283-4c1c-f865-58d5124d180a"
   },
   "outputs": [
    {
     "name": "stdout",
     "output_type": "stream",
     "text": [
      "WARNING:tensorflow:Using temporary folder as model directory: /tmp/tmp6giwqg95\n",
      "INFO:tensorflow:Using config: {'_model_dir': '/tmp/tmp6giwqg95', '_tf_random_seed': 42, '_save_summary_steps': 100, '_save_checkpoints_steps': None, '_save_checkpoints_secs': 600, '_session_config': allow_soft_placement: true\n",
      "graph_options {\n",
      "  rewrite_options {\n",
      "    meta_optimizer_iterations: ONE\n",
      "  }\n",
      "}\n",
      ", '_keep_checkpoint_max': 5, '_keep_checkpoint_every_n_hours': 10000, '_log_step_count_steps': 100, '_train_distribute': None, '_device_fn': None, '_protocol': None, '_eval_distribute': None, '_experimental_distribute': None, '_experimental_max_worker_delay_secs': None, '_session_creation_timeout_secs': 7200, '_checkpoint_save_graph_def': True, '_service': None, '_cluster_spec': ClusterSpec({}), '_task_type': 'worker', '_task_id': 0, '_global_id_in_cluster': 0, '_master': '', '_evaluation_master': '', '_is_chief': True, '_num_ps_replicas': 0, '_num_worker_replicas': 1}\n",
      "WARNING:tensorflow:From /home/lucas/.local/lib/python3.8/site-packages/tensorflow/python/training/training_util.py:396: Variable.initialized_value (from tensorflow.python.ops.variables) is deprecated and will be removed in a future version.\n",
      "Instructions for updating:\n",
      "Use Variable.read_value. Variables in 2.X are initialized automatically both in eager and graph (inside tf.defun) contexts.\n",
      "INFO:tensorflow:Calling model_fn.\n",
      "WARNING:tensorflow:From /home/lucas/.local/lib/python3.8/site-packages/keras/optimizers/optimizer_v2/adagrad.py:86: calling Constant.__init__ (from tensorflow.python.ops.init_ops) with dtype is deprecated and will be removed in a future version.\n",
      "Instructions for updating:\n",
      "Call initializer instance with the dtype argument instead of passing it to the constructor\n",
      "INFO:tensorflow:Done calling model_fn.\n",
      "INFO:tensorflow:Create CheckpointSaverHook.\n",
      "INFO:tensorflow:Graph was finalized.\n"
     ]
    },
    {
     "name": "stderr",
     "output_type": "stream",
     "text": [
      "2022-06-27 19:48:58.316795: I tensorflow/compiler/mlir/mlir_graph_optimization_pass.cc:354] MLIR V1 optimization pass is not enabled\n",
      "2022-06-27 19:48:58.372949: W tensorflow/core/common_runtime/forward_type_inference.cc:231] Type inference failed. This indicates an invalid graph that escaped type checking. Error message: INVALID_ARGUMENT: expected compatible input types, but input 1:\n",
      "type_id: TFT_OPTIONAL\n",
      "args {\n",
      "  type_id: TFT_PRODUCT\n",
      "  args {\n",
      "    type_id: TFT_TENSOR\n",
      "    args {\n",
      "      type_id: TFT_INT64\n",
      "    }\n",
      "  }\n",
      "}\n",
      " is neither a subtype nor a supertype of the combined inputs preceding it:\n",
      "type_id: TFT_OPTIONAL\n",
      "args {\n",
      "  type_id: TFT_PRODUCT\n",
      "  args {\n",
      "    type_id: TFT_TENSOR\n",
      "    args {\n",
      "      type_id: TFT_INT32\n",
      "    }\n",
      "  }\n",
      "}\n",
      "\n",
      "\twhile inferring type of node 'dnn/zero_fraction/cond/output/_18'\n"
     ]
    },
    {
     "name": "stdout",
     "output_type": "stream",
     "text": [
      "INFO:tensorflow:Running local_init_op.\n",
      "INFO:tensorflow:Done running local_init_op.\n",
      "INFO:tensorflow:Calling checkpoint listeners before saving checkpoint 0...\n",
      "INFO:tensorflow:Saving checkpoints for 0 into /tmp/tmp6giwqg95/model.ckpt.\n",
      "INFO:tensorflow:/tmp/tmp6giwqg95/model.ckpt-0.meta\n",
      "INFO:tensorflow:200\n",
      "INFO:tensorflow:/tmp/tmp6giwqg95/model.ckpt-0.data-00000-of-00001\n",
      "INFO:tensorflow:200\n",
      "INFO:tensorflow:/tmp/tmp6giwqg95/model.ckpt-0.index\n",
      "INFO:tensorflow:200\n",
      "INFO:tensorflow:Calling checkpoint listeners after saving checkpoint 0...\n",
      "INFO:tensorflow:loss = 0.5381295, step = 0\n",
      "INFO:tensorflow:global_step/sec: 173.708\n",
      "INFO:tensorflow:loss = 0.5897373, step = 100 (0.578 sec)\n",
      "INFO:tensorflow:global_step/sec: 274.458\n",
      "INFO:tensorflow:loss = 0.56011087, step = 200 (0.364 sec)\n",
      "INFO:tensorflow:global_step/sec: 312.504\n",
      "INFO:tensorflow:loss = 0.56763995, step = 300 (0.321 sec)\n",
      "INFO:tensorflow:global_step/sec: 317.128\n",
      "INFO:tensorflow:loss = 0.54217917, step = 400 (0.320 sec)\n",
      "INFO:tensorflow:global_step/sec: 296.569\n",
      "INFO:tensorflow:loss = 0.44799995, step = 500 (0.334 sec)\n",
      "INFO:tensorflow:global_step/sec: 271.687\n",
      "INFO:tensorflow:loss = 0.49979606, step = 600 (0.369 sec)\n",
      "INFO:tensorflow:global_step/sec: 275.783\n",
      "INFO:tensorflow:loss = 0.41943458, step = 700 (0.360 sec)\n",
      "INFO:tensorflow:global_step/sec: 348.234\n",
      "INFO:tensorflow:loss = 0.46352306, step = 800 (0.297 sec)\n",
      "INFO:tensorflow:global_step/sec: 276.161\n",
      "INFO:tensorflow:loss = 0.44090855, step = 900 (0.365 sec)\n",
      "INFO:tensorflow:Calling checkpoint listeners before saving checkpoint 1000...\n",
      "INFO:tensorflow:Saving checkpoints for 1000 into /tmp/tmp6giwqg95/model.ckpt.\n",
      "INFO:tensorflow:/tmp/tmp6giwqg95/model.ckpt-1000.meta\n",
      "INFO:tensorflow:200\n",
      "INFO:tensorflow:/tmp/tmp6giwqg95/model.ckpt-1000.index\n",
      "INFO:tensorflow:200\n",
      "INFO:tensorflow:/tmp/tmp6giwqg95/model.ckpt-1000.data-00000-of-00001\n",
      "INFO:tensorflow:200\n",
      "INFO:tensorflow:Calling checkpoint listeners after saving checkpoint 1000...\n",
      "INFO:tensorflow:Loss for final step: 0.47555578.\n"
     ]
    },
    {
     "data": {
      "text/plain": [
       "<tensorflow_estimator.python.estimator.canned.dnn.DNNClassifierV2 at 0x7f242c494400>"
      ]
     },
     "execution_count": 23,
     "metadata": {},
     "output_type": "execute_result"
    }
   ],
   "source": [
    "funcao_treinamento = make_input_fn(X_treinamento, y_treinamento, batch_size = 8)\n",
    "config = tf.estimator.RunConfig(tf_random_seed = 42)\n",
    "classificador = tf.estimator.DNNClassifier(feature_columns = colunas, hidden_units = [4, 4], config = config)\n",
    "classificador.train(input_fn = funcao_treinamento, steps = 1000)"
   ]
  },
  {
   "cell_type": "code",
   "execution_count": 24,
   "metadata": {
    "ExecuteTime": {
     "end_time": "2022-06-27T22:49:27.614105Z",
     "start_time": "2022-06-27T22:49:17.843889Z"
    },
    "colab": {
     "base_uri": "https://localhost:8080/",
     "height": 378
    },
    "colab_type": "code",
    "executionInfo": {
     "elapsed": 10050,
     "status": "ok",
     "timestamp": 1599589746207,
     "user": {
      "displayName": "Denny Seccon",
      "photoUrl": "https://lh3.googleusercontent.com/a-/AOh14GgJKBMgIypXsiOd8ZOSskERpZBMuJN6csHlr9Wo=s64",
      "userId": "03904535882374894686"
     },
     "user_tz": 180
    },
    "id": "lVmn8kP0FJ6h",
    "outputId": "220c39e4-fed5-4a10-bac3-fe1a2a8d477d"
   },
   "outputs": [
    {
     "name": "stdout",
     "output_type": "stream",
     "text": [
      "INFO:tensorflow:Calling model_fn.\n",
      "INFO:tensorflow:Done calling model_fn.\n",
      "INFO:tensorflow:Starting evaluation at 2022-06-27T19:49:21\n",
      "INFO:tensorflow:Graph was finalized.\n",
      "INFO:tensorflow:Restoring parameters from /tmp/tmp6giwqg95/model.ckpt-1000\n",
      "INFO:tensorflow:Running local_init_op.\n",
      "INFO:tensorflow:Done running local_init_op.\n",
      "INFO:tensorflow:Evaluation [100/1000]\n",
      "INFO:tensorflow:Evaluation [200/1000]\n",
      "INFO:tensorflow:Evaluation [300/1000]\n",
      "INFO:tensorflow:Evaluation [400/1000]\n",
      "INFO:tensorflow:Evaluation [500/1000]\n",
      "INFO:tensorflow:Evaluation [600/1000]\n",
      "INFO:tensorflow:Evaluation [700/1000]\n",
      "INFO:tensorflow:Evaluation [800/1000]\n",
      "INFO:tensorflow:Evaluation [900/1000]\n",
      "INFO:tensorflow:Evaluation [1000/1000]\n",
      "INFO:tensorflow:Inference Time : 5.56420s\n",
      "INFO:tensorflow:Finished evaluation at 2022-06-27-19:49:27\n",
      "INFO:tensorflow:Saving dict for global step 1000: accuracy = 0.9205, accuracy_baseline = 0.848875, auc = 0.9882175, auc_precision_recall = 0.9334115, average_loss = 0.47742122, global_step = 1000, label/mean = 0.151125, loss = 0.47742122, precision = 0.9584, prediction/mean = 0.37319213, recall = 0.4954508\n",
      "INFO:tensorflow:Saving 'checkpoint_path' summary for global step 1000: /tmp/tmp6giwqg95/model.ckpt-1000\n"
     ]
    }
   ],
   "source": [
    "funcao_teste = make_input_fn(X_teste, y_teste, num_epochs = 1000, shuffle = False, batch_size = 8)\n",
    "metricas_teste = classificador.evaluate(input_fn = funcao_teste, steps = 1000)"
   ]
  },
  {
   "cell_type": "code",
   "execution_count": 25,
   "metadata": {
    "ExecuteTime": {
     "end_time": "2022-06-27T22:49:30.110610Z",
     "start_time": "2022-06-27T22:49:30.097596Z"
    },
    "colab": {
     "base_uri": "https://localhost:8080/",
     "height": 196
    },
    "colab_type": "code",
    "executionInfo": {
     "elapsed": 10585,
     "status": "ok",
     "timestamp": 1599589746763,
     "user": {
      "displayName": "Denny Seccon",
      "photoUrl": "https://lh3.googleusercontent.com/a-/AOh14GgJKBMgIypXsiOd8ZOSskERpZBMuJN6csHlr9Wo=s64",
      "userId": "03904535882374894686"
     },
     "user_tz": 180
    },
    "id": "a9oMDr3eTsmR",
    "outputId": "217d7e15-d33d-4b8f-8d44-965f2f9aee61"
   },
   "outputs": [
    {
     "data": {
      "text/plain": [
       "{'accuracy': 0.9205,\n",
       " 'accuracy_baseline': 0.848875,\n",
       " 'auc': 0.9882175,\n",
       " 'auc_precision_recall': 0.9334115,\n",
       " 'average_loss': 0.47742122,\n",
       " 'label/mean': 0.151125,\n",
       " 'loss': 0.47742122,\n",
       " 'precision': 0.9584,\n",
       " 'prediction/mean': 0.37319213,\n",
       " 'recall': 0.4954508,\n",
       " 'global_step': 1000}"
      ]
     },
     "execution_count": 25,
     "metadata": {},
     "output_type": "execute_result"
    }
   ],
   "source": [
    "metricas_teste"
   ]
  },
  {
   "cell_type": "code",
   "execution_count": null,
   "metadata": {},
   "outputs": [],
   "source": []
  }
 ],
 "metadata": {
  "colab": {
   "collapsed_sections": [],
   "name": "1 autoencoder_linear_base_credito.ipynb",
   "provenance": []
  },
  "kernelspec": {
   "display_name": "Python 3 (ipykernel)",
   "language": "python",
   "name": "python3"
  },
  "language_info": {
   "codemirror_mode": {
    "name": "ipython",
    "version": 3
   },
   "file_extension": ".py",
   "mimetype": "text/x-python",
   "name": "python",
   "nbconvert_exporter": "python",
   "pygments_lexer": "ipython3",
   "version": "3.8.10"
  }
 },
 "nbformat": 4,
 "nbformat_minor": 1
}
