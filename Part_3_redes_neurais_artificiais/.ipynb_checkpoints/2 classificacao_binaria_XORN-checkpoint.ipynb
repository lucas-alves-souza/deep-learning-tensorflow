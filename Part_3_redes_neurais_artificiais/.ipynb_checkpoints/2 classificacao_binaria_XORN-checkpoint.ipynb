{
 "cells": [
  {
   "cell_type": "code",
   "execution_count": 1,
   "metadata": {
    "ExecuteTime": {
     "end_time": "2022-06-20T23:30:35.557551Z",
     "start_time": "2022-06-20T23:30:34.173832Z"
    },
    "colab": {
     "base_uri": "https://localhost:8080/",
     "height": 35
    },
    "colab_type": "code",
    "executionInfo": {
     "elapsed": 1994,
     "status": "ok",
     "timestamp": 1599251385626,
     "user": {
      "displayName": "Denny Seccon",
      "photoUrl": "https://lh3.googleusercontent.com/a-/AOh14GgJKBMgIypXsiOd8ZOSskERpZBMuJN6csHlr9Wo=s64",
      "userId": "03904535882374894686"
     },
     "user_tz": 180
    },
    "id": "RgLoGI6D3zEM",
    "outputId": "201d9810-4a4b-44a3-99f8-e241e57ad5cf"
   },
   "outputs": [
    {
     "name": "stderr",
     "output_type": "stream",
     "text": [
      "2022-06-20 20:30:34.465858: W tensorflow/stream_executor/platform/default/dso_loader.cc:64] Could not load dynamic library 'libcudart.so.11.0'; dlerror: libcudart.so.11.0: cannot open shared object file: No such file or directory\n",
      "2022-06-20 20:30:34.465874: I tensorflow/stream_executor/cuda/cudart_stub.cc:29] Ignore above cudart dlerror if you do not have a GPU set up on your machine.\n"
     ]
    },
    {
     "data": {
      "text/plain": [
       "'2.9.0'"
      ]
     },
     "execution_count": 1,
     "metadata": {},
     "output_type": "execute_result"
    }
   ],
   "source": [
    "import numpy as np\n",
    "import tensorflow as tf\n",
    "\n",
    "tf.random.set_seed(42)\n",
    "\n",
    "tf.__version__"
   ]
  },
  {
   "cell_type": "code",
   "execution_count": 2,
   "metadata": {
    "ExecuteTime": {
     "end_time": "2022-06-20T23:30:35.563572Z",
     "start_time": "2022-06-20T23:30:35.559679Z"
    },
    "colab": {
     "base_uri": "https://localhost:8080/",
     "height": 82
    },
    "colab_type": "code",
    "executionInfo": {
     "elapsed": 1936,
     "status": "ok",
     "timestamp": 1599251385628,
     "user": {
      "displayName": "Denny Seccon",
      "photoUrl": "https://lh3.googleusercontent.com/a-/AOh14GgJKBMgIypXsiOd8ZOSskERpZBMuJN6csHlr9Wo=s64",
      "userId": "03904535882374894686"
     },
     "user_tz": 180
    },
    "id": "pFnSREI0DAYS",
    "outputId": "fb464235-1263-480c-cd6f-fd8add366145"
   },
   "outputs": [
    {
     "data": {
      "text/plain": [
       "array([[0, 0],\n",
       "       [0, 1],\n",
       "       [1, 0],\n",
       "       [1, 1]])"
      ]
     },
     "execution_count": 2,
     "metadata": {},
     "output_type": "execute_result"
    }
   ],
   "source": [
    "X = np.array([[0,0], [0,1], [1,0], [1,1]])\n",
    "X"
   ]
  },
  {
   "cell_type": "code",
   "execution_count": 3,
   "metadata": {
    "ExecuteTime": {
     "end_time": "2022-06-20T23:30:35.569667Z",
     "start_time": "2022-06-20T23:30:35.565338Z"
    },
    "colab": {
     "base_uri": "https://localhost:8080/",
     "height": 82
    },
    "colab_type": "code",
    "executionInfo": {
     "elapsed": 2319,
     "status": "ok",
     "timestamp": 1599251386064,
     "user": {
      "displayName": "Denny Seccon",
      "photoUrl": "https://lh3.googleusercontent.com/a-/AOh14GgJKBMgIypXsiOd8ZOSskERpZBMuJN6csHlr9Wo=s64",
      "userId": "03904535882374894686"
     },
     "user_tz": 180
    },
    "id": "JwdQ5_eu3zES",
    "outputId": "d092d9e7-86f9-47e8-c7e3-47c417fa6368"
   },
   "outputs": [
    {
     "data": {
      "text/plain": [
       "array([[1],\n",
       "       [0],\n",
       "       [0],\n",
       "       [1]])"
      ]
     },
     "execution_count": 3,
     "metadata": {},
     "output_type": "execute_result"
    }
   ],
   "source": [
    "y = np.array([[1], [0], [0], [1]])\n",
    "y"
   ]
  },
  {
   "cell_type": "code",
   "execution_count": 4,
   "metadata": {
    "ExecuteTime": {
     "end_time": "2022-06-20T23:30:35.586197Z",
     "start_time": "2022-06-20T23:30:35.574624Z"
    },
    "colab": {},
    "colab_type": "code",
    "executionInfo": {
     "elapsed": 2286,
     "status": "ok",
     "timestamp": 1599251386067,
     "user": {
      "displayName": "Denny Seccon",
      "photoUrl": "https://lh3.googleusercontent.com/a-/AOh14GgJKBMgIypXsiOd8ZOSskERpZBMuJN6csHlr9Wo=s64",
      "userId": "03904535882374894686"
     },
     "user_tz": 180
    },
    "id": "6xnClmzGEN-l"
   },
   "outputs": [
    {
     "name": "stderr",
     "output_type": "stream",
     "text": [
      "2022-06-20 20:30:35.577899: W tensorflow/stream_executor/platform/default/dso_loader.cc:64] Could not load dynamic library 'libcuda.so.1'; dlerror: libcuda.so.1: cannot open shared object file: No such file or directory\n",
      "2022-06-20 20:30:35.577931: W tensorflow/stream_executor/cuda/cuda_driver.cc:269] failed call to cuInit: UNKNOWN ERROR (303)\n",
      "2022-06-20 20:30:35.577950: I tensorflow/stream_executor/cuda/cuda_diagnostics.cc:156] kernel driver does not appear to be running on this host (lucas): /proc/driver/nvidia/version does not exist\n",
      "2022-06-20 20:30:35.578204: I tensorflow/core/platform/cpu_feature_guard.cc:193] This TensorFlow binary is optimized with oneAPI Deep Neural Network Library (oneDNN) to use the following CPU instructions in performance-critical operations:  AVX2 FMA\n",
      "To enable them in other operations, rebuild TensorFlow with the appropriate compiler flags.\n"
     ]
    }
   ],
   "source": [
    "X = tf.convert_to_tensor(X, dtype = tf.float32, name = 'X')\n",
    "y = tf.convert_to_tensor(y, dtype = tf.float32, name = 'y')"
   ]
  },
  {
   "cell_type": "code",
   "execution_count": 5,
   "metadata": {
    "ExecuteTime": {
     "end_time": "2022-06-20T23:30:35.591748Z",
     "start_time": "2022-06-20T23:30:35.588841Z"
    },
    "colab": {},
    "colab_type": "code",
    "executionInfo": {
     "elapsed": 2257,
     "status": "ok",
     "timestamp": 1599251386070,
     "user": {
      "displayName": "Denny Seccon",
      "photoUrl": "https://lh3.googleusercontent.com/a-/AOh14GgJKBMgIypXsiOd8ZOSskERpZBMuJN6csHlr9Wo=s64",
      "userId": "03904535882374894686"
     },
     "user_tz": 180
    },
    "id": "cxyEyujf3zEW"
   },
   "outputs": [],
   "source": [
    "neuronios_entrada = 2\n",
    "neuronios_oculta = 3\n",
    "neuronios_saida = 1"
   ]
  },
  {
   "cell_type": "code",
   "execution_count": 6,
   "metadata": {
    "ExecuteTime": {
     "end_time": "2022-06-20T23:30:35.601753Z",
     "start_time": "2022-06-20T23:30:35.593584Z"
    },
    "colab": {},
    "colab_type": "code",
    "executionInfo": {
     "elapsed": 2225,
     "status": "ok",
     "timestamp": 1599251386076,
     "user": {
      "displayName": "Denny Seccon",
      "photoUrl": "https://lh3.googleusercontent.com/a-/AOh14GgJKBMgIypXsiOd8ZOSskERpZBMuJN6csHlr9Wo=s64",
      "userId": "03904535882374894686"
     },
     "user_tz": 180
    },
    "id": "Cr9t3tdO3zEa"
   },
   "outputs": [],
   "source": [
    "W = {'oculta': tf.Variable(tf.random.normal([neuronios_entrada, neuronios_oculta]), name = 'w_oculta'), \n",
    "     'saida': tf.Variable(tf.random.normal([neuronios_oculta, neuronios_saida]), name = 'w_saida')}"
   ]
  },
  {
   "cell_type": "code",
   "execution_count": 7,
   "metadata": {
    "ExecuteTime": {
     "end_time": "2022-06-20T23:30:35.606603Z",
     "start_time": "2022-06-20T23:30:35.603195Z"
    },
    "colab": {
     "base_uri": "https://localhost:8080/",
     "height": 33
    },
    "colab_type": "code",
    "executionInfo": {
     "elapsed": 2161,
     "status": "ok",
     "timestamp": 1599251386079,
     "user": {
      "displayName": "Denny Seccon",
      "photoUrl": "https://lh3.googleusercontent.com/a-/AOh14GgJKBMgIypXsiOd8ZOSskERpZBMuJN6csHlr9Wo=s64",
      "userId": "03904535882374894686"
     },
     "user_tz": 180
    },
    "id": "3ZXYXapi3zEd",
    "outputId": "ceeace94-d849-44aa-c064-186820e77e61"
   },
   "outputs": [
    {
     "data": {
      "text/plain": [
       "dict"
      ]
     },
     "execution_count": 7,
     "metadata": {},
     "output_type": "execute_result"
    }
   ],
   "source": [
    "type(W)"
   ]
  },
  {
   "cell_type": "code",
   "execution_count": 8,
   "metadata": {
    "ExecuteTime": {
     "end_time": "2022-06-20T23:30:35.612722Z",
     "start_time": "2022-06-20T23:30:35.608775Z"
    },
    "colab": {
     "base_uri": "https://localhost:8080/",
     "height": 33
    },
    "colab_type": "code",
    "executionInfo": {
     "elapsed": 2118,
     "status": "ok",
     "timestamp": 1599251386082,
     "user": {
      "displayName": "Denny Seccon",
      "photoUrl": "https://lh3.googleusercontent.com/a-/AOh14GgJKBMgIypXsiOd8ZOSskERpZBMuJN6csHlr9Wo=s64",
      "userId": "03904535882374894686"
     },
     "user_tz": 180
    },
    "id": "zoWSri0C3vXH",
    "outputId": "312aff26-77cb-47c3-d67e-4ba0b29fe17f"
   },
   "outputs": [
    {
     "data": {
      "text/plain": [
       "tensorflow.python.ops.resource_variable_ops.ResourceVariable"
      ]
     },
     "execution_count": 8,
     "metadata": {},
     "output_type": "execute_result"
    }
   ],
   "source": [
    "type(W['oculta'])"
   ]
  },
  {
   "cell_type": "code",
   "execution_count": 9,
   "metadata": {
    "ExecuteTime": {
     "end_time": "2022-06-20T23:30:35.620125Z",
     "start_time": "2022-06-20T23:30:35.614343Z"
    },
    "colab": {
     "base_uri": "https://localhost:8080/",
     "height": 66
    },
    "colab_type": "code",
    "executionInfo": {
     "elapsed": 2070,
     "status": "ok",
     "timestamp": 1599251386085,
     "user": {
      "displayName": "Denny Seccon",
      "photoUrl": "https://lh3.googleusercontent.com/a-/AOh14GgJKBMgIypXsiOd8ZOSskERpZBMuJN6csHlr9Wo=s64",
      "userId": "03904535882374894686"
     },
     "user_tz": 180
    },
    "id": "ce2bVVMn3vXO",
    "outputId": "e18dedea-c3f6-484e-dfde-7693d726f7db"
   },
   "outputs": [
    {
     "data": {
      "text/plain": [
       "<tf.Variable 'w_oculta:0' shape=(2, 3) dtype=float32, numpy=\n",
       "array([[ 0.3274685, -0.8426258,  0.3194337],\n",
       "       [-1.4075519, -2.3880599, -1.0392479]], dtype=float32)>"
      ]
     },
     "execution_count": 9,
     "metadata": {},
     "output_type": "execute_result"
    }
   ],
   "source": [
    "W['oculta']"
   ]
  },
  {
   "cell_type": "code",
   "execution_count": 10,
   "metadata": {
    "ExecuteTime": {
     "end_time": "2022-06-20T23:30:35.631063Z",
     "start_time": "2022-06-20T23:30:35.625502Z"
    },
    "colab": {
     "base_uri": "https://localhost:8080/",
     "height": 82
    },
    "colab_type": "code",
    "executionInfo": {
     "elapsed": 2035,
     "status": "ok",
     "timestamp": 1599251386090,
     "user": {
      "displayName": "Denny Seccon",
      "photoUrl": "https://lh3.googleusercontent.com/a-/AOh14GgJKBMgIypXsiOd8ZOSskERpZBMuJN6csHlr9Wo=s64",
      "userId": "03904535882374894686"
     },
     "user_tz": 180
    },
    "id": "o-969-y_3vXT",
    "outputId": "a5ea65f1-3b92-46e0-ae27-5f6be6d89e71"
   },
   "outputs": [
    {
     "data": {
      "text/plain": [
       "<tf.Variable 'w_saida:0' shape=(3, 1) dtype=float32, numpy=\n",
       "array([[ 0.08422458],\n",
       "       [-0.86090374],\n",
       "       [ 0.37812304]], dtype=float32)>"
      ]
     },
     "execution_count": 10,
     "metadata": {},
     "output_type": "execute_result"
    }
   ],
   "source": [
    "W['saida']"
   ]
  },
  {
   "cell_type": "code",
   "execution_count": 11,
   "metadata": {
    "ExecuteTime": {
     "end_time": "2022-06-20T23:30:36.433601Z",
     "start_time": "2022-06-20T23:30:35.632752Z"
    },
    "colab": {
     "base_uri": "https://localhost:8080/",
     "height": 313
    },
    "colab_type": "code",
    "executionInfo": {
     "elapsed": 2492,
     "status": "ok",
     "timestamp": 1599251386586,
     "user": {
      "displayName": "Denny Seccon",
      "photoUrl": "https://lh3.googleusercontent.com/a-/AOh14GgJKBMgIypXsiOd8ZOSskERpZBMuJN6csHlr9Wo=s64",
      "userId": "03904535882374894686"
     },
     "user_tz": 180
    },
    "id": "sRCsaKcl3zEp",
    "outputId": "3eeefca0-aa3d-48b0-f407-36d75258fcb2"
   },
   "outputs": [
    {
     "name": "stderr",
     "output_type": "stream",
     "text": [
      "/home/lucas/.local/lib/python3.8/site-packages/seaborn/distributions.py:2619: FutureWarning: `distplot` is a deprecated function and will be removed in a future version. Please adapt your code to use either `displot` (a figure-level function with similar flexibility) or `histplot` (an axes-level function for histograms).\n",
      "  warnings.warn(msg, FutureWarning)\n"
     ]
    },
    {
     "data": {
      "text/plain": [
       "<AxesSubplot:ylabel='Density'>"
      ]
     },
     "execution_count": 11,
     "metadata": {},
     "output_type": "execute_result"
    },
    {
     "data": {
      "image/png": "[encoded data removed]",
      "text/plain": [
       "<Figure size 432x288 with 1 Axes>"
      ]
     },
     "metadata": {
      "needs_background": "light"
     },
     "output_type": "display_data"
    }
   ],
   "source": [
    "distribuicao = np.random.normal(size = 500)\n",
    "import seaborn as sns\n",
    "sns.distplot(distribuicao)"
   ]
  },
  {
   "cell_type": "code",
   "execution_count": 12,
   "metadata": {
    "ExecuteTime": {
     "end_time": "2022-06-20T23:30:36.438945Z",
     "start_time": "2022-06-20T23:30:36.435004Z"
    },
    "colab": {},
    "colab_type": "code",
    "executionInfo": {
     "elapsed": 2462,
     "status": "ok",
     "timestamp": 1599251386589,
     "user": {
      "displayName": "Denny Seccon",
      "photoUrl": "https://lh3.googleusercontent.com/a-/AOh14GgJKBMgIypXsiOd8ZOSskERpZBMuJN6csHlr9Wo=s64",
      "userId": "03904535882374894686"
     },
     "user_tz": 180
    },
    "id": "wjPdxHKO3zEr"
   },
   "outputs": [],
   "source": [
    "b = {'oculta': tf.Variable(tf.random.normal([neuronios_oculta]), name = 'b_oculta'),\n",
    "     'saida': tf.Variable(tf.random.normal([neuronios_saida]), name = 'b_saida')}"
   ]
  },
  {
   "cell_type": "markdown",
   "metadata": {
    "colab_type": "text",
    "id": "PwWH30Y3I0M8"
   },
   "source": [
    "No link a seguir, os desenvolvedores do TensorFlow falam que os otimizadores que antes estavam em `tf.train` passaram para dentro da API do Keras: https://www.tensorflow.org/guide/migrate#keras_optimizers\n",
    "\n",
    "As métricas de perda também estão exclusivamente na API do Keras, não mais em `tf.losses`: https://www.tensorflow.org/guide/migrate#new-style_metrics_and_losses"
   ]
  },
  {
   "cell_type": "code",
   "execution_count": 13,
   "metadata": {
    "ExecuteTime": {
     "end_time": "2022-06-20T23:30:57.270746Z",
     "start_time": "2022-06-20T23:30:36.440294Z"
    },
    "colab": {
     "base_uri": "https://localhost:8080/",
     "height": 830
    },
    "colab_type": "code",
    "executionInfo": {
     "elapsed": 21766,
     "status": "ok",
     "timestamp": 1599251405962,
     "user": {
      "displayName": "Denny Seccon",
      "photoUrl": "https://lh3.googleusercontent.com/a-/AOh14GgJKBMgIypXsiOd8ZOSskERpZBMuJN6csHlr9Wo=s64",
      "userId": "03904535882374894686"
     },
     "user_tz": 180
    },
    "id": "Z7-fuIZZDZuk",
    "outputId": "ef25f5a4-1e11-4d55-a60a-3f4b40aa759e"
   },
   "outputs": [
    {
     "name": "stdout",
     "output_type": "stream",
     "text": [
      "0.29839367\n",
      "0.24481091\n",
      "0.14319453\n",
      "0.023573052\n",
      "0.009402735\n",
      "0.005542224\n",
      "0.003850923\n",
      "0.0029227128\n",
      "0.0023426358\n",
      "0.0019482705\n",
      "0.001663886\n",
      "0.0014496942\n",
      "0.0012828914\n",
      "0.0011495107\n",
      "0.0010405441\n",
      "0.000949932\n",
      "0.0008734511\n",
      "0.00080807344\n",
      "0.00075157103\n",
      "0.0007022723\n",
      "0.00065889716\n",
      "0.000620449\n",
      "0.00058614323\n",
      "0.00055535097\n",
      "0.000527566\n",
      "0.0005023702\n",
      "0.000479422\n",
      "0.00045843722\n",
      "0.00043917593\n",
      "0.00042143755\n",
      "0.00040504802\n",
      "0.0003898605\n",
      "0.0003757517\n",
      "0.0003626081\n",
      "0.00035033596\n",
      "0.0003388523\n",
      "0.0003280852\n",
      "0.0003179694\n",
      "0.00030844714\n",
      "0.00029946913\n",
      "0.00029098947\n",
      "0.00028296903\n",
      "0.00027537224\n",
      "0.00026816534\n",
      "0.00026131904\n",
      "0.00025480895\n",
      "0.00024861062\n",
      "0.00024270169\n",
      "0.00023706193\n",
      "0.00023167532\n"
     ]
    }
   ],
   "source": [
    "otimizador = tf.keras.optimizers.SGD(learning_rate = 0.3)\n",
    "\n",
    "for epoca in range(10000):\n",
    "\n",
    "    # Todas as operações que fazem parte do grafo (forward pass até o cálculo do erro) devem\n",
    "    # ser feitas dentro da invocação de `tf.GradientTape()`gddddd, para que os gradientes sejam gravados.\n",
    "    with tf.GradientTape() as tape:\n",
    "        camada_oculta = tf.add(tf.matmul(X, W['oculta']), b['oculta'])\n",
    "        camada_oculta_ativacao = tf.sigmoid(camada_oculta)\n",
    "        camada_saida = tf.add(tf.matmul(camada_oculta_ativacao, W['saida']), b['saida'])\n",
    "        camada_saida_ativacao = tf.sigmoid(camada_saida)\n",
    "        erro = tf.keras.losses.MSE(y, camada_saida_ativacao)\n",
    "\n",
    "    # Vou salvar as variáveis (pesos e biases que são atualizados) em uma variável para facilitar\n",
    "    # chamá-las depois\n",
    "    var_list = [W['oculta'], W['saida'], b['oculta'], b['saida']]\n",
    "    \n",
    "    # Cálculo dos gradientes\n",
    "    gradientes = tape.gradient(erro, var_list)\n",
    "    \n",
    "    # Atualização das variáveis (backpropagation)\n",
    "    otimizador.apply_gradients(zip(gradientes, var_list))\n",
    "\n",
    "    if epoca % 200 == 0:\n",
    "        erro_medio = tf.reduce_mean(erro).numpy()\n",
    "        print(erro_medio)"
   ]
  },
  {
   "cell_type": "code",
   "execution_count": 14,
   "metadata": {
    "ExecuteTime": {
     "end_time": "2022-06-20T23:30:57.276475Z",
     "start_time": "2022-06-20T23:30:57.272137Z"
    },
    "colab": {
     "base_uri": "https://localhost:8080/",
     "height": 131
    },
    "colab_type": "code",
    "executionInfo": {
     "elapsed": 21721,
     "status": "ok",
     "timestamp": 1599251405970,
     "user": {
      "displayName": "Denny Seccon",
      "photoUrl": "https://lh3.googleusercontent.com/a-/AOh14GgJKBMgIypXsiOd8ZOSskERpZBMuJN6csHlr9Wo=s64",
      "userId": "03904535882374894686"
     },
     "user_tz": 180
    },
    "id": "OThJbnY43zE5",
    "outputId": "694989aa-ec76-4453-d001-af3d6901719e"
   },
   "outputs": [
    {
     "data": {
      "text/plain": [
       "{'oculta': <tf.Variable 'w_oculta:0' shape=(2, 3) dtype=float32, numpy=\n",
       " array([[ 5.0396795, -3.3243036,  6.5954223],\n",
       "        [-6.5484805, -4.013267 , -5.08777  ]], dtype=float32)>,\n",
       " 'saida': <tf.Variable 'w_saida:0' shape=(3, 1) dtype=float32, numpy=\n",
       " array([[-9.423839 ],\n",
       "        [ 3.5019472],\n",
       "        [ 8.993401 ]], dtype=float32)>}"
      ]
     },
     "execution_count": 14,
     "metadata": {},
     "output_type": "execute_result"
    }
   ],
   "source": [
    "W"
   ]
  },
  {
   "cell_type": "code",
   "execution_count": 15,
   "metadata": {
    "ExecuteTime": {
     "end_time": "2022-06-20T23:30:57.285169Z",
     "start_time": "2022-06-20T23:30:57.278082Z"
    },
    "colab": {
     "base_uri": "https://localhost:8080/",
     "height": 50
    },
    "colab_type": "code",
    "executionInfo": {
     "elapsed": 21679,
     "status": "ok",
     "timestamp": 1599251405973,
     "user": {
      "displayName": "Denny Seccon",
      "photoUrl": "https://lh3.googleusercontent.com/a-/AOh14GgJKBMgIypXsiOd8ZOSskERpZBMuJN6csHlr9Wo=s64",
      "userId": "03904535882374894686"
     },
     "user_tz": 180
    },
    "id": "mB0WTaiz3zE_",
    "outputId": "4d449c7b-2bac-47a9-ff33-55a5af93636a"
   },
   "outputs": [
    {
     "data": {
      "text/plain": [
       "{'oculta': <tf.Variable 'b_oculta:0' shape=(3,) dtype=float32, numpy=array([-2.328206  ,  0.38672844,  2.1303082 ], dtype=float32)>,\n",
       " 'saida': <tf.Variable 'b_saida:0' shape=(1,) dtype=float32, numpy=array([-4.5760913], dtype=float32)>}"
      ]
     },
     "execution_count": 15,
     "metadata": {},
     "output_type": "execute_result"
    }
   ],
   "source": [
    "b"
   ]
  },
  {
   "cell_type": "code",
   "execution_count": 16,
   "metadata": {
    "ExecuteTime": {
     "end_time": "2022-06-20T23:30:57.290574Z",
     "start_time": "2022-06-20T23:30:57.286440Z"
    },
    "colab": {},
    "colab_type": "code",
    "executionInfo": {
     "elapsed": 21651,
     "status": "ok",
     "timestamp": 1599251405975,
     "user": {
      "displayName": "Denny Seccon",
      "photoUrl": "https://lh3.googleusercontent.com/a-/AOh14GgJKBMgIypXsiOd8ZOSskERpZBMuJN6csHlr9Wo=s64",
      "userId": "03904535882374894686"
     },
     "user_tz": 180
    },
    "id": "tAN61eZC3zFC"
   },
   "outputs": [],
   "source": [
    "# teste\n",
    "camada_oculta_teste = tf.add(tf.matmul(X, W['oculta']), b['oculta'])\n",
    "camada_oculta_ativacao_teste = tf.sigmoid(camada_oculta_teste)\n",
    "camada_saida_teste = tf.add(tf.matmul(camada_oculta_ativacao_teste, W['saida']), b['saida'])\n",
    "camada_saida_ativacao_teste = tf.sigmoid(camada_saida_teste)"
   ]
  },
  {
   "cell_type": "code",
   "execution_count": 17,
   "metadata": {
    "ExecuteTime": {
     "end_time": "2022-06-20T23:30:57.297842Z",
     "start_time": "2022-06-20T23:30:57.291921Z"
    },
    "colab": {
     "base_uri": "https://localhost:8080/",
     "height": 98
    },
    "colab_type": "code",
    "executionInfo": {
     "elapsed": 21618,
     "status": "ok",
     "timestamp": 1599251405976,
     "user": {
      "displayName": "Denny Seccon",
      "photoUrl": "https://lh3.googleusercontent.com/a-/AOh14GgJKBMgIypXsiOd8ZOSskERpZBMuJN6csHlr9Wo=s64",
      "userId": "03904535882374894686"
     },
     "user_tz": 180
    },
    "id": "6qcF8oB93zFG",
    "outputId": "9d5dbc96-e410-49d3-bab8-8ab3e9cf3f9f"
   },
   "outputs": [
    {
     "data": {
      "text/plain": [
       "<tf.Tensor: shape=(4, 1), dtype=float32, numpy=\n",
       "array([[0.9910823 ],\n",
       "       [0.01725068],\n",
       "       [0.01413809],\n",
       "       [0.98185897]], dtype=float32)>"
      ]
     },
     "execution_count": 17,
     "metadata": {},
     "output_type": "execute_result"
    }
   ],
   "source": [
    "camada_saida_ativacao_teste"
   ]
  },
  {
   "cell_type": "code",
   "execution_count": null,
   "metadata": {},
   "outputs": [],
   "source": []
  },
  {
   "cell_type": "code",
   "execution_count": null,
   "metadata": {},
   "outputs": [],
   "source": []
  },
  {
   "cell_type": "code",
   "execution_count": null,
   "metadata": {},
   "outputs": [],
   "source": []
  }
 ],
 "metadata": {
  "colab": {
   "collapsed_sections": [],
   "name": "2 classificacao_binaria_XORN.ipynb",
   "provenance": []
  },
  "kernelspec": {
   "display_name": "Python 3 (ipykernel)",
   "language": "python",
   "name": "python3"
  },
  "language_info": {
   "codemirror_mode": {
    "name": "ipython",
    "version": 3
   },
   "file_extension": ".py",
   "mimetype": "text/x-python",
   "name": "python",
   "nbconvert_exporter": "python",
   "pygments_lexer": "ipython3",
   "version": "3.8.10"
  }
 },
 "nbformat": 4,
 "nbformat_minor": 1
}
