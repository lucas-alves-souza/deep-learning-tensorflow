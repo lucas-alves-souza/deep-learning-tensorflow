{
 "cells": [
  {
   "cell_type": "code",
   "execution_count": 1,
   "metadata": {
    "ExecuteTime": {
     "end_time": "2022-06-20T23:36:25.095041Z",
     "start_time": "2022-06-20T23:36:24.792299Z"
    },
    "colab": {
     "base_uri": "https://localhost:8080/",
     "height": 191
    },
    "colab_type": "code",
    "executionInfo": {
     "elapsed": 3241,
     "status": "ok",
     "timestamp": 1599257328211,
     "user": {
      "displayName": "Denny Seccon",
      "photoUrl": "https://lh3.googleusercontent.com/a-/AOh14GgJKBMgIypXsiOd8ZOSskERpZBMuJN6csHlr9Wo=s64",
      "userId": "03904535882374894686"
     },
     "user_tz": 180
    },
    "id": "G-9DqnoeF8ZK",
    "outputId": "26d4e7a0-8f87-48cf-c87a-4371e7701586"
   },
   "outputs": [
    {
     "data": {
      "text/html": [
       "<div>\n",
       "<style scoped>\n",
       "    .dataframe tbody tr th:only-of-type {\n",
       "        vertical-align: middle;\n",
       "    }\n",
       "\n",
       "    .dataframe tbody tr th {\n",
       "        vertical-align: top;\n",
       "    }\n",
       "\n",
       "    .dataframe thead th {\n",
       "        text-align: right;\n",
       "    }\n",
       "</style>\n",
       "<table border=\"1\" class=\"dataframe\">\n",
       "  <thead>\n",
       "    <tr style=\"text-align: right;\">\n",
       "      <th></th>\n",
       "      <th>age</th>\n",
       "      <th>workclass</th>\n",
       "      <th>final-weight</th>\n",
       "      <th>education</th>\n",
       "      <th>education-num</th>\n",
       "      <th>marital-status</th>\n",
       "      <th>occupation</th>\n",
       "      <th>relationship</th>\n",
       "      <th>race</th>\n",
       "      <th>sex</th>\n",
       "      <th>capital-gain</th>\n",
       "      <th>capital-loos</th>\n",
       "      <th>hour-per-week</th>\n",
       "      <th>native-country</th>\n",
       "      <th>income</th>\n",
       "    </tr>\n",
       "  </thead>\n",
       "  <tbody>\n",
       "    <tr>\n",
       "      <th>0</th>\n",
       "      <td>39</td>\n",
       "      <td>State-gov</td>\n",
       "      <td>77516</td>\n",
       "      <td>Bachelors</td>\n",
       "      <td>13</td>\n",
       "      <td>Never-married</td>\n",
       "      <td>Adm-clerical</td>\n",
       "      <td>Not-in-family</td>\n",
       "      <td>White</td>\n",
       "      <td>Male</td>\n",
       "      <td>2174</td>\n",
       "      <td>0</td>\n",
       "      <td>40</td>\n",
       "      <td>United-States</td>\n",
       "      <td>&lt;=50K</td>\n",
       "    </tr>\n",
       "    <tr>\n",
       "      <th>1</th>\n",
       "      <td>50</td>\n",
       "      <td>Self-emp-not-inc</td>\n",
       "      <td>83311</td>\n",
       "      <td>Bachelors</td>\n",
       "      <td>13</td>\n",
       "      <td>Married-civ-spouse</td>\n",
       "      <td>Exec-managerial</td>\n",
       "      <td>Husband</td>\n",
       "      <td>White</td>\n",
       "      <td>Male</td>\n",
       "      <td>0</td>\n",
       "      <td>0</td>\n",
       "      <td>13</td>\n",
       "      <td>United-States</td>\n",
       "      <td>&lt;=50K</td>\n",
       "    </tr>\n",
       "    <tr>\n",
       "      <th>2</th>\n",
       "      <td>38</td>\n",
       "      <td>Private</td>\n",
       "      <td>215646</td>\n",
       "      <td>HS-grad</td>\n",
       "      <td>9</td>\n",
       "      <td>Divorced</td>\n",
       "      <td>Handlers-cleaners</td>\n",
       "      <td>Not-in-family</td>\n",
       "      <td>White</td>\n",
       "      <td>Male</td>\n",
       "      <td>0</td>\n",
       "      <td>0</td>\n",
       "      <td>40</td>\n",
       "      <td>United-States</td>\n",
       "      <td>&lt;=50K</td>\n",
       "    </tr>\n",
       "    <tr>\n",
       "      <th>3</th>\n",
       "      <td>53</td>\n",
       "      <td>Private</td>\n",
       "      <td>234721</td>\n",
       "      <td>11th</td>\n",
       "      <td>7</td>\n",
       "      <td>Married-civ-spouse</td>\n",
       "      <td>Handlers-cleaners</td>\n",
       "      <td>Husband</td>\n",
       "      <td>Black</td>\n",
       "      <td>Male</td>\n",
       "      <td>0</td>\n",
       "      <td>0</td>\n",
       "      <td>40</td>\n",
       "      <td>United-States</td>\n",
       "      <td>&lt;=50K</td>\n",
       "    </tr>\n",
       "    <tr>\n",
       "      <th>4</th>\n",
       "      <td>28</td>\n",
       "      <td>Private</td>\n",
       "      <td>338409</td>\n",
       "      <td>Bachelors</td>\n",
       "      <td>13</td>\n",
       "      <td>Married-civ-spouse</td>\n",
       "      <td>Prof-specialty</td>\n",
       "      <td>Wife</td>\n",
       "      <td>Black</td>\n",
       "      <td>Female</td>\n",
       "      <td>0</td>\n",
       "      <td>0</td>\n",
       "      <td>40</td>\n",
       "      <td>Cuba</td>\n",
       "      <td>&lt;=50K</td>\n",
       "    </tr>\n",
       "  </tbody>\n",
       "</table>\n",
       "</div>"
      ],
      "text/plain": [
       "   age          workclass  final-weight   education  education-num  \\\n",
       "0   39          State-gov         77516   Bachelors             13   \n",
       "1   50   Self-emp-not-inc         83311   Bachelors             13   \n",
       "2   38            Private        215646     HS-grad              9   \n",
       "3   53            Private        234721        11th              7   \n",
       "4   28            Private        338409   Bachelors             13   \n",
       "\n",
       "        marital-status          occupation    relationship    race      sex  \\\n",
       "0        Never-married        Adm-clerical   Not-in-family   White     Male   \n",
       "1   Married-civ-spouse     Exec-managerial         Husband   White     Male   \n",
       "2             Divorced   Handlers-cleaners   Not-in-family   White     Male   \n",
       "3   Married-civ-spouse   Handlers-cleaners         Husband   Black     Male   \n",
       "4   Married-civ-spouse      Prof-specialty            Wife   Black   Female   \n",
       "\n",
       "   capital-gain  capital-loos  hour-per-week  native-country  income  \n",
       "0          2174             0             40   United-States   <=50K  \n",
       "1             0             0             13   United-States   <=50K  \n",
       "2             0             0             40   United-States   <=50K  \n",
       "3             0             0             40   United-States   <=50K  \n",
       "4             0             0             40            Cuba   <=50K  "
      ]
     },
     "execution_count": 1,
     "metadata": {},
     "output_type": "execute_result"
    }
   ],
   "source": [
    "import pandas as pd\n",
    "base = pd.read_csv('census.csv')\n",
    "base.head()"
   ]
  },
  {
   "cell_type": "code",
   "execution_count": 2,
   "metadata": {
    "ExecuteTime": {
     "end_time": "2022-06-20T23:36:25.101484Z",
     "start_time": "2022-06-20T23:36:25.097038Z"
    },
    "colab": {
     "base_uri": "https://localhost:8080/",
     "height": 33
    },
    "colab_type": "code",
    "executionInfo": {
     "elapsed": 3181,
     "status": "ok",
     "timestamp": 1599257328215,
     "user": {
      "displayName": "Denny Seccon",
      "photoUrl": "https://lh3.googleusercontent.com/a-/AOh14GgJKBMgIypXsiOd8ZOSskERpZBMuJN6csHlr9Wo=s64",
      "userId": "03904535882374894686"
     },
     "user_tz": 180
    },
    "id": "l1HR0BpKF8Zh",
    "outputId": "a45dedb0-cb64-41ed-bb9c-2e41f48a7802"
   },
   "outputs": [
    {
     "data": {
      "text/plain": [
       "array([' <=50K', ' >50K'], dtype=object)"
      ]
     },
     "execution_count": 2,
     "metadata": {},
     "output_type": "execute_result"
    }
   ],
   "source": [
    "base.income.unique()"
   ]
  },
  {
   "cell_type": "code",
   "execution_count": 3,
   "metadata": {
    "ExecuteTime": {
     "end_time": "2022-06-20T23:36:25.105535Z",
     "start_time": "2022-06-20T23:36:25.102748Z"
    },
    "colab": {},
    "colab_type": "code",
    "executionInfo": {
     "elapsed": 3146,
     "status": "ok",
     "timestamp": 1599257328225,
     "user": {
      "displayName": "Denny Seccon",
      "photoUrl": "https://lh3.googleusercontent.com/a-/AOh14GgJKBMgIypXsiOd8ZOSskERpZBMuJN6csHlr9Wo=s64",
      "userId": "03904535882374894686"
     },
     "user_tz": 180
    },
    "id": "YN2gz0QTF8Zy"
   },
   "outputs": [],
   "source": [
    "def converte_classe(rotulo):\n",
    "    if rotulo == ' >50K':\n",
    "        return 1\n",
    "    else:\n",
    "        return 0"
   ]
  },
  {
   "cell_type": "code",
   "execution_count": 4,
   "metadata": {
    "ExecuteTime": {
     "end_time": "2022-06-20T23:36:25.120741Z",
     "start_time": "2022-06-20T23:36:25.107143Z"
    },
    "colab": {},
    "colab_type": "code",
    "executionInfo": {
     "elapsed": 3065,
     "status": "ok",
     "timestamp": 1599257328228,
     "user": {
      "displayName": "Denny Seccon",
      "photoUrl": "https://lh3.googleusercontent.com/a-/AOh14GgJKBMgIypXsiOd8ZOSskERpZBMuJN6csHlr9Wo=s64",
      "userId": "03904535882374894686"
     },
     "user_tz": 180
    },
    "id": "qdT44HkoF8aP"
   },
   "outputs": [],
   "source": [
    "base.income = base.income.apply(converte_classe)"
   ]
  },
  {
   "cell_type": "code",
   "execution_count": 5,
   "metadata": {
    "ExecuteTime": {
     "end_time": "2022-06-20T23:36:25.130956Z",
     "start_time": "2022-06-20T23:36:25.122143Z"
    },
    "colab": {
     "base_uri": "https://localhost:8080/",
     "height": 191
    },
    "colab_type": "code",
    "executionInfo": {
     "elapsed": 3423,
     "status": "ok",
     "timestamp": 1599257328660,
     "user": {
      "displayName": "Denny Seccon",
      "photoUrl": "https://lh3.googleusercontent.com/a-/AOh14GgJKBMgIypXsiOd8ZOSskERpZBMuJN6csHlr9Wo=s64",
      "userId": "03904535882374894686"
     },
     "user_tz": 180
    },
    "id": "hJGSS1FWF8au",
    "outputId": "6e00e708-75d9-4ea3-c83a-e1d698c25290"
   },
   "outputs": [
    {
     "data": {
      "text/html": [
       "<div>\n",
       "<style scoped>\n",
       "    .dataframe tbody tr th:only-of-type {\n",
       "        vertical-align: middle;\n",
       "    }\n",
       "\n",
       "    .dataframe tbody tr th {\n",
       "        vertical-align: top;\n",
       "    }\n",
       "\n",
       "    .dataframe thead th {\n",
       "        text-align: right;\n",
       "    }\n",
       "</style>\n",
       "<table border=\"1\" class=\"dataframe\">\n",
       "  <thead>\n",
       "    <tr style=\"text-align: right;\">\n",
       "      <th></th>\n",
       "      <th>age</th>\n",
       "      <th>workclass</th>\n",
       "      <th>final-weight</th>\n",
       "      <th>education</th>\n",
       "      <th>education-num</th>\n",
       "      <th>marital-status</th>\n",
       "      <th>occupation</th>\n",
       "      <th>relationship</th>\n",
       "      <th>race</th>\n",
       "      <th>sex</th>\n",
       "      <th>capital-gain</th>\n",
       "      <th>capital-loos</th>\n",
       "      <th>hour-per-week</th>\n",
       "      <th>native-country</th>\n",
       "      <th>income</th>\n",
       "    </tr>\n",
       "  </thead>\n",
       "  <tbody>\n",
       "    <tr>\n",
       "      <th>0</th>\n",
       "      <td>39</td>\n",
       "      <td>State-gov</td>\n",
       "      <td>77516</td>\n",
       "      <td>Bachelors</td>\n",
       "      <td>13</td>\n",
       "      <td>Never-married</td>\n",
       "      <td>Adm-clerical</td>\n",
       "      <td>Not-in-family</td>\n",
       "      <td>White</td>\n",
       "      <td>Male</td>\n",
       "      <td>2174</td>\n",
       "      <td>0</td>\n",
       "      <td>40</td>\n",
       "      <td>United-States</td>\n",
       "      <td>0</td>\n",
       "    </tr>\n",
       "    <tr>\n",
       "      <th>1</th>\n",
       "      <td>50</td>\n",
       "      <td>Self-emp-not-inc</td>\n",
       "      <td>83311</td>\n",
       "      <td>Bachelors</td>\n",
       "      <td>13</td>\n",
       "      <td>Married-civ-spouse</td>\n",
       "      <td>Exec-managerial</td>\n",
       "      <td>Husband</td>\n",
       "      <td>White</td>\n",
       "      <td>Male</td>\n",
       "      <td>0</td>\n",
       "      <td>0</td>\n",
       "      <td>13</td>\n",
       "      <td>United-States</td>\n",
       "      <td>0</td>\n",
       "    </tr>\n",
       "    <tr>\n",
       "      <th>2</th>\n",
       "      <td>38</td>\n",
       "      <td>Private</td>\n",
       "      <td>215646</td>\n",
       "      <td>HS-grad</td>\n",
       "      <td>9</td>\n",
       "      <td>Divorced</td>\n",
       "      <td>Handlers-cleaners</td>\n",
       "      <td>Not-in-family</td>\n",
       "      <td>White</td>\n",
       "      <td>Male</td>\n",
       "      <td>0</td>\n",
       "      <td>0</td>\n",
       "      <td>40</td>\n",
       "      <td>United-States</td>\n",
       "      <td>0</td>\n",
       "    </tr>\n",
       "    <tr>\n",
       "      <th>3</th>\n",
       "      <td>53</td>\n",
       "      <td>Private</td>\n",
       "      <td>234721</td>\n",
       "      <td>11th</td>\n",
       "      <td>7</td>\n",
       "      <td>Married-civ-spouse</td>\n",
       "      <td>Handlers-cleaners</td>\n",
       "      <td>Husband</td>\n",
       "      <td>Black</td>\n",
       "      <td>Male</td>\n",
       "      <td>0</td>\n",
       "      <td>0</td>\n",
       "      <td>40</td>\n",
       "      <td>United-States</td>\n",
       "      <td>0</td>\n",
       "    </tr>\n",
       "    <tr>\n",
       "      <th>4</th>\n",
       "      <td>28</td>\n",
       "      <td>Private</td>\n",
       "      <td>338409</td>\n",
       "      <td>Bachelors</td>\n",
       "      <td>13</td>\n",
       "      <td>Married-civ-spouse</td>\n",
       "      <td>Prof-specialty</td>\n",
       "      <td>Wife</td>\n",
       "      <td>Black</td>\n",
       "      <td>Female</td>\n",
       "      <td>0</td>\n",
       "      <td>0</td>\n",
       "      <td>40</td>\n",
       "      <td>Cuba</td>\n",
       "      <td>0</td>\n",
       "    </tr>\n",
       "  </tbody>\n",
       "</table>\n",
       "</div>"
      ],
      "text/plain": [
       "   age          workclass  final-weight   education  education-num  \\\n",
       "0   39          State-gov         77516   Bachelors             13   \n",
       "1   50   Self-emp-not-inc         83311   Bachelors             13   \n",
       "2   38            Private        215646     HS-grad              9   \n",
       "3   53            Private        234721        11th              7   \n",
       "4   28            Private        338409   Bachelors             13   \n",
       "\n",
       "        marital-status          occupation    relationship    race      sex  \\\n",
       "0        Never-married        Adm-clerical   Not-in-family   White     Male   \n",
       "1   Married-civ-spouse     Exec-managerial         Husband   White     Male   \n",
       "2             Divorced   Handlers-cleaners   Not-in-family   White     Male   \n",
       "3   Married-civ-spouse   Handlers-cleaners         Husband   Black     Male   \n",
       "4   Married-civ-spouse      Prof-specialty            Wife   Black   Female   \n",
       "\n",
       "   capital-gain  capital-loos  hour-per-week  native-country  income  \n",
       "0          2174             0             40   United-States       0  \n",
       "1             0             0             13   United-States       0  \n",
       "2             0             0             40   United-States       0  \n",
       "3             0             0             40   United-States       0  \n",
       "4             0             0             40            Cuba       0  "
      ]
     },
     "execution_count": 5,
     "metadata": {},
     "output_type": "execute_result"
    }
   ],
   "source": [
    "base.head()"
   ]
  },
  {
   "cell_type": "code",
   "execution_count": 6,
   "metadata": {
    "ExecuteTime": {
     "end_time": "2022-06-20T23:36:25.138231Z",
     "start_time": "2022-06-20T23:36:25.132050Z"
    },
    "colab": {},
    "colab_type": "code",
    "executionInfo": {
     "elapsed": 3255,
     "status": "ok",
     "timestamp": 1599257328663,
     "user": {
      "displayName": "Denny Seccon",
      "photoUrl": "https://lh3.googleusercontent.com/a-/AOh14GgJKBMgIypXsiOd8ZOSskERpZBMuJN6csHlr9Wo=s64",
      "userId": "03904535882374894686"
     },
     "user_tz": 180
    },
    "id": "4O8ZnCoHF8a8"
   },
   "outputs": [],
   "source": [
    "X = base.drop('income', axis = 1)\n",
    "y = base.income"
   ]
  },
  {
   "cell_type": "code",
   "execution_count": 7,
   "metadata": {
    "ExecuteTime": {
     "end_time": "2022-06-20T23:36:25.148416Z",
     "start_time": "2022-06-20T23:36:25.139421Z"
    },
    "colab": {
     "base_uri": "https://localhost:8080/",
     "height": 191
    },
    "colab_type": "code",
    "executionInfo": {
     "elapsed": 3122,
     "status": "ok",
     "timestamp": 1599257328665,
     "user": {
      "displayName": "Denny Seccon",
      "photoUrl": "https://lh3.googleusercontent.com/a-/AOh14GgJKBMgIypXsiOd8ZOSskERpZBMuJN6csHlr9Wo=s64",
      "userId": "03904535882374894686"
     },
     "user_tz": 180
    },
    "id": "7cufU6iyF8bM",
    "outputId": "28d48553-4382-4a48-bc47-1cdcce421afd",
    "scrolled": true
   },
   "outputs": [
    {
     "data": {
      "text/html": [
       "<div>\n",
       "<style scoped>\n",
       "    .dataframe tbody tr th:only-of-type {\n",
       "        vertical-align: middle;\n",
       "    }\n",
       "\n",
       "    .dataframe tbody tr th {\n",
       "        vertical-align: top;\n",
       "    }\n",
       "\n",
       "    .dataframe thead th {\n",
       "        text-align: right;\n",
       "    }\n",
       "</style>\n",
       "<table border=\"1\" class=\"dataframe\">\n",
       "  <thead>\n",
       "    <tr style=\"text-align: right;\">\n",
       "      <th></th>\n",
       "      <th>age</th>\n",
       "      <th>workclass</th>\n",
       "      <th>final-weight</th>\n",
       "      <th>education</th>\n",
       "      <th>education-num</th>\n",
       "      <th>marital-status</th>\n",
       "      <th>occupation</th>\n",
       "      <th>relationship</th>\n",
       "      <th>race</th>\n",
       "      <th>sex</th>\n",
       "      <th>capital-gain</th>\n",
       "      <th>capital-loos</th>\n",
       "      <th>hour-per-week</th>\n",
       "      <th>native-country</th>\n",
       "    </tr>\n",
       "  </thead>\n",
       "  <tbody>\n",
       "    <tr>\n",
       "      <th>0</th>\n",
       "      <td>39</td>\n",
       "      <td>State-gov</td>\n",
       "      <td>77516</td>\n",
       "      <td>Bachelors</td>\n",
       "      <td>13</td>\n",
       "      <td>Never-married</td>\n",
       "      <td>Adm-clerical</td>\n",
       "      <td>Not-in-family</td>\n",
       "      <td>White</td>\n",
       "      <td>Male</td>\n",
       "      <td>2174</td>\n",
       "      <td>0</td>\n",
       "      <td>40</td>\n",
       "      <td>United-States</td>\n",
       "    </tr>\n",
       "    <tr>\n",
       "      <th>1</th>\n",
       "      <td>50</td>\n",
       "      <td>Self-emp-not-inc</td>\n",
       "      <td>83311</td>\n",
       "      <td>Bachelors</td>\n",
       "      <td>13</td>\n",
       "      <td>Married-civ-spouse</td>\n",
       "      <td>Exec-managerial</td>\n",
       "      <td>Husband</td>\n",
       "      <td>White</td>\n",
       "      <td>Male</td>\n",
       "      <td>0</td>\n",
       "      <td>0</td>\n",
       "      <td>13</td>\n",
       "      <td>United-States</td>\n",
       "    </tr>\n",
       "    <tr>\n",
       "      <th>2</th>\n",
       "      <td>38</td>\n",
       "      <td>Private</td>\n",
       "      <td>215646</td>\n",
       "      <td>HS-grad</td>\n",
       "      <td>9</td>\n",
       "      <td>Divorced</td>\n",
       "      <td>Handlers-cleaners</td>\n",
       "      <td>Not-in-family</td>\n",
       "      <td>White</td>\n",
       "      <td>Male</td>\n",
       "      <td>0</td>\n",
       "      <td>0</td>\n",
       "      <td>40</td>\n",
       "      <td>United-States</td>\n",
       "    </tr>\n",
       "    <tr>\n",
       "      <th>3</th>\n",
       "      <td>53</td>\n",
       "      <td>Private</td>\n",
       "      <td>234721</td>\n",
       "      <td>11th</td>\n",
       "      <td>7</td>\n",
       "      <td>Married-civ-spouse</td>\n",
       "      <td>Handlers-cleaners</td>\n",
       "      <td>Husband</td>\n",
       "      <td>Black</td>\n",
       "      <td>Male</td>\n",
       "      <td>0</td>\n",
       "      <td>0</td>\n",
       "      <td>40</td>\n",
       "      <td>United-States</td>\n",
       "    </tr>\n",
       "    <tr>\n",
       "      <th>4</th>\n",
       "      <td>28</td>\n",
       "      <td>Private</td>\n",
       "      <td>338409</td>\n",
       "      <td>Bachelors</td>\n",
       "      <td>13</td>\n",
       "      <td>Married-civ-spouse</td>\n",
       "      <td>Prof-specialty</td>\n",
       "      <td>Wife</td>\n",
       "      <td>Black</td>\n",
       "      <td>Female</td>\n",
       "      <td>0</td>\n",
       "      <td>0</td>\n",
       "      <td>40</td>\n",
       "      <td>Cuba</td>\n",
       "    </tr>\n",
       "  </tbody>\n",
       "</table>\n",
       "</div>"
      ],
      "text/plain": [
       "   age          workclass  final-weight   education  education-num  \\\n",
       "0   39          State-gov         77516   Bachelors             13   \n",
       "1   50   Self-emp-not-inc         83311   Bachelors             13   \n",
       "2   38            Private        215646     HS-grad              9   \n",
       "3   53            Private        234721        11th              7   \n",
       "4   28            Private        338409   Bachelors             13   \n",
       "\n",
       "        marital-status          occupation    relationship    race      sex  \\\n",
       "0        Never-married        Adm-clerical   Not-in-family   White     Male   \n",
       "1   Married-civ-spouse     Exec-managerial         Husband   White     Male   \n",
       "2             Divorced   Handlers-cleaners   Not-in-family   White     Male   \n",
       "3   Married-civ-spouse   Handlers-cleaners         Husband   Black     Male   \n",
       "4   Married-civ-spouse      Prof-specialty            Wife   Black   Female   \n",
       "\n",
       "   capital-gain  capital-loos  hour-per-week  native-country  \n",
       "0          2174             0             40   United-States  \n",
       "1             0             0             13   United-States  \n",
       "2             0             0             40   United-States  \n",
       "3             0             0             40   United-States  \n",
       "4             0             0             40            Cuba  "
      ]
     },
     "execution_count": 7,
     "metadata": {},
     "output_type": "execute_result"
    }
   ],
   "source": [
    "X.head()"
   ]
  },
  {
   "cell_type": "code",
   "execution_count": 8,
   "metadata": {
    "ExecuteTime": {
     "end_time": "2022-06-20T23:36:25.156460Z",
     "start_time": "2022-06-20T23:36:25.150700Z"
    },
    "colab": {
     "base_uri": "https://localhost:8080/",
     "height": 115
    },
    "colab_type": "code",
    "executionInfo": {
     "elapsed": 3045,
     "status": "ok",
     "timestamp": 1599257328668,
     "user": {
      "displayName": "Denny Seccon",
      "photoUrl": "https://lh3.googleusercontent.com/a-/AOh14GgJKBMgIypXsiOd8ZOSskERpZBMuJN6csHlr9Wo=s64",
      "userId": "03904535882374894686"
     },
     "user_tz": 180
    },
    "id": "FWGGU61RF8bh",
    "outputId": "4d390186-3eaa-49e4-b3cc-91e0b0865f96"
   },
   "outputs": [
    {
     "data": {
      "text/plain": [
       "0        0\n",
       "1        0\n",
       "2        0\n",
       "3        0\n",
       "4        0\n",
       "        ..\n",
       "32556    0\n",
       "32557    1\n",
       "32558    0\n",
       "32559    0\n",
       "32560    1\n",
       "Name: income, Length: 32561, dtype: int64"
      ]
     },
     "execution_count": 8,
     "metadata": {},
     "output_type": "execute_result"
    }
   ],
   "source": [
    "y#.head()"
   ]
  },
  {
   "cell_type": "code",
   "execution_count": 9,
   "metadata": {
    "ExecuteTime": {
     "end_time": "2022-06-20T23:36:25.474844Z",
     "start_time": "2022-06-20T23:36:25.158354Z"
    },
    "colab": {},
    "colab_type": "code",
    "executionInfo": {
     "elapsed": 3022,
     "status": "ok",
     "timestamp": 1599257328680,
     "user": {
      "displayName": "Denny Seccon",
      "photoUrl": "https://lh3.googleusercontent.com/a-/AOh14GgJKBMgIypXsiOd8ZOSskERpZBMuJN6csHlr9Wo=s64",
      "userId": "03904535882374894686"
     },
     "user_tz": 180
    },
    "id": "SevKCrzhF8br"
   },
   "outputs": [],
   "source": [
    "from sklearn.model_selection import train_test_split\n",
    "X_treinamento, X_teste, y_treinamento, y_teste = train_test_split(X, y, test_size = 0.3, random_state = 42)"
   ]
  },
  {
   "cell_type": "code",
   "execution_count": 10,
   "metadata": {
    "ExecuteTime": {
     "end_time": "2022-06-20T23:36:25.480230Z",
     "start_time": "2022-06-20T23:36:25.477426Z"
    },
    "colab": {
     "base_uri": "https://localhost:8080/",
     "height": 33
    },
    "colab_type": "code",
    "executionInfo": {
     "elapsed": 2974,
     "status": "ok",
     "timestamp": 1599257328684,
     "user": {
      "displayName": "Denny Seccon",
      "photoUrl": "https://lh3.googleusercontent.com/a-/AOh14GgJKBMgIypXsiOd8ZOSskERpZBMuJN6csHlr9Wo=s64",
      "userId": "03904535882374894686"
     },
     "user_tz": 180
    },
    "id": "d8qsnFLNF8b9",
    "outputId": "fb8690c9-427d-4ae0-fea2-baae566c9c5a"
   },
   "outputs": [
    {
     "data": {
      "text/plain": [
       "(22792, 14)"
      ]
     },
     "execution_count": 10,
     "metadata": {},
     "output_type": "execute_result"
    }
   ],
   "source": [
    "X_treinamento.shape"
   ]
  },
  {
   "cell_type": "code",
   "execution_count": 11,
   "metadata": {
    "ExecuteTime": {
     "end_time": "2022-06-20T23:36:25.484721Z",
     "start_time": "2022-06-20T23:36:25.481398Z"
    },
    "colab": {
     "base_uri": "https://localhost:8080/",
     "height": 33
    },
    "colab_type": "code",
    "executionInfo": {
     "elapsed": 2912,
     "status": "ok",
     "timestamp": 1599257328688,
     "user": {
      "displayName": "Denny Seccon",
      "photoUrl": "https://lh3.googleusercontent.com/a-/AOh14GgJKBMgIypXsiOd8ZOSskERpZBMuJN6csHlr9Wo=s64",
      "userId": "03904535882374894686"
     },
     "user_tz": 180
    },
    "id": "RO-HYqGkF8cJ",
    "outputId": "51b15961-1a32-41a2-947b-37a88f8255a6"
   },
   "outputs": [
    {
     "data": {
      "text/plain": [
       "(9769, 14)"
      ]
     },
     "execution_count": 11,
     "metadata": {},
     "output_type": "execute_result"
    }
   ],
   "source": [
    "X_teste.shape"
   ]
  },
  {
   "cell_type": "code",
   "execution_count": 12,
   "metadata": {
    "ExecuteTime": {
     "end_time": "2022-06-20T23:36:25.489639Z",
     "start_time": "2022-06-20T23:36:25.485941Z"
    },
    "colab": {
     "base_uri": "https://localhost:8080/",
     "height": 98
    },
    "colab_type": "code",
    "executionInfo": {
     "elapsed": 2798,
     "status": "ok",
     "timestamp": 1599257328689,
     "user": {
      "displayName": "Denny Seccon",
      "photoUrl": "https://lh3.googleusercontent.com/a-/AOh14GgJKBMgIypXsiOd8ZOSskERpZBMuJN6csHlr9Wo=s64",
      "userId": "03904535882374894686"
     },
     "user_tz": 180
    },
    "id": "FSCXsdB4F8cV",
    "outputId": "86a44db0-f8d8-4a04-cf14-1571b9d553af"
   },
   "outputs": [
    {
     "data": {
      "text/plain": [
       "Index(['age', 'workclass', 'final-weight', 'education', 'education-num',\n",
       "       'marital-status', 'occupation', 'relationship', 'race', 'sex',\n",
       "       'capital-gain', 'capital-loos', 'hour-per-week', 'native-country',\n",
       "       'income'],\n",
       "      dtype='object')"
      ]
     },
     "execution_count": 12,
     "metadata": {},
     "output_type": "execute_result"
    }
   ],
   "source": [
    "base.columns"
   ]
  },
  {
   "cell_type": "code",
   "execution_count": 13,
   "metadata": {
    "ExecuteTime": {
     "end_time": "2022-06-20T23:36:28.608606Z",
     "start_time": "2022-06-20T23:36:25.490974Z"
    },
    "colab": {
     "base_uri": "https://localhost:8080/",
     "height": 35
    },
    "colab_type": "code",
    "executionInfo": {
     "elapsed": 4587,
     "status": "ok",
     "timestamp": 1599257330578,
     "user": {
      "displayName": "Denny Seccon",
      "photoUrl": "https://lh3.googleusercontent.com/a-/AOh14GgJKBMgIypXsiOd8ZOSskERpZBMuJN6csHlr9Wo=s64",
      "userId": "03904535882374894686"
     },
     "user_tz": 180
    },
    "id": "Im-9IvlaF8cl",
    "outputId": "6c33e51d-cd12-442e-a63c-1be853ce9353"
   },
   "outputs": [
    {
     "name": "stdout",
     "output_type": "stream",
     "text": [
      "Requirement already satisfied: tensorflow in /home/lucas/.local/lib/python3.8/site-packages (2.9.0)\n",
      "Requirement already satisfied: absl-py>=1.0.0 in /home/lucas/.local/lib/python3.8/site-packages (from tensorflow) (1.0.0)\n",
      "Requirement already satisfied: astunparse>=1.6.0 in /home/lucas/.local/lib/python3.8/site-packages (from tensorflow) (1.6.3)\n",
      "Requirement already satisfied: flatbuffers<2,>=1.12 in /home/lucas/.local/lib/python3.8/site-packages (from tensorflow) (1.12)\n",
      "Requirement already satisfied: gast<=0.4.0,>=0.2.1 in /home/lucas/.local/lib/python3.8/site-packages (from tensorflow) (0.4.0)\n",
      "Requirement already satisfied: google-pasta>=0.1.1 in /home/lucas/.local/lib/python3.8/site-packages (from tensorflow) (0.2.0)\n",
      "Requirement already satisfied: grpcio<2.0,>=1.24.3 in /home/lucas/.local/lib/python3.8/site-packages (from tensorflow) (1.46.1)\n",
      "Requirement already satisfied: h5py>=2.9.0 in /home/lucas/.local/lib/python3.8/site-packages (from tensorflow) (3.6.0)\n",
      "Requirement already satisfied: keras<2.10.0,>=2.9.0rc0 in /home/lucas/.local/lib/python3.8/site-packages (from tensorflow) (2.9.0)\n",
      "Requirement already satisfied: keras-preprocessing>=1.1.1 in /home/lucas/.local/lib/python3.8/site-packages (from tensorflow) (1.1.2)\n",
      "Requirement already satisfied: libclang>=13.0.0 in /home/lucas/.local/lib/python3.8/site-packages (from tensorflow) (14.0.1)\n",
      "Requirement already satisfied: numpy>=1.20 in /home/lucas/.local/lib/python3.8/site-packages (from tensorflow) (1.22.3)\n",
      "Requirement already satisfied: opt-einsum>=2.3.2 in /home/lucas/.local/lib/python3.8/site-packages (from tensorflow) (3.3.0)\n",
      "Requirement already satisfied: packaging in /usr/lib/python3/dist-packages (from tensorflow) (20.3)\n",
      "Requirement already satisfied: protobuf>=3.9.2 in /home/lucas/.local/lib/python3.8/site-packages (from tensorflow) (3.20.1)\n",
      "Requirement already satisfied: setuptools in /home/lucas/.local/lib/python3.8/site-packages (from tensorflow) (62.3.2)\n",
      "Requirement already satisfied: six>=1.12.0 in /usr/lib/python3/dist-packages (from tensorflow) (1.14.0)\n",
      "Requirement already satisfied: tensorboard<2.10,>=2.9 in /home/lucas/.local/lib/python3.8/site-packages (from tensorflow) (2.9.0)\n",
      "Requirement already satisfied: tensorflow-io-gcs-filesystem>=0.23.1 in /home/lucas/.local/lib/python3.8/site-packages (from tensorflow) (0.26.0)\n",
      "Requirement already satisfied: tensorflow-estimator<2.10.0,>=2.9.0rc0 in /home/lucas/.local/lib/python3.8/site-packages (from tensorflow) (2.9.0)\n",
      "Requirement already satisfied: termcolor>=1.1.0 in /home/lucas/.local/lib/python3.8/site-packages (from tensorflow) (1.1.0)\n",
      "Requirement already satisfied: typing-extensions>=3.6.6 in /home/lucas/.local/lib/python3.8/site-packages (from tensorflow) (4.2.0)\n",
      "Requirement already satisfied: wrapt>=1.11.0 in /home/lucas/.local/lib/python3.8/site-packages (from tensorflow) (1.14.1)\n",
      "Requirement already satisfied: wheel<1.0,>=0.23.0 in /usr/lib/python3/dist-packages (from astunparse>=1.6.0->tensorflow) (0.34.2)\n",
      "Requirement already satisfied: google-auth<3,>=1.6.3 in /home/lucas/.local/lib/python3.8/site-packages (from tensorboard<2.10,>=2.9->tensorflow) (2.6.6)\n",
      "Requirement already satisfied: google-auth-oauthlib<0.5,>=0.4.1 in /home/lucas/.local/lib/python3.8/site-packages (from tensorboard<2.10,>=2.9->tensorflow) (0.4.6)\n",
      "Requirement already satisfied: markdown>=2.6.8 in /home/lucas/.local/lib/python3.8/site-packages (from tensorboard<2.10,>=2.9->tensorflow) (3.3.7)\n",
      "Requirement already satisfied: requests<3,>=2.21.0 in /usr/local/lib/python3.8/dist-packages (from tensorboard<2.10,>=2.9->tensorflow) (2.27.1)\n",
      "Requirement already satisfied: tensorboard-data-server<0.7.0,>=0.6.0 in /home/lucas/.local/lib/python3.8/site-packages (from tensorboard<2.10,>=2.9->tensorflow) (0.6.1)\n",
      "Requirement already satisfied: tensorboard-plugin-wit>=1.6.0 in /home/lucas/.local/lib/python3.8/site-packages (from tensorboard<2.10,>=2.9->tensorflow) (1.8.1)\n",
      "Requirement already satisfied: werkzeug>=1.0.1 in /home/lucas/.local/lib/python3.8/site-packages (from tensorboard<2.10,>=2.9->tensorflow) (2.1.2)\n",
      "Requirement already satisfied: cachetools<6.0,>=2.0.0 in /home/lucas/.local/lib/python3.8/site-packages (from google-auth<3,>=1.6.3->tensorboard<2.10,>=2.9->tensorflow) (5.1.0)\n",
      "Requirement already satisfied: pyasn1-modules>=0.2.1 in /home/lucas/.local/lib/python3.8/site-packages (from google-auth<3,>=1.6.3->tensorboard<2.10,>=2.9->tensorflow) (0.2.8)\n",
      "Requirement already satisfied: rsa<5,>=3.1.4; python_version >= \"3.6\" in /home/lucas/.local/lib/python3.8/site-packages (from google-auth<3,>=1.6.3->tensorboard<2.10,>=2.9->tensorflow) (4.8)\n",
      "Requirement already satisfied: requests-oauthlib>=0.7.0 in /home/lucas/.local/lib/python3.8/site-packages (from google-auth-oauthlib<0.5,>=0.4.1->tensorboard<2.10,>=2.9->tensorflow) (1.3.1)\n",
      "Requirement already satisfied: importlib-metadata>=4.4; python_version < \"3.10\" in /home/lucas/.local/lib/python3.8/site-packages (from markdown>=2.6.8->tensorboard<2.10,>=2.9->tensorflow) (4.11.3)\n",
      "Requirement already satisfied: urllib3<1.27,>=1.21.1 in /usr/lib/python3/dist-packages (from requests<3,>=2.21.0->tensorboard<2.10,>=2.9->tensorflow) (1.25.8)\n",
      "Requirement already satisfied: certifi>=2017.4.17 in /usr/lib/python3/dist-packages (from requests<3,>=2.21.0->tensorboard<2.10,>=2.9->tensorflow) (2019.11.28)\n",
      "Requirement already satisfied: charset-normalizer~=2.0.0; python_version >= \"3\" in /home/lucas/.local/lib/python3.8/site-packages (from requests<3,>=2.21.0->tensorboard<2.10,>=2.9->tensorflow) (2.0.12)\n",
      "Requirement already satisfied: idna<4,>=2.5; python_version >= \"3\" in /usr/lib/python3/dist-packages (from requests<3,>=2.21.0->tensorboard<2.10,>=2.9->tensorflow) (2.8)\n",
      "Requirement already satisfied: pyasn1<0.5.0,>=0.4.6 in /home/lucas/.local/lib/python3.8/site-packages (from pyasn1-modules>=0.2.1->google-auth<3,>=1.6.3->tensorboard<2.10,>=2.9->tensorflow) (0.4.8)\n",
      "Requirement already satisfied: oauthlib>=3.0.0 in /usr/lib/python3/dist-packages (from requests-oauthlib>=0.7.0->google-auth-oauthlib<0.5,>=0.4.1->tensorboard<2.10,>=2.9->tensorflow) (3.1.0)\n",
      "Requirement already satisfied: zipp>=0.5 in /home/lucas/.local/lib/python3.8/site-packages (from importlib-metadata>=4.4; python_version < \"3.10\"->markdown>=2.6.8->tensorboard<2.10,>=2.9->tensorflow) (3.8.0)\n"
     ]
    },
    {
     "name": "stderr",
     "output_type": "stream",
     "text": [
      "2022-06-20 20:36:27.658971: W tensorflow/stream_executor/platform/default/dso_loader.cc:64] Could not load dynamic library 'libcudart.so.11.0'; dlerror: libcudart.so.11.0: cannot open shared object file: No such file or directory\n",
      "2022-06-20 20:36:27.658988: I tensorflow/stream_executor/cuda/cudart_stub.cc:29] Ignore above cudart dlerror if you do not have a GPU set up on your machine.\n"
     ]
    },
    {
     "data": {
      "text/plain": [
       "'2.9.0'"
      ]
     },
     "execution_count": 13,
     "metadata": {},
     "output_type": "execute_result"
    }
   ],
   "source": [
    "!pip install tensorflow\n",
    "import tensorflow as tf\n",
    "tf.__version__"
   ]
  },
  {
   "cell_type": "code",
   "execution_count": 14,
   "metadata": {
    "ExecuteTime": {
     "end_time": "2022-06-20T23:36:28.614321Z",
     "start_time": "2022-06-20T23:36:28.610149Z"
    },
    "colab": {
     "base_uri": "https://localhost:8080/",
     "height": 66
    },
    "colab_type": "code",
    "executionInfo": {
     "elapsed": 4542,
     "status": "ok",
     "timestamp": 1599257330579,
     "user": {
      "displayName": "Denny Seccon",
      "photoUrl": "https://lh3.googleusercontent.com/a-/AOh14GgJKBMgIypXsiOd8ZOSskERpZBMuJN6csHlr9Wo=s64",
      "userId": "03904535882374894686"
     },
     "user_tz": 180
    },
    "id": "up17gGJIF8c1",
    "outputId": "ee2c2065-7664-4d17-ebb4-0502cfd6bfe3"
   },
   "outputs": [
    {
     "data": {
      "text/plain": [
       "array([' State-gov', ' Self-emp-not-inc', ' Private', ' Federal-gov',\n",
       "       ' Local-gov', ' ?', ' Self-emp-inc', ' Without-pay',\n",
       "       ' Never-worked'], dtype=object)"
      ]
     },
     "execution_count": 14,
     "metadata": {},
     "output_type": "execute_result"
    }
   ],
   "source": [
    "base.workclass.unique()"
   ]
  },
  {
   "cell_type": "code",
   "execution_count": 15,
   "metadata": {
    "ExecuteTime": {
     "end_time": "2022-06-20T23:36:28.619931Z",
     "start_time": "2022-06-20T23:36:28.616072Z"
    },
    "colab": {},
    "colab_type": "code",
    "executionInfo": {
     "elapsed": 4515,
     "status": "ok",
     "timestamp": 1599257330580,
     "user": {
      "displayName": "Denny Seccon",
      "photoUrl": "https://lh3.googleusercontent.com/a-/AOh14GgJKBMgIypXsiOd8ZOSskERpZBMuJN6csHlr9Wo=s64",
      "userId": "03904535882374894686"
     },
     "user_tz": 180
    },
    "id": "OWMLWp5wF8dD"
   },
   "outputs": [],
   "source": [
    "workclass = tf.feature_column.categorical_column_with_hash_bucket(key = 'workclass', hash_bucket_size = 100)\n",
    "education = tf.feature_column.categorical_column_with_hash_bucket(key = 'education', hash_bucket_size = 100)\n",
    "marital_status = tf.feature_column.categorical_column_with_hash_bucket(key = 'marital-status', hash_bucket_size = 100)\n",
    "occupation = tf.feature_column.categorical_column_with_hash_bucket(key = 'occupation', hash_bucket_size = 100)\n",
    "relationship = tf.feature_column.categorical_column_with_hash_bucket(key = 'relationship', hash_bucket_size = 100)\n",
    "race = tf.feature_column.categorical_column_with_hash_bucket(key = 'race', hash_bucket_size = 100)\n",
    "country = tf.feature_column.categorical_column_with_hash_bucket(key = 'native-country', hash_bucket_size = 100)"
   ]
  },
  {
   "cell_type": "code",
   "execution_count": 16,
   "metadata": {
    "ExecuteTime": {
     "end_time": "2022-06-20T23:36:28.627310Z",
     "start_time": "2022-06-20T23:36:28.621500Z"
    },
    "colab": {
     "base_uri": "https://localhost:8080/",
     "height": 33
    },
    "colab_type": "code",
    "executionInfo": {
     "elapsed": 4479,
     "status": "ok",
     "timestamp": 1599257330582,
     "user": {
      "displayName": "Denny Seccon",
      "photoUrl": "https://lh3.googleusercontent.com/a-/AOh14GgJKBMgIypXsiOd8ZOSskERpZBMuJN6csHlr9Wo=s64",
      "userId": "03904535882374894686"
     },
     "user_tz": 180
    },
    "id": "l8DL4HE3F8dO",
    "outputId": "2b493b9e-22e5-457e-c9ae-3dd589dddba0"
   },
   "outputs": [
    {
     "data": {
      "text/plain": [
       "array([' Male', ' Female'], dtype=object)"
      ]
     },
     "execution_count": 16,
     "metadata": {},
     "output_type": "execute_result"
    }
   ],
   "source": [
    "base.sex.unique()"
   ]
  },
  {
   "cell_type": "code",
   "execution_count": 17,
   "metadata": {
    "ExecuteTime": {
     "end_time": "2022-06-20T23:36:28.631150Z",
     "start_time": "2022-06-20T23:36:28.628791Z"
    },
    "colab": {},
    "colab_type": "code",
    "executionInfo": {
     "elapsed": 4411,
     "status": "ok",
     "timestamp": 1599257330584,
     "user": {
      "displayName": "Denny Seccon",
      "photoUrl": "https://lh3.googleusercontent.com/a-/AOh14GgJKBMgIypXsiOd8ZOSskERpZBMuJN6csHlr9Wo=s64",
      "userId": "03904535882374894686"
     },
     "user_tz": 180
    },
    "id": "1MyIOPf3F8db"
   },
   "outputs": [],
   "source": [
    "sex = tf.feature_column.categorical_column_with_vocabulary_list(key = 'sex', vocabulary_list=[' Male', ' Female'])"
   ]
  },
  {
   "cell_type": "code",
   "execution_count": 18,
   "metadata": {
    "ExecuteTime": {
     "end_time": "2022-06-20T23:36:28.639038Z",
     "start_time": "2022-06-20T23:36:28.633548Z"
    },
    "colab": {
     "base_uri": "https://localhost:8080/",
     "height": 33
    },
    "colab_type": "code",
    "executionInfo": {
     "elapsed": 4359,
     "status": "ok",
     "timestamp": 1599257330587,
     "user": {
      "displayName": "Denny Seccon",
      "photoUrl": "https://lh3.googleusercontent.com/a-/AOh14GgJKBMgIypXsiOd8ZOSskERpZBMuJN6csHlr9Wo=s64",
      "userId": "03904535882374894686"
     },
     "user_tz": 180
    },
    "id": "O0_wLLIKF8dp",
    "outputId": "52cdcef6-a23e-4773-fcfc-423f256af91c"
   },
   "outputs": [
    {
     "data": {
      "text/plain": [
       "38.58164675532078"
      ]
     },
     "execution_count": 18,
     "metadata": {},
     "output_type": "execute_result"
    }
   ],
   "source": [
    "base.age.mean()"
   ]
  },
  {
   "cell_type": "code",
   "execution_count": 19,
   "metadata": {
    "ExecuteTime": {
     "end_time": "2022-06-20T23:36:28.644306Z",
     "start_time": "2022-06-20T23:36:28.640698Z"
    },
    "colab": {
     "base_uri": "https://localhost:8080/",
     "height": 33
    },
    "colab_type": "code",
    "executionInfo": {
     "elapsed": 4308,
     "status": "ok",
     "timestamp": 1599257330590,
     "user": {
      "displayName": "Denny Seccon",
      "photoUrl": "https://lh3.googleusercontent.com/a-/AOh14GgJKBMgIypXsiOd8ZOSskERpZBMuJN6csHlr9Wo=s64",
      "userId": "03904535882374894686"
     },
     "user_tz": 180
    },
    "id": "L31BTL7bF8d3",
    "outputId": "6f2c697e-f5e3-4b06-d98f-319c498e5cfa"
   },
   "outputs": [
    {
     "data": {
      "text/plain": [
       "13.640432553581341"
      ]
     },
     "execution_count": 19,
     "metadata": {},
     "output_type": "execute_result"
    }
   ],
   "source": [
    "base.age.std()"
   ]
  },
  {
   "cell_type": "code",
   "execution_count": 20,
   "metadata": {
    "ExecuteTime": {
     "end_time": "2022-06-20T23:36:28.652953Z",
     "start_time": "2022-06-20T23:36:28.646163Z"
    },
    "colab": {},
    "colab_type": "code",
    "executionInfo": {
     "elapsed": 4260,
     "status": "ok",
     "timestamp": 1599257330591,
     "user": {
      "displayName": "Denny Seccon",
      "photoUrl": "https://lh3.googleusercontent.com/a-/AOh14GgJKBMgIypXsiOd8ZOSskERpZBMuJN6csHlr9Wo=s64",
      "userId": "03904535882374894686"
     },
     "user_tz": 180
    },
    "id": "mrIGfYD6F8eF"
   },
   "outputs": [],
   "source": [
    "def padroniza_age(valor):\n",
    "    return tf.divide(tf.subtract(tf.cast(valor, tf.float32), tf.constant(38.58)), tf.constant(13.64))\n",
    "\n",
    "def padroniza_finalweight(valor):\n",
    "    return tf.divide(tf.subtract(tf.cast(valor, tf.float32), tf.constant(189778.36)), tf.constant(105549.977))\n",
    "\n",
    "def padroniza_education(valor):\n",
    "    return tf.divide(tf.subtract(tf.cast(valor, tf.float32), tf.constant(10.08)), tf.constant(2.57))\n",
    "\n",
    "def padroniza_capitalgain(valor):\n",
    "    return tf.divide(tf.subtract(tf.cast(valor, tf.float32), tf.constant(1077.64)), tf.constant(7385.29))\n",
    "\n",
    "def padroniza_capitalloos(valor):\n",
    "    return tf.divide(tf.subtract(tf.cast(valor, tf.float32), tf.constant(87.30)), tf.constant(402.96))\n",
    "\n",
    "def padroniza_hour(valor):\n",
    "    return tf.divide(tf.subtract(tf.cast(valor, tf.float32), tf.constant(40.43)), tf.constant(12.34))"
   ]
  },
  {
   "cell_type": "code",
   "execution_count": 21,
   "metadata": {
    "ExecuteTime": {
     "end_time": "2022-06-20T23:36:28.658970Z",
     "start_time": "2022-06-20T23:36:28.654675Z"
    },
    "colab": {},
    "colab_type": "code",
    "executionInfo": {
     "elapsed": 4242,
     "status": "ok",
     "timestamp": 1599257330592,
     "user": {
      "displayName": "Denny Seccon",
      "photoUrl": "https://lh3.googleusercontent.com/a-/AOh14GgJKBMgIypXsiOd8ZOSskERpZBMuJN6csHlr9Wo=s64",
      "userId": "03904535882374894686"
     },
     "user_tz": 180
    },
    "id": "tBAyzcSzF8eM"
   },
   "outputs": [],
   "source": [
    "age = tf.feature_column.numeric_column(key = 'age', normalizer_fn = padroniza_age)\n",
    "final_weight = tf.feature_column.numeric_column(key = 'final-weight', normalizer_fn = padroniza_finalweight)\n",
    "education_num = tf.feature_column.numeric_column(key = 'education-num', normalizer_fn = padroniza_education)\n",
    "capital_gain = tf.feature_column.numeric_column(key = 'capital-gain', normalizer_fn = padroniza_capitalgain)\n",
    "capital_loos = tf.feature_column.numeric_column(key = 'capital-loos', normalizer_fn = padroniza_capitalloos)\n",
    "hour = tf.feature_column.numeric_column(key = 'hour-per-week', normalizer_fn = padroniza_hour)"
   ]
  },
  {
   "cell_type": "code",
   "execution_count": 22,
   "metadata": {
    "ExecuteTime": {
     "end_time": "2022-06-20T23:36:28.665304Z",
     "start_time": "2022-06-20T23:36:28.660059Z"
    },
    "colab": {
     "base_uri": "https://localhost:8080/",
     "height": 33
    },
    "colab_type": "code",
    "executionInfo": {
     "elapsed": 4166,
     "status": "ok",
     "timestamp": 1599257330593,
     "user": {
      "displayName": "Denny Seccon",
      "photoUrl": "https://lh3.googleusercontent.com/a-/AOh14GgJKBMgIypXsiOd8ZOSskERpZBMuJN6csHlr9Wo=s64",
      "userId": "03904535882374894686"
     },
     "user_tz": 180
    },
    "id": "Xji61xBdF8eb",
    "outputId": "fb3d0fc7-5280-467a-b36f-8c62cfb6bb6a"
   },
   "outputs": [
    {
     "data": {
      "text/plain": [
       "9"
      ]
     },
     "execution_count": 22,
     "metadata": {},
     "output_type": "execute_result"
    }
   ],
   "source": [
    "len(base.workclass.unique())"
   ]
  },
  {
   "cell_type": "code",
   "execution_count": 23,
   "metadata": {
    "ExecuteTime": {
     "end_time": "2022-06-20T23:36:28.681535Z",
     "start_time": "2022-06-20T23:36:28.667176Z"
    },
    "colab": {},
    "colab_type": "code",
    "executionInfo": {
     "elapsed": 4141,
     "status": "ok",
     "timestamp": 1599257330596,
     "user": {
      "displayName": "Denny Seccon",
      "photoUrl": "https://lh3.googleusercontent.com/a-/AOh14GgJKBMgIypXsiOd8ZOSskERpZBMuJN6csHlr9Wo=s64",
      "userId": "03904535882374894686"
     },
     "user_tz": 180
    },
    "id": "sVMug6PeF8en"
   },
   "outputs": [],
   "source": [
    "embedded_workclass = tf.feature_column.embedding_column(workclass, dimension = 9)\n",
    "embedded_education = tf.feature_column.embedding_column(education, dimension = len(base.education.unique()))\n",
    "embedded_marital = tf.feature_column.embedding_column(marital_status, dimension = len(base['marital-status'].unique()))\n",
    "embedded_occupation = tf.feature_column.embedding_column(occupation, dimension = len(base.occupation.unique()))\n",
    "embedded_relationship = tf.feature_column.embedding_column(relationship, dimension = len(base.relationship.unique()))\n",
    "embedded_race = tf.feature_column.embedding_column(race, dimension = len(base.race.unique()))\n",
    "embedded_sex = tf.feature_column.embedding_column(sex, dimension = len(base.sex.unique()))\n",
    "embedded_country = tf.feature_column.embedding_column(country, dimension = len(base['native-country'].unique()))"
   ]
  },
  {
   "cell_type": "code",
   "execution_count": 24,
   "metadata": {
    "ExecuteTime": {
     "end_time": "2022-06-20T23:36:28.684852Z",
     "start_time": "2022-06-20T23:36:28.682816Z"
    },
    "colab": {},
    "colab_type": "code",
    "executionInfo": {
     "elapsed": 4097,
     "status": "ok",
     "timestamp": 1599257330597,
     "user": {
      "displayName": "Denny Seccon",
      "photoUrl": "https://lh3.googleusercontent.com/a-/AOh14GgJKBMgIypXsiOd8ZOSskERpZBMuJN6csHlr9Wo=s64",
      "userId": "03904535882374894686"
     },
     "user_tz": 180
    },
    "id": "-MlFlVNyF8fB"
   },
   "outputs": [],
   "source": [
    "colunas_rna = [age, embedded_workclass, final_weight, embedded_education, education_num,\n",
    "               embedded_marital, embedded_occupation, embedded_relationship, \n",
    "               embedded_race, embedded_sex,\n",
    "               capital_gain, capital_loos, hour, embedded_country]"
   ]
  },
  {
   "cell_type": "code",
   "execution_count": 25,
   "metadata": {
    "ExecuteTime": {
     "end_time": "2022-06-20T23:36:28.689154Z",
     "start_time": "2022-06-20T23:36:28.685902Z"
    },
    "colab": {},
    "colab_type": "code",
    "executionInfo": {
     "elapsed": 4053,
     "status": "ok",
     "timestamp": 1599257330599,
     "user": {
      "displayName": "Denny Seccon",
      "photoUrl": "https://lh3.googleusercontent.com/a-/AOh14GgJKBMgIypXsiOd8ZOSskERpZBMuJN6csHlr9Wo=s64",
      "userId": "03904535882374894686"
     },
     "user_tz": 180
    },
    "id": "cuHN5IPtGmb8"
   },
   "outputs": [],
   "source": [
    "def make_input_fn(X, y = None, num_epochs = None, shuffle = True, batch_size=32):\n",
    "    def input_function():\n",
    "        ds = tf.data.Dataset.from_tensor_slices((dict(X), y))\n",
    "        if shuffle:\n",
    "            ds = ds.shuffle(1000)\n",
    "        ds = ds.batch(batch_size).repeat(num_epochs)\n",
    "        return ds\n",
    "    return input_function"
   ]
  },
  {
   "cell_type": "code",
   "execution_count": 26,
   "metadata": {
    "ExecuteTime": {
     "end_time": "2022-06-20T23:36:28.693504Z",
     "start_time": "2022-06-20T23:36:28.690173Z"
    },
    "colab": {},
    "colab_type": "code",
    "executionInfo": {
     "elapsed": 3997,
     "status": "ok",
     "timestamp": 1599257330608,
     "user": {
      "displayName": "Denny Seccon",
      "photoUrl": "https://lh3.googleusercontent.com/a-/AOh14GgJKBMgIypXsiOd8ZOSskERpZBMuJN6csHlr9Wo=s64",
      "userId": "03904535882374894686"
     },
     "user_tz": 180
    },
    "id": "29iDnqWzGzSZ"
   },
   "outputs": [],
   "source": [
    "funcao_treinamento = make_input_fn(X_treinamento, y_treinamento)"
   ]
  },
  {
   "cell_type": "code",
   "execution_count": 27,
   "metadata": {
    "ExecuteTime": {
     "end_time": "2022-06-20T23:36:42.317276Z",
     "start_time": "2022-06-20T23:36:28.694647Z"
    },
    "colab": {
     "base_uri": "https://localhost:8080/",
     "height": 1000
    },
    "colab_type": "code",
    "executionInfo": {
     "elapsed": 31466,
     "status": "ok",
     "timestamp": 1599257358200,
     "user": {
      "displayName": "Denny Seccon",
      "photoUrl": "https://lh3.googleusercontent.com/a-/AOh14GgJKBMgIypXsiOd8ZOSskERpZBMuJN6csHlr9Wo=s64",
      "userId": "03904535882374894686"
     },
     "user_tz": 180
    },
    "id": "jwMf56koF8fP",
    "outputId": "bd7d07e7-4c34-48f4-c238-1613231d70db"
   },
   "outputs": [
    {
     "name": "stdout",
     "output_type": "stream",
     "text": [
      "WARNING:tensorflow:Using temporary folder as model directory: /tmp/tmpes4gcjav\n",
      "INFO:tensorflow:Using config: {'_model_dir': '/tmp/tmpes4gcjav', '_tf_random_seed': 42, '_save_summary_steps': 100, '_save_checkpoints_steps': None, '_save_checkpoints_secs': 600, '_session_config': allow_soft_placement: true\n",
      "graph_options {\n",
      "  rewrite_options {\n",
      "    meta_optimizer_iterations: ONE\n",
      "  }\n",
      "}\n",
      ", '_keep_checkpoint_max': 5, '_keep_checkpoint_every_n_hours': 10000, '_log_step_count_steps': 100, '_train_distribute': None, '_device_fn': None, '_protocol': None, '_eval_distribute': None, '_experimental_distribute': None, '_experimental_max_worker_delay_secs': None, '_session_creation_timeout_secs': 7200, '_checkpoint_save_graph_def': True, '_service': None, '_cluster_spec': ClusterSpec({}), '_task_type': 'worker', '_task_id': 0, '_global_id_in_cluster': 0, '_master': '', '_evaluation_master': '', '_is_chief': True, '_num_ps_replicas': 0, '_num_worker_replicas': 1}\n",
      "WARNING:tensorflow:From /home/lucas/.local/lib/python3.8/site-packages/tensorflow/python/training/training_util.py:396: Variable.initialized_value (from tensorflow.python.ops.variables) is deprecated and will be removed in a future version.\n",
      "Instructions for updating:\n",
      "Use Variable.read_value. Variables in 2.X are initialized automatically both in eager and graph (inside tf.defun) contexts.\n"
     ]
    },
    {
     "name": "stderr",
     "output_type": "stream",
     "text": [
      "2022-06-20 20:36:28.731701: W tensorflow/stream_executor/platform/default/dso_loader.cc:64] Could not load dynamic library 'libcuda.so.1'; dlerror: libcuda.so.1: cannot open shared object file: No such file or directory\n",
      "2022-06-20 20:36:28.731723: W tensorflow/stream_executor/cuda/cuda_driver.cc:269] failed call to cuInit: UNKNOWN ERROR (303)\n",
      "2022-06-20 20:36:28.731739: I tensorflow/stream_executor/cuda/cuda_diagnostics.cc:156] kernel driver does not appear to be running on this host (lucas): /proc/driver/nvidia/version does not exist\n"
     ]
    },
    {
     "name": "stdout",
     "output_type": "stream",
     "text": [
      "INFO:tensorflow:Calling model_fn.\n",
      "WARNING:tensorflow:From /home/lucas/.local/lib/python3.8/site-packages/keras/optimizers/optimizer_v2/adagrad.py:86: calling Constant.__init__ (from tensorflow.python.ops.init_ops) with dtype is deprecated and will be removed in a future version.\n",
      "Instructions for updating:\n",
      "Call initializer instance with the dtype argument instead of passing it to the constructor\n",
      "INFO:tensorflow:Done calling model_fn.\n",
      "INFO:tensorflow:Create CheckpointSaverHook.\n",
      "INFO:tensorflow:Graph was finalized.\n",
      "INFO:tensorflow:Running local_init_op.\n",
      "INFO:tensorflow:Done running local_init_op.\n"
     ]
    },
    {
     "name": "stderr",
     "output_type": "stream",
     "text": [
      "2022-06-20 20:36:30.016831: I tensorflow/core/platform/cpu_feature_guard.cc:193] This TensorFlow binary is optimized with oneAPI Deep Neural Network Library (oneDNN) to use the following CPU instructions in performance-critical operations:  AVX2 FMA\n",
      "To enable them in other operations, rebuild TensorFlow with the appropriate compiler flags.\n",
      "2022-06-20 20:36:30.054736: I tensorflow/compiler/mlir/mlir_graph_optimization_pass.cc:354] MLIR V1 optimization pass is not enabled\n",
      "2022-06-20 20:36:30.061032: W tensorflow/core/common_runtime/forward_type_inference.cc:231] Type inference failed. This indicates an invalid graph that escaped type checking. Error message: INVALID_ARGUMENT: expected compatible input types, but input 1:\n",
      "type_id: TFT_OPTIONAL\n",
      "args {\n",
      "  type_id: TFT_PRODUCT\n",
      "  args {\n",
      "    type_id: TFT_TENSOR\n",
      "    args {\n",
      "      type_id: TFT_INT64\n",
      "    }\n",
      "  }\n",
      "}\n",
      " is neither a subtype nor a supertype of the combined inputs preceding it:\n",
      "type_id: TFT_OPTIONAL\n",
      "args {\n",
      "  type_id: TFT_PRODUCT\n",
      "  args {\n",
      "    type_id: TFT_TENSOR\n",
      "    args {\n",
      "      type_id: TFT_INT32\n",
      "    }\n",
      "  }\n",
      "}\n",
      "\n",
      "\twhile inferring type of node 'dnn/zero_fraction/cond/output/_18'\n"
     ]
    },
    {
     "name": "stdout",
     "output_type": "stream",
     "text": [
      "INFO:tensorflow:Calling checkpoint listeners before saving checkpoint 0...\n",
      "INFO:tensorflow:Saving checkpoints for 0 into /tmp/tmpes4gcjav/model.ckpt.\n",
      "INFO:tensorflow:/tmp/tmpes4gcjav/model.ckpt-0.meta\n",
      "INFO:tensorflow:4100\n",
      "INFO:tensorflow:/tmp/tmpes4gcjav/model.ckpt-0.data-00000-of-00001\n",
      "INFO:tensorflow:4200\n",
      "INFO:tensorflow:/tmp/tmpes4gcjav/model.ckpt-0.index\n",
      "INFO:tensorflow:4200\n",
      "INFO:tensorflow:Calling checkpoint listeners after saving checkpoint 0...\n",
      "INFO:tensorflow:loss = 0.67846966, step = 0\n",
      "INFO:tensorflow:global_step/sec: 418.996\n",
      "INFO:tensorflow:loss = 0.64101106, step = 100 (0.239 sec)\n",
      "INFO:tensorflow:global_step/sec: 1072.09\n",
      "INFO:tensorflow:loss = 0.61818624, step = 200 (0.093 sec)\n",
      "INFO:tensorflow:global_step/sec: 1052.32\n",
      "INFO:tensorflow:loss = 0.6073266, step = 300 (0.095 sec)\n",
      "INFO:tensorflow:global_step/sec: 1048.82\n",
      "INFO:tensorflow:loss = 0.5919659, step = 400 (0.095 sec)\n",
      "INFO:tensorflow:global_step/sec: 1086.32\n",
      "INFO:tensorflow:loss = 0.6071208, step = 500 (0.092 sec)\n",
      "INFO:tensorflow:global_step/sec: 970.475\n",
      "INFO:tensorflow:loss = 0.61996543, step = 600 (0.103 sec)\n",
      "INFO:tensorflow:global_step/sec: 833.498\n",
      "INFO:tensorflow:loss = 0.6287213, step = 700 (0.121 sec)\n",
      "INFO:tensorflow:global_step/sec: 776.366\n",
      "INFO:tensorflow:loss = 0.592767, step = 800 (0.128 sec)\n",
      "INFO:tensorflow:global_step/sec: 850.906\n",
      "INFO:tensorflow:loss = 0.5473638, step = 900 (0.118 sec)\n",
      "INFO:tensorflow:global_step/sec: 829.87\n",
      "INFO:tensorflow:loss = 0.53446496, step = 1000 (0.120 sec)\n",
      "INFO:tensorflow:global_step/sec: 1095.73\n",
      "INFO:tensorflow:loss = 0.44462258, step = 1100 (0.091 sec)\n",
      "INFO:tensorflow:global_step/sec: 1084.49\n",
      "INFO:tensorflow:loss = 0.53108656, step = 1200 (0.092 sec)\n",
      "INFO:tensorflow:global_step/sec: 922.062\n",
      "INFO:tensorflow:loss = 0.5668388, step = 1300 (0.109 sec)\n",
      "INFO:tensorflow:global_step/sec: 1111.43\n",
      "INFO:tensorflow:loss = 0.5349909, step = 1400 (0.090 sec)\n",
      "INFO:tensorflow:global_step/sec: 1106.96\n",
      "INFO:tensorflow:loss = 0.56939626, step = 1500 (0.090 sec)\n",
      "INFO:tensorflow:global_step/sec: 1092.2\n",
      "INFO:tensorflow:loss = 0.51255727, step = 1600 (0.092 sec)\n",
      "INFO:tensorflow:global_step/sec: 1083.27\n",
      "INFO:tensorflow:loss = 0.52722454, step = 1700 (0.092 sec)\n",
      "INFO:tensorflow:global_step/sec: 1088.68\n",
      "INFO:tensorflow:loss = 0.54073274, step = 1800 (0.092 sec)\n",
      "INFO:tensorflow:global_step/sec: 1061.96\n",
      "INFO:tensorflow:loss = 0.3708956, step = 1900 (0.094 sec)\n",
      "INFO:tensorflow:global_step/sec: 1131.06\n",
      "INFO:tensorflow:loss = 0.48188117, step = 2000 (0.088 sec)\n",
      "INFO:tensorflow:global_step/sec: 988.167\n",
      "INFO:tensorflow:loss = 0.5206532, step = 2100 (0.101 sec)\n",
      "INFO:tensorflow:global_step/sec: 1105.09\n",
      "INFO:tensorflow:loss = 0.4638157, step = 2200 (0.090 sec)\n",
      "INFO:tensorflow:global_step/sec: 1094.45\n",
      "INFO:tensorflow:loss = 0.4766212, step = 2300 (0.091 sec)\n",
      "INFO:tensorflow:global_step/sec: 1128.15\n",
      "INFO:tensorflow:loss = 0.4891312, step = 2400 (0.089 sec)\n",
      "INFO:tensorflow:global_step/sec: 1138.7\n",
      "INFO:tensorflow:loss = 0.5561472, step = 2500 (0.088 sec)\n",
      "INFO:tensorflow:global_step/sec: 1127.73\n",
      "INFO:tensorflow:loss = 0.45375696, step = 2600 (0.089 sec)\n",
      "INFO:tensorflow:global_step/sec: 1141.15\n",
      "INFO:tensorflow:loss = 0.42334837, step = 2700 (0.088 sec)\n",
      "INFO:tensorflow:global_step/sec: 1126.07\n",
      "INFO:tensorflow:loss = 0.41286016, step = 2800 (0.089 sec)\n",
      "INFO:tensorflow:global_step/sec: 1097.21\n",
      "INFO:tensorflow:loss = 0.49319375, step = 2900 (0.091 sec)\n",
      "INFO:tensorflow:global_step/sec: 1154.25\n",
      "INFO:tensorflow:loss = 0.4725096, step = 3000 (0.086 sec)\n",
      "INFO:tensorflow:global_step/sec: 1070.75\n",
      "INFO:tensorflow:loss = 0.41600332, step = 3100 (0.093 sec)\n",
      "INFO:tensorflow:global_step/sec: 1133.85\n",
      "INFO:tensorflow:loss = 0.4191815, step = 3200 (0.088 sec)\n",
      "INFO:tensorflow:global_step/sec: 1054.13\n",
      "INFO:tensorflow:loss = 0.55790377, step = 3300 (0.095 sec)\n",
      "INFO:tensorflow:global_step/sec: 1089.8\n",
      "INFO:tensorflow:loss = 0.37119478, step = 3400 (0.092 sec)\n",
      "INFO:tensorflow:global_step/sec: 1095.1\n",
      "INFO:tensorflow:loss = 0.46143875, step = 3500 (0.091 sec)\n",
      "INFO:tensorflow:global_step/sec: 1093.21\n",
      "INFO:tensorflow:loss = 0.535494, step = 3600 (0.092 sec)\n",
      "INFO:tensorflow:global_step/sec: 1053.84\n",
      "INFO:tensorflow:loss = 0.42414257, step = 3700 (0.095 sec)\n",
      "INFO:tensorflow:global_step/sec: 739.011\n",
      "INFO:tensorflow:loss = 0.5280776, step = 3800 (0.136 sec)\n",
      "INFO:tensorflow:global_step/sec: 929.228\n",
      "INFO:tensorflow:loss = 0.4146216, step = 3900 (0.107 sec)\n",
      "INFO:tensorflow:global_step/sec: 1051.19\n",
      "INFO:tensorflow:loss = 0.43052274, step = 4000 (0.095 sec)\n",
      "INFO:tensorflow:global_step/sec: 972.66\n",
      "INFO:tensorflow:loss = 0.52079064, step = 4100 (0.103 sec)\n",
      "INFO:tensorflow:global_step/sec: 967.781\n",
      "INFO:tensorflow:loss = 0.38929552, step = 4200 (0.103 sec)\n",
      "INFO:tensorflow:global_step/sec: 1015.66\n",
      "INFO:tensorflow:loss = 0.42143273, step = 4300 (0.098 sec)\n",
      "INFO:tensorflow:global_step/sec: 1157.85\n",
      "INFO:tensorflow:loss = 0.53468955, step = 4400 (0.086 sec)\n",
      "INFO:tensorflow:global_step/sec: 1119.55\n",
      "INFO:tensorflow:loss = 0.55230296, step = 4500 (0.089 sec)\n",
      "INFO:tensorflow:global_step/sec: 1133.64\n",
      "INFO:tensorflow:loss = 0.28246504, step = 4600 (0.088 sec)\n",
      "INFO:tensorflow:global_step/sec: 1070.42\n",
      "INFO:tensorflow:loss = 0.51071644, step = 4700 (0.093 sec)\n",
      "INFO:tensorflow:global_step/sec: 1080.69\n",
      "INFO:tensorflow:loss = 0.48980582, step = 4800 (0.093 sec)\n",
      "INFO:tensorflow:global_step/sec: 1131.89\n",
      "INFO:tensorflow:loss = 0.40493575, step = 4900 (0.088 sec)\n",
      "INFO:tensorflow:global_step/sec: 1163.28\n",
      "INFO:tensorflow:loss = 0.35514468, step = 5000 (0.086 sec)\n",
      "INFO:tensorflow:global_step/sec: 1177.22\n",
      "INFO:tensorflow:loss = 0.31712878, step = 5100 (0.085 sec)\n",
      "INFO:tensorflow:global_step/sec: 1011.71\n",
      "INFO:tensorflow:loss = 0.46455026, step = 5200 (0.099 sec)\n",
      "INFO:tensorflow:global_step/sec: 1145.1\n",
      "INFO:tensorflow:loss = 0.42769456, step = 5300 (0.087 sec)\n",
      "INFO:tensorflow:global_step/sec: 1089.94\n",
      "INFO:tensorflow:loss = 0.5104594, step = 5400 (0.092 sec)\n",
      "INFO:tensorflow:global_step/sec: 1129.94\n",
      "INFO:tensorflow:loss = 0.3529793, step = 5500 (0.089 sec)\n",
      "INFO:tensorflow:global_step/sec: 1086.4\n",
      "INFO:tensorflow:loss = 0.32558954, step = 5600 (0.092 sec)\n",
      "INFO:tensorflow:global_step/sec: 1099.91\n",
      "INFO:tensorflow:loss = 0.4725524, step = 5700 (0.091 sec)\n",
      "INFO:tensorflow:global_step/sec: 1088.86\n",
      "INFO:tensorflow:loss = 0.3520484, step = 5800 (0.092 sec)\n",
      "INFO:tensorflow:global_step/sec: 1161.57\n",
      "INFO:tensorflow:loss = 0.44940186, step = 5900 (0.086 sec)\n",
      "INFO:tensorflow:global_step/sec: 1113.47\n",
      "INFO:tensorflow:loss = 0.47324014, step = 6000 (0.090 sec)\n",
      "INFO:tensorflow:global_step/sec: 1127.19\n",
      "INFO:tensorflow:loss = 0.53747356, step = 6100 (0.089 sec)\n",
      "INFO:tensorflow:global_step/sec: 1010.92\n",
      "INFO:tensorflow:loss = 0.3851667, step = 6200 (0.099 sec)\n",
      "INFO:tensorflow:global_step/sec: 1039.89\n",
      "INFO:tensorflow:loss = 0.52536035, step = 6300 (0.096 sec)\n",
      "INFO:tensorflow:global_step/sec: 1099.61\n",
      "INFO:tensorflow:loss = 0.30915207, step = 6400 (0.091 sec)\n",
      "INFO:tensorflow:global_step/sec: 1071.35\n",
      "INFO:tensorflow:loss = 0.38833213, step = 6500 (0.093 sec)\n",
      "INFO:tensorflow:global_step/sec: 1093.8\n",
      "INFO:tensorflow:loss = 0.3251, step = 6600 (0.091 sec)\n",
      "INFO:tensorflow:global_step/sec: 1120.46\n",
      "INFO:tensorflow:loss = 0.38054055, step = 6700 (0.089 sec)\n",
      "INFO:tensorflow:global_step/sec: 1118.3\n",
      "INFO:tensorflow:loss = 0.45553246, step = 6800 (0.089 sec)\n",
      "INFO:tensorflow:global_step/sec: 1124.23\n",
      "INFO:tensorflow:loss = 0.37995613, step = 6900 (0.089 sec)\n",
      "INFO:tensorflow:global_step/sec: 1138.61\n",
      "INFO:tensorflow:loss = 0.44474652, step = 7000 (0.088 sec)\n",
      "INFO:tensorflow:global_step/sec: 1097.49\n",
      "INFO:tensorflow:loss = 0.47684819, step = 7100 (0.091 sec)\n",
      "INFO:tensorflow:global_step/sec: 1070.25\n",
      "INFO:tensorflow:loss = 0.3524407, step = 7200 (0.093 sec)\n",
      "INFO:tensorflow:global_step/sec: 1152.33\n",
      "INFO:tensorflow:loss = 0.23583212, step = 7300 (0.087 sec)\n",
      "INFO:tensorflow:global_step/sec: 1068.51\n",
      "INFO:tensorflow:loss = 0.31695902, step = 7400 (0.094 sec)\n",
      "INFO:tensorflow:global_step/sec: 1084.54\n",
      "INFO:tensorflow:loss = 0.36971724, step = 7500 (0.092 sec)\n",
      "INFO:tensorflow:global_step/sec: 1065.63\n",
      "INFO:tensorflow:loss = 0.44668758, step = 7600 (0.094 sec)\n",
      "INFO:tensorflow:global_step/sec: 1063.22\n",
      "INFO:tensorflow:loss = 0.50000024, step = 7700 (0.094 sec)\n",
      "INFO:tensorflow:global_step/sec: 1141.86\n",
      "INFO:tensorflow:loss = 0.28433806, step = 7800 (0.088 sec)\n"
     ]
    },
    {
     "name": "stdout",
     "output_type": "stream",
     "text": [
      "INFO:tensorflow:global_step/sec: 1181.09\n",
      "INFO:tensorflow:loss = 0.33046064, step = 7900 (0.085 sec)\n",
      "INFO:tensorflow:global_step/sec: 1109.65\n",
      "INFO:tensorflow:loss = 0.42803672, step = 8000 (0.090 sec)\n",
      "INFO:tensorflow:global_step/sec: 1105.56\n",
      "INFO:tensorflow:loss = 0.50734633, step = 8100 (0.090 sec)\n",
      "INFO:tensorflow:global_step/sec: 1130.4\n",
      "INFO:tensorflow:loss = 0.40394157, step = 8200 (0.088 sec)\n",
      "INFO:tensorflow:global_step/sec: 1099.94\n",
      "INFO:tensorflow:loss = 0.41526383, step = 8300 (0.091 sec)\n",
      "INFO:tensorflow:global_step/sec: 1061.95\n",
      "INFO:tensorflow:loss = 0.37339377, step = 8400 (0.094 sec)\n",
      "INFO:tensorflow:global_step/sec: 1097.65\n",
      "INFO:tensorflow:loss = 0.4203329, step = 8500 (0.091 sec)\n",
      "INFO:tensorflow:global_step/sec: 1035.34\n",
      "INFO:tensorflow:loss = 0.35299906, step = 8600 (0.097 sec)\n",
      "INFO:tensorflow:global_step/sec: 1108.62\n",
      "INFO:tensorflow:loss = 0.2604047, step = 8700 (0.090 sec)\n",
      "INFO:tensorflow:global_step/sec: 1073.05\n",
      "INFO:tensorflow:loss = 0.42295137, step = 8800 (0.093 sec)\n",
      "INFO:tensorflow:global_step/sec: 1088.98\n",
      "INFO:tensorflow:loss = 0.39478844, step = 8900 (0.092 sec)\n",
      "INFO:tensorflow:global_step/sec: 1088.91\n",
      "INFO:tensorflow:loss = 0.39967364, step = 9000 (0.092 sec)\n",
      "INFO:tensorflow:global_step/sec: 1074.66\n",
      "INFO:tensorflow:loss = 0.41936785, step = 9100 (0.093 sec)\n",
      "INFO:tensorflow:global_step/sec: 1095.21\n",
      "INFO:tensorflow:loss = 0.42750365, step = 9200 (0.091 sec)\n",
      "INFO:tensorflow:global_step/sec: 1165.09\n",
      "INFO:tensorflow:loss = 0.41738895, step = 9300 (0.086 sec)\n",
      "INFO:tensorflow:global_step/sec: 1167.7\n",
      "INFO:tensorflow:loss = 0.39889488, step = 9400 (0.086 sec)\n",
      "INFO:tensorflow:global_step/sec: 1036.76\n",
      "INFO:tensorflow:loss = 0.36938578, step = 9500 (0.096 sec)\n",
      "INFO:tensorflow:global_step/sec: 1088.72\n",
      "INFO:tensorflow:loss = 0.40339142, step = 9600 (0.092 sec)\n",
      "INFO:tensorflow:global_step/sec: 1090.21\n",
      "INFO:tensorflow:loss = 0.31910428, step = 9700 (0.092 sec)\n",
      "INFO:tensorflow:global_step/sec: 961.205\n",
      "INFO:tensorflow:loss = 0.35154885, step = 9800 (0.104 sec)\n",
      "INFO:tensorflow:global_step/sec: 1085.86\n",
      "INFO:tensorflow:loss = 0.36600885, step = 9900 (0.092 sec)\n",
      "INFO:tensorflow:Calling checkpoint listeners before saving checkpoint 10000...\n",
      "INFO:tensorflow:Saving checkpoints for 10000 into /tmp/tmpes4gcjav/model.ckpt.\n",
      "INFO:tensorflow:/tmp/tmpes4gcjav/model.ckpt-10000.data-00000-of-00001\n",
      "INFO:tensorflow:100\n",
      "INFO:tensorflow:/tmp/tmpes4gcjav/model.ckpt-10000.meta\n",
      "INFO:tensorflow:4200\n",
      "INFO:tensorflow:/tmp/tmpes4gcjav/model.ckpt-10000.index\n",
      "INFO:tensorflow:4200\n",
      "INFO:tensorflow:Calling checkpoint listeners after saving checkpoint 10000...\n",
      "INFO:tensorflow:Loss for final step: 0.6147017.\n"
     ]
    },
    {
     "data": {
      "text/plain": [
       "<tensorflow_estimator.python.estimator.canned.dnn.DNNClassifierV2 at 0x7f229062ffd0>"
      ]
     },
     "execution_count": 27,
     "metadata": {},
     "output_type": "execute_result"
    }
   ],
   "source": [
    "config = tf.estimator.RunConfig(tf_random_seed = 42)\n",
    "classificador = tf.estimator.DNNClassifier(hidden_units = [8, 8], feature_columns = colunas_rna, n_classes = 2, config = config)\n",
    "classificador.train(input_fn = funcao_treinamento, steps = 10000)"
   ]
  },
  {
   "cell_type": "code",
   "execution_count": 28,
   "metadata": {
    "ExecuteTime": {
     "end_time": "2022-06-20T23:36:42.322989Z",
     "start_time": "2022-06-20T23:36:42.320847Z"
    },
    "colab": {},
    "colab_type": "code",
    "executionInfo": {
     "elapsed": 31414,
     "status": "ok",
     "timestamp": 1599257358205,
     "user": {
      "displayName": "Denny Seccon",
      "photoUrl": "https://lh3.googleusercontent.com/a-/AOh14GgJKBMgIypXsiOd8ZOSskERpZBMuJN6csHlr9Wo=s64",
      "userId": "03904535882374894686"
     },
     "user_tz": 180
    },
    "id": "D0ZByrXoF8fZ"
   },
   "outputs": [],
   "source": [
    "funcao_teste = make_input_fn(X_teste, y_teste, num_epochs = 1, shuffle = False)"
   ]
  },
  {
   "cell_type": "code",
   "execution_count": 29,
   "metadata": {
    "ExecuteTime": {
     "end_time": "2022-06-20T23:36:44.751480Z",
     "start_time": "2022-06-20T23:36:42.324336Z"
    },
    "colab": {
     "base_uri": "https://localhost:8080/",
     "height": 395
    },
    "colab_type": "code",
    "executionInfo": {
     "elapsed": 34943,
     "status": "ok",
     "timestamp": 1599257361784,
     "user": {
      "displayName": "Denny Seccon",
      "photoUrl": "https://lh3.googleusercontent.com/a-/AOh14GgJKBMgIypXsiOd8ZOSskERpZBMuJN6csHlr9Wo=s64",
      "userId": "03904535882374894686"
     },
     "user_tz": 180
    },
    "id": "j1hFSEcHF8ff",
    "outputId": "75836683-d272-43c3-e196-2a9e253a731b"
   },
   "outputs": [
    {
     "name": "stdout",
     "output_type": "stream",
     "text": [
      "INFO:tensorflow:Calling model_fn.\n",
      "INFO:tensorflow:Done calling model_fn.\n",
      "INFO:tensorflow:Starting evaluation at 2022-06-20T20:36:43\n",
      "INFO:tensorflow:Graph was finalized.\n",
      "INFO:tensorflow:Restoring parameters from /tmp/tmpes4gcjav/model.ckpt-10000\n",
      "INFO:tensorflow:Running local_init_op.\n",
      "INFO:tensorflow:Done running local_init_op.\n",
      "INFO:tensorflow:Inference Time : 0.99315s\n",
      "INFO:tensorflow:Finished evaluation at 2022-06-20-20:36:44\n",
      "INFO:tensorflow:Saving dict for global step 10000: accuracy = 0.82249975, accuracy_baseline = 0.7631283, auc = 0.86699, auc_precision_recall = 0.6595437, average_loss = 0.38094103, global_step = 10000, label/mean = 0.23687173, loss = 0.38081697, precision = 0.67967784, prediction/mean = 0.24518996, recall = 0.47407088\n",
      "INFO:tensorflow:Saving 'checkpoint_path' summary for global step 10000: /tmp/tmpes4gcjav/model.ckpt-10000\n"
     ]
    },
    {
     "data": {
      "text/plain": [
       "{'accuracy': 0.82249975,\n",
       " 'accuracy_baseline': 0.7631283,\n",
       " 'auc': 0.86699,\n",
       " 'auc_precision_recall': 0.6595437,\n",
       " 'average_loss': 0.38094103,\n",
       " 'label/mean': 0.23687173,\n",
       " 'loss': 0.38081697,\n",
       " 'precision': 0.67967784,\n",
       " 'prediction/mean': 0.24518996,\n",
       " 'recall': 0.47407088,\n",
       " 'global_step': 10000}"
      ]
     },
     "execution_count": 29,
     "metadata": {},
     "output_type": "execute_result"
    }
   ],
   "source": [
    "classificador.evaluate(input_fn = funcao_teste, steps = 10000)"
   ]
  },
  {
   "cell_type": "markdown",
   "metadata": {
    "colab_type": "text",
    "id": "GA3EdrOrF8fn"
   },
   "source": [
    "https://towardsdatascience.com/how-to-normalize-features-in-tensorflow-5b7b0e3a4177"
   ]
  }
 ],
 "metadata": {
  "colab": {
   "collapsed_sections": [],
   "name": "5 rna_estimators_census.ipynb",
   "provenance": []
  },
  "kernelspec": {
   "display_name": "Python 3 (ipykernel)",
   "language": "python",
   "name": "python3"
  },
  "language_info": {
   "codemirror_mode": {
    "name": "ipython",
    "version": 3
   },
   "file_extension": ".py",
   "mimetype": "text/x-python",
   "name": "python",
   "nbconvert_exporter": "python",
   "pygments_lexer": "ipython3",
   "version": "3.8.10"
  }
 },
 "nbformat": 4,
 "nbformat_minor": 1
}
