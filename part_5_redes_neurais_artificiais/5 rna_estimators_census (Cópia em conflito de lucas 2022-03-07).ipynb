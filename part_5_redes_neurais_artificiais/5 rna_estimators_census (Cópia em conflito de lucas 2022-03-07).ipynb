{
 "cells": [
  {
   "cell_type": "code",
   "execution_count": 1,
   "metadata": {
    "colab": {
     "base_uri": "https://localhost:8080/",
     "height": 191
    },
    "colab_type": "code",
    "executionInfo": {
     "elapsed": 3241,
     "status": "ok",
     "timestamp": 1599257328211,
     "user": {
      "displayName": "Denny Seccon",
      "photoUrl": "https://lh3.googleusercontent.com/a-/AOh14GgJKBMgIypXsiOd8ZOSskERpZBMuJN6csHlr9Wo=s64",
      "userId": "03904535882374894686"
     },
     "user_tz": 180
    },
    "id": "G-9DqnoeF8ZK",
    "outputId": "26d4e7a0-8f87-48cf-c87a-4371e7701586"
   },
   "outputs": [
    {
     "data": {
      "text/html": [
       "<div>\n",
       "<style scoped>\n",
       "    .dataframe tbody tr th:only-of-type {\n",
       "        vertical-align: middle;\n",
       "    }\n",
       "\n",
       "    .dataframe tbody tr th {\n",
       "        vertical-align: top;\n",
       "    }\n",
       "\n",
       "    .dataframe thead th {\n",
       "        text-align: right;\n",
       "    }\n",
       "</style>\n",
       "<table border=\"1\" class=\"dataframe\">\n",
       "  <thead>\n",
       "    <tr style=\"text-align: right;\">\n",
       "      <th></th>\n",
       "      <th>age</th>\n",
       "      <th>workclass</th>\n",
       "      <th>final-weight</th>\n",
       "      <th>education</th>\n",
       "      <th>education-num</th>\n",
       "      <th>marital-status</th>\n",
       "      <th>occupation</th>\n",
       "      <th>relationship</th>\n",
       "      <th>race</th>\n",
       "      <th>sex</th>\n",
       "      <th>capital-gain</th>\n",
       "      <th>capital-loos</th>\n",
       "      <th>hour-per-week</th>\n",
       "      <th>native-country</th>\n",
       "      <th>income</th>\n",
       "    </tr>\n",
       "  </thead>\n",
       "  <tbody>\n",
       "    <tr>\n",
       "      <th>0</th>\n",
       "      <td>39</td>\n",
       "      <td>State-gov</td>\n",
       "      <td>77516</td>\n",
       "      <td>Bachelors</td>\n",
       "      <td>13</td>\n",
       "      <td>Never-married</td>\n",
       "      <td>Adm-clerical</td>\n",
       "      <td>Not-in-family</td>\n",
       "      <td>White</td>\n",
       "      <td>Male</td>\n",
       "      <td>2174</td>\n",
       "      <td>0</td>\n",
       "      <td>40</td>\n",
       "      <td>United-States</td>\n",
       "      <td>&lt;=50K</td>\n",
       "    </tr>\n",
       "    <tr>\n",
       "      <th>1</th>\n",
       "      <td>50</td>\n",
       "      <td>Self-emp-not-inc</td>\n",
       "      <td>83311</td>\n",
       "      <td>Bachelors</td>\n",
       "      <td>13</td>\n",
       "      <td>Married-civ-spouse</td>\n",
       "      <td>Exec-managerial</td>\n",
       "      <td>Husband</td>\n",
       "      <td>White</td>\n",
       "      <td>Male</td>\n",
       "      <td>0</td>\n",
       "      <td>0</td>\n",
       "      <td>13</td>\n",
       "      <td>United-States</td>\n",
       "      <td>&lt;=50K</td>\n",
       "    </tr>\n",
       "    <tr>\n",
       "      <th>2</th>\n",
       "      <td>38</td>\n",
       "      <td>Private</td>\n",
       "      <td>215646</td>\n",
       "      <td>HS-grad</td>\n",
       "      <td>9</td>\n",
       "      <td>Divorced</td>\n",
       "      <td>Handlers-cleaners</td>\n",
       "      <td>Not-in-family</td>\n",
       "      <td>White</td>\n",
       "      <td>Male</td>\n",
       "      <td>0</td>\n",
       "      <td>0</td>\n",
       "      <td>40</td>\n",
       "      <td>United-States</td>\n",
       "      <td>&lt;=50K</td>\n",
       "    </tr>\n",
       "    <tr>\n",
       "      <th>3</th>\n",
       "      <td>53</td>\n",
       "      <td>Private</td>\n",
       "      <td>234721</td>\n",
       "      <td>11th</td>\n",
       "      <td>7</td>\n",
       "      <td>Married-civ-spouse</td>\n",
       "      <td>Handlers-cleaners</td>\n",
       "      <td>Husband</td>\n",
       "      <td>Black</td>\n",
       "      <td>Male</td>\n",
       "      <td>0</td>\n",
       "      <td>0</td>\n",
       "      <td>40</td>\n",
       "      <td>United-States</td>\n",
       "      <td>&lt;=50K</td>\n",
       "    </tr>\n",
       "    <tr>\n",
       "      <th>4</th>\n",
       "      <td>28</td>\n",
       "      <td>Private</td>\n",
       "      <td>338409</td>\n",
       "      <td>Bachelors</td>\n",
       "      <td>13</td>\n",
       "      <td>Married-civ-spouse</td>\n",
       "      <td>Prof-specialty</td>\n",
       "      <td>Wife</td>\n",
       "      <td>Black</td>\n",
       "      <td>Female</td>\n",
       "      <td>0</td>\n",
       "      <td>0</td>\n",
       "      <td>40</td>\n",
       "      <td>Cuba</td>\n",
       "      <td>&lt;=50K</td>\n",
       "    </tr>\n",
       "  </tbody>\n",
       "</table>\n",
       "</div>"
      ],
      "text/plain": [
       "   age          workclass  final-weight   education  education-num  \\\n",
       "0   39          State-gov         77516   Bachelors             13   \n",
       "1   50   Self-emp-not-inc         83311   Bachelors             13   \n",
       "2   38            Private        215646     HS-grad              9   \n",
       "3   53            Private        234721        11th              7   \n",
       "4   28            Private        338409   Bachelors             13   \n",
       "\n",
       "        marital-status          occupation    relationship    race      sex  \\\n",
       "0        Never-married        Adm-clerical   Not-in-family   White     Male   \n",
       "1   Married-civ-spouse     Exec-managerial         Husband   White     Male   \n",
       "2             Divorced   Handlers-cleaners   Not-in-family   White     Male   \n",
       "3   Married-civ-spouse   Handlers-cleaners         Husband   Black     Male   \n",
       "4   Married-civ-spouse      Prof-specialty            Wife   Black   Female   \n",
       "\n",
       "   capital-gain  capital-loos  hour-per-week  native-country  income  \n",
       "0          2174             0             40   United-States   <=50K  \n",
       "1             0             0             13   United-States   <=50K  \n",
       "2             0             0             40   United-States   <=50K  \n",
       "3             0             0             40   United-States   <=50K  \n",
       "4             0             0             40            Cuba   <=50K  "
      ]
     },
     "execution_count": 1,
     "metadata": {},
     "output_type": "execute_result"
    }
   ],
   "source": [
    "import pandas as pd\n",
    "base = pd.read_csv('census.csv')\n",
    "base.head()"
   ]
  },
  {
   "cell_type": "code",
   "execution_count": 2,
   "metadata": {
    "colab": {
     "base_uri": "https://localhost:8080/",
     "height": 33
    },
    "colab_type": "code",
    "executionInfo": {
     "elapsed": 3181,
     "status": "ok",
     "timestamp": 1599257328215,
     "user": {
      "displayName": "Denny Seccon",
      "photoUrl": "https://lh3.googleusercontent.com/a-/AOh14GgJKBMgIypXsiOd8ZOSskERpZBMuJN6csHlr9Wo=s64",
      "userId": "03904535882374894686"
     },
     "user_tz": 180
    },
    "id": "l1HR0BpKF8Zh",
    "outputId": "a45dedb0-cb64-41ed-bb9c-2e41f48a7802"
   },
   "outputs": [
    {
     "data": {
      "text/plain": [
       "array([' <=50K', ' >50K'], dtype=object)"
      ]
     },
     "execution_count": 2,
     "metadata": {},
     "output_type": "execute_result"
    }
   ],
   "source": [
    "base.income.unique()"
   ]
  },
  {
   "cell_type": "code",
   "execution_count": 3,
   "metadata": {
    "colab": {},
    "colab_type": "code",
    "executionInfo": {
     "elapsed": 3146,
     "status": "ok",
     "timestamp": 1599257328225,
     "user": {
      "displayName": "Denny Seccon",
      "photoUrl": "https://lh3.googleusercontent.com/a-/AOh14GgJKBMgIypXsiOd8ZOSskERpZBMuJN6csHlr9Wo=s64",
      "userId": "03904535882374894686"
     },
     "user_tz": 180
    },
    "id": "YN2gz0QTF8Zy"
   },
   "outputs": [],
   "source": [
    "def converte_classe(rotulo):\n",
    "    if rotulo == ' >50K':\n",
    "        return 1\n",
    "    else:\n",
    "        return 0"
   ]
  },
  {
   "cell_type": "code",
   "execution_count": 4,
   "metadata": {
    "colab": {},
    "colab_type": "code",
    "executionInfo": {
     "elapsed": 3065,
     "status": "ok",
     "timestamp": 1599257328228,
     "user": {
      "displayName": "Denny Seccon",
      "photoUrl": "https://lh3.googleusercontent.com/a-/AOh14GgJKBMgIypXsiOd8ZOSskERpZBMuJN6csHlr9Wo=s64",
      "userId": "03904535882374894686"
     },
     "user_tz": 180
    },
    "id": "qdT44HkoF8aP"
   },
   "outputs": [],
   "source": [
    "base.income = base.income.apply(converte_classe)"
   ]
  },
  {
   "cell_type": "code",
   "execution_count": 5,
   "metadata": {
    "colab": {
     "base_uri": "https://localhost:8080/",
     "height": 191
    },
    "colab_type": "code",
    "executionInfo": {
     "elapsed": 3423,
     "status": "ok",
     "timestamp": 1599257328660,
     "user": {
      "displayName": "Denny Seccon",
      "photoUrl": "https://lh3.googleusercontent.com/a-/AOh14GgJKBMgIypXsiOd8ZOSskERpZBMuJN6csHlr9Wo=s64",
      "userId": "03904535882374894686"
     },
     "user_tz": 180
    },
    "id": "hJGSS1FWF8au",
    "outputId": "6e00e708-75d9-4ea3-c83a-e1d698c25290"
   },
   "outputs": [
    {
     "data": {
      "text/html": [
       "<div>\n",
       "<style scoped>\n",
       "    .dataframe tbody tr th:only-of-type {\n",
       "        vertical-align: middle;\n",
       "    }\n",
       "\n",
       "    .dataframe tbody tr th {\n",
       "        vertical-align: top;\n",
       "    }\n",
       "\n",
       "    .dataframe thead th {\n",
       "        text-align: right;\n",
       "    }\n",
       "</style>\n",
       "<table border=\"1\" class=\"dataframe\">\n",
       "  <thead>\n",
       "    <tr style=\"text-align: right;\">\n",
       "      <th></th>\n",
       "      <th>age</th>\n",
       "      <th>workclass</th>\n",
       "      <th>final-weight</th>\n",
       "      <th>education</th>\n",
       "      <th>education-num</th>\n",
       "      <th>marital-status</th>\n",
       "      <th>occupation</th>\n",
       "      <th>relationship</th>\n",
       "      <th>race</th>\n",
       "      <th>sex</th>\n",
       "      <th>capital-gain</th>\n",
       "      <th>capital-loos</th>\n",
       "      <th>hour-per-week</th>\n",
       "      <th>native-country</th>\n",
       "      <th>income</th>\n",
       "    </tr>\n",
       "  </thead>\n",
       "  <tbody>\n",
       "    <tr>\n",
       "      <th>0</th>\n",
       "      <td>39</td>\n",
       "      <td>State-gov</td>\n",
       "      <td>77516</td>\n",
       "      <td>Bachelors</td>\n",
       "      <td>13</td>\n",
       "      <td>Never-married</td>\n",
       "      <td>Adm-clerical</td>\n",
       "      <td>Not-in-family</td>\n",
       "      <td>White</td>\n",
       "      <td>Male</td>\n",
       "      <td>2174</td>\n",
       "      <td>0</td>\n",
       "      <td>40</td>\n",
       "      <td>United-States</td>\n",
       "      <td>0</td>\n",
       "    </tr>\n",
       "    <tr>\n",
       "      <th>1</th>\n",
       "      <td>50</td>\n",
       "      <td>Self-emp-not-inc</td>\n",
       "      <td>83311</td>\n",
       "      <td>Bachelors</td>\n",
       "      <td>13</td>\n",
       "      <td>Married-civ-spouse</td>\n",
       "      <td>Exec-managerial</td>\n",
       "      <td>Husband</td>\n",
       "      <td>White</td>\n",
       "      <td>Male</td>\n",
       "      <td>0</td>\n",
       "      <td>0</td>\n",
       "      <td>13</td>\n",
       "      <td>United-States</td>\n",
       "      <td>0</td>\n",
       "    </tr>\n",
       "    <tr>\n",
       "      <th>2</th>\n",
       "      <td>38</td>\n",
       "      <td>Private</td>\n",
       "      <td>215646</td>\n",
       "      <td>HS-grad</td>\n",
       "      <td>9</td>\n",
       "      <td>Divorced</td>\n",
       "      <td>Handlers-cleaners</td>\n",
       "      <td>Not-in-family</td>\n",
       "      <td>White</td>\n",
       "      <td>Male</td>\n",
       "      <td>0</td>\n",
       "      <td>0</td>\n",
       "      <td>40</td>\n",
       "      <td>United-States</td>\n",
       "      <td>0</td>\n",
       "    </tr>\n",
       "    <tr>\n",
       "      <th>3</th>\n",
       "      <td>53</td>\n",
       "      <td>Private</td>\n",
       "      <td>234721</td>\n",
       "      <td>11th</td>\n",
       "      <td>7</td>\n",
       "      <td>Married-civ-spouse</td>\n",
       "      <td>Handlers-cleaners</td>\n",
       "      <td>Husband</td>\n",
       "      <td>Black</td>\n",
       "      <td>Male</td>\n",
       "      <td>0</td>\n",
       "      <td>0</td>\n",
       "      <td>40</td>\n",
       "      <td>United-States</td>\n",
       "      <td>0</td>\n",
       "    </tr>\n",
       "    <tr>\n",
       "      <th>4</th>\n",
       "      <td>28</td>\n",
       "      <td>Private</td>\n",
       "      <td>338409</td>\n",
       "      <td>Bachelors</td>\n",
       "      <td>13</td>\n",
       "      <td>Married-civ-spouse</td>\n",
       "      <td>Prof-specialty</td>\n",
       "      <td>Wife</td>\n",
       "      <td>Black</td>\n",
       "      <td>Female</td>\n",
       "      <td>0</td>\n",
       "      <td>0</td>\n",
       "      <td>40</td>\n",
       "      <td>Cuba</td>\n",
       "      <td>0</td>\n",
       "    </tr>\n",
       "  </tbody>\n",
       "</table>\n",
       "</div>"
      ],
      "text/plain": [
       "   age          workclass  final-weight   education  education-num  \\\n",
       "0   39          State-gov         77516   Bachelors             13   \n",
       "1   50   Self-emp-not-inc         83311   Bachelors             13   \n",
       "2   38            Private        215646     HS-grad              9   \n",
       "3   53            Private        234721        11th              7   \n",
       "4   28            Private        338409   Bachelors             13   \n",
       "\n",
       "        marital-status          occupation    relationship    race      sex  \\\n",
       "0        Never-married        Adm-clerical   Not-in-family   White     Male   \n",
       "1   Married-civ-spouse     Exec-managerial         Husband   White     Male   \n",
       "2             Divorced   Handlers-cleaners   Not-in-family   White     Male   \n",
       "3   Married-civ-spouse   Handlers-cleaners         Husband   Black     Male   \n",
       "4   Married-civ-spouse      Prof-specialty            Wife   Black   Female   \n",
       "\n",
       "   capital-gain  capital-loos  hour-per-week  native-country  income  \n",
       "0          2174             0             40   United-States       0  \n",
       "1             0             0             13   United-States       0  \n",
       "2             0             0             40   United-States       0  \n",
       "3             0             0             40   United-States       0  \n",
       "4             0             0             40            Cuba       0  "
      ]
     },
     "execution_count": 5,
     "metadata": {},
     "output_type": "execute_result"
    }
   ],
   "source": [
    "base.head()"
   ]
  },
  {
   "cell_type": "code",
   "execution_count": 6,
   "metadata": {
    "colab": {},
    "colab_type": "code",
    "executionInfo": {
     "elapsed": 3255,
     "status": "ok",
     "timestamp": 1599257328663,
     "user": {
      "displayName": "Denny Seccon",
      "photoUrl": "https://lh3.googleusercontent.com/a-/AOh14GgJKBMgIypXsiOd8ZOSskERpZBMuJN6csHlr9Wo=s64",
      "userId": "03904535882374894686"
     },
     "user_tz": 180
    },
    "id": "4O8ZnCoHF8a8"
   },
   "outputs": [],
   "source": [
    "X = base.drop('income', axis = 1)\n",
    "y = base.income"
   ]
  },
  {
   "cell_type": "code",
   "execution_count": 7,
   "metadata": {
    "colab": {
     "base_uri": "https://localhost:8080/",
     "height": 191
    },
    "colab_type": "code",
    "executionInfo": {
     "elapsed": 3122,
     "status": "ok",
     "timestamp": 1599257328665,
     "user": {
      "displayName": "Denny Seccon",
      "photoUrl": "https://lh3.googleusercontent.com/a-/AOh14GgJKBMgIypXsiOd8ZOSskERpZBMuJN6csHlr9Wo=s64",
      "userId": "03904535882374894686"
     },
     "user_tz": 180
    },
    "id": "7cufU6iyF8bM",
    "outputId": "28d48553-4382-4a48-bc47-1cdcce421afd"
   },
   "outputs": [
    {
     "data": {
      "text/html": [
       "<div>\n",
       "<style scoped>\n",
       "    .dataframe tbody tr th:only-of-type {\n",
       "        vertical-align: middle;\n",
       "    }\n",
       "\n",
       "    .dataframe tbody tr th {\n",
       "        vertical-align: top;\n",
       "    }\n",
       "\n",
       "    .dataframe thead th {\n",
       "        text-align: right;\n",
       "    }\n",
       "</style>\n",
       "<table border=\"1\" class=\"dataframe\">\n",
       "  <thead>\n",
       "    <tr style=\"text-align: right;\">\n",
       "      <th></th>\n",
       "      <th>age</th>\n",
       "      <th>workclass</th>\n",
       "      <th>final-weight</th>\n",
       "      <th>education</th>\n",
       "      <th>education-num</th>\n",
       "      <th>marital-status</th>\n",
       "      <th>occupation</th>\n",
       "      <th>relationship</th>\n",
       "      <th>race</th>\n",
       "      <th>sex</th>\n",
       "      <th>capital-gain</th>\n",
       "      <th>capital-loos</th>\n",
       "      <th>hour-per-week</th>\n",
       "      <th>native-country</th>\n",
       "    </tr>\n",
       "  </thead>\n",
       "  <tbody>\n",
       "    <tr>\n",
       "      <th>0</th>\n",
       "      <td>39</td>\n",
       "      <td>State-gov</td>\n",
       "      <td>77516</td>\n",
       "      <td>Bachelors</td>\n",
       "      <td>13</td>\n",
       "      <td>Never-married</td>\n",
       "      <td>Adm-clerical</td>\n",
       "      <td>Not-in-family</td>\n",
       "      <td>White</td>\n",
       "      <td>Male</td>\n",
       "      <td>2174</td>\n",
       "      <td>0</td>\n",
       "      <td>40</td>\n",
       "      <td>United-States</td>\n",
       "    </tr>\n",
       "    <tr>\n",
       "      <th>1</th>\n",
       "      <td>50</td>\n",
       "      <td>Self-emp-not-inc</td>\n",
       "      <td>83311</td>\n",
       "      <td>Bachelors</td>\n",
       "      <td>13</td>\n",
       "      <td>Married-civ-spouse</td>\n",
       "      <td>Exec-managerial</td>\n",
       "      <td>Husband</td>\n",
       "      <td>White</td>\n",
       "      <td>Male</td>\n",
       "      <td>0</td>\n",
       "      <td>0</td>\n",
       "      <td>13</td>\n",
       "      <td>United-States</td>\n",
       "    </tr>\n",
       "    <tr>\n",
       "      <th>2</th>\n",
       "      <td>38</td>\n",
       "      <td>Private</td>\n",
       "      <td>215646</td>\n",
       "      <td>HS-grad</td>\n",
       "      <td>9</td>\n",
       "      <td>Divorced</td>\n",
       "      <td>Handlers-cleaners</td>\n",
       "      <td>Not-in-family</td>\n",
       "      <td>White</td>\n",
       "      <td>Male</td>\n",
       "      <td>0</td>\n",
       "      <td>0</td>\n",
       "      <td>40</td>\n",
       "      <td>United-States</td>\n",
       "    </tr>\n",
       "    <tr>\n",
       "      <th>3</th>\n",
       "      <td>53</td>\n",
       "      <td>Private</td>\n",
       "      <td>234721</td>\n",
       "      <td>11th</td>\n",
       "      <td>7</td>\n",
       "      <td>Married-civ-spouse</td>\n",
       "      <td>Handlers-cleaners</td>\n",
       "      <td>Husband</td>\n",
       "      <td>Black</td>\n",
       "      <td>Male</td>\n",
       "      <td>0</td>\n",
       "      <td>0</td>\n",
       "      <td>40</td>\n",
       "      <td>United-States</td>\n",
       "    </tr>\n",
       "    <tr>\n",
       "      <th>4</th>\n",
       "      <td>28</td>\n",
       "      <td>Private</td>\n",
       "      <td>338409</td>\n",
       "      <td>Bachelors</td>\n",
       "      <td>13</td>\n",
       "      <td>Married-civ-spouse</td>\n",
       "      <td>Prof-specialty</td>\n",
       "      <td>Wife</td>\n",
       "      <td>Black</td>\n",
       "      <td>Female</td>\n",
       "      <td>0</td>\n",
       "      <td>0</td>\n",
       "      <td>40</td>\n",
       "      <td>Cuba</td>\n",
       "    </tr>\n",
       "  </tbody>\n",
       "</table>\n",
       "</div>"
      ],
      "text/plain": [
       "   age          workclass  final-weight   education  education-num  \\\n",
       "0   39          State-gov         77516   Bachelors             13   \n",
       "1   50   Self-emp-not-inc         83311   Bachelors             13   \n",
       "2   38            Private        215646     HS-grad              9   \n",
       "3   53            Private        234721        11th              7   \n",
       "4   28            Private        338409   Bachelors             13   \n",
       "\n",
       "        marital-status          occupation    relationship    race      sex  \\\n",
       "0        Never-married        Adm-clerical   Not-in-family   White     Male   \n",
       "1   Married-civ-spouse     Exec-managerial         Husband   White     Male   \n",
       "2             Divorced   Handlers-cleaners   Not-in-family   White     Male   \n",
       "3   Married-civ-spouse   Handlers-cleaners         Husband   Black     Male   \n",
       "4   Married-civ-spouse      Prof-specialty            Wife   Black   Female   \n",
       "\n",
       "   capital-gain  capital-loos  hour-per-week  native-country  \n",
       "0          2174             0             40   United-States  \n",
       "1             0             0             13   United-States  \n",
       "2             0             0             40   United-States  \n",
       "3             0             0             40   United-States  \n",
       "4             0             0             40            Cuba  "
      ]
     },
     "execution_count": 7,
     "metadata": {},
     "output_type": "execute_result"
    }
   ],
   "source": [
    "X.head()"
   ]
  },
  {
   "cell_type": "code",
   "execution_count": 8,
   "metadata": {
    "colab": {
     "base_uri": "https://localhost:8080/",
     "height": 115
    },
    "colab_type": "code",
    "executionInfo": {
     "elapsed": 3045,
     "status": "ok",
     "timestamp": 1599257328668,
     "user": {
      "displayName": "Denny Seccon",
      "photoUrl": "https://lh3.googleusercontent.com/a-/AOh14GgJKBMgIypXsiOd8ZOSskERpZBMuJN6csHlr9Wo=s64",
      "userId": "03904535882374894686"
     },
     "user_tz": 180
    },
    "id": "FWGGU61RF8bh",
    "outputId": "4d390186-3eaa-49e4-b3cc-91e0b0865f96"
   },
   "outputs": [
    {
     "data": {
      "text/plain": [
       "0    0\n",
       "1    0\n",
       "2    0\n",
       "3    0\n",
       "4    0\n",
       "Name: income, dtype: int64"
      ]
     },
     "execution_count": 8,
     "metadata": {},
     "output_type": "execute_result"
    }
   ],
   "source": [
    "y.head()"
   ]
  },
  {
   "cell_type": "code",
   "execution_count": 9,
   "metadata": {
    "colab": {},
    "colab_type": "code",
    "executionInfo": {
     "elapsed": 3022,
     "status": "ok",
     "timestamp": 1599257328680,
     "user": {
      "displayName": "Denny Seccon",
      "photoUrl": "https://lh3.googleusercontent.com/a-/AOh14GgJKBMgIypXsiOd8ZOSskERpZBMuJN6csHlr9Wo=s64",
      "userId": "03904535882374894686"
     },
     "user_tz": 180
    },
    "id": "SevKCrzhF8br"
   },
   "outputs": [],
   "source": [
    "from sklearn.model_selection import train_test_split\n",
    "X_treinamento, X_teste, y_treinamento, y_teste = train_test_split(X, y, test_size = 0.3, random_state = 42)"
   ]
  },
  {
   "cell_type": "code",
   "execution_count": 10,
   "metadata": {
    "colab": {
     "base_uri": "https://localhost:8080/",
     "height": 33
    },
    "colab_type": "code",
    "executionInfo": {
     "elapsed": 2974,
     "status": "ok",
     "timestamp": 1599257328684,
     "user": {
      "displayName": "Denny Seccon",
      "photoUrl": "https://lh3.googleusercontent.com/a-/AOh14GgJKBMgIypXsiOd8ZOSskERpZBMuJN6csHlr9Wo=s64",
      "userId": "03904535882374894686"
     },
     "user_tz": 180
    },
    "id": "d8qsnFLNF8b9",
    "outputId": "fb8690c9-427d-4ae0-fea2-baae566c9c5a"
   },
   "outputs": [
    {
     "data": {
      "text/plain": [
       "(22792, 14)"
      ]
     },
     "execution_count": 10,
     "metadata": {},
     "output_type": "execute_result"
    }
   ],
   "source": [
    "X_treinamento.shape"
   ]
  },
  {
   "cell_type": "code",
   "execution_count": 11,
   "metadata": {
    "colab": {
     "base_uri": "https://localhost:8080/",
     "height": 33
    },
    "colab_type": "code",
    "executionInfo": {
     "elapsed": 2912,
     "status": "ok",
     "timestamp": 1599257328688,
     "user": {
      "displayName": "Denny Seccon",
      "photoUrl": "https://lh3.googleusercontent.com/a-/AOh14GgJKBMgIypXsiOd8ZOSskERpZBMuJN6csHlr9Wo=s64",
      "userId": "03904535882374894686"
     },
     "user_tz": 180
    },
    "id": "RO-HYqGkF8cJ",
    "outputId": "51b15961-1a32-41a2-947b-37a88f8255a6"
   },
   "outputs": [
    {
     "data": {
      "text/plain": [
       "(9769, 14)"
      ]
     },
     "execution_count": 11,
     "metadata": {},
     "output_type": "execute_result"
    }
   ],
   "source": [
    "X_teste.shape"
   ]
  },
  {
   "cell_type": "code",
   "execution_count": 12,
   "metadata": {
    "colab": {
     "base_uri": "https://localhost:8080/",
     "height": 98
    },
    "colab_type": "code",
    "executionInfo": {
     "elapsed": 2798,
     "status": "ok",
     "timestamp": 1599257328689,
     "user": {
      "displayName": "Denny Seccon",
      "photoUrl": "https://lh3.googleusercontent.com/a-/AOh14GgJKBMgIypXsiOd8ZOSskERpZBMuJN6csHlr9Wo=s64",
      "userId": "03904535882374894686"
     },
     "user_tz": 180
    },
    "id": "FSCXsdB4F8cV",
    "outputId": "86a44db0-f8d8-4a04-cf14-1571b9d553af"
   },
   "outputs": [
    {
     "data": {
      "text/plain": [
       "Index(['age', 'workclass', 'final-weight', 'education', 'education-num',\n",
       "       'marital-status', 'occupation', 'relationship', 'race', 'sex',\n",
       "       'capital-gain', 'capital-loos', 'hour-per-week', 'native-country',\n",
       "       'income'],\n",
       "      dtype='object')"
      ]
     },
     "execution_count": 12,
     "metadata": {},
     "output_type": "execute_result"
    }
   ],
   "source": [
    "base.columns"
   ]
  },
  {
   "cell_type": "code",
   "execution_count": 13,
   "metadata": {
    "colab": {
     "base_uri": "https://localhost:8080/",
     "height": 35
    },
    "colab_type": "code",
    "executionInfo": {
     "elapsed": 4587,
     "status": "ok",
     "timestamp": 1599257330578,
     "user": {
      "displayName": "Denny Seccon",
      "photoUrl": "https://lh3.googleusercontent.com/a-/AOh14GgJKBMgIypXsiOd8ZOSskERpZBMuJN6csHlr9Wo=s64",
      "userId": "03904535882374894686"
     },
     "user_tz": 180
    },
    "id": "Im-9IvlaF8cl",
    "outputId": "6c33e51d-cd12-442e-a63c-1be853ce9353"
   },
   "outputs": [
    {
     "name": "stderr",
     "output_type": "stream",
     "text": [
      "2022-03-07 22:01:50.954343: W tensorflow/stream_executor/platform/default/dso_loader.cc:64] Could not load dynamic library 'libcudart.so.11.0'; dlerror: libcudart.so.11.0: cannot open shared object file: No such file or directory\n",
      "2022-03-07 22:01:50.954373: I tensorflow/stream_executor/cuda/cudart_stub.cc:29] Ignore above cudart dlerror if you do not have a GPU set up on your machine.\n"
     ]
    },
    {
     "data": {
      "text/plain": [
       "'2.9.0-dev20220302'"
      ]
     },
     "execution_count": 13,
     "metadata": {},
     "output_type": "execute_result"
    }
   ],
   "source": [
    "import tensorflow as tf\n",
    "tf.__version__"
   ]
  },
  {
   "cell_type": "code",
   "execution_count": 14,
   "metadata": {
    "colab": {
     "base_uri": "https://localhost:8080/",
     "height": 66
    },
    "colab_type": "code",
    "executionInfo": {
     "elapsed": 4542,
     "status": "ok",
     "timestamp": 1599257330579,
     "user": {
      "displayName": "Denny Seccon",
      "photoUrl": "https://lh3.googleusercontent.com/a-/AOh14GgJKBMgIypXsiOd8ZOSskERpZBMuJN6csHlr9Wo=s64",
      "userId": "03904535882374894686"
     },
     "user_tz": 180
    },
    "id": "up17gGJIF8c1",
    "outputId": "ee2c2065-7664-4d17-ebb4-0502cfd6bfe3"
   },
   "outputs": [
    {
     "data": {
      "text/plain": [
       "array([' State-gov', ' Self-emp-not-inc', ' Private', ' Federal-gov',\n",
       "       ' Local-gov', ' ?', ' Self-emp-inc', ' Without-pay',\n",
       "       ' Never-worked'], dtype=object)"
      ]
     },
     "execution_count": 14,
     "metadata": {},
     "output_type": "execute_result"
    }
   ],
   "source": [
    "base.workclass.unique()"
   ]
  },
  {
   "cell_type": "code",
   "execution_count": 15,
   "metadata": {
    "colab": {},
    "colab_type": "code",
    "executionInfo": {
     "elapsed": 4515,
     "status": "ok",
     "timestamp": 1599257330580,
     "user": {
      "displayName": "Denny Seccon",
      "photoUrl": "https://lh3.googleusercontent.com/a-/AOh14GgJKBMgIypXsiOd8ZOSskERpZBMuJN6csHlr9Wo=s64",
      "userId": "03904535882374894686"
     },
     "user_tz": 180
    },
    "id": "OWMLWp5wF8dD"
   },
   "outputs": [],
   "source": [
    "workclass = tf.feature_column.categorical_column_with_hash_bucket(key = 'workclass', hash_bucket_size = 100)\n",
    "education = tf.feature_column.categorical_column_with_hash_bucket(key = 'education', hash_bucket_size = 100)\n",
    "marital_status = tf.feature_column.categorical_column_with_hash_bucket(key = 'marital-status', hash_bucket_size = 100)\n",
    "occupation = tf.feature_column.categorical_column_with_hash_bucket(key = 'occupation', hash_bucket_size = 100)\n",
    "relationship = tf.feature_column.categorical_column_with_hash_bucket(key = 'relationship', hash_bucket_size = 100)\n",
    "race = tf.feature_column.categorical_column_with_hash_bucket(key = 'race', hash_bucket_size = 100)\n",
    "country = tf.feature_column.categorical_column_with_hash_bucket(key = 'native-country', hash_bucket_size = 100)"
   ]
  },
  {
   "cell_type": "code",
   "execution_count": 16,
   "metadata": {
    "colab": {
     "base_uri": "https://localhost:8080/",
     "height": 33
    },
    "colab_type": "code",
    "executionInfo": {
     "elapsed": 4479,
     "status": "ok",
     "timestamp": 1599257330582,
     "user": {
      "displayName": "Denny Seccon",
      "photoUrl": "https://lh3.googleusercontent.com/a-/AOh14GgJKBMgIypXsiOd8ZOSskERpZBMuJN6csHlr9Wo=s64",
      "userId": "03904535882374894686"
     },
     "user_tz": 180
    },
    "id": "l8DL4HE3F8dO",
    "outputId": "2b493b9e-22e5-457e-c9ae-3dd589dddba0"
   },
   "outputs": [
    {
     "data": {
      "text/plain": [
       "array([' Male', ' Female'], dtype=object)"
      ]
     },
     "execution_count": 16,
     "metadata": {},
     "output_type": "execute_result"
    }
   ],
   "source": [
    "base.sex.unique()"
   ]
  },
  {
   "cell_type": "code",
   "execution_count": 17,
   "metadata": {
    "colab": {},
    "colab_type": "code",
    "executionInfo": {
     "elapsed": 4411,
     "status": "ok",
     "timestamp": 1599257330584,
     "user": {
      "displayName": "Denny Seccon",
      "photoUrl": "https://lh3.googleusercontent.com/a-/AOh14GgJKBMgIypXsiOd8ZOSskERpZBMuJN6csHlr9Wo=s64",
      "userId": "03904535882374894686"
     },
     "user_tz": 180
    },
    "id": "1MyIOPf3F8db"
   },
   "outputs": [],
   "source": [
    "sex = tf.feature_column.categorical_column_with_vocabulary_list(key = 'sex', vocabulary_list=[' Male', ' Female'])"
   ]
  },
  {
   "cell_type": "code",
   "execution_count": 18,
   "metadata": {
    "colab": {
     "base_uri": "https://localhost:8080/",
     "height": 33
    },
    "colab_type": "code",
    "executionInfo": {
     "elapsed": 4359,
     "status": "ok",
     "timestamp": 1599257330587,
     "user": {
      "displayName": "Denny Seccon",
      "photoUrl": "https://lh3.googleusercontent.com/a-/AOh14GgJKBMgIypXsiOd8ZOSskERpZBMuJN6csHlr9Wo=s64",
      "userId": "03904535882374894686"
     },
     "user_tz": 180
    },
    "id": "O0_wLLIKF8dp",
    "outputId": "52cdcef6-a23e-4773-fcfc-423f256af91c"
   },
   "outputs": [
    {
     "data": {
      "text/plain": [
       "38.58164675532078"
      ]
     },
     "execution_count": 18,
     "metadata": {},
     "output_type": "execute_result"
    }
   ],
   "source": [
    "base.age.mean()"
   ]
  },
  {
   "cell_type": "code",
   "execution_count": 19,
   "metadata": {
    "colab": {
     "base_uri": "https://localhost:8080/",
     "height": 33
    },
    "colab_type": "code",
    "executionInfo": {
     "elapsed": 4308,
     "status": "ok",
     "timestamp": 1599257330590,
     "user": {
      "displayName": "Denny Seccon",
      "photoUrl": "https://lh3.googleusercontent.com/a-/AOh14GgJKBMgIypXsiOd8ZOSskERpZBMuJN6csHlr9Wo=s64",
      "userId": "03904535882374894686"
     },
     "user_tz": 180
    },
    "id": "L31BTL7bF8d3",
    "outputId": "6f2c697e-f5e3-4b06-d98f-319c498e5cfa"
   },
   "outputs": [
    {
     "data": {
      "text/plain": [
       "13.640432553581341"
      ]
     },
     "execution_count": 19,
     "metadata": {},
     "output_type": "execute_result"
    }
   ],
   "source": [
    "base.age.std()"
   ]
  },
  {
   "cell_type": "code",
   "execution_count": 20,
   "metadata": {
    "colab": {},
    "colab_type": "code",
    "executionInfo": {
     "elapsed": 4260,
     "status": "ok",
     "timestamp": 1599257330591,
     "user": {
      "displayName": "Denny Seccon",
      "photoUrl": "https://lh3.googleusercontent.com/a-/AOh14GgJKBMgIypXsiOd8ZOSskERpZBMuJN6csHlr9Wo=s64",
      "userId": "03904535882374894686"
     },
     "user_tz": 180
    },
    "id": "mrIGfYD6F8eF"
   },
   "outputs": [],
   "source": [
    "def padroniza_age(valor):\n",
    "    return tf.divide(tf.subtract(tf.cast(valor, tf.float32), tf.constant(38.58)), tf.constant(13.64))\n",
    "\n",
    "def padroniza_finalweight(valor):\n",
    "    return tf.divide(tf.subtract(tf.cast(valor, tf.float32), tf.constant(189778.36)), tf.constant(105549.977))\n",
    "\n",
    "def padroniza_education(valor):\n",
    "    return tf.divide(tf.subtract(tf.cast(valor, tf.float32), tf.constant(10.08)), tf.constant(2.57))\n",
    "\n",
    "def padroniza_capitalgain(valor):\n",
    "    return tf.divide(tf.subtract(tf.cast(valor, tf.float32), tf.constant(1077.64)), tf.constant(7385.29))\n",
    "\n",
    "def padroniza_capitalloos(valor):\n",
    "    return tf.divide(tf.subtract(tf.cast(valor, tf.float32), tf.constant(87.30)), tf.constant(402.96))\n",
    "\n",
    "def padroniza_hour(valor):\n",
    "    return tf.divide(tf.subtract(tf.cast(valor, tf.float32), tf.constant(40.43)), tf.constant(12.34))"
   ]
  },
  {
   "cell_type": "code",
   "execution_count": 21,
   "metadata": {
    "colab": {},
    "colab_type": "code",
    "executionInfo": {
     "elapsed": 4242,
     "status": "ok",
     "timestamp": 1599257330592,
     "user": {
      "displayName": "Denny Seccon",
      "photoUrl": "https://lh3.googleusercontent.com/a-/AOh14GgJKBMgIypXsiOd8ZOSskERpZBMuJN6csHlr9Wo=s64",
      "userId": "03904535882374894686"
     },
     "user_tz": 180
    },
    "id": "tBAyzcSzF8eM"
   },
   "outputs": [],
   "source": [
    "age = tf.feature_column.numeric_column(key = 'age', normalizer_fn = padroniza_age)\n",
    "final_weight = tf.feature_column.numeric_column(key = 'final-weight', normalizer_fn = padroniza_finalweight)\n",
    "education_num = tf.feature_column.numeric_column(key = 'education-num', normalizer_fn = padroniza_education)\n",
    "capital_gain = tf.feature_column.numeric_column(key = 'capital-gain', normalizer_fn = padroniza_capitalgain)\n",
    "capital_loos = tf.feature_column.numeric_column(key = 'capital-loos', normalizer_fn = padroniza_capitalloos)\n",
    "hour = tf.feature_column.numeric_column(key = 'hour-per-week', normalizer_fn = padroniza_hour)"
   ]
  },
  {
   "cell_type": "code",
   "execution_count": 23,
   "metadata": {
    "colab": {
     "base_uri": "https://localhost:8080/",
     "height": 33
    },
    "colab_type": "code",
    "executionInfo": {
     "elapsed": 4166,
     "status": "ok",
     "timestamp": 1599257330593,
     "user": {
      "displayName": "Denny Seccon",
      "photoUrl": "https://lh3.googleusercontent.com/a-/AOh14GgJKBMgIypXsiOd8ZOSskERpZBMuJN6csHlr9Wo=s64",
      "userId": "03904535882374894686"
     },
     "user_tz": 180
    },
    "id": "Xji61xBdF8eb",
    "outputId": "fb3d0fc7-5280-467a-b36f-8c62cfb6bb6a"
   },
   "outputs": [
    {
     "data": {
      "text/plain": [
       "9"
      ]
     },
     "execution_count": 23,
     "metadata": {},
     "output_type": "execute_result"
    }
   ],
   "source": [
    "len(base.workclass.unique())"
   ]
  },
  {
   "cell_type": "code",
   "execution_count": 24,
   "metadata": {
    "colab": {},
    "colab_type": "code",
    "executionInfo": {
     "elapsed": 4141,
     "status": "ok",
     "timestamp": 1599257330596,
     "user": {
      "displayName": "Denny Seccon",
      "photoUrl": "https://lh3.googleusercontent.com/a-/AOh14GgJKBMgIypXsiOd8ZOSskERpZBMuJN6csHlr9Wo=s64",
      "userId": "03904535882374894686"
     },
     "user_tz": 180
    },
    "id": "sVMug6PeF8en"
   },
   "outputs": [],
   "source": [
    "embedded_workclass = tf.feature_column.embedding_column(workclass, dimension = 9)\n",
    "embedded_education = tf.feature_column.embedding_column(education, dimension = len(base.education.unique()))\n",
    "embedded_marital = tf.feature_column.embedding_column(marital_status, dimension = len(base['marital-status'].unique()))\n",
    "embedded_occupation = tf.feature_column.embedding_column(occupation, dimension = len(base.occupation.unique()))\n",
    "embedded_relationship = tf.feature_column.embedding_column(relationship, dimension = len(base.relationship.unique()))\n",
    "embedded_race = tf.feature_column.embedding_column(race, dimension = len(base.race.unique()))\n",
    "embedded_sex = tf.feature_column.embedding_column(sex, dimension = len(base.sex.unique()))\n",
    "embedded_country = tf.feature_column.embedding_column(country, dimension = len(base['native-country'].unique()))"
   ]
  },
  {
   "cell_type": "code",
   "execution_count": 25,
   "metadata": {
    "colab": {},
    "colab_type": "code",
    "executionInfo": {
     "elapsed": 4097,
     "status": "ok",
     "timestamp": 1599257330597,
     "user": {
      "displayName": "Denny Seccon",
      "photoUrl": "https://lh3.googleusercontent.com/a-/AOh14GgJKBMgIypXsiOd8ZOSskERpZBMuJN6csHlr9Wo=s64",
      "userId": "03904535882374894686"
     },
     "user_tz": 180
    },
    "id": "-MlFlVNyF8fB"
   },
   "outputs": [],
   "source": [
    "colunas_rna = [age, embedded_workclass, final_weight, embedded_education, education_num,\n",
    "               embedded_marital, embedded_occupation, embedded_relationship, \n",
    "               embedded_race, embedded_sex,\n",
    "               capital_gain, capital_loos, hour, embedded_country]"
   ]
  },
  {
   "cell_type": "code",
   "execution_count": 26,
   "metadata": {
    "colab": {},
    "colab_type": "code",
    "executionInfo": {
     "elapsed": 4053,
     "status": "ok",
     "timestamp": 1599257330599,
     "user": {
      "displayName": "Denny Seccon",
      "photoUrl": "https://lh3.googleusercontent.com/a-/AOh14GgJKBMgIypXsiOd8ZOSskERpZBMuJN6csHlr9Wo=s64",
      "userId": "03904535882374894686"
     },
     "user_tz": 180
    },
    "id": "cuHN5IPtGmb8"
   },
   "outputs": [],
   "source": [
    "def make_input_fn(X, y = None, num_epochs = None, shuffle = True, batch_size=32):\n",
    "    def input_function():\n",
    "        ds = tf.data.Dataset.from_tensor_slices((dict(X), y))\n",
    "        if shuffle:\n",
    "            ds = ds.shuffle(1000)\n",
    "        ds = ds.batch(batch_size).repeat(num_epochs)\n",
    "        return ds\n",
    "    return input_function"
   ]
  },
  {
   "cell_type": "code",
   "execution_count": 27,
   "metadata": {
    "colab": {},
    "colab_type": "code",
    "executionInfo": {
     "elapsed": 3997,
     "status": "ok",
     "timestamp": 1599257330608,
     "user": {
      "displayName": "Denny Seccon",
      "photoUrl": "https://lh3.googleusercontent.com/a-/AOh14GgJKBMgIypXsiOd8ZOSskERpZBMuJN6csHlr9Wo=s64",
      "userId": "03904535882374894686"
     },
     "user_tz": 180
    },
    "id": "29iDnqWzGzSZ"
   },
   "outputs": [],
   "source": [
    "funcao_treinamento = make_input_fn(X_treinamento, y_treinamento)"
   ]
  },
  {
   "cell_type": "code",
   "execution_count": 28,
   "metadata": {
    "colab": {
     "base_uri": "https://localhost:8080/",
     "height": 1000
    },
    "colab_type": "code",
    "executionInfo": {
     "elapsed": 31466,
     "status": "ok",
     "timestamp": 1599257358200,
     "user": {
      "displayName": "Denny Seccon",
      "photoUrl": "https://lh3.googleusercontent.com/a-/AOh14GgJKBMgIypXsiOd8ZOSskERpZBMuJN6csHlr9Wo=s64",
      "userId": "03904535882374894686"
     },
     "user_tz": 180
    },
    "id": "jwMf56koF8fP",
    "outputId": "bd7d07e7-4c34-48f4-c238-1613231d70db"
   },
   "outputs": [
    {
     "name": "stdout",
     "output_type": "stream",
     "text": [
      "WARNING:tensorflow:Using temporary folder as model directory: /tmp/tmp62v9_r3t\n",
      "INFO:tensorflow:Using config: {'_model_dir': '/tmp/tmp62v9_r3t', '_tf_random_seed': 42, '_save_summary_steps': 100, '_save_checkpoints_steps': None, '_save_checkpoints_secs': 600, '_session_config': allow_soft_placement: true\n",
      "graph_options {\n",
      "  rewrite_options {\n",
      "    meta_optimizer_iterations: ONE\n",
      "  }\n",
      "}\n",
      ", '_keep_checkpoint_max': 5, '_keep_checkpoint_every_n_hours': 10000, '_log_step_count_steps': 100, '_train_distribute': None, '_device_fn': None, '_protocol': None, '_eval_distribute': None, '_experimental_distribute': None, '_experimental_max_worker_delay_secs': None, '_session_creation_timeout_secs': 7200, '_checkpoint_save_graph_def': True, '_service': None, '_cluster_spec': ClusterSpec({}), '_task_type': 'worker', '_task_id': 0, '_global_id_in_cluster': 0, '_master': '', '_evaluation_master': '', '_is_chief': True, '_num_ps_replicas': 0, '_num_worker_replicas': 1}\n",
      "WARNING:tensorflow:From /home/lucas/.local/lib/python3.8/site-packages/tensorflow/python/training/training_util.py:396: Variable.initialized_value (from tensorflow.python.ops.variables) is deprecated and will be removed in a future version.\n",
      "Instructions for updating:\n",
      "Use Variable.read_value. Variables in 2.X are initialized automatically both in eager and graph (inside tf.defun) contexts.\n"
     ]
    },
    {
     "name": "stderr",
     "output_type": "stream",
     "text": [
      "2022-03-07 22:02:58.471262: W tensorflow/stream_executor/platform/default/dso_loader.cc:64] Could not load dynamic library 'libcuda.so.1'; dlerror: libcuda.so.1: cannot open shared object file: No such file or directory\n",
      "2022-03-07 22:02:58.471307: W tensorflow/stream_executor/cuda/cuda_driver.cc:269] failed call to cuInit: UNKNOWN ERROR (303)\n",
      "2022-03-07 22:02:58.471336: I tensorflow/stream_executor/cuda/cuda_diagnostics.cc:156] kernel driver does not appear to be running on this host (lucas): /proc/driver/nvidia/version does not exist\n"
     ]
    },
    {
     "name": "stdout",
     "output_type": "stream",
     "text": [
      "INFO:tensorflow:Calling model_fn.\n",
      "WARNING:tensorflow:From /home/lucas/.local/lib/python3.8/site-packages/keras/optimizers/optimizer_v2/adagrad.py:86: calling Constant.__init__ (from tensorflow.python.ops.init_ops) with dtype is deprecated and will be removed in a future version.\n",
      "Instructions for updating:\n",
      "Call initializer instance with the dtype argument instead of passing it to the constructor\n",
      "INFO:tensorflow:Done calling model_fn.\n",
      "INFO:tensorflow:Create CheckpointSaverHook.\n",
      "INFO:tensorflow:Graph was finalized.\n",
      "INFO:tensorflow:Running local_init_op.\n"
     ]
    },
    {
     "name": "stderr",
     "output_type": "stream",
     "text": [
      "2022-03-07 22:03:00.978785: W tensorflow/core/common_runtime/forward_type_inference.cc:227] Type inference failed. This indicates an invalid graph that escaped type checking. Error message: INVALID_ARGUMENT: expected compatible input types, but input 1:\n",
      "type_id: TFT_OPTIONAL\n",
      "args {\n",
      "  type_id: TFT_PRODUCT\n",
      "  args {\n",
      "    type_id: TFT_TENSOR\n",
      "    args {\n",
      "      type_id: TFT_INT64\n",
      "    }\n",
      "  }\n",
      "}\n",
      " is neither a subtype nor a supertype of the combined inputs preceding it:\n",
      "type_id: TFT_OPTIONAL\n",
      "args {\n",
      "  type_id: TFT_PRODUCT\n",
      "  args {\n",
      "    type_id: TFT_TENSOR\n",
      "    args {\n",
      "      type_id: TFT_INT32\n",
      "    }\n",
      "  }\n",
      "}\n",
      "\n",
      "\twhile inferring type of node 'dnn/zero_fraction/cond/output/_18'\n"
     ]
    },
    {
     "name": "stdout",
     "output_type": "stream",
     "text": [
      "INFO:tensorflow:Done running local_init_op.\n",
      "INFO:tensorflow:Calling checkpoint listeners before saving checkpoint 0...\n",
      "INFO:tensorflow:Saving checkpoints for 0 into /tmp/tmp62v9_r3t/model.ckpt.\n",
      "INFO:tensorflow:/tmp/tmp62v9_r3t/model.ckpt-0.meta\n",
      "INFO:tensorflow:4100\n",
      "INFO:tensorflow:/tmp/tmp62v9_r3t/model.ckpt-0.index\n",
      "INFO:tensorflow:4100\n",
      "INFO:tensorflow:/tmp/tmp62v9_r3t/model.ckpt-0.data-00000-of-00001\n",
      "INFO:tensorflow:4200\n",
      "INFO:tensorflow:Calling checkpoint listeners after saving checkpoint 0...\n",
      "INFO:tensorflow:loss = 0.67846966, step = 0\n",
      "INFO:tensorflow:global_step/sec: 187.199\n",
      "INFO:tensorflow:loss = 0.641011, step = 100 (0.535 sec)\n",
      "WARNING:tensorflow:It seems that global step (tf.train.get_global_step) has not been increased. Current value (could be stable): 154 vs previous value: 154. You could increase the global step by passing tf.train.get_global_step() to Optimizer.apply_gradients or Optimizer.minimize.\n",
      "INFO:tensorflow:global_step/sec: 366.825\n",
      "INFO:tensorflow:loss = 0.61818624, step = 200 (0.273 sec)\n",
      "WARNING:tensorflow:It seems that global step (tf.train.get_global_step) has not been increased. Current value (could be stable): 202 vs previous value: 202. You could increase the global step by passing tf.train.get_global_step() to Optimizer.apply_gradients or Optimizer.minimize.\n",
      "INFO:tensorflow:global_step/sec: 441.751\n",
      "INFO:tensorflow:loss = 0.6073266, step = 300 (0.226 sec)\n",
      "INFO:tensorflow:global_step/sec: 404.424\n",
      "INFO:tensorflow:loss = 0.5919659, step = 400 (0.247 sec)\n",
      "INFO:tensorflow:global_step/sec: 446.282\n",
      "INFO:tensorflow:loss = 0.6071208, step = 500 (0.225 sec)\n",
      "INFO:tensorflow:global_step/sec: 429.703\n",
      "INFO:tensorflow:loss = 0.61996543, step = 600 (0.234 sec)\n",
      "INFO:tensorflow:global_step/sec: 463.684\n",
      "INFO:tensorflow:loss = 0.6287213, step = 700 (0.214 sec)\n",
      "INFO:tensorflow:global_step/sec: 449.546\n",
      "INFO:tensorflow:loss = 0.592767, step = 800 (0.223 sec)\n",
      "INFO:tensorflow:global_step/sec: 433.296\n",
      "INFO:tensorflow:loss = 0.5473638, step = 900 (0.231 sec)\n",
      "INFO:tensorflow:global_step/sec: 433.483\n",
      "INFO:tensorflow:loss = 0.53446496, step = 1000 (0.231 sec)\n",
      "INFO:tensorflow:global_step/sec: 426.207\n",
      "INFO:tensorflow:loss = 0.44462258, step = 1100 (0.234 sec)\n",
      "INFO:tensorflow:global_step/sec: 458.023\n",
      "INFO:tensorflow:loss = 0.53108656, step = 1200 (0.218 sec)\n",
      "INFO:tensorflow:global_step/sec: 429.849\n",
      "INFO:tensorflow:loss = 0.5668388, step = 1300 (0.233 sec)\n",
      "INFO:tensorflow:global_step/sec: 460.559\n",
      "INFO:tensorflow:loss = 0.5349909, step = 1400 (0.217 sec)\n",
      "INFO:tensorflow:global_step/sec: 415.161\n",
      "INFO:tensorflow:loss = 0.56939626, step = 1500 (0.241 sec)\n",
      "INFO:tensorflow:global_step/sec: 466.725\n",
      "INFO:tensorflow:loss = 0.51255727, step = 1600 (0.214 sec)\n",
      "INFO:tensorflow:global_step/sec: 431.28\n",
      "INFO:tensorflow:loss = 0.52722454, step = 1700 (0.232 sec)\n",
      "INFO:tensorflow:global_step/sec: 455.849\n",
      "INFO:tensorflow:loss = 0.54073274, step = 1800 (0.219 sec)\n",
      "INFO:tensorflow:global_step/sec: 438.932\n",
      "INFO:tensorflow:loss = 0.37089556, step = 1900 (0.228 sec)\n",
      "INFO:tensorflow:global_step/sec: 441.755\n",
      "INFO:tensorflow:loss = 0.48188114, step = 2000 (0.228 sec)\n",
      "INFO:tensorflow:global_step/sec: 441.981\n",
      "INFO:tensorflow:loss = 0.5206532, step = 2100 (0.225 sec)\n",
      "INFO:tensorflow:global_step/sec: 449.425\n",
      "INFO:tensorflow:loss = 0.4638157, step = 2200 (0.225 sec)\n",
      "INFO:tensorflow:global_step/sec: 452.95\n",
      "INFO:tensorflow:loss = 0.47662124, step = 2300 (0.218 sec)\n",
      "INFO:tensorflow:global_step/sec: 430.409\n",
      "INFO:tensorflow:loss = 0.4891312, step = 2400 (0.233 sec)\n",
      "INFO:tensorflow:global_step/sec: 463.371\n",
      "INFO:tensorflow:loss = 0.5561472, step = 2500 (0.216 sec)\n",
      "INFO:tensorflow:global_step/sec: 339.136\n",
      "INFO:tensorflow:loss = 0.45375696, step = 2600 (0.295 sec)\n",
      "INFO:tensorflow:global_step/sec: 421.893\n",
      "INFO:tensorflow:loss = 0.42334834, step = 2700 (0.237 sec)\n",
      "INFO:tensorflow:global_step/sec: 424.417\n",
      "INFO:tensorflow:loss = 0.41286016, step = 2800 (0.237 sec)\n",
      "INFO:tensorflow:global_step/sec: 484.094\n",
      "INFO:tensorflow:loss = 0.49319375, step = 2900 (0.205 sec)\n",
      "INFO:tensorflow:global_step/sec: 434.309\n",
      "INFO:tensorflow:loss = 0.4725096, step = 3000 (0.230 sec)\n",
      "INFO:tensorflow:global_step/sec: 449.587\n",
      "INFO:tensorflow:loss = 0.4160033, step = 3100 (0.222 sec)\n",
      "INFO:tensorflow:global_step/sec: 435.761\n",
      "INFO:tensorflow:loss = 0.4191815, step = 3200 (0.230 sec)\n",
      "INFO:tensorflow:global_step/sec: 436.027\n",
      "INFO:tensorflow:loss = 0.55790377, step = 3300 (0.229 sec)\n",
      "INFO:tensorflow:global_step/sec: 444.603\n",
      "INFO:tensorflow:loss = 0.37119478, step = 3400 (0.225 sec)\n",
      "INFO:tensorflow:global_step/sec: 438.821\n",
      "INFO:tensorflow:loss = 0.46143875, step = 3500 (0.228 sec)\n",
      "INFO:tensorflow:global_step/sec: 458.986\n",
      "INFO:tensorflow:loss = 0.53549397, step = 3600 (0.218 sec)\n",
      "INFO:tensorflow:global_step/sec: 408.041\n",
      "INFO:tensorflow:loss = 0.42414254, step = 3700 (0.251 sec)\n",
      "INFO:tensorflow:global_step/sec: 448.335\n",
      "INFO:tensorflow:loss = 0.5280776, step = 3800 (0.217 sec)\n",
      "INFO:tensorflow:global_step/sec: 427.066\n",
      "INFO:tensorflow:loss = 0.4146216, step = 3900 (0.234 sec)\n",
      "INFO:tensorflow:global_step/sec: 453.275\n",
      "INFO:tensorflow:loss = 0.43052274, step = 4000 (0.220 sec)\n",
      "INFO:tensorflow:global_step/sec: 413.107\n",
      "INFO:tensorflow:loss = 0.52079064, step = 4100 (0.242 sec)\n",
      "INFO:tensorflow:global_step/sec: 460.888\n",
      "INFO:tensorflow:loss = 0.38929552, step = 4200 (0.217 sec)\n",
      "INFO:tensorflow:global_step/sec: 466.715\n",
      "INFO:tensorflow:loss = 0.4214328, step = 4300 (0.214 sec)\n",
      "INFO:tensorflow:global_step/sec: 407.263\n",
      "INFO:tensorflow:loss = 0.53468955, step = 4400 (0.246 sec)\n",
      "INFO:tensorflow:global_step/sec: 451.912\n",
      "INFO:tensorflow:loss = 0.55230296, step = 4500 (0.221 sec)\n",
      "INFO:tensorflow:global_step/sec: 421.681\n",
      "INFO:tensorflow:loss = 0.28246507, step = 4600 (0.237 sec)\n",
      "INFO:tensorflow:global_step/sec: 472.925\n",
      "INFO:tensorflow:loss = 0.51071644, step = 4700 (0.211 sec)\n",
      "INFO:tensorflow:global_step/sec: 435.244\n",
      "INFO:tensorflow:loss = 0.48980582, step = 4800 (0.230 sec)\n",
      "INFO:tensorflow:global_step/sec: 474.295\n",
      "INFO:tensorflow:loss = 0.40493575, step = 4900 (0.211 sec)\n",
      "INFO:tensorflow:global_step/sec: 426.617\n",
      "INFO:tensorflow:loss = 0.35514468, step = 5000 (0.234 sec)\n",
      "INFO:tensorflow:global_step/sec: 468.293\n",
      "INFO:tensorflow:loss = 0.31712875, step = 5100 (0.214 sec)\n",
      "INFO:tensorflow:global_step/sec: 409.107\n",
      "INFO:tensorflow:loss = 0.46455026, step = 5200 (0.245 sec)\n",
      "INFO:tensorflow:global_step/sec: 426.976\n",
      "INFO:tensorflow:loss = 0.42769456, step = 5300 (0.234 sec)\n",
      "INFO:tensorflow:global_step/sec: 417.7\n",
      "INFO:tensorflow:loss = 0.5104595, step = 5400 (0.239 sec)\n",
      "INFO:tensorflow:global_step/sec: 441.913\n",
      "INFO:tensorflow:loss = 0.3529793, step = 5500 (0.226 sec)\n",
      "INFO:tensorflow:global_step/sec: 446.69\n",
      "INFO:tensorflow:loss = 0.32558954, step = 5600 (0.224 sec)\n",
      "INFO:tensorflow:global_step/sec: 461.958\n",
      "INFO:tensorflow:loss = 0.4725524, step = 5700 (0.217 sec)\n",
      "INFO:tensorflow:global_step/sec: 458.175\n",
      "INFO:tensorflow:loss = 0.3520484, step = 5800 (0.218 sec)\n",
      "INFO:tensorflow:global_step/sec: 428.432\n",
      "INFO:tensorflow:loss = 0.44940186, step = 5900 (0.235 sec)\n",
      "INFO:tensorflow:global_step/sec: 455.092\n",
      "INFO:tensorflow:loss = 0.47324014, step = 6000 (0.220 sec)\n",
      "INFO:tensorflow:global_step/sec: 434.691\n",
      "INFO:tensorflow:loss = 0.5374736, step = 6100 (0.229 sec)\n",
      "INFO:tensorflow:global_step/sec: 456.241\n",
      "INFO:tensorflow:loss = 0.3851667, step = 6200 (0.219 sec)\n",
      "INFO:tensorflow:global_step/sec: 399.506\n",
      "INFO:tensorflow:loss = 0.52536035, step = 6300 (0.250 sec)\n",
      "INFO:tensorflow:global_step/sec: 469.383\n",
      "INFO:tensorflow:loss = 0.30915207, step = 6400 (0.215 sec)\n",
      "INFO:tensorflow:global_step/sec: 453.003\n",
      "INFO:tensorflow:loss = 0.38833213, step = 6500 (0.219 sec)\n",
      "INFO:tensorflow:global_step/sec: 437.333\n",
      "INFO:tensorflow:loss = 0.3251, step = 6600 (0.228 sec)\n",
      "INFO:tensorflow:global_step/sec: 458.903\n",
      "INFO:tensorflow:loss = 0.38054055, step = 6700 (0.218 sec)\n",
      "INFO:tensorflow:global_step/sec: 415.713\n",
      "INFO:tensorflow:loss = 0.45553246, step = 6800 (0.240 sec)\n",
      "INFO:tensorflow:global_step/sec: 463.487\n",
      "INFO:tensorflow:loss = 0.37995613, step = 6900 (0.216 sec)\n",
      "INFO:tensorflow:global_step/sec: 417.833\n",
      "INFO:tensorflow:loss = 0.44474652, step = 7000 (0.239 sec)\n",
      "INFO:tensorflow:global_step/sec: 410.281\n",
      "INFO:tensorflow:loss = 0.47684819, step = 7100 (0.244 sec)\n",
      "INFO:tensorflow:global_step/sec: 415.003\n"
     ]
    },
    {
     "name": "stdout",
     "output_type": "stream",
     "text": [
      "INFO:tensorflow:loss = 0.3524407, step = 7200 (0.241 sec)\n",
      "INFO:tensorflow:global_step/sec: 448.969\n",
      "INFO:tensorflow:loss = 0.23583211, step = 7300 (0.223 sec)\n",
      "INFO:tensorflow:global_step/sec: 440.632\n",
      "INFO:tensorflow:loss = 0.31695902, step = 7400 (0.227 sec)\n",
      "INFO:tensorflow:global_step/sec: 455.314\n",
      "INFO:tensorflow:loss = 0.36971724, step = 7500 (0.219 sec)\n",
      "INFO:tensorflow:global_step/sec: 435.996\n",
      "INFO:tensorflow:loss = 0.4466876, step = 7600 (0.230 sec)\n",
      "INFO:tensorflow:global_step/sec: 449.62\n",
      "INFO:tensorflow:loss = 0.50000024, step = 7700 (0.222 sec)\n",
      "INFO:tensorflow:global_step/sec: 470.544\n",
      "INFO:tensorflow:loss = 0.28433806, step = 7800 (0.212 sec)\n",
      "INFO:tensorflow:global_step/sec: 441.379\n",
      "INFO:tensorflow:loss = 0.33046064, step = 7900 (0.227 sec)\n",
      "INFO:tensorflow:global_step/sec: 454.889\n",
      "INFO:tensorflow:loss = 0.42803672, step = 8000 (0.220 sec)\n",
      "INFO:tensorflow:global_step/sec: 413.54\n",
      "INFO:tensorflow:loss = 0.5073464, step = 8100 (0.242 sec)\n",
      "INFO:tensorflow:global_step/sec: 459.261\n",
      "INFO:tensorflow:loss = 0.40394157, step = 8200 (0.218 sec)\n",
      "INFO:tensorflow:global_step/sec: 432.598\n",
      "INFO:tensorflow:loss = 0.41526383, step = 8300 (0.231 sec)\n",
      "INFO:tensorflow:global_step/sec: 438.861\n",
      "INFO:tensorflow:loss = 0.37339377, step = 8400 (0.231 sec)\n",
      "INFO:tensorflow:global_step/sec: 416.327\n",
      "INFO:tensorflow:loss = 0.42033288, step = 8500 (0.237 sec)\n",
      "INFO:tensorflow:global_step/sec: 473.557\n",
      "INFO:tensorflow:loss = 0.35299906, step = 8600 (0.211 sec)\n",
      "INFO:tensorflow:global_step/sec: 455.089\n",
      "INFO:tensorflow:loss = 0.2604047, step = 8700 (0.219 sec)\n",
      "INFO:tensorflow:global_step/sec: 443.44\n",
      "INFO:tensorflow:loss = 0.42295137, step = 8800 (0.226 sec)\n",
      "INFO:tensorflow:global_step/sec: 438.004\n",
      "INFO:tensorflow:loss = 0.39478847, step = 8900 (0.231 sec)\n",
      "INFO:tensorflow:global_step/sec: 387.123\n",
      "INFO:tensorflow:loss = 0.3996736, step = 9000 (0.256 sec)\n",
      "INFO:tensorflow:global_step/sec: 463.208\n",
      "INFO:tensorflow:loss = 0.41936785, step = 9100 (0.216 sec)\n",
      "INFO:tensorflow:global_step/sec: 438.208\n",
      "INFO:tensorflow:loss = 0.42750365, step = 9200 (0.229 sec)\n",
      "INFO:tensorflow:global_step/sec: 471.376\n",
      "INFO:tensorflow:loss = 0.41738895, step = 9300 (0.212 sec)\n",
      "INFO:tensorflow:global_step/sec: 443.906\n",
      "INFO:tensorflow:loss = 0.39889488, step = 9400 (0.225 sec)\n",
      "INFO:tensorflow:global_step/sec: 461.749\n",
      "INFO:tensorflow:loss = 0.36938578, step = 9500 (0.217 sec)\n",
      "INFO:tensorflow:global_step/sec: 447.612\n",
      "INFO:tensorflow:loss = 0.40339142, step = 9600 (0.224 sec)\n",
      "INFO:tensorflow:global_step/sec: 448.378\n",
      "INFO:tensorflow:loss = 0.31910428, step = 9700 (0.222 sec)\n",
      "INFO:tensorflow:global_step/sec: 452.059\n",
      "INFO:tensorflow:loss = 0.35154882, step = 9800 (0.222 sec)\n",
      "INFO:tensorflow:global_step/sec: 419.002\n",
      "INFO:tensorflow:loss = 0.36600885, step = 9900 (0.238 sec)\n",
      "INFO:tensorflow:Calling checkpoint listeners before saving checkpoint 10000...\n",
      "INFO:tensorflow:Saving checkpoints for 10000 into /tmp/tmp62v9_r3t/model.ckpt.\n",
      "INFO:tensorflow:/tmp/tmp62v9_r3t/model.ckpt-10000.meta\n",
      "INFO:tensorflow:4100\n",
      "INFO:tensorflow:/tmp/tmp62v9_r3t/model.ckpt-10000.data-00000-of-00001\n",
      "INFO:tensorflow:4200\n",
      "INFO:tensorflow:/tmp/tmp62v9_r3t/model.ckpt-10000.index\n",
      "INFO:tensorflow:4200\n",
      "INFO:tensorflow:Calling checkpoint listeners after saving checkpoint 10000...\n",
      "INFO:tensorflow:Loss for final step: 0.61470175.\n"
     ]
    },
    {
     "data": {
      "text/plain": [
       "<tensorflow_estimator.python.estimator.canned.dnn.DNNClassifierV2 at 0x7f6fe4fca730>"
      ]
     },
     "execution_count": 28,
     "metadata": {},
     "output_type": "execute_result"
    }
   ],
   "source": [
    "config = tf.estimator.RunConfig(tf_random_seed = 42)\n",
    "classificador = tf.estimator.DNNClassifier(hidden_units = [8, 8], feature_columns = colunas_rna, n_classes = 2, config = config)\n",
    "classificador.train(input_fn = funcao_treinamento, steps = 10000)"
   ]
  },
  {
   "cell_type": "code",
   "execution_count": 29,
   "metadata": {
    "colab": {},
    "colab_type": "code",
    "executionInfo": {
     "elapsed": 31414,
     "status": "ok",
     "timestamp": 1599257358205,
     "user": {
      "displayName": "Denny Seccon",
      "photoUrl": "https://lh3.googleusercontent.com/a-/AOh14GgJKBMgIypXsiOd8ZOSskERpZBMuJN6csHlr9Wo=s64",
      "userId": "03904535882374894686"
     },
     "user_tz": 180
    },
    "id": "D0ZByrXoF8fZ"
   },
   "outputs": [],
   "source": [
    "funcao_teste = make_input_fn(X_teste, y_teste, num_epochs = 1, shuffle = False)"
   ]
  },
  {
   "cell_type": "code",
   "execution_count": 30,
   "metadata": {
    "colab": {
     "base_uri": "https://localhost:8080/",
     "height": 395
    },
    "colab_type": "code",
    "executionInfo": {
     "elapsed": 34943,
     "status": "ok",
     "timestamp": 1599257361784,
     "user": {
      "displayName": "Denny Seccon",
      "photoUrl": "https://lh3.googleusercontent.com/a-/AOh14GgJKBMgIypXsiOd8ZOSskERpZBMuJN6csHlr9Wo=s64",
      "userId": "03904535882374894686"
     },
     "user_tz": 180
    },
    "id": "j1hFSEcHF8ff",
    "outputId": "75836683-d272-43c3-e196-2a9e253a731b"
   },
   "outputs": [
    {
     "name": "stdout",
     "output_type": "stream",
     "text": [
      "INFO:tensorflow:Calling model_fn.\n",
      "INFO:tensorflow:Done calling model_fn.\n",
      "INFO:tensorflow:Starting evaluation at 2022-03-07T22:03:30\n",
      "INFO:tensorflow:Graph was finalized.\n",
      "INFO:tensorflow:Restoring parameters from /tmp/tmp62v9_r3t/model.ckpt-10000\n",
      "INFO:tensorflow:Running local_init_op.\n",
      "INFO:tensorflow:Done running local_init_op.\n",
      "INFO:tensorflow:Inference Time : 2.00146s\n",
      "INFO:tensorflow:Finished evaluation at 2022-03-07-22:03:32\n",
      "INFO:tensorflow:Saving dict for global step 10000: accuracy = 0.82249975, accuracy_baseline = 0.7631283, auc = 0.86699, auc_precision_recall = 0.6595437, average_loss = 0.38094103, global_step = 10000, label/mean = 0.23687173, loss = 0.38081697, precision = 0.67967784, prediction/mean = 0.24519, recall = 0.47407088\n",
      "INFO:tensorflow:Saving 'checkpoint_path' summary for global step 10000: /tmp/tmp62v9_r3t/model.ckpt-10000\n"
     ]
    },
    {
     "data": {
      "text/plain": [
       "{'accuracy': 0.82249975,\n",
       " 'accuracy_baseline': 0.7631283,\n",
       " 'auc': 0.86699,\n",
       " 'auc_precision_recall': 0.6595437,\n",
       " 'average_loss': 0.38094103,\n",
       " 'label/mean': 0.23687173,\n",
       " 'loss': 0.38081697,\n",
       " 'precision': 0.67967784,\n",
       " 'prediction/mean': 0.24519,\n",
       " 'recall': 0.47407088,\n",
       " 'global_step': 10000}"
      ]
     },
     "execution_count": 30,
     "metadata": {},
     "output_type": "execute_result"
    }
   ],
   "source": [
    "classificador.evaluate(input_fn = funcao_teste, steps = 10000)"
   ]
  },
  {
   "cell_type": "markdown",
   "metadata": {
    "colab_type": "text",
    "id": "GA3EdrOrF8fn"
   },
   "source": [
    "https://towardsdatascience.com/how-to-normalize-features-in-tensorflow-5b7b0e3a4177"
   ]
  }
 ],
 "metadata": {
  "colab": {
   "collapsed_sections": [],
   "name": "5 rna_estimators_census.ipynb",
   "provenance": []
  },
  "kernelspec": {
   "display_name": "Python 3 (ipykernel)",
   "language": "python",
   "name": "python3"
  },
  "language_info": {
   "codemirror_mode": {
    "name": "ipython",
    "version": 3
   },
   "file_extension": ".py",
   "mimetype": "text/x-python",
   "name": "python",
   "nbconvert_exporter": "python",
   "pygments_lexer": "ipython3",
   "version": "3.8.10"
  }
 },
 "nbformat": 4,
 "nbformat_minor": 1
}
