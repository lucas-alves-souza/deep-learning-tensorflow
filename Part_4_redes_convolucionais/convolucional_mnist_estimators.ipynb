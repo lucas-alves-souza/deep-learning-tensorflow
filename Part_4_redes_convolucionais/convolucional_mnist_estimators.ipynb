{
 "cells": [
  {
   "cell_type": "markdown",
   "metadata": {},
   "source": [
    "# CNN\n",
    "\n",
    "\n",
    "Redes Neurais Convolucionais \\\n",
    "Classificação de dígitos escritos a mão"
   ]
  },
  {
   "cell_type": "code",
   "execution_count": 2,
   "metadata": {
    "scrolled": true
   },
   "outputs": [
    {
     "name": "stdout",
     "output_type": "stream",
     "text": [
      "Collecting tensorflow_datasets\n",
      "  Downloading tensorflow_datasets-4.6.0-py3-none-any.whl (4.3 MB)\n",
      "\u001b[K     |████████████████████████████████| 4.3 MB 291 kB/s eta 0:00:01\n",
      "\u001b[?25hCollecting tqdm\n",
      "  Downloading tqdm-4.64.0-py2.py3-none-any.whl (78 kB)\n",
      "\u001b[K     |████████████████████████████████| 78 kB 338 kB/s eta 0:00:01\n",
      "\u001b[?25hCollecting toml\n",
      "  Using cached toml-0.10.2-py2.py3-none-any.whl (16 kB)\n",
      "Requirement already satisfied: absl-py in /home/lucas/.local/lib/python3.8/site-packages (from tensorflow_datasets) (1.0.0)\n",
      "Requirement already satisfied: requests>=2.19.0 in /usr/lib/python3/dist-packages (from tensorflow_datasets) (2.22.0)\n",
      "Requirement already satisfied: protobuf>=3.12.2 in /home/lucas/.local/lib/python3.8/site-packages (from tensorflow_datasets) (3.19.4)\n",
      "Collecting dill\n",
      "  Downloading dill-0.3.5.1-py2.py3-none-any.whl (95 kB)\n",
      "\u001b[K     |████████████████████████████████| 95 kB 526 kB/s eta 0:00:01\n",
      "\u001b[?25hRequirement already satisfied: numpy in /home/lucas/.local/lib/python3.8/site-packages (from tensorflow_datasets) (1.22.4)\n",
      "Collecting promise\n",
      "  Downloading promise-2.3.tar.gz (19 kB)\n",
      "Requirement already satisfied: termcolor in /home/lucas/.local/lib/python3.8/site-packages (from tensorflow_datasets) (1.1.0)\n",
      "Requirement already satisfied: importlib-resources; python_version < \"3.9\" in /usr/local/lib/python3.8/dist-packages (from tensorflow_datasets) (5.7.1)\n",
      "Collecting etils[epath]\n",
      "  Downloading etils-0.6.0-py3-none-any.whl (98 kB)\n",
      "\u001b[K     |████████████████████████████████| 98 kB 472 kB/s eta 0:00:01\n",
      "\u001b[?25hCollecting tensorflow-metadata\n",
      "  Downloading tensorflow_metadata-1.9.0-py3-none-any.whl (51 kB)\n",
      "\u001b[K     |████████████████████████████████| 51 kB 393 kB/s eta 0:00:01\n",
      "\u001b[?25hRequirement already satisfied: six in /usr/lib/python3/dist-packages (from tensorflow_datasets) (1.14.0)\n",
      "Requirement already satisfied: zipp>=3.1.0; python_version < \"3.10\" in /usr/local/lib/python3.8/dist-packages (from importlib-resources; python_version < \"3.9\"->tensorflow_datasets) (3.8.0)\n",
      "Collecting googleapis-common-protos<2,>=1.52.0\n",
      "  Downloading googleapis_common_protos-1.56.3-py2.py3-none-any.whl (211 kB)\n",
      "\u001b[K     |████████████████████████████████| 211 kB 335 kB/s eta 0:00:01\n",
      "\u001b[?25hBuilding wheels for collected packages: promise\n",
      "  Building wheel for promise (setup.py) ... \u001b[?25ldone\n",
      "\u001b[?25h  Created wheel for promise: filename=promise-2.3-py3-none-any.whl size=21493 sha256=11d7699db5e1d00d2852754ccb2618081f533a291d5ed4b7a0ca18539cf0e000\n",
      "  Stored in directory: /home/lucas/.cache/pip/wheels/54/aa/01/724885182f93150035a2a91bce34a12877e8067a97baaf5dc8\n",
      "Successfully built promise\n",
      "Installing collected packages: tqdm, toml, dill, promise, etils, googleapis-common-protos, tensorflow-metadata, tensorflow-datasets\n",
      "Successfully installed dill-0.3.5.1 etils-0.6.0 googleapis-common-protos-1.56.3 promise-2.3 tensorflow-datasets-4.6.0 tensorflow-metadata-1.9.0 toml-0.10.2 tqdm-4.64.0\n"
     ]
    }
   ],
   "source": [
    "# !pip install tensorflow_datasets"
   ]
  },
  {
   "cell_type": "code",
   "execution_count": 3,
   "metadata": {
    "colab": {},
    "colab_type": "code",
    "executionInfo": {
     "elapsed": 2515,
     "status": "ok",
     "timestamp": 1599519489315,
     "user": {
      "displayName": "Denny Seccon",
      "photoUrl": "https://lh3.googleusercontent.com/a-/AOh14GgJKBMgIypXsiOd8ZOSskERpZBMuJN6csHlr9Wo=s64",
      "userId": "03904535882374894686"
     },
     "user_tz": 180
    },
    "id": "oj8-LWinJTxY"
   },
   "outputs": [
    {
     "name": "stderr",
     "output_type": "stream",
     "text": [
      "2022-06-23 22:15:56.068195: W tensorflow/stream_executor/platform/default/dso_loader.cc:64] Could not load dynamic library 'libcudart.so.11.0'; dlerror: libcudart.so.11.0: cannot open shared object file: No such file or directory\n",
      "2022-06-23 22:15:56.068225: I tensorflow/stream_executor/cuda/cudart_stub.cc:29] Ignore above cudart dlerror if you do not have a GPU set up on your machine.\n"
     ]
    }
   ],
   "source": [
    "import numpy as np\n",
    "import tensorflow_datasets as tfds"
   ]
  },
  {
   "cell_type": "markdown",
   "metadata": {
    "colab_type": "text",
    "id": "dD7lpUa6gO1G"
   },
   "source": [
    "Desta vez vou carregar os dados direto no formato de dataset, separado por split. O parâmetro `as_supervised` faz com que o iterador retorne tuplas no formato `(feature, label)`; se `False`, o iterator retorna itens no formato de dicionário contendo chaves `\"image\"` e `\"label\"`."
   ]
  },
  {
   "cell_type": "code",
   "execution_count": 4,
   "metadata": {
    "colab": {},
    "colab_type": "code",
    "executionInfo": {
     "elapsed": 2494,
     "status": "ok",
     "timestamp": 1599519489317,
     "user": {
      "displayName": "Denny Seccon",
      "photoUrl": "https://lh3.googleusercontent.com/a-/AOh14GgJKBMgIypXsiOd8ZOSskERpZBMuJN6csHlr9Wo=s64",
      "userId": "03904535882374894686"
     },
     "user_tz": 180
    },
    "id": "VQEwVHe1J2HB"
   },
   "outputs": [
    {
     "name": "stderr",
     "output_type": "stream",
     "text": [
      "2022-06-23 22:16:08.041556: W tensorflow/core/platform/cloud/google_auth_provider.cc:184] All attempts to get a Google authentication bearer token failed, returning an empty token. Retrieving token from files failed with \"NOT_FOUND: Could not locate the credentials file.\". Retrieving token from GCE failed with \"FAILED_PRECONDITION: Error executing an HTTP request: libcurl code 6 meaning 'Couldn't resolve host name', error details: Could not resolve host: metadata\".\n"
     ]
    },
    {
     "name": "stdout",
     "output_type": "stream",
     "text": [
      "\u001b[1mDownloading and preparing dataset 11.06 MiB (download: 11.06 MiB, generated: 21.00 MiB, total: 32.06 MiB) to ~/tensorflow_datasets/mnist/3.0.1...\u001b[0m\n"
     ]
    },
    {
     "data": {
      "application/vnd.jupyter.widget-view+json": {
       "model_id": "4e3740cbd64b4fa394b8537e6373fada",
       "version_major": 2,
       "version_minor": 0
      },
      "text/plain": [
       "Dl Completed...:   0%|          | 0/4 [00:00<?, ? file/s]"
      ]
     },
     "metadata": {},
     "output_type": "display_data"
    },
    {
     "name": "stdout",
     "output_type": "stream",
     "text": [
      "\u001b[1mDataset mnist downloaded and prepared to ~/tensorflow_datasets/mnist/3.0.1. Subsequent calls will reuse this data.\u001b[0m\n"
     ]
    },
    {
     "name": "stderr",
     "output_type": "stream",
     "text": [
      "2022-06-23 22:16:21.831931: W tensorflow/stream_executor/platform/default/dso_loader.cc:64] Could not load dynamic library 'libcuda.so.1'; dlerror: libcuda.so.1: cannot open shared object file: No such file or directory\n",
      "2022-06-23 22:16:21.831984: W tensorflow/stream_executor/cuda/cuda_driver.cc:269] failed call to cuInit: UNKNOWN ERROR (303)\n",
      "2022-06-23 22:16:21.832019: I tensorflow/stream_executor/cuda/cuda_diagnostics.cc:156] kernel driver does not appear to be running on this host (lucas): /proc/driver/nvidia/version does not exist\n"
     ]
    }
   ],
   "source": [
    "ds_train, info = tfds.load('mnist', split = 'train', as_supervised = True, with_info = True)"
   ]
  },
  {
   "cell_type": "code",
   "execution_count": 5,
   "metadata": {
    "colab": {
     "base_uri": "https://localhost:8080/",
     "height": 407
    },
    "colab_type": "code",
    "executionInfo": {
     "elapsed": 2447,
     "status": "ok",
     "timestamp": 1599519489320,
     "user": {
      "displayName": "Denny Seccon",
      "photoUrl": "https://lh3.googleusercontent.com/a-/AOh14GgJKBMgIypXsiOd8ZOSskERpZBMuJN6csHlr9Wo=s64",
      "userId": "03904535882374894686"
     },
     "user_tz": 180
    },
    "id": "E0RT7MeUnhIb",
    "outputId": "9e9f1aa9-200e-4f4e-c879-4f3d63b0163f"
   },
   "outputs": [
    {
     "data": {
      "text/plain": [
       "tfds.core.DatasetInfo(\n",
       "    name='mnist',\n",
       "    full_name='mnist/3.0.1',\n",
       "    description=\"\"\"\n",
       "    The MNIST database of handwritten digits.\n",
       "    \"\"\",\n",
       "    homepage='http://yann.lecun.com/exdb/mnist/',\n",
       "    data_path='~/tensorflow_datasets/mnist/3.0.1',\n",
       "    file_format=tfrecord,\n",
       "    download_size=11.06 MiB,\n",
       "    dataset_size=21.00 MiB,\n",
       "    features=FeaturesDict({\n",
       "        'image': Image(shape=(28, 28, 1), dtype=tf.uint8),\n",
       "        'label': ClassLabel(shape=(), dtype=tf.int64, num_classes=10),\n",
       "    }),\n",
       "    supervised_keys=('image', 'label'),\n",
       "    disable_shuffling=False,\n",
       "    splits={\n",
       "        'test': <SplitInfo num_examples=10000, num_shards=1>,\n",
       "        'train': <SplitInfo num_examples=60000, num_shards=1>,\n",
       "    },\n",
       "    citation=\"\"\"@article{lecun2010mnist,\n",
       "      title={MNIST handwritten digit database},\n",
       "      author={LeCun, Yann and Cortes, Corinna and Burges, CJ},\n",
       "      journal={ATT Labs [Online]. Available: http://yann.lecun.com/exdb/mnist},\n",
       "      volume={2},\n",
       "      year={2010}\n",
       "    }\"\"\",\n",
       ")"
      ]
     },
     "execution_count": 5,
     "metadata": {},
     "output_type": "execute_result"
    }
   ],
   "source": [
    "info"
   ]
  },
  {
   "cell_type": "code",
   "execution_count": 6,
   "metadata": {
    "colab": {
     "base_uri": "https://localhost:8080/",
     "height": 943
    },
    "colab_type": "code",
    "executionInfo": {
     "elapsed": 2384,
     "status": "ok",
     "timestamp": 1599519489322,
     "user": {
      "displayName": "Denny Seccon",
      "photoUrl": "https://lh3.googleusercontent.com/a-/AOh14GgJKBMgIypXsiOd8ZOSskERpZBMuJN6csHlr9Wo=s64",
      "userId": "03904535882374894686"
     },
     "user_tz": 180
    },
    "id": "i_EryZ7Jgwne",
    "outputId": "449db4a1-ff42-414b-9d35-debda34cd082"
   },
   "outputs": [
    {
     "name": "stdout",
     "output_type": "stream",
     "text": [
      "(28, 28, 1) 4\n",
      "[[  0   0   0   0   0   0   0   0   0   0   0   0   0   0   0   0   0   0\n",
      "    0   0   0   0   0   0   0   0   0   0]\n",
      " [  0   0   0   0   0   0   0   0   0   0   0   0   0   0   0   0   0   0\n",
      "    0   0   0   0   0   0   0   0   0   0]\n",
      " [  0   0   0   0   0   0   0   0   0   0   0   0   0   0   0   0   0   0\n",
      "    0   0   0   0   0   0   0   0   0   0]\n",
      " [  0   0   0   0   0   0   0   0   0   0   0   0   0   0   0   0   0   0\n",
      "    0   0   0   0   0   0   0   0   0   0]\n",
      " [  0   0   0   0   0   0   0   0   0   0   0   0   0   0   0   0   0   0\n",
      "    0   0   0   0   0   0   0   0   0   0]\n",
      " [  0   0   0   0   0   0   0   0   0   0   0   0   0   0   0   0   0  84\n",
      "  254 101   0   0   0   0   0   0   0   0]\n",
      " [  0   0   0   0   0   0   0   0   0   0   0   0   0   0   0   0   0 174\n",
      "  253 119   0   0   0   0   0   0   0   0]\n",
      " [  0   0   0   0   0   0   0   0   0   0   0   0   0   0   0   0  31 247\n",
      "  202  29   0   0   0   0   0   0   0   0]\n",
      " [  0   0   0   0   0   0   0   0   0   1   1   0   0   0   0   0 141 253\n",
      "  168   0   0   0   0   0   0   0   0   0]\n",
      " [  0   0   0   0   0   0   0   0   0  66 208  56   0   0   0   0 186 253\n",
      "  120   0   0   0   0   0   0   0   0   0]\n",
      " [  0   0   0   0   0   0   0   0   0  57 253 119   0   0   0  28 249 240\n",
      "   25   0   0   0   0   0   0   0   0   0]\n",
      " [  0   0   0   0   0   0   0   0   0  34 253 119   0   0   0 109 254 197\n",
      "    0   0   0   0   0   0   0   0   0   0]\n",
      " [  0   0   0   0   0   0   0   0   0  53 253 119   0   0   0 135 254 133\n",
      "    0   0   0   0   0   0   0   0   0   0]\n",
      " [  0   0   0   0   0   0   0   0   0 133 254 119   0   0  27 240 255  35\n",
      "    0   0   0   0   0   0   0   0   0   0]\n",
      " [  0   0   0   0   0   0   0   0   7 235 253 208 151 169 215 253 206   2\n",
      "    0   0   0   0   0   0   0   0   0   0]\n",
      " [  0   0   0   0   0   0   0   0  97 253 253 253 254 253 253 253  86   0\n",
      "    0   0   0   0   0   0   0   0   0   0]\n",
      " [  0   0   0   0   0   0   0   0 150 244 145 119 101  82 253 253  14   0\n",
      "    0   0   0   0   0   0   0   0   0   0]\n",
      " [  0   0   0   0   0   0   0   0   0   0   0   0   0  84 254 172   0   0\n",
      "    0   0   0   0   0   0   0   0   0   0]\n",
      " [  0   0   0   0   0   0   0   0   0   0   0   0   0 174 253 119   0   0\n",
      "    0   0   0   0   0   0   0   0   0   0]\n",
      " [  0   0   0   0   0   0   0   0   0   0   0   0   0 237 252  56   0   0\n",
      "    0   0   0   0   0   0   0   0   0   0]\n",
      " [  0   0   0   0   0   0   0   0   0   0   0   0  50 241 182   0   0   0\n",
      "    0   0   0   0   0   0   0   0   0   0]\n",
      " [  0   0   0   0   0   0   0   0   0   0   0   0 187 254 249 105   0   0\n",
      "    0   0   0   0   0   0   0   0   0   0]\n",
      " [  0   0   0   0   0   0   0   0   0   0   0   0 186 253 206  21   0   0\n",
      "    0   0   0   0   0   0   0   0   0   0]\n",
      " [  0   0   0   0   0   0   0   0   0   0   0   0 227 242  32   0   0   0\n",
      "    0   0   0   0   0   0   0   0   0   0]\n",
      " [  0   0   0   0   0   0   0   0   0   0   0   0 236 219   0   0   0   0\n",
      "    0   0   0   0   0   0   0   0   0   0]\n",
      " [  0   0   0   0   0   0   0   0   0   0   0   0   0   0   0   0   0   0\n",
      "    0   0   0   0   0   0   0   0   0   0]\n",
      " [  0   0   0   0   0   0   0   0   0   0   0   0   0   0   0   0   0   0\n",
      "    0   0   0   0   0   0   0   0   0   0]\n",
      " [  0   0   0   0   0   0   0   0   0   0   0   0   0   0   0   0   0   0\n",
      "    0   0   0   0   0   0   0   0   0   0]]\n"
     ]
    },
    {
     "name": "stderr",
     "output_type": "stream",
     "text": [
      "2022-06-23 22:17:26.267166: W tensorflow/core/kernels/data/cache_dataset_ops.cc:856] The calling iterator did not fully read the dataset being cached. In order to avoid unexpected truncation of the dataset, the partially cached contents of the dataset  will be discarded. This can happen if you have an input pipeline similar to `dataset.cache().take(k).repeat()`. You should use `dataset.take(k).cache().repeat()` instead.\n"
     ]
    }
   ],
   "source": [
    "for feature, label in ds_train.take(1):\n",
    "    print(feature.shape, label.numpy())\n",
    "    print(feature.numpy().reshape(28, 28))"
   ]
  },
  {
   "cell_type": "markdown",
   "metadata": {
    "colab_type": "text",
    "id": "AYf38m0noq2a"
   },
   "source": [
    "Como os pixels são inteiros entre 0 e 255, vou definir uma função para transformar os valores no dataset. Já que este dataset produz tuplas contendo (feature, label), a função precisa receber essas duas variáveis e retornar ambas as variáveis com as transformações cabíveis."
   ]
  },
  {
   "cell_type": "code",
   "execution_count": 7,
   "metadata": {
    "colab": {},
    "colab_type": "code",
    "executionInfo": {
     "elapsed": 3185,
     "status": "ok",
     "timestamp": 1599519490126,
     "user": {
      "displayName": "Denny Seccon",
      "photoUrl": "https://lh3.googleusercontent.com/a-/AOh14GgJKBMgIypXsiOd8ZOSskERpZBMuJN6csHlr9Wo=s64",
      "userId": "03904535882374894686"
     },
     "user_tz": 180
    },
    "id": "kOQLw2m-oqGf"
   },
   "outputs": [],
   "source": [
    "def transform(f, l):\n",
    "    return f/255, l"
   ]
  },
  {
   "cell_type": "code",
   "execution_count": 8,
   "metadata": {
    "colab": {},
    "colab_type": "code",
    "executionInfo": {
     "elapsed": 3178,
     "status": "ok",
     "timestamp": 1599519490129,
     "user": {
      "displayName": "Denny Seccon",
      "photoUrl": "https://lh3.googleusercontent.com/a-/AOh14GgJKBMgIypXsiOd8ZOSskERpZBMuJN6csHlr9Wo=s64",
      "userId": "03904535882374894686"
     },
     "user_tz": 180
    },
    "id": "HH2-WWUlooPp"
   },
   "outputs": [],
   "source": [
    "ds_train = ds_train.map(transform)"
   ]
  },
  {
   "cell_type": "code",
   "execution_count": 9,
   "metadata": {
    "colab": {
     "base_uri": "https://localhost:8080/",
     "height": 297
    },
    "colab_type": "code",
    "executionInfo": {
     "elapsed": 3142,
     "status": "ok",
     "timestamp": 1599519490132,
     "user": {
      "displayName": "Denny Seccon",
      "photoUrl": "https://lh3.googleusercontent.com/a-/AOh14GgJKBMgIypXsiOd8ZOSskERpZBMuJN6csHlr9Wo=s64",
      "userId": "03904535882374894686"
     },
     "user_tz": 180
    },
    "id": "v-pterBQJTyY",
    "outputId": "9b0f3c32-95ae-452b-9252-a65e6dca3f62"
   },
   "outputs": [
    {
     "data": {
      "text/plain": [
       "Text(0.5, 1.0, 'Classe: 4')"
      ]
     },
     "execution_count": 9,
     "metadata": {},
     "output_type": "execute_result"
    },
    {
     "data": {
      "image/png": "[encoded data removed]",
      "text/plain": [
       "<Figure size 432x288 with 1 Axes>"
      ]
     },
     "metadata": {
      "needs_background": "light"
     },
     "output_type": "display_data"
    }
   ],
   "source": [
    "import matplotlib.pyplot as plt\n",
    "plt.imshow(feature.numpy().reshape(28, 28), cmap = 'gray')\n",
    "plt.title('Classe: ' + str(label.numpy()))"
   ]
  },
  {
   "cell_type": "code",
   "execution_count": 10,
   "metadata": {
    "colab": {
     "base_uri": "https://localhost:8080/",
     "height": 35
    },
    "colab_type": "code",
    "executionInfo": {
     "elapsed": 3118,
     "status": "ok",
     "timestamp": 1599519490134,
     "user": {
      "displayName": "Denny Seccon",
      "photoUrl": "https://lh3.googleusercontent.com/a-/AOh14GgJKBMgIypXsiOd8ZOSskERpZBMuJN6csHlr9Wo=s64",
      "userId": "03904535882374894686"
     },
     "user_tz": 180
    },
    "id": "kJZiC8bQJTye",
    "outputId": "c74e8070-f9b6-40bb-e080-3b87c1e35669"
   },
   "outputs": [
    {
     "data": {
      "text/plain": [
       "'2.9.1'"
      ]
     },
     "execution_count": 10,
     "metadata": {},
     "output_type": "execute_result"
    }
   ],
   "source": [
    "import tensorflow as tf\n",
    "tf.random.set_seed(42)\n",
    "\n",
    "tf.__version__"
   ]
  },
  {
   "cell_type": "markdown",
   "metadata": {
    "colab_type": "text",
    "id": "IpchbvyRHGlJ"
   },
   "source": [
    "Segundo https://www.tensorflow.org/guide/migrate#using_a_keras_model_definition, no TF 2.x é recomendado usar o Keras para construir modelos. Desta forma, o modelo gerado já vai ser instância de uma classe apropriada, com os métodos necessários para encadeá-lo com outras classes do TF, e também vai definir quais são e acompanhar os parâmetros treináveis. O modelo pode então ser convertido diretamente para um estimador (como explicado no link), ou o estimador pode ser construído manualmente (conforme feito abaixo, na sequência)."
   ]
  },
  {
   "cell_type": "markdown",
   "metadata": {
    "colab_type": "text",
    "id": "wMe7GYrEWhGv"
   },
   "source": [
    "Tendo isso em mente, podemos implementar um modelo e realizar o treinamento de três formas diferentes, indo da mais verbosa (que permite um controle mais fino dos processos internos) à menos verbosa (quando o comportamento padrão do treinamento é suficiente). Vou implementar as três formas."
   ]
  },
  {
   "cell_type": "markdown",
   "metadata": {
    "colab_type": "text",
    "id": "xsTCdMkHW0_X"
   },
   "source": [
    "# 1. Forma mais verbosa\n",
    "\n",
    "Aqui, nós vamos definir uma classe para o modelo. A classe permite definir as camadas e as operações a serem realizadas. Documentação: https://www.tensorflow.org/api_docs/python/tf/keras/Model"
   ]
  },
  {
   "cell_type": "code",
   "execution_count": 11,
   "metadata": {
    "colab": {},
    "colab_type": "code",
    "executionInfo": {
     "elapsed": 3116,
     "status": "ok",
     "timestamp": 1599519490136,
     "user": {
      "displayName": "Denny Seccon",
      "photoUrl": "https://lh3.googleusercontent.com/a-/AOh14GgJKBMgIypXsiOd8ZOSskERpZBMuJN6csHlr9Wo=s64",
      "userId": "03904535882374894686"
     },
     "user_tz": 180
    },
    "id": "K5Sz5rUsXCG0"
   },
   "outputs": [],
   "source": [
    "class Model(tf.keras.Model):\n",
    "    def __init__(self):\n",
    "        super().__init__()\n",
    "        self.conv1 = tf.keras.layers.Conv2D(filters = 32, kernel_size = 5, strides = (1, 1), padding = 'same', activation = 'relu')\n",
    "        self.maxpool = tf.keras.layers.MaxPooling2D(pool_size = (2, 2), strides = 2)\n",
    "        self.conv2 = tf.keras.layers.Conv2D(filters = 64, kernel_size = 5, strides = (1, 1), padding = 'same')\n",
    "        self.flatten = tf.keras.layers.Flatten()\n",
    "        self.dense1 = tf.keras.layers.Dense(units = 1024, activation = 'relu')\n",
    "        self.dropout = tf.keras.layers.Dropout(rate = 0.2)\n",
    "        self.dense2 = tf.keras.layers.Dense(10)\n",
    "    \n",
    "    def call(self, inputs, training = False):\n",
    "        x = self.conv1(inputs)\n",
    "        x = self.maxpool(x)\n",
    "        x = self.conv2(x)\n",
    "        x = self.maxpool(x) # Apesar de estarmos chamando esta camada duas vezes, como ela não tem nenhum parâmetro treinável, podemos reutilizá-la\n",
    "        x = self.flatten(x)\n",
    "        x = self.dense1(x)\n",
    "        x = self.dropout(x, training = training)\n",
    "        x = self.dense2(x)\n",
    "\n",
    "        return x"
   ]
  },
  {
   "cell_type": "markdown",
   "metadata": {
    "colab_type": "text",
    "id": "CZnzf4_4Ygco"
   },
   "source": [
    "Neste caso, a função que produz o modelo vai retornar uma instância da classe."
   ]
  },
  {
   "cell_type": "code",
   "execution_count": 12,
   "metadata": {
    "colab": {},
    "colab_type": "code",
    "executionInfo": {
     "elapsed": 3114,
     "status": "ok",
     "timestamp": 1599519490137,
     "user": {
      "displayName": "Denny Seccon",
      "photoUrl": "https://lh3.googleusercontent.com/a-/AOh14GgJKBMgIypXsiOd8ZOSskERpZBMuJN6csHlr9Wo=s64",
      "userId": "03904535882374894686"
     },
     "user_tz": 180
    },
    "id": "lwMDlLnKYdIO"
   },
   "outputs": [],
   "source": [
    "def make_model():\n",
    "    return Model()"
   ]
  },
  {
   "cell_type": "markdown",
   "metadata": {
    "colab_type": "text",
    "id": "DNGdsQhpYrVg"
   },
   "source": [
    "Então, podemos definir uma função que vai retornar os `EstimatorSpec`s.\n",
    "\n",
    "Comparando com a implementação no TF 1.x, as alterações abaixo em `model_fn` foram baseadas em https://www.tensorflow.org/guide/migrate#custom_model_fn_with_tf_20_symbols."
   ]
  },
  {
   "cell_type": "code",
   "execution_count": 13,
   "metadata": {
    "colab": {},
    "colab_type": "code",
    "executionInfo": {
     "elapsed": 3111,
     "status": "ok",
     "timestamp": 1599519490138,
     "user": {
      "displayName": "Denny Seccon",
      "photoUrl": "https://lh3.googleusercontent.com/a-/AOh14GgJKBMgIypXsiOd8ZOSskERpZBMuJN6csHlr9Wo=s64",
      "userId": "03904535882374894686"
     },
     "user_tz": 180
    },
    "id": "QmW35B5JGJIH"
   },
   "outputs": [],
   "source": [
    "def model_fn(features, labels, mode):\n",
    "    model = make_model()\n",
    "    features = tf.cast(features, tf.float32)\n",
    "    out = model(features, training = (mode == tf.estimator.ModeKeys.TRAIN))\n",
    "    \n",
    "    if mode == tf.estimator.ModeKeys.TRAIN:\n",
    "        loss_obj = tf.keras.losses.SparseCategoricalCrossentropy(from_logits = True)\n",
    "        loss = loss_obj(labels, out)\n",
    "        optimizer = tf.keras.optimizers.Adam()\n",
    "        optimizer.iterations = tf.compat.v1.train.get_or_create_global_step()\n",
    "        train_op = optimizer.get_updates(loss, model.trainable_variables)[0]\n",
    "        return tf.estimator.EstimatorSpec(mode = mode, loss = loss, train_op = train_op)\n",
    "\n",
    "    if mode == tf.estimator.ModeKeys.EVAL:\n",
    "        predictions = tf.argmax(out, axis = 1)\n",
    "        loss_obj = tf.keras.losses.SparseCategoricalCrossentropy(from_logits = True)\n",
    "        loss = loss_obj(labels, out)\n",
    "        accuracy_obj = tf.keras.metrics.Accuracy()\n",
    "        accuracy_obj.update_state(y_true = labels, y_pred = predictions)\n",
    "        return tf.estimator.EstimatorSpec(mode = mode, loss = loss, eval_metric_ops = {'Accuracy': accuracy_obj})\n",
    "\n",
    "    if mode == tf.estimator.ModeKeys.PREDICT:\n",
    "        predictions = tf.argmax(out, axis = 1)\n",
    "        return tf.estimator.EstimatorSpec(mode = mode, predictions = predictions)"
   ]
  },
  {
   "cell_type": "code",
   "execution_count": 14,
   "metadata": {
    "colab": {
     "base_uri": "https://localhost:8080/",
     "height": 330
    },
    "colab_type": "code",
    "executionInfo": {
     "elapsed": 3090,
     "status": "ok",
     "timestamp": 1599519490140,
     "user": {
      "displayName": "Denny Seccon",
      "photoUrl": "https://lh3.googleusercontent.com/a-/AOh14GgJKBMgIypXsiOd8ZOSskERpZBMuJN6csHlr9Wo=s64",
      "userId": "03904535882374894686"
     },
     "user_tz": 180
    },
    "id": "DXNsjdH3v00m",
    "outputId": "4e9b71e4-34fc-42e6-97f6-f86207694c86"
   },
   "outputs": [
    {
     "name": "stdout",
     "output_type": "stream",
     "text": [
      "INFO:tensorflow:Using default config.\n"
     ]
    },
    {
     "name": "stderr",
     "output_type": "stream",
     "text": [
      "INFO:tensorflow:Using default config.\n"
     ]
    },
    {
     "name": "stdout",
     "output_type": "stream",
     "text": [
      "WARNING:tensorflow:Using temporary folder as model directory: /tmp/tmp1caeug4_\n"
     ]
    },
    {
     "name": "stderr",
     "output_type": "stream",
     "text": [
      "WARNING:tensorflow:Using temporary folder as model directory: /tmp/tmp1caeug4_\n"
     ]
    },
    {
     "name": "stdout",
     "output_type": "stream",
     "text": [
      "INFO:tensorflow:Using config: {'_model_dir': '/tmp/tmp1caeug4_', '_tf_random_seed': None, '_save_summary_steps': 100, '_save_checkpoints_steps': None, '_save_checkpoints_secs': 600, '_session_config': allow_soft_placement: true\n",
      "graph_options {\n",
      "  rewrite_options {\n",
      "    meta_optimizer_iterations: ONE\n",
      "  }\n",
      "}\n",
      ", '_keep_checkpoint_max': 5, '_keep_checkpoint_every_n_hours': 10000, '_log_step_count_steps': 100, '_train_distribute': None, '_device_fn': None, '_protocol': None, '_eval_distribute': None, '_experimental_distribute': None, '_experimental_max_worker_delay_secs': None, '_session_creation_timeout_secs': 7200, '_checkpoint_save_graph_def': True, '_service': None, '_cluster_spec': ClusterSpec({}), '_task_type': 'worker', '_task_id': 0, '_global_id_in_cluster': 0, '_master': '', '_evaluation_master': '', '_is_chief': True, '_num_ps_replicas': 0, '_num_worker_replicas': 1}\n"
     ]
    },
    {
     "name": "stderr",
     "output_type": "stream",
     "text": [
      "INFO:tensorflow:Using config: {'_model_dir': '/tmp/tmp1caeug4_', '_tf_random_seed': None, '_save_summary_steps': 100, '_save_checkpoints_steps': None, '_save_checkpoints_secs': 600, '_session_config': allow_soft_placement: true\n",
      "graph_options {\n",
      "  rewrite_options {\n",
      "    meta_optimizer_iterations: ONE\n",
      "  }\n",
      "}\n",
      ", '_keep_checkpoint_max': 5, '_keep_checkpoint_every_n_hours': 10000, '_log_step_count_steps': 100, '_train_distribute': None, '_device_fn': None, '_protocol': None, '_eval_distribute': None, '_experimental_distribute': None, '_experimental_max_worker_delay_secs': None, '_session_creation_timeout_secs': 7200, '_checkpoint_save_graph_def': True, '_service': None, '_cluster_spec': ClusterSpec({}), '_task_type': 'worker', '_task_id': 0, '_global_id_in_cluster': 0, '_master': '', '_evaluation_master': '', '_is_chief': True, '_num_ps_replicas': 0, '_num_worker_replicas': 1}\n"
     ]
    }
   ],
   "source": [
    "classificador = tf.estimator.Estimator(model_fn = model_fn)"
   ]
  },
  {
   "cell_type": "markdown",
   "metadata": {
    "colab_type": "text",
    "id": "mO8Dszf8H8l7"
   },
   "source": [
    "Para usar estimadores, o dataset precisa ser definido dentro de `input_fn`, por isso estou chamando `tfds.load` de novo."
   ]
  },
  {
   "cell_type": "code",
   "execution_count": 15,
   "metadata": {
    "colab": {},
    "colab_type": "code",
    "executionInfo": {
     "elapsed": 3087,
     "status": "ok",
     "timestamp": 1599519490141,
     "user": {
      "displayName": "Denny Seccon",
      "photoUrl": "https://lh3.googleusercontent.com/a-/AOh14GgJKBMgIypXsiOd8ZOSskERpZBMuJN6csHlr9Wo=s64",
      "userId": "03904535882374894686"
     },
     "user_tz": 180
    },
    "id": "xN5HZiF2jOVS"
   },
   "outputs": [],
   "source": [
    "def make_input_fn(dataset_split, num_epochs = None, shuffle = True, batch_size = 128):\n",
    "    def input_fn():\n",
    "        if dataset_split == 'train':\n",
    "            ds = tfds.load('mnist', split = 'train', as_supervised = True)\n",
    "        if dataset_split == 'test':\n",
    "            ds = tfds.load('mnist', split = 'test', as_supervised = True)\n",
    "        ds = ds.map(transform)\n",
    "        if shuffle:\n",
    "            ds = ds.shuffle(1000)\n",
    "        ds = ds.batch(batch_size).repeat(num_epochs)\n",
    "        return ds\n",
    "    return input_fn"
   ]
  },
  {
   "cell_type": "code",
   "execution_count": 16,
   "metadata": {
    "colab": {},
    "colab_type": "code",
    "executionInfo": {
     "elapsed": 3085,
     "status": "ok",
     "timestamp": 1599519490142,
     "user": {
      "displayName": "Denny Seccon",
      "photoUrl": "https://lh3.googleusercontent.com/a-/AOh14GgJKBMgIypXsiOd8ZOSskERpZBMuJN6csHlr9Wo=s64",
      "userId": "03904535882374894686"
     },
     "user_tz": 180
    },
    "id": "DscW8YwI7_UB"
   },
   "outputs": [],
   "source": [
    "train_fn = make_input_fn('train')"
   ]
  },
  {
   "cell_type": "code",
   "execution_count": 17,
   "metadata": {
    "colab": {
     "base_uri": "https://localhost:8080/",
     "height": 651
    },
    "colab_type": "code",
    "executionInfo": {
     "elapsed": 75747,
     "status": "ok",
     "timestamp": 1599519562824,
     "user": {
      "displayName": "Denny Seccon",
      "photoUrl": "https://lh3.googleusercontent.com/a-/AOh14GgJKBMgIypXsiOd8ZOSskERpZBMuJN6csHlr9Wo=s64",
      "userId": "03904535882374894686"
     },
     "user_tz": 180
    },
    "id": "xCBDPV-SjOdn",
    "outputId": "bcccb7e1-7d1e-401e-afd9-86ba6f17e704"
   },
   "outputs": [
    {
     "name": "stdout",
     "output_type": "stream",
     "text": [
      "WARNING:tensorflow:From /home/lucas/.local/lib/python3.8/site-packages/tensorflow/python/training/training_util.py:396: Variable.initialized_value (from tensorflow.python.ops.variables) is deprecated and will be removed in a future version.\n",
      "Instructions for updating:\n",
      "Use Variable.read_value. Variables in 2.X are initialized automatically both in eager and graph (inside tf.defun) contexts.\n"
     ]
    },
    {
     "name": "stderr",
     "output_type": "stream",
     "text": [
      "WARNING:tensorflow:From /home/lucas/.local/lib/python3.8/site-packages/tensorflow/python/training/training_util.py:396: Variable.initialized_value (from tensorflow.python.ops.variables) is deprecated and will be removed in a future version.\n",
      "Instructions for updating:\n",
      "Use Variable.read_value. Variables in 2.X are initialized automatically both in eager and graph (inside tf.defun) contexts.\n"
     ]
    },
    {
     "name": "stdout",
     "output_type": "stream",
     "text": [
      "INFO:tensorflow:Calling model_fn.\n"
     ]
    },
    {
     "name": "stderr",
     "output_type": "stream",
     "text": [
      "INFO:tensorflow:Calling model_fn.\n"
     ]
    },
    {
     "name": "stdout",
     "output_type": "stream",
     "text": [
      "INFO:tensorflow:Done calling model_fn.\n"
     ]
    },
    {
     "name": "stderr",
     "output_type": "stream",
     "text": [
      "INFO:tensorflow:Done calling model_fn.\n"
     ]
    },
    {
     "name": "stdout",
     "output_type": "stream",
     "text": [
      "INFO:tensorflow:Create CheckpointSaverHook.\n"
     ]
    },
    {
     "name": "stderr",
     "output_type": "stream",
     "text": [
      "INFO:tensorflow:Create CheckpointSaverHook.\n"
     ]
    },
    {
     "name": "stdout",
     "output_type": "stream",
     "text": [
      "INFO:tensorflow:Graph was finalized.\n"
     ]
    },
    {
     "name": "stderr",
     "output_type": "stream",
     "text": [
      "INFO:tensorflow:Graph was finalized.\n"
     ]
    },
    {
     "name": "stdout",
     "output_type": "stream",
     "text": [
      "INFO:tensorflow:Running local_init_op.\n"
     ]
    },
    {
     "name": "stderr",
     "output_type": "stream",
     "text": [
      "2022-06-23 22:17:44.158482: I tensorflow/compiler/mlir/mlir_graph_optimization_pass.cc:354] MLIR V1 optimization pass is not enabled\n",
      "INFO:tensorflow:Running local_init_op.\n"
     ]
    },
    {
     "name": "stdout",
     "output_type": "stream",
     "text": [
      "INFO:tensorflow:Done running local_init_op.\n"
     ]
    },
    {
     "name": "stderr",
     "output_type": "stream",
     "text": [
      "INFO:tensorflow:Done running local_init_op.\n"
     ]
    },
    {
     "name": "stdout",
     "output_type": "stream",
     "text": [
      "INFO:tensorflow:Calling checkpoint listeners before saving checkpoint 0...\n"
     ]
    },
    {
     "name": "stderr",
     "output_type": "stream",
     "text": [
      "INFO:tensorflow:Calling checkpoint listeners before saving checkpoint 0...\n"
     ]
    },
    {
     "name": "stdout",
     "output_type": "stream",
     "text": [
      "INFO:tensorflow:Saving checkpoints for 0 into /tmp/tmp1caeug4_/model.ckpt.\n"
     ]
    },
    {
     "name": "stderr",
     "output_type": "stream",
     "text": [
      "INFO:tensorflow:Saving checkpoints for 0 into /tmp/tmp1caeug4_/model.ckpt.\n"
     ]
    },
    {
     "name": "stdout",
     "output_type": "stream",
     "text": [
      "INFO:tensorflow:/tmp/tmp1caeug4_/model.ckpt-0.index\n"
     ]
    },
    {
     "name": "stderr",
     "output_type": "stream",
     "text": [
      "INFO:tensorflow:/tmp/tmp1caeug4_/model.ckpt-0.index\n"
     ]
    },
    {
     "name": "stdout",
     "output_type": "stream",
     "text": [
      "INFO:tensorflow:0\n"
     ]
    },
    {
     "name": "stderr",
     "output_type": "stream",
     "text": [
      "INFO:tensorflow:0\n"
     ]
    },
    {
     "name": "stdout",
     "output_type": "stream",
     "text": [
      "INFO:tensorflow:/tmp/tmp1caeug4_/model.ckpt-0.data-00000-of-00001\n"
     ]
    },
    {
     "name": "stderr",
     "output_type": "stream",
     "text": [
      "INFO:tensorflow:/tmp/tmp1caeug4_/model.ckpt-0.data-00000-of-00001\n"
     ]
    },
    {
     "name": "stdout",
     "output_type": "stream",
     "text": [
      "INFO:tensorflow:39300\n"
     ]
    },
    {
     "name": "stderr",
     "output_type": "stream",
     "text": [
      "INFO:tensorflow:39300\n"
     ]
    },
    {
     "name": "stdout",
     "output_type": "stream",
     "text": [
      "INFO:tensorflow:/tmp/tmp1caeug4_/model.ckpt-0.meta\n"
     ]
    },
    {
     "name": "stderr",
     "output_type": "stream",
     "text": [
      "INFO:tensorflow:/tmp/tmp1caeug4_/model.ckpt-0.meta\n"
     ]
    },
    {
     "name": "stdout",
     "output_type": "stream",
     "text": [
      "INFO:tensorflow:39400\n"
     ]
    },
    {
     "name": "stderr",
     "output_type": "stream",
     "text": [
      "INFO:tensorflow:39400\n"
     ]
    },
    {
     "name": "stdout",
     "output_type": "stream",
     "text": [
      "INFO:tensorflow:Calling checkpoint listeners after saving checkpoint 0...\n"
     ]
    },
    {
     "name": "stderr",
     "output_type": "stream",
     "text": [
      "INFO:tensorflow:Calling checkpoint listeners after saving checkpoint 0...\n"
     ]
    },
    {
     "name": "stdout",
     "output_type": "stream",
     "text": [
      "INFO:tensorflow:loss = 2.3100927, step = 0\n"
     ]
    },
    {
     "name": "stderr",
     "output_type": "stream",
     "text": [
      "INFO:tensorflow:loss = 2.3100927, step = 0\n"
     ]
    },
    {
     "name": "stdout",
     "output_type": "stream",
     "text": [
      "INFO:tensorflow:global_step/sec: 2.86068\n"
     ]
    },
    {
     "name": "stderr",
     "output_type": "stream",
     "text": [
      "INFO:tensorflow:global_step/sec: 2.86068\n"
     ]
    },
    {
     "name": "stdout",
     "output_type": "stream",
     "text": [
      "INFO:tensorflow:loss = 0.0892771, step = 100 (34.959 sec)\n"
     ]
    },
    {
     "name": "stderr",
     "output_type": "stream",
     "text": [
      "INFO:tensorflow:loss = 0.0892771, step = 100 (34.959 sec)\n"
     ]
    },
    {
     "name": "stdout",
     "output_type": "stream",
     "text": [
      "INFO:tensorflow:Calling checkpoint listeners before saving checkpoint 200...\n"
     ]
    },
    {
     "name": "stderr",
     "output_type": "stream",
     "text": [
      "INFO:tensorflow:Calling checkpoint listeners before saving checkpoint 200...\n"
     ]
    },
    {
     "name": "stdout",
     "output_type": "stream",
     "text": [
      "INFO:tensorflow:Saving checkpoints for 200 into /tmp/tmp1caeug4_/model.ckpt.\n"
     ]
    },
    {
     "name": "stderr",
     "output_type": "stream",
     "text": [
      "INFO:tensorflow:Saving checkpoints for 200 into /tmp/tmp1caeug4_/model.ckpt.\n"
     ]
    },
    {
     "name": "stdout",
     "output_type": "stream",
     "text": [
      "INFO:tensorflow:/tmp/tmp1caeug4_/model.ckpt-200.index\n"
     ]
    },
    {
     "name": "stderr",
     "output_type": "stream",
     "text": [
      "INFO:tensorflow:/tmp/tmp1caeug4_/model.ckpt-200.index\n"
     ]
    },
    {
     "name": "stdout",
     "output_type": "stream",
     "text": [
      "INFO:tensorflow:0\n"
     ]
    },
    {
     "name": "stderr",
     "output_type": "stream",
     "text": [
      "INFO:tensorflow:0\n"
     ]
    },
    {
     "name": "stdout",
     "output_type": "stream",
     "text": [
      "INFO:tensorflow:/tmp/tmp1caeug4_/model.ckpt-200.meta\n"
     ]
    },
    {
     "name": "stderr",
     "output_type": "stream",
     "text": [
      "INFO:tensorflow:/tmp/tmp1caeug4_/model.ckpt-200.meta\n"
     ]
    },
    {
     "name": "stdout",
     "output_type": "stream",
     "text": [
      "INFO:tensorflow:100\n"
     ]
    },
    {
     "name": "stderr",
     "output_type": "stream",
     "text": [
      "INFO:tensorflow:100\n"
     ]
    },
    {
     "name": "stdout",
     "output_type": "stream",
     "text": [
      "INFO:tensorflow:/tmp/tmp1caeug4_/model.ckpt-200.data-00000-of-00001\n"
     ]
    },
    {
     "name": "stderr",
     "output_type": "stream",
     "text": [
      "INFO:tensorflow:/tmp/tmp1caeug4_/model.ckpt-200.data-00000-of-00001\n"
     ]
    },
    {
     "name": "stdout",
     "output_type": "stream",
     "text": [
      "INFO:tensorflow:39400\n"
     ]
    },
    {
     "name": "stderr",
     "output_type": "stream",
     "text": [
      "INFO:tensorflow:39400\n"
     ]
    },
    {
     "name": "stdout",
     "output_type": "stream",
     "text": [
      "INFO:tensorflow:Calling checkpoint listeners after saving checkpoint 200...\n"
     ]
    },
    {
     "name": "stderr",
     "output_type": "stream",
     "text": [
      "INFO:tensorflow:Calling checkpoint listeners after saving checkpoint 200...\n"
     ]
    },
    {
     "name": "stdout",
     "output_type": "stream",
     "text": [
      "INFO:tensorflow:Loss for final step: 0.06753341.\n"
     ]
    },
    {
     "name": "stderr",
     "output_type": "stream",
     "text": [
      "2022-06-23 22:18:58.529090: W tensorflow/core/kernels/data/cache_dataset_ops.cc:856] The calling iterator did not fully read the dataset being cached. In order to avoid unexpected truncation of the dataset, the partially cached contents of the dataset  will be discarded. This can happen if you have an input pipeline similar to `dataset.cache().take(k).repeat()`. You should use `dataset.take(k).cache().repeat()` instead.\n",
      "INFO:tensorflow:Loss for final step: 0.06753341.\n"
     ]
    },
    {
     "data": {
      "text/plain": [
       "<tensorflow_estimator.python.estimator.estimator.EstimatorV2 at 0x7fe6ac314970>"
      ]
     },
     "execution_count": 17,
     "metadata": {},
     "output_type": "execute_result"
    }
   ],
   "source": [
    "classificador.train(input_fn = train_fn, steps = 200)"
   ]
  },
  {
   "cell_type": "code",
   "execution_count": 18,
   "metadata": {
    "colab": {
     "base_uri": "https://localhost:8080/",
     "height": 391
    },
    "colab_type": "code",
    "executionInfo": {
     "elapsed": 83627,
     "status": "ok",
     "timestamp": 1599519570738,
     "user": {
      "displayName": "Denny Seccon",
      "photoUrl": "https://lh3.googleusercontent.com/a-/AOh14GgJKBMgIypXsiOd8ZOSskERpZBMuJN6csHlr9Wo=s64",
      "userId": "03904535882374894686"
     },
     "user_tz": 180
    },
    "id": "AgqXcuYQI4Ns",
    "outputId": "4801f099-06b0-4e17-9501-a1591f96d64b"
   },
   "outputs": [
    {
     "name": "stdout",
     "output_type": "stream",
     "text": [
      "INFO:tensorflow:Calling model_fn.\n"
     ]
    },
    {
     "name": "stderr",
     "output_type": "stream",
     "text": [
      "INFO:tensorflow:Calling model_fn.\n"
     ]
    },
    {
     "name": "stdout",
     "output_type": "stream",
     "text": [
      "INFO:tensorflow:Done calling model_fn.\n"
     ]
    },
    {
     "name": "stderr",
     "output_type": "stream",
     "text": [
      "INFO:tensorflow:Done calling model_fn.\n"
     ]
    },
    {
     "name": "stdout",
     "output_type": "stream",
     "text": [
      "INFO:tensorflow:Starting evaluation at 2022-06-23T22:18:58\n"
     ]
    },
    {
     "name": "stderr",
     "output_type": "stream",
     "text": [
      "INFO:tensorflow:Starting evaluation at 2022-06-23T22:18:58\n"
     ]
    },
    {
     "name": "stdout",
     "output_type": "stream",
     "text": [
      "INFO:tensorflow:Graph was finalized.\n"
     ]
    },
    {
     "name": "stderr",
     "output_type": "stream",
     "text": [
      "INFO:tensorflow:Graph was finalized.\n"
     ]
    },
    {
     "name": "stdout",
     "output_type": "stream",
     "text": [
      "INFO:tensorflow:Restoring parameters from /tmp/tmp1caeug4_/model.ckpt-200\n"
     ]
    },
    {
     "name": "stderr",
     "output_type": "stream",
     "text": [
      "INFO:tensorflow:Restoring parameters from /tmp/tmp1caeug4_/model.ckpt-200\n"
     ]
    },
    {
     "name": "stdout",
     "output_type": "stream",
     "text": [
      "INFO:tensorflow:Running local_init_op.\n"
     ]
    },
    {
     "name": "stderr",
     "output_type": "stream",
     "text": [
      "INFO:tensorflow:Running local_init_op.\n"
     ]
    },
    {
     "name": "stdout",
     "output_type": "stream",
     "text": [
      "INFO:tensorflow:Done running local_init_op.\n"
     ]
    },
    {
     "name": "stderr",
     "output_type": "stream",
     "text": [
      "INFO:tensorflow:Done running local_init_op.\n"
     ]
    },
    {
     "name": "stdout",
     "output_type": "stream",
     "text": [
      "INFO:tensorflow:Inference Time : 9.64588s\n"
     ]
    },
    {
     "name": "stderr",
     "output_type": "stream",
     "text": [
      "INFO:tensorflow:Inference Time : 9.64588s\n"
     ]
    },
    {
     "name": "stdout",
     "output_type": "stream",
     "text": [
      "INFO:tensorflow:Finished evaluation at 2022-06-23-22:19:08\n"
     ]
    },
    {
     "name": "stderr",
     "output_type": "stream",
     "text": [
      "INFO:tensorflow:Finished evaluation at 2022-06-23-22:19:08\n"
     ]
    },
    {
     "name": "stdout",
     "output_type": "stream",
     "text": [
      "INFO:tensorflow:Saving dict for global step 200: Accuracy = 0.9793, global_step = 200, loss = 0.061320025\n"
     ]
    },
    {
     "name": "stderr",
     "output_type": "stream",
     "text": [
      "INFO:tensorflow:Saving dict for global step 200: Accuracy = 0.9793, global_step = 200, loss = 0.061320025\n"
     ]
    },
    {
     "name": "stdout",
     "output_type": "stream",
     "text": [
      "INFO:tensorflow:Saving 'checkpoint_path' summary for global step 200: /tmp/tmp1caeug4_/model.ckpt-200\n"
     ]
    },
    {
     "name": "stderr",
     "output_type": "stream",
     "text": [
      "INFO:tensorflow:Saving 'checkpoint_path' summary for global step 200: /tmp/tmp1caeug4_/model.ckpt-200\n"
     ]
    },
    {
     "data": {
      "text/plain": [
       "{'Accuracy': 0.9793, 'loss': 0.061320025, 'global_step': 200}"
      ]
     },
     "execution_count": 18,
     "metadata": {},
     "output_type": "execute_result"
    }
   ],
   "source": [
    "evaluate_fn = make_input_fn('test', num_epochs = 1, shuffle = False)\n",
    "results = classificador.evaluate(input_fn = evaluate_fn)\n",
    "results"
   ]
  },
  {
   "cell_type": "code",
   "execution_count": 19,
   "metadata": {
    "colab": {
     "base_uri": "https://localhost:8080/",
     "height": 228
    },
    "colab_type": "code",
    "executionInfo": {
     "elapsed": 91259,
     "status": "ok",
     "timestamp": 1599519578402,
     "user": {
      "displayName": "Denny Seccon",
      "photoUrl": "https://lh3.googleusercontent.com/a-/AOh14GgJKBMgIypXsiOd8ZOSskERpZBMuJN6csHlr9Wo=s64",
      "userId": "03904535882374894686"
     },
     "user_tz": 180
    },
    "id": "OWhiIemrtInf",
    "outputId": "ce5dfddb-28fd-45e4-85a4-8891fcbdfc00"
   },
   "outputs": [
    {
     "name": "stdout",
     "output_type": "stream",
     "text": [
      "INFO:tensorflow:Calling model_fn.\n"
     ]
    },
    {
     "name": "stderr",
     "output_type": "stream",
     "text": [
      "INFO:tensorflow:Calling model_fn.\n"
     ]
    },
    {
     "name": "stdout",
     "output_type": "stream",
     "text": [
      "INFO:tensorflow:Done calling model_fn.\n"
     ]
    },
    {
     "name": "stderr",
     "output_type": "stream",
     "text": [
      "INFO:tensorflow:Done calling model_fn.\n"
     ]
    },
    {
     "name": "stdout",
     "output_type": "stream",
     "text": [
      "INFO:tensorflow:Graph was finalized.\n"
     ]
    },
    {
     "name": "stderr",
     "output_type": "stream",
     "text": [
      "INFO:tensorflow:Graph was finalized.\n"
     ]
    },
    {
     "name": "stdout",
     "output_type": "stream",
     "text": [
      "INFO:tensorflow:Restoring parameters from /tmp/tmp1caeug4_/model.ckpt-200\n"
     ]
    },
    {
     "name": "stderr",
     "output_type": "stream",
     "text": [
      "INFO:tensorflow:Restoring parameters from /tmp/tmp1caeug4_/model.ckpt-200\n"
     ]
    },
    {
     "name": "stdout",
     "output_type": "stream",
     "text": [
      "INFO:tensorflow:Running local_init_op.\n"
     ]
    },
    {
     "name": "stderr",
     "output_type": "stream",
     "text": [
      "INFO:tensorflow:Running local_init_op.\n"
     ]
    },
    {
     "name": "stdout",
     "output_type": "stream",
     "text": [
      "INFO:tensorflow:Done running local_init_op.\n"
     ]
    },
    {
     "name": "stderr",
     "output_type": "stream",
     "text": [
      "INFO:tensorflow:Done running local_init_op.\n"
     ]
    },
    {
     "data": {
      "text/plain": [
       "[2, 0, 4, 8, 7, 6, 0, 6, 3, 1]"
      ]
     },
     "execution_count": 19,
     "metadata": {},
     "output_type": "execute_result"
    }
   ],
   "source": [
    "predict_fn = make_input_fn('test', num_epochs = 1, shuffle = False)\n",
    "preds = list(classificador.predict(input_fn = predict_fn))\n",
    "preds[:10]"
   ]
  },
  {
   "cell_type": "markdown",
   "metadata": {
    "colab_type": "text",
    "id": "NMnI6vCVZI2F"
   },
   "source": [
    "# 2. Forma \"meio\" verbosa\n",
    "\n",
    "Desta vez, vamos implementar o modelo não como instância de uma classe, mas usando o construtor `tf.keras.Sequential`."
   ]
  },
  {
   "cell_type": "code",
   "execution_count": 20,
   "metadata": {
    "colab": {},
    "colab_type": "code",
    "executionInfo": {
     "elapsed": 91240,
     "status": "ok",
     "timestamp": 1599519578410,
     "user": {
      "displayName": "Denny Seccon",
      "photoUrl": "https://lh3.googleusercontent.com/a-/AOh14GgJKBMgIypXsiOd8ZOSskERpZBMuJN6csHlr9Wo=s64",
      "userId": "03904535882374894686"
     },
     "user_tz": 180
    },
    "id": "yMlfG2uCAleR"
   },
   "outputs": [],
   "source": [
    "def make_model():\n",
    "    return tf.keras.Sequential([\n",
    "                                tf.keras.layers.Conv2D(filters = 32, kernel_size = 5, strides = (1, 1), padding = 'same', activation = 'relu', input_shape = (28, 28, 1)),\n",
    "                                tf.keras.layers.MaxPooling2D(pool_size = (2, 2), strides = 2),\n",
    "                                tf.keras.layers.Conv2D(filters = 64, kernel_size = 5, strides = (1, 1), padding = 'same'),\n",
    "                                tf.keras.layers.MaxPooling2D(pool_size = (2, 2), strides = 2), # Aqui, como as operações são realizadas na sequência, precisamos discriminar a segunda camada de MaxPooling\n",
    "                                tf.keras.layers.Flatten(),\n",
    "                                tf.keras.layers.Dense(units = 1024, activation = 'relu'),\n",
    "                                tf.keras.layers.Dropout(rate = 0.2),\n",
    "                                tf.keras.layers.Dense(10)\n",
    "    ])"
   ]
  },
  {
   "cell_type": "markdown",
   "metadata": {
    "colab_type": "text",
    "id": "HHpmWkfIG8bM"
   },
   "source": [
    "A função `model_fn` é idêntica, por isso podemos utilizar a mesma implementação."
   ]
  },
  {
   "cell_type": "code",
   "execution_count": 21,
   "metadata": {
    "colab": {
     "base_uri": "https://localhost:8080/",
     "height": 330
    },
    "colab_type": "code",
    "executionInfo": {
     "elapsed": 91218,
     "status": "ok",
     "timestamp": 1599519578412,
     "user": {
      "displayName": "Denny Seccon",
      "photoUrl": "https://lh3.googleusercontent.com/a-/AOh14GgJKBMgIypXsiOd8ZOSskERpZBMuJN6csHlr9Wo=s64",
      "userId": "03904535882374894686"
     },
     "user_tz": 180
    },
    "id": "JotZtRQnZ5Aw",
    "outputId": "2b596954-6134-4997-ec66-666c6f97d359"
   },
   "outputs": [
    {
     "name": "stdout",
     "output_type": "stream",
     "text": [
      "INFO:tensorflow:Using default config.\n"
     ]
    },
    {
     "name": "stderr",
     "output_type": "stream",
     "text": [
      "INFO:tensorflow:Using default config.\n"
     ]
    },
    {
     "name": "stdout",
     "output_type": "stream",
     "text": [
      "WARNING:tensorflow:Using temporary folder as model directory: /tmp/tmp3b82nc_j\n"
     ]
    },
    {
     "name": "stderr",
     "output_type": "stream",
     "text": [
      "WARNING:tensorflow:Using temporary folder as model directory: /tmp/tmp3b82nc_j\n"
     ]
    },
    {
     "name": "stdout",
     "output_type": "stream",
     "text": [
      "INFO:tensorflow:Using config: {'_model_dir': '/tmp/tmp3b82nc_j', '_tf_random_seed': None, '_save_summary_steps': 100, '_save_checkpoints_steps': None, '_save_checkpoints_secs': 600, '_session_config': allow_soft_placement: true\n",
      "graph_options {\n",
      "  rewrite_options {\n",
      "    meta_optimizer_iterations: ONE\n",
      "  }\n",
      "}\n",
      ", '_keep_checkpoint_max': 5, '_keep_checkpoint_every_n_hours': 10000, '_log_step_count_steps': 100, '_train_distribute': None, '_device_fn': None, '_protocol': None, '_eval_distribute': None, '_experimental_distribute': None, '_experimental_max_worker_delay_secs': None, '_session_creation_timeout_secs': 7200, '_checkpoint_save_graph_def': True, '_service': None, '_cluster_spec': ClusterSpec({}), '_task_type': 'worker', '_task_id': 0, '_global_id_in_cluster': 0, '_master': '', '_evaluation_master': '', '_is_chief': True, '_num_ps_replicas': 0, '_num_worker_replicas': 1}\n"
     ]
    },
    {
     "name": "stderr",
     "output_type": "stream",
     "text": [
      "INFO:tensorflow:Using config: {'_model_dir': '/tmp/tmp3b82nc_j', '_tf_random_seed': None, '_save_summary_steps': 100, '_save_checkpoints_steps': None, '_save_checkpoints_secs': 600, '_session_config': allow_soft_placement: true\n",
      "graph_options {\n",
      "  rewrite_options {\n",
      "    meta_optimizer_iterations: ONE\n",
      "  }\n",
      "}\n",
      ", '_keep_checkpoint_max': 5, '_keep_checkpoint_every_n_hours': 10000, '_log_step_count_steps': 100, '_train_distribute': None, '_device_fn': None, '_protocol': None, '_eval_distribute': None, '_experimental_distribute': None, '_experimental_max_worker_delay_secs': None, '_session_creation_timeout_secs': 7200, '_checkpoint_save_graph_def': True, '_service': None, '_cluster_spec': ClusterSpec({}), '_task_type': 'worker', '_task_id': 0, '_global_id_in_cluster': 0, '_master': '', '_evaluation_master': '', '_is_chief': True, '_num_ps_replicas': 0, '_num_worker_replicas': 1}\n"
     ]
    }
   ],
   "source": [
    "classificador = tf.estimator.Estimator(model_fn = model_fn)"
   ]
  },
  {
   "cell_type": "markdown",
   "metadata": {
    "colab_type": "text",
    "id": "oQrFeXnjZ2c0"
   },
   "source": [
    "As funções `train_fn`, `evaluate_fn` e `test_fn` também não mudam."
   ]
  },
  {
   "cell_type": "code",
   "execution_count": 22,
   "metadata": {
    "colab": {
     "base_uri": "https://localhost:8080/",
     "height": 553
    },
    "colab_type": "code",
    "executionInfo": {
     "elapsed": 163979,
     "status": "ok",
     "timestamp": 1599519651217,
     "user": {
      "displayName": "Denny Seccon",
      "photoUrl": "https://lh3.googleusercontent.com/a-/AOh14GgJKBMgIypXsiOd8ZOSskERpZBMuJN6csHlr9Wo=s64",
      "userId": "03904535882374894686"
     },
     "user_tz": 180
    },
    "id": "bWkxjp_paOvr",
    "outputId": "a4bc6fb3-2f1c-4c7b-a514-e3d95b2ab22d"
   },
   "outputs": [
    {
     "name": "stdout",
     "output_type": "stream",
     "text": [
      "INFO:tensorflow:Calling model_fn.\n"
     ]
    },
    {
     "name": "stderr",
     "output_type": "stream",
     "text": [
      "INFO:tensorflow:Calling model_fn.\n"
     ]
    },
    {
     "name": "stdout",
     "output_type": "stream",
     "text": [
      "INFO:tensorflow:Done calling model_fn.\n"
     ]
    },
    {
     "name": "stderr",
     "output_type": "stream",
     "text": [
      "INFO:tensorflow:Done calling model_fn.\n"
     ]
    },
    {
     "name": "stdout",
     "output_type": "stream",
     "text": [
      "INFO:tensorflow:Create CheckpointSaverHook.\n"
     ]
    },
    {
     "name": "stderr",
     "output_type": "stream",
     "text": [
      "INFO:tensorflow:Create CheckpointSaverHook.\n"
     ]
    },
    {
     "name": "stdout",
     "output_type": "stream",
     "text": [
      "INFO:tensorflow:Graph was finalized.\n"
     ]
    },
    {
     "name": "stderr",
     "output_type": "stream",
     "text": [
      "INFO:tensorflow:Graph was finalized.\n"
     ]
    },
    {
     "name": "stdout",
     "output_type": "stream",
     "text": [
      "INFO:tensorflow:Running local_init_op.\n"
     ]
    },
    {
     "name": "stderr",
     "output_type": "stream",
     "text": [
      "INFO:tensorflow:Running local_init_op.\n"
     ]
    },
    {
     "name": "stdout",
     "output_type": "stream",
     "text": [
      "INFO:tensorflow:Done running local_init_op.\n"
     ]
    },
    {
     "name": "stderr",
     "output_type": "stream",
     "text": [
      "INFO:tensorflow:Done running local_init_op.\n"
     ]
    },
    {
     "name": "stdout",
     "output_type": "stream",
     "text": [
      "INFO:tensorflow:Calling checkpoint listeners before saving checkpoint 0...\n"
     ]
    },
    {
     "name": "stderr",
     "output_type": "stream",
     "text": [
      "INFO:tensorflow:Calling checkpoint listeners before saving checkpoint 0...\n"
     ]
    },
    {
     "name": "stdout",
     "output_type": "stream",
     "text": [
      "INFO:tensorflow:Saving checkpoints for 0 into /tmp/tmp3b82nc_j/model.ckpt.\n"
     ]
    },
    {
     "name": "stderr",
     "output_type": "stream",
     "text": [
      "INFO:tensorflow:Saving checkpoints for 0 into /tmp/tmp3b82nc_j/model.ckpt.\n"
     ]
    },
    {
     "name": "stdout",
     "output_type": "stream",
     "text": [
      "INFO:tensorflow:/tmp/tmp3b82nc_j/model.ckpt-0.index\n"
     ]
    },
    {
     "name": "stderr",
     "output_type": "stream",
     "text": [
      "INFO:tensorflow:/tmp/tmp3b82nc_j/model.ckpt-0.index\n"
     ]
    },
    {
     "name": "stdout",
     "output_type": "stream",
     "text": [
      "INFO:tensorflow:0\n"
     ]
    },
    {
     "name": "stderr",
     "output_type": "stream",
     "text": [
      "INFO:tensorflow:0\n"
     ]
    },
    {
     "name": "stdout",
     "output_type": "stream",
     "text": [
      "INFO:tensorflow:/tmp/tmp3b82nc_j/model.ckpt-0.data-00000-of-00001\n"
     ]
    },
    {
     "name": "stderr",
     "output_type": "stream",
     "text": [
      "INFO:tensorflow:/tmp/tmp3b82nc_j/model.ckpt-0.data-00000-of-00001\n"
     ]
    },
    {
     "name": "stdout",
     "output_type": "stream",
     "text": [
      "INFO:tensorflow:39300\n"
     ]
    },
    {
     "name": "stderr",
     "output_type": "stream",
     "text": [
      "INFO:tensorflow:39300\n"
     ]
    },
    {
     "name": "stdout",
     "output_type": "stream",
     "text": [
      "INFO:tensorflow:/tmp/tmp3b82nc_j/model.ckpt-0.meta\n"
     ]
    },
    {
     "name": "stderr",
     "output_type": "stream",
     "text": [
      "INFO:tensorflow:/tmp/tmp3b82nc_j/model.ckpt-0.meta\n"
     ]
    },
    {
     "name": "stdout",
     "output_type": "stream",
     "text": [
      "INFO:tensorflow:39400\n"
     ]
    },
    {
     "name": "stderr",
     "output_type": "stream",
     "text": [
      "INFO:tensorflow:39400\n"
     ]
    },
    {
     "name": "stdout",
     "output_type": "stream",
     "text": [
      "INFO:tensorflow:Calling checkpoint listeners after saving checkpoint 0...\n"
     ]
    },
    {
     "name": "stderr",
     "output_type": "stream",
     "text": [
      "INFO:tensorflow:Calling checkpoint listeners after saving checkpoint 0...\n"
     ]
    },
    {
     "name": "stdout",
     "output_type": "stream",
     "text": [
      "INFO:tensorflow:loss = 2.3252444, step = 0\n"
     ]
    },
    {
     "name": "stderr",
     "output_type": "stream",
     "text": [
      "INFO:tensorflow:loss = 2.3252444, step = 0\n"
     ]
    },
    {
     "name": "stdout",
     "output_type": "stream",
     "text": [
      "INFO:tensorflow:global_step/sec: 2.80409\n"
     ]
    },
    {
     "name": "stderr",
     "output_type": "stream",
     "text": [
      "INFO:tensorflow:global_step/sec: 2.80409\n"
     ]
    },
    {
     "name": "stdout",
     "output_type": "stream",
     "text": [
      "INFO:tensorflow:loss = 0.09411052, step = 100 (35.664 sec)\n"
     ]
    },
    {
     "name": "stderr",
     "output_type": "stream",
     "text": [
      "INFO:tensorflow:loss = 0.09411052, step = 100 (35.664 sec)\n"
     ]
    },
    {
     "name": "stdout",
     "output_type": "stream",
     "text": [
      "INFO:tensorflow:Calling checkpoint listeners before saving checkpoint 200...\n"
     ]
    },
    {
     "name": "stderr",
     "output_type": "stream",
     "text": [
      "INFO:tensorflow:Calling checkpoint listeners before saving checkpoint 200...\n"
     ]
    },
    {
     "name": "stdout",
     "output_type": "stream",
     "text": [
      "INFO:tensorflow:Saving checkpoints for 200 into /tmp/tmp3b82nc_j/model.ckpt.\n"
     ]
    },
    {
     "name": "stderr",
     "output_type": "stream",
     "text": [
      "INFO:tensorflow:Saving checkpoints for 200 into /tmp/tmp3b82nc_j/model.ckpt.\n"
     ]
    },
    {
     "name": "stdout",
     "output_type": "stream",
     "text": [
      "INFO:tensorflow:/tmp/tmp3b82nc_j/model.ckpt-200.index\n"
     ]
    },
    {
     "name": "stderr",
     "output_type": "stream",
     "text": [
      "INFO:tensorflow:/tmp/tmp3b82nc_j/model.ckpt-200.index\n"
     ]
    },
    {
     "name": "stdout",
     "output_type": "stream",
     "text": [
      "INFO:tensorflow:0\n"
     ]
    },
    {
     "name": "stderr",
     "output_type": "stream",
     "text": [
      "INFO:tensorflow:0\n"
     ]
    },
    {
     "name": "stdout",
     "output_type": "stream",
     "text": [
      "INFO:tensorflow:/tmp/tmp3b82nc_j/model.ckpt-200.meta\n"
     ]
    },
    {
     "name": "stderr",
     "output_type": "stream",
     "text": [
      "INFO:tensorflow:/tmp/tmp3b82nc_j/model.ckpt-200.meta\n"
     ]
    },
    {
     "name": "stdout",
     "output_type": "stream",
     "text": [
      "INFO:tensorflow:100\n"
     ]
    },
    {
     "name": "stderr",
     "output_type": "stream",
     "text": [
      "INFO:tensorflow:100\n"
     ]
    },
    {
     "name": "stdout",
     "output_type": "stream",
     "text": [
      "INFO:tensorflow:/tmp/tmp3b82nc_j/model.ckpt-200.data-00000-of-00001\n"
     ]
    },
    {
     "name": "stderr",
     "output_type": "stream",
     "text": [
      "INFO:tensorflow:/tmp/tmp3b82nc_j/model.ckpt-200.data-00000-of-00001\n"
     ]
    },
    {
     "name": "stdout",
     "output_type": "stream",
     "text": [
      "INFO:tensorflow:39400\n"
     ]
    },
    {
     "name": "stderr",
     "output_type": "stream",
     "text": [
      "INFO:tensorflow:39400\n"
     ]
    },
    {
     "name": "stdout",
     "output_type": "stream",
     "text": [
      "INFO:tensorflow:Calling checkpoint listeners after saving checkpoint 200...\n"
     ]
    },
    {
     "name": "stderr",
     "output_type": "stream",
     "text": [
      "INFO:tensorflow:Calling checkpoint listeners after saving checkpoint 200...\n",
      "2022-06-23 22:20:29.252576: W tensorflow/core/kernels/data/cache_dataset_ops.cc:856] The calling iterator did not fully read the dataset being cached. In order to avoid unexpected truncation of the dataset, the partially cached contents of the dataset  will be discarded. This can happen if you have an input pipeline similar to `dataset.cache().take(k).repeat()`. You should use `dataset.take(k).cache().repeat()` instead.\n"
     ]
    },
    {
     "name": "stdout",
     "output_type": "stream",
     "text": [
      "INFO:tensorflow:Loss for final step: 0.056795746.\n"
     ]
    },
    {
     "name": "stderr",
     "output_type": "stream",
     "text": [
      "INFO:tensorflow:Loss for final step: 0.056795746.\n"
     ]
    },
    {
     "data": {
      "text/plain": [
       "<tensorflow_estimator.python.estimator.estimator.EstimatorV2 at 0x7fe68d999790>"
      ]
     },
     "execution_count": 22,
     "metadata": {},
     "output_type": "execute_result"
    }
   ],
   "source": [
    "classificador.train(input_fn = train_fn, steps = 200)"
   ]
  },
  {
   "cell_type": "code",
   "execution_count": 23,
   "metadata": {
    "colab": {
     "base_uri": "https://localhost:8080/",
     "height": 391
    },
    "colab_type": "code",
    "executionInfo": {
     "elapsed": 171749,
     "status": "ok",
     "timestamp": 1599519659013,
     "user": {
      "displayName": "Denny Seccon",
      "photoUrl": "https://lh3.googleusercontent.com/a-/AOh14GgJKBMgIypXsiOd8ZOSskERpZBMuJN6csHlr9Wo=s64",
      "userId": "03904535882374894686"
     },
     "user_tz": 180
    },
    "id": "rNMKx-CyaOv0",
    "outputId": "cb281717-bbed-4bfb-e503-58df80a98f62"
   },
   "outputs": [
    {
     "name": "stdout",
     "output_type": "stream",
     "text": [
      "INFO:tensorflow:Calling model_fn.\n"
     ]
    },
    {
     "name": "stderr",
     "output_type": "stream",
     "text": [
      "INFO:tensorflow:Calling model_fn.\n"
     ]
    },
    {
     "name": "stdout",
     "output_type": "stream",
     "text": [
      "INFO:tensorflow:Done calling model_fn.\n"
     ]
    },
    {
     "name": "stderr",
     "output_type": "stream",
     "text": [
      "INFO:tensorflow:Done calling model_fn.\n"
     ]
    },
    {
     "name": "stdout",
     "output_type": "stream",
     "text": [
      "INFO:tensorflow:Starting evaluation at 2022-06-23T22:20:42\n"
     ]
    },
    {
     "name": "stderr",
     "output_type": "stream",
     "text": [
      "INFO:tensorflow:Starting evaluation at 2022-06-23T22:20:42\n"
     ]
    },
    {
     "name": "stdout",
     "output_type": "stream",
     "text": [
      "INFO:tensorflow:Graph was finalized.\n"
     ]
    },
    {
     "name": "stderr",
     "output_type": "stream",
     "text": [
      "INFO:tensorflow:Graph was finalized.\n"
     ]
    },
    {
     "name": "stdout",
     "output_type": "stream",
     "text": [
      "INFO:tensorflow:Restoring parameters from /tmp/tmp3b82nc_j/model.ckpt-200\n"
     ]
    },
    {
     "name": "stderr",
     "output_type": "stream",
     "text": [
      "INFO:tensorflow:Restoring parameters from /tmp/tmp3b82nc_j/model.ckpt-200\n"
     ]
    },
    {
     "name": "stdout",
     "output_type": "stream",
     "text": [
      "INFO:tensorflow:Running local_init_op.\n"
     ]
    },
    {
     "name": "stderr",
     "output_type": "stream",
     "text": [
      "INFO:tensorflow:Running local_init_op.\n"
     ]
    },
    {
     "name": "stdout",
     "output_type": "stream",
     "text": [
      "INFO:tensorflow:Done running local_init_op.\n"
     ]
    },
    {
     "name": "stderr",
     "output_type": "stream",
     "text": [
      "INFO:tensorflow:Done running local_init_op.\n"
     ]
    },
    {
     "name": "stdout",
     "output_type": "stream",
     "text": [
      "INFO:tensorflow:Inference Time : 8.14825s\n"
     ]
    },
    {
     "name": "stderr",
     "output_type": "stream",
     "text": [
      "INFO:tensorflow:Inference Time : 8.14825s\n"
     ]
    },
    {
     "name": "stdout",
     "output_type": "stream",
     "text": [
      "INFO:tensorflow:Finished evaluation at 2022-06-23-22:20:50\n"
     ]
    },
    {
     "name": "stderr",
     "output_type": "stream",
     "text": [
      "INFO:tensorflow:Finished evaluation at 2022-06-23-22:20:50\n"
     ]
    },
    {
     "name": "stdout",
     "output_type": "stream",
     "text": [
      "INFO:tensorflow:Saving dict for global step 200: Accuracy = 0.9766, global_step = 200, loss = 0.0761537\n"
     ]
    },
    {
     "name": "stderr",
     "output_type": "stream",
     "text": [
      "INFO:tensorflow:Saving dict for global step 200: Accuracy = 0.9766, global_step = 200, loss = 0.0761537\n"
     ]
    },
    {
     "name": "stdout",
     "output_type": "stream",
     "text": [
      "INFO:tensorflow:Saving 'checkpoint_path' summary for global step 200: /tmp/tmp3b82nc_j/model.ckpt-200\n"
     ]
    },
    {
     "name": "stderr",
     "output_type": "stream",
     "text": [
      "INFO:tensorflow:Saving 'checkpoint_path' summary for global step 200: /tmp/tmp3b82nc_j/model.ckpt-200\n"
     ]
    },
    {
     "data": {
      "text/plain": [
       "{'Accuracy': 0.9766, 'loss': 0.0761537, 'global_step': 200}"
      ]
     },
     "execution_count": 23,
     "metadata": {},
     "output_type": "execute_result"
    }
   ],
   "source": [
    "results = classificador.evaluate(input_fn = evaluate_fn)\n",
    "results"
   ]
  },
  {
   "cell_type": "code",
   "execution_count": 24,
   "metadata": {
    "colab": {
     "base_uri": "https://localhost:8080/",
     "height": 228
    },
    "colab_type": "code",
    "executionInfo": {
     "elapsed": 179571,
     "status": "ok",
     "timestamp": 1599519666859,
     "user": {
      "displayName": "Denny Seccon",
      "photoUrl": "https://lh3.googleusercontent.com/a-/AOh14GgJKBMgIypXsiOd8ZOSskERpZBMuJN6csHlr9Wo=s64",
      "userId": "03904535882374894686"
     },
     "user_tz": 180
    },
    "id": "lj3CAECmaOv6",
    "outputId": "c21efd9e-7877-4c22-caaa-8db72f7dc6e2"
   },
   "outputs": [
    {
     "name": "stdout",
     "output_type": "stream",
     "text": [
      "INFO:tensorflow:Calling model_fn.\n"
     ]
    },
    {
     "name": "stderr",
     "output_type": "stream",
     "text": [
      "INFO:tensorflow:Calling model_fn.\n"
     ]
    },
    {
     "name": "stdout",
     "output_type": "stream",
     "text": [
      "INFO:tensorflow:Done calling model_fn.\n"
     ]
    },
    {
     "name": "stderr",
     "output_type": "stream",
     "text": [
      "INFO:tensorflow:Done calling model_fn.\n"
     ]
    },
    {
     "name": "stdout",
     "output_type": "stream",
     "text": [
      "INFO:tensorflow:Graph was finalized.\n"
     ]
    },
    {
     "name": "stderr",
     "output_type": "stream",
     "text": [
      "INFO:tensorflow:Graph was finalized.\n"
     ]
    },
    {
     "name": "stdout",
     "output_type": "stream",
     "text": [
      "INFO:tensorflow:Restoring parameters from /tmp/tmp3b82nc_j/model.ckpt-200\n"
     ]
    },
    {
     "name": "stderr",
     "output_type": "stream",
     "text": [
      "INFO:tensorflow:Restoring parameters from /tmp/tmp3b82nc_j/model.ckpt-200\n"
     ]
    },
    {
     "name": "stdout",
     "output_type": "stream",
     "text": [
      "INFO:tensorflow:Running local_init_op.\n"
     ]
    },
    {
     "name": "stderr",
     "output_type": "stream",
     "text": [
      "INFO:tensorflow:Running local_init_op.\n"
     ]
    },
    {
     "name": "stdout",
     "output_type": "stream",
     "text": [
      "INFO:tensorflow:Done running local_init_op.\n"
     ]
    },
    {
     "name": "stderr",
     "output_type": "stream",
     "text": [
      "INFO:tensorflow:Done running local_init_op.\n"
     ]
    },
    {
     "data": {
      "text/plain": [
       "[2, 0, 4, 8, 7, 6, 0, 6, 3, 1]"
      ]
     },
     "execution_count": 24,
     "metadata": {},
     "output_type": "execute_result"
    }
   ],
   "source": [
    "preds = list(classificador.predict(input_fn = predict_fn))\n",
    "preds[:10]"
   ]
  },
  {
   "cell_type": "markdown",
   "metadata": {
    "colab_type": "text",
    "id": "nufGhQFhaa3Y"
   },
   "source": [
    "# 3. Forma menos verbosa\n",
    "\n",
    "Agora, vamos usar a mesma construção disponibilizada por `tf.keras.Sequential`, mas vamos fazer o treinamento sem usar estimadores.\n",
    "\n",
    "Podemos passar os dados diretamente para o método `fit` no formato de dataset, mas temos que preparar os batches antes."
   ]
  },
  {
   "cell_type": "code",
   "execution_count": 25,
   "metadata": {
    "colab": {
     "base_uri": "https://localhost:8080/",
     "height": 50
    },
    "colab_type": "code",
    "executionInfo": {
     "elapsed": 352491,
     "status": "ok",
     "timestamp": 1599519839789,
     "user": {
      "displayName": "Denny Seccon",
      "photoUrl": "https://lh3.googleusercontent.com/a-/AOh14GgJKBMgIypXsiOd8ZOSskERpZBMuJN6csHlr9Wo=s64",
      "userId": "03904535882374894686"
     },
     "user_tz": 180
    },
    "id": "aCeCQkCVawpC",
    "outputId": "642acefb-648d-426d-bfc8-0b77ed10b108"
   },
   "outputs": [
    {
     "name": "stdout",
     "output_type": "stream",
     "text": [
      "469/469 [==============================] - 181s 385ms/step - loss: 0.1318 - accuracy: 0.9600\n"
     ]
    },
    {
     "data": {
      "text/plain": [
       "<keras.callbacks.History at 0x7fe648434880>"
      ]
     },
     "execution_count": 25,
     "metadata": {},
     "output_type": "execute_result"
    }
   ],
   "source": [
    "model = make_model()\n",
    "\n",
    "dataset = ds_train.shuffle(1000).batch(128)\n",
    "\n",
    "# Como nós precisamos passar um parâmetro para a função de custo, temos que instanciar sua classe ao invés de simplesmente chamá-la pela string no método `compile`\n",
    "loss = tf.keras.losses.SparseCategoricalCrossentropy(from_logits = True)\n",
    "model.compile(optimizer = \"Adam\", loss = loss, metrics = \"accuracy\")\n",
    "model.fit(dataset, epochs = 1)"
   ]
  },
  {
   "cell_type": "code",
   "execution_count": 26,
   "metadata": {
    "colab": {
     "base_uri": "https://localhost:8080/",
     "height": 50
    },
    "colab_type": "code",
    "executionInfo": {
     "elapsed": 360536,
     "status": "ok",
     "timestamp": 1599519847862,
     "user": {
      "displayName": "Denny Seccon",
      "photoUrl": "https://lh3.googleusercontent.com/a-/AOh14GgJKBMgIypXsiOd8ZOSskERpZBMuJN6csHlr9Wo=s64",
      "userId": "03904535882374894686"
     },
     "user_tz": 180
    },
    "id": "_3rRmkNvlvm8",
    "outputId": "93f2723b-774a-468d-a475-5bfda0d99bd3"
   },
   "outputs": [
    {
     "name": "stdout",
     "output_type": "stream",
     "text": [
      "79/79 [==============================] - 9s 114ms/step - loss: 0.0412 - accuracy: 0.9858\n"
     ]
    },
    {
     "data": {
      "text/plain": [
       "[0.041207414120435715, 0.98580002784729]"
      ]
     },
     "execution_count": 26,
     "metadata": {},
     "output_type": "execute_result"
    }
   ],
   "source": [
    "ds_test = tfds.load('mnist', split = 'test', as_supervised = True)\n",
    "dataset = ds_test.map(transform).batch(128)\n",
    "model.evaluate(dataset)"
   ]
  },
  {
   "cell_type": "code",
   "execution_count": 27,
   "metadata": {
    "colab": {
     "base_uri": "https://localhost:8080/",
     "height": 33
    },
    "colab_type": "code",
    "executionInfo": {
     "elapsed": 367915,
     "status": "ok",
     "timestamp": 1599519855298,
     "user": {
      "displayName": "Denny Seccon",
      "photoUrl": "https://lh3.googleusercontent.com/a-/AOh14GgJKBMgIypXsiOd8ZOSskERpZBMuJN6csHlr9Wo=s64",
      "userId": "03904535882374894686"
     },
     "user_tz": 180
    },
    "id": "cNCtfraxmjvY",
    "outputId": "4cb84d34-3963-497f-a1f5-735289ad52e8"
   },
   "outputs": [
    {
     "name": "stdout",
     "output_type": "stream",
     "text": [
      "79/79 [==============================] - 9s 108ms/step\n"
     ]
    },
    {
     "data": {
      "text/plain": [
       "array([2, 0, 4, 8, 7, 6, 0, 6, 3, 1])"
      ]
     },
     "execution_count": 27,
     "metadata": {},
     "output_type": "execute_result"
    }
   ],
   "source": [
    "preds = model.predict(dataset)\n",
    "# Lembrando que as predições são logits...\n",
    "preds = np.argmax(preds, axis = 1)\n",
    "preds[:10]"
   ]
  },
  {
   "cell_type": "markdown",
   "metadata": {
    "colab_type": "text",
    "id": "2zYNTGMYnJ7S"
   },
   "source": [
    "# Visualizando a primeira predição"
   ]
  },
  {
   "cell_type": "code",
   "execution_count": 28,
   "metadata": {
    "colab": {},
    "colab_type": "code",
    "executionInfo": {
     "elapsed": 367913,
     "status": "ok",
     "timestamp": 1599519855299,
     "user": {
      "displayName": "Denny Seccon",
      "photoUrl": "https://lh3.googleusercontent.com/a-/AOh14GgJKBMgIypXsiOd8ZOSskERpZBMuJN6csHlr9Wo=s64",
      "userId": "03904535882374894686"
     },
     "user_tz": 180
    },
    "id": "YtYI0XFrJTz7"
   },
   "outputs": [],
   "source": [
    "image_test, label_test = next(iter(ds_test.take(1)))"
   ]
  },
  {
   "cell_type": "code",
   "execution_count": 29,
   "metadata": {
    "colab": {
     "base_uri": "https://localhost:8080/",
     "height": 297
    },
    "colab_type": "code",
    "executionInfo": {
     "elapsed": 367909,
     "status": "ok",
     "timestamp": 1599519855307,
     "user": {
      "displayName": "Denny Seccon",
      "photoUrl": "https://lh3.googleusercontent.com/a-/AOh14GgJKBMgIypXsiOd8ZOSskERpZBMuJN6csHlr9Wo=s64",
      "userId": "03904535882374894686"
     },
     "user_tz": 180
    },
    "id": "anaWpBS6LvXl",
    "outputId": "591c8bfe-97d6-441d-96b0-669694eb5ca2"
   },
   "outputs": [
    {
     "data": {
      "text/plain": [
       "Text(0.5, 1.0, 'Classe prevista: 2')"
      ]
     },
     "execution_count": 29,
     "metadata": {},
     "output_type": "execute_result"
    },
    {
     "data": {
      "image/png": "[encoded data removed]",
      "text/plain": [
       "<Figure size 432x288 with 1 Axes>"
      ]
     },
     "metadata": {
      "needs_background": "light"
     },
     "output_type": "display_data"
    }
   ],
   "source": [
    "plt.imshow(image_test.numpy().reshape(28, 28), cmap = 'gray')\n",
    "plt.title('Classe prevista: ' + str(preds[0]))"
   ]
  },
  {
   "cell_type": "markdown",
   "metadata": {
    "colab_type": "text",
    "id": "p7dDnwlonPaA"
   },
   "source": [
    "---"
   ]
  },
  {
   "cell_type": "markdown",
   "metadata": {
    "colab_type": "text",
    "id": "vyFrs_yRHrRP"
   },
   "source": [
    "(ADENDO: Minha tentativa anterior de implementar os estimadores usando a API de baixo nível. Deixei caso mudemos de ideia. Não deu certo.)"
   ]
  },
  {
   "cell_type": "code",
   "execution_count": 30,
   "metadata": {
    "colab": {},
    "colab_type": "code",
    "executionInfo": {
     "elapsed": 368311,
     "status": "ok",
     "timestamp": 1599519855716,
     "user": {
      "displayName": "Denny Seccon",
      "photoUrl": "https://lh3.googleusercontent.com/a-/AOh14GgJKBMgIypXsiOd8ZOSskERpZBMuJN6csHlr9Wo=s64",
      "userId": "03904535882374894686"
     },
     "user_tz": 180
    },
    "id": "y0gwtKmFjOB4"
   },
   "outputs": [],
   "source": [
    "# def model_fn(features, labels, mode):\n",
    "    \n",
    "#     filters = {\n",
    "#         'convolucao1' : tf.Variable(tf.random.normal(shape = [5, 5, 1, 32])),\n",
    "#         'convolucao2' : tf.Variable(tf.random.normal(shape = [5, 5, 32, 64]))\n",
    "#     }\n",
    "\n",
    "#     weights = {\n",
    "#         'dense' : tf.Variable(tf.random.normal(shape = [3136, 1024])),\n",
    "#         'out' : tf.Variable(tf.random.normal(shape = [1024, 10]))\n",
    "#     }\n",
    "\n",
    "#     biases = {\n",
    "#         'dense' : tf.Variable(tf.random.normal(shape = [1024])),\n",
    "#         'out' : tf.Variable(tf.random.normal(shape = [10]))\n",
    "#     }\n",
    "\n",
    "#     def model(features, filters, weights, biases):\n",
    "#         entrada = tf.cast(features, tf.float32)\n",
    "#         print(1)\n",
    "#         convolucao1 = tf.nn.conv2d(input = entrada, filters = filters['convolucao1'], strides = 1, padding = 'SAME')\n",
    "#         convolucao1 = tf.nn.relu(convolucao1)\n",
    "#         print(2)\n",
    "#         pooling1 = tf.nn.max_pool2d(input = convolucao1, ksize = [2, 2], strides = 2, padding = 'VALID')\n",
    "#         print(3)\n",
    "#         convolucao2 = tf.nn.conv2d(input = pooling1, filters = filters['convolucao2'], strides = 1, padding = 'SAME')\n",
    "#         convolucao2 = tf.nn.relu(convolucao2)\n",
    "#         print(4)\n",
    "#         pooling2 = tf.nn.max_pool2d(input = convolucao2, ksize = [2, 2], strides = 2, padding = 'VALID')\n",
    "#         print(5)\n",
    "#         flattening = tf.reshape(pooling2, [-1, pooling2.shape[1] * pooling2.shape[2] * pooling2.shape[3]])\n",
    "#         print(6)\n",
    "#         dense = tf.add(tf.matmul(flattening, weights['dense']), biases['dense'])\n",
    "#         dense = tf.nn.relu(dense)\n",
    "#         print(7)\n",
    "#         if mode == tf.estimator.ModeKeys.TRAIN:\n",
    "#             dense = tf.nn.dropout(x = dense, rate = 0.2)\n",
    "#         print(8)\n",
    "#         out = tf.add(tf.matmul(dense, weights['out']), biases['out'])\n",
    "\n",
    "#         return out\n",
    "\n",
    "#     if mode == tf.estimator.ModeKeys.TRAIN:\n",
    "#         print(0)\n",
    "#         loss = lambda: tf.keras.losses.sparse_categorical_crossentropy(y_true = labels, y_pred = model(features,), from_logits = True)\n",
    "#         print(9)\n",
    "#         optimizer = tf.keras.optimizers.Adam(learning_rate = 0.001)\n",
    "#         print(10)\n",
    "#         var_list = [*list(filters.values()), *list(weights.values()), *list(biases.values())]\n",
    "#         print(11)\n",
    "#         train_op = optimizer.minimize(loss, [var_list])\n",
    "#         print(12)\n",
    "#         return tf.estimator.EstimatorSpec(mode = mode, loss = loss(), train_op = train_op)\n",
    "\n",
    "#     if mode == tf.estimator.ModeKeys.EVAL:\n",
    "#         eval_metric_ops = {'accuracy': tf.keras.metrics.Accuracy()}\n",
    "#         return tf.estimator.EstimatorSpec(mode = mode, loss = loss(), eval_metric_ops = eval_metric_ops) \n",
    "\n",
    "#     if mode == tf.estimator.ModeKeys.PREDICT:\n",
    "#         predictions = tf.argmax(out, axis = 1)\n",
    "#         return tf.estimator.EstimatorSpec(mode = mode, predictions = predictions)        "
   ]
  },
  {
   "cell_type": "code",
   "execution_count": null,
   "metadata": {},
   "outputs": [],
   "source": []
  },
  {
   "cell_type": "code",
   "execution_count": null,
   "metadata": {},
   "outputs": [],
   "source": []
  },
  {
   "cell_type": "code",
   "execution_count": null,
   "metadata": {},
   "outputs": [],
   "source": []
  }
 ],
 "metadata": {
  "colab": {
   "collapsed_sections": [],
   "name": "1 convolucional_mnist_estimators.ipynb",
   "provenance": [
    {
     "file_id": "1G3Y5ZE9PjeeRnKzsfM0ygM0ntWLT8Oj1",
     "timestamp": 1598639597262
    }
   ]
  },
  "kernelspec": {
   "display_name": "Python 3 (ipykernel)",
   "language": "python",
   "name": "python3"
  },
  "language_info": {
   "codemirror_mode": {
    "name": "ipython",
    "version": 3
   },
   "file_extension": ".py",
   "mimetype": "text/x-python",
   "name": "python",
   "nbconvert_exporter": "python",
   "pygments_lexer": "ipython3",
   "version": "3.8.10"
  }
 },
 "nbformat": 4,
 "nbformat_minor": 1
}
