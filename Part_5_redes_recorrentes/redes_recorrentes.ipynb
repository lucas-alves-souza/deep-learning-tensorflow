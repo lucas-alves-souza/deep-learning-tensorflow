{
 "cells": [
  {
   "cell_type": "markdown",
   "metadata": {
    "colab_type": "text",
    "id": "i-bWJMCXqQTG"
   },
   "source": [
    "# RNN"
   ]
  },
  {
   "cell_type": "code",
   "execution_count": 12,
   "metadata": {},
   "outputs": [
    {
     "name": "stderr",
     "output_type": "stream",
     "text": [
      "2022-06-23 22:03:04.610639: W tensorflow/stream_executor/platform/default/dso_loader.cc:64] Could not load dynamic library 'libcudart.so.11.0'; dlerror: libcudart.so.11.0: cannot open shared object file: No such file or directory\n",
      "2022-06-23 22:03:04.610697: I tensorflow/stream_executor/cuda/cudart_stub.cc:29] Ignore above cudart dlerror if you do not have a GPU set up on your machine.\n"
     ]
    }
   ],
   "source": [
    "import pandas as pd\n",
    "import matplotlib.pyplot as plt\n",
    "\n",
    "import numpy as np\n",
    "from sklearn.metrics import mean_absolute_error\n",
    "\n",
    "import tensorflow as tf\n"
   ]
  },
  {
   "cell_type": "code",
   "execution_count": 7,
   "metadata": {},
   "outputs": [],
   "source": [
    "base = pd.read_csv('petr4.csv')\n",
    "base = base.dropna()\n",
    "base = base.iloc[:,1].values"
   ]
  },
  {
   "cell_type": "code",
   "execution_count": 8,
   "metadata": {},
   "outputs": [
    {
     "data": {
      "text/plain": [
       "[<matplotlib.lines.Line2D at 0x7f07cb7cd160>]"
      ]
     },
     "execution_count": 8,
     "metadata": {},
     "output_type": "execute_result"
    },
    {
     "data": {
      "image/png": "[encoded data removed]",
      "text/plain": [
       "<Figure size 432x288 with 1 Axes>"
      ]
     },
     "metadata": {
      "needs_background": "light"
     },
     "output_type": "display_data"
    }
   ],
   "source": [
    "\n",
    "%matplotlib inline\n",
    "plt.plot(base)\n"
   ]
  },
  {
   "cell_type": "code",
   "execution_count": 9,
   "metadata": {},
   "outputs": [],
   "source": [
    "periodos = 30\n",
    "previsao_futura = 1 # horizonte"
   ]
  },
  {
   "cell_type": "code",
   "execution_count": 10,
   "metadata": {},
   "outputs": [],
   "source": [
    "X = base[0:(len(base) - (len(base) % periodos))]\n",
    "X_batches = X.reshape(-1, periodos, 1)\n",
    "\n",
    "y = base[1:(len(base) - (len(base) % periodos)) + previsao_futura]\n",
    "y_batches = y.reshape(-1, periodos, 1)\n",
    "\n",
    "X_teste = base[-(periodos + previsao_futura):]\n",
    "X_teste = X_teste[:periodos]\n",
    "X_teste = X_teste.reshape(-1, periodos, 1)\n",
    "y_teste = base[-(periodos):]\n",
    "y_teste = y_teste.reshape(-1, periodos, 1)\n"
   ]
  },
  {
   "cell_type": "code",
   "execution_count": 15,
   "metadata": {},
   "outputs": [
    {
     "ename": "AttributeError",
     "evalue": "module 'tensorflow' has no attribute 'reset_default_graph'",
     "output_type": "error",
     "traceback": [
      "\u001b[0;31m---------------------------------------------------------------------------\u001b[0m",
      "\u001b[0;31mAttributeError\u001b[0m                            Traceback (most recent call last)",
      "Input \u001b[0;32mIn [15]\u001b[0m, in \u001b[0;36m<cell line: 1>\u001b[0;34m()\u001b[0m\n\u001b[0;32m----> 1\u001b[0m \u001b[43mtf\u001b[49m\u001b[38;5;241;43m.\u001b[39;49m\u001b[43mreset_default_graph\u001b[49m()\n\u001b[1;32m      3\u001b[0m entradas \u001b[38;5;241m=\u001b[39m \u001b[38;5;241m1\u001b[39m\n\u001b[1;32m      4\u001b[0m neuronios_oculta \u001b[38;5;241m=\u001b[39m \u001b[38;5;241m100\u001b[39m\n",
      "\u001b[0;31mAttributeError\u001b[0m: module 'tensorflow' has no attribute 'reset_default_graph'"
     ]
    }
   ],
   "source": [
    "tf.reset_default_graph()\n",
    "\n",
    "entradas = 1\n",
    "neuronios_oculta = 100\n",
    "neuronios_saida = 1\n",
    "\n",
    "xph = tf.placeholder(tf.float32, [None, periodos, entradas])\n",
    "yph = tf.placeholder(tf.float32, [None, periodos, neuronios_saida])"
   ]
  },
  {
   "cell_type": "code",
   "execution_count": 14,
   "metadata": {},
   "outputs": [
    {
     "ename": "AttributeError",
     "evalue": "module 'tensorflow._api.v2.nn' has no attribute 'rnn_cell'",
     "output_type": "error",
     "traceback": [
      "\u001b[0;31m---------------------------------------------------------------------------\u001b[0m",
      "\u001b[0;31mAttributeError\u001b[0m                            Traceback (most recent call last)",
      "Input \u001b[0;32mIn [14]\u001b[0m, in \u001b[0;36m<cell line: 13>\u001b[0;34m()\u001b[0m\n\u001b[1;32m     10\u001b[0m     celulas \u001b[38;5;241m=\u001b[39m  tf\u001b[38;5;241m.\u001b[39mnn\u001b[38;5;241m.\u001b[39mrnn_cell\u001b[38;5;241m.\u001b[39mMultiRNNCell([cria_uma_celula() \u001b[38;5;28;01mfor\u001b[39;00m i \u001b[38;5;129;01min\u001b[39;00m \u001b[38;5;28mrange\u001b[39m(\u001b[38;5;241m4\u001b[39m)])\n\u001b[1;32m     11\u001b[0m     \u001b[38;5;28;01mreturn\u001b[39;00m tf\u001b[38;5;241m.\u001b[39mcontrib\u001b[38;5;241m.\u001b[39mrnn\u001b[38;5;241m.\u001b[39mDropoutWrapper(celulas, output_keep_prob \u001b[38;5;241m=\u001b[39m \u001b[38;5;241m0.1\u001b[39m)\n\u001b[0;32m---> 13\u001b[0m celula \u001b[38;5;241m=\u001b[39m \u001b[43mcria_varias_celulas\u001b[49m\u001b[43m(\u001b[49m\u001b[43m)\u001b[49m\n\u001b[1;32m     14\u001b[0m \u001b[38;5;66;03m# camada saída\u001b[39;00m\n\u001b[1;32m     15\u001b[0m celula \u001b[38;5;241m=\u001b[39m tf\u001b[38;5;241m.\u001b[39mcontrib\u001b[38;5;241m.\u001b[39mrnn\u001b[38;5;241m.\u001b[39mOutputProjectionWrapper(celula, output_size \u001b[38;5;241m=\u001b[39m \u001b[38;5;241m1\u001b[39m)\n",
      "Input \u001b[0;32mIn [14]\u001b[0m, in \u001b[0;36mcria_varias_celulas\u001b[0;34m()\u001b[0m\n\u001b[1;32m      9\u001b[0m \u001b[38;5;28;01mdef\u001b[39;00m \u001b[38;5;21mcria_varias_celulas\u001b[39m():\n\u001b[0;32m---> 10\u001b[0m     celulas \u001b[38;5;241m=\u001b[39m  \u001b[43mtf\u001b[49m\u001b[38;5;241;43m.\u001b[39;49m\u001b[43mnn\u001b[49m\u001b[38;5;241;43m.\u001b[39;49m\u001b[43mrnn_cell\u001b[49m\u001b[38;5;241m.\u001b[39mMultiRNNCell([cria_uma_celula() \u001b[38;5;28;01mfor\u001b[39;00m i \u001b[38;5;129;01min\u001b[39;00m \u001b[38;5;28mrange\u001b[39m(\u001b[38;5;241m4\u001b[39m)])\n\u001b[1;32m     11\u001b[0m     \u001b[38;5;28;01mreturn\u001b[39;00m tf\u001b[38;5;241m.\u001b[39mcontrib\u001b[38;5;241m.\u001b[39mrnn\u001b[38;5;241m.\u001b[39mDropoutWrapper(celulas, output_keep_prob \u001b[38;5;241m=\u001b[39m \u001b[38;5;241m0.1\u001b[39m)\n",
      "\u001b[0;31mAttributeError\u001b[0m: module 'tensorflow._api.v2.nn' has no attribute 'rnn_cell'"
     ]
    }
   ],
   "source": [
    "#celula = tf.contrib.rnn.BasicRNNCell(num_units = neuronios_oculta, activation = tf.nn.relu)\n",
    "#celula = tf.contrib.rnn.LSTMCell(num_units = neuronios_oculta, activation = tf.nn.relu)\n",
    "# camada saída\n",
    "#celula = tf.contrib.rnn.OutputProjectionWrapper(celula, output_size = 1)\n",
    "\n",
    "def cria_uma_celula():\n",
    "    return tf.contrib.rnn.LSTMCell(num_units = neuronios_oculta, activation = tf.nn.relu)\n",
    "\n",
    "def cria_varias_celulas():\n",
    "    celulas =  tf.nn.rnn_cell.MultiRNNCell([cria_uma_celula() for i in range(4)])\n",
    "    return tf.contrib.rnn.DropoutWrapper(celulas, output_keep_prob = 0.1)\n",
    "\n",
    "celula = cria_varias_celulas()\n",
    "# camada saída\n",
    "celula = tf.contrib.rnn.OutputProjectionWrapper(celula, output_size = 1)\n",
    "\n",
    "\n",
    "saida_rnn, _ = tf.nn.dynamic_rnn(celula, xph, dtype = tf.float32)\n",
    "erro = tf.losses.mean_squared_error(labels = yph, predictions = saida_rnn)\n",
    "otimizador = tf.train.AdamOptimizer(learning_rate = 0.001)\n",
    "treinamento = otimizador.minimize(erro)\n",
    "\n",
    "with tf.Session() as sess:\n",
    "    sess.run(tf.global_variables_initializer())\n",
    "    \n",
    "    for epoca in range(1000):\n",
    "        _, custo = sess.run([treinamento, erro], feed_dict = {xph: X_batches, yph: y_batches})\n",
    "        if epoca % 100 == 0:\n",
    "            print(epoca + 1, ' erro: ', custo)\n",
    "    \n",
    "    previsoes = sess.run(saida_rnn, feed_dict = {xph: X_teste})\n",
    "    \n",
    "\n",
    "y_teste.shape\n",
    "y_teste2 = np.ravel(y_teste)\n",
    "\n",
    "previsoes2 = np.ravel(previsoes)\n",
    "mae = mean_absolute_error(y_teste2, previsoes2)\n",
    "\n",
    "plt.plot(y_teste2, '*', markersize = 10, label = 'Valor real')\n",
    "plt.plot(previsoes2, 'o', label = 'Previsões')\n",
    "plt.legend()\n",
    "\n",
    "plt.plot(y_teste2, label = 'Valor real')\n",
    "plt.plot(y_teste2, 'w*', markersize = 10, color = 'red')\n",
    "plt.plot(previsoes2, label = 'Previsões')\n",
    "plt.legend()"
   ]
  },
  {
   "cell_type": "code",
   "execution_count": null,
   "metadata": {},
   "outputs": [],
   "source": []
  }
 ],
 "metadata": {
  "colab": {
   "collapsed_sections": [],
   "name": "1 perceptron_uma_camada.ipynb",
   "provenance": []
  },
  "kernelspec": {
   "display_name": "Python 3 (ipykernel)",
   "language": "python",
   "name": "python3"
  },
  "language_info": {
   "codemirror_mode": {
    "name": "ipython",
    "version": 3
   },
   "file_extension": ".py",
   "mimetype": "text/x-python",
   "name": "python",
   "nbconvert_exporter": "python",
   "pygments_lexer": "ipython3",
   "version": "3.8.10"
  }
 },
 "nbformat": 4,
 "nbformat_minor": 1
}
