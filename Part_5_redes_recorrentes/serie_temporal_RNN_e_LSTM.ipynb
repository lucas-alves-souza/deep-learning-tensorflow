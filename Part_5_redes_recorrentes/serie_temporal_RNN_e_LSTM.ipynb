{
 "cells": [
  {
   "cell_type": "markdown",
   "metadata": {},
   "source": [
    "# RNN"
   ]
  },
  {
   "cell_type": "code",
   "execution_count": null,
   "metadata": {},
   "outputs": [],
   "source": []
  },
  {
   "cell_type": "code",
   "execution_count": 1,
   "metadata": {
    "colab": {},
    "colab_type": "code",
    "executionInfo": {
     "elapsed": 1856,
     "status": "ok",
     "timestamp": 1599589129272,
     "user": {
      "displayName": "Denny Seccon",
      "photoUrl": "https://lh3.googleusercontent.com/a-/AOh14GgJKBMgIypXsiOd8ZOSskERpZBMuJN6csHlr9Wo=s64",
      "userId": "03904535882374894686"
     },
     "user_tz": 180
    },
    "id": "2zFQQOYVn0rC"
   },
   "outputs": [],
   "source": [
    "import pandas as pd\n",
    "base = pd.read_csv('petr4.csv')\n",
    "base = base.dropna()"
   ]
  },
  {
   "cell_type": "code",
   "execution_count": 2,
   "metadata": {
    "colab": {
     "base_uri": "https://localhost:8080/",
     "height": 281
    },
    "colab_type": "code",
    "executionInfo": {
     "elapsed": 2822,
     "status": "ok",
     "timestamp": 1599589130294,
     "user": {
      "displayName": "Denny Seccon",
      "photoUrl": "https://lh3.googleusercontent.com/a-/AOh14GgJKBMgIypXsiOd8ZOSskERpZBMuJN6csHlr9Wo=s64",
      "userId": "03904535882374894686"
     },
     "user_tz": 180
    },
    "id": "4U_CP12CoBmu",
    "outputId": "a3bad56f-ad90-4948-e050-2fc2ae21b31f"
   },
   "outputs": [
    {
     "data": {
      "text/plain": [
       "[<matplotlib.lines.Line2D at 0x7f7064cfb070>]"
      ]
     },
     "execution_count": 2,
     "metadata": {},
     "output_type": "execute_result"
    },
    {
     "data": {
      "image/png": "[encoded data removed]",
      "text/plain": [
       "<Figure size 432x288 with 1 Axes>"
      ]
     },
     "metadata": {
      "needs_background": "light"
     },
     "output_type": "display_data"
    }
   ],
   "source": [
    "base = base.iloc[:, 1].values\n",
    "import matplotlib.pyplot as plt\n",
    "plt.plot(base)"
   ]
  },
  {
   "cell_type": "code",
   "execution_count": 3,
   "metadata": {
    "colab": {},
    "colab_type": "code",
    "executionInfo": {
     "elapsed": 2805,
     "status": "ok",
     "timestamp": 1599589130299,
     "user": {
      "displayName": "Denny Seccon",
      "photoUrl": "https://lh3.googleusercontent.com/a-/AOh14GgJKBMgIypXsiOd8ZOSskERpZBMuJN6csHlr9Wo=s64",
      "userId": "03904535882374894686"
     },
     "user_tz": 180
    },
    "id": "21e3lO6boFEG"
   },
   "outputs": [],
   "source": [
    "periodos = 30\n",
    "previsao_futura = 1 # horizonte\n",
    "\n",
    "X = base[0:(len(base) - (len(base) % periodos))]\n",
    "X_batches = X.reshape(-1, periodos, 1)\n",
    "\n",
    "y = base[1:(len(base) - (len(base) % periodos)) + previsao_futura]\n",
    "y_batches = y.reshape(-1, periodos, 1)\n",
    "\n",
    "X_teste = base[-(periodos + previsao_futura):]\n",
    "X_teste = X_teste[:periodos]\n",
    "X_teste = X_teste.reshape(-1, periodos, 1)\n",
    "y_teste = base[-(periodos):]\n",
    "y_teste = y_teste.reshape(-1, periodos, 1)"
   ]
  },
  {
   "cell_type": "code",
   "execution_count": 4,
   "metadata": {
    "colab": {
     "base_uri": "https://localhost:8080/",
     "height": 33
    },
    "colab_type": "code",
    "executionInfo": {
     "elapsed": 2782,
     "status": "ok",
     "timestamp": 1599589130304,
     "user": {
      "displayName": "Denny Seccon",
      "photoUrl": "https://lh3.googleusercontent.com/a-/AOh14GgJKBMgIypXsiOd8ZOSskERpZBMuJN6csHlr9Wo=s64",
      "userId": "03904535882374894686"
     },
     "user_tz": 180
    },
    "id": "7q4j8NwkoO_c",
    "outputId": "f201714d-797f-42a5-b112-25e56e0f2cb4"
   },
   "outputs": [
    {
     "data": {
      "text/plain": [
       "((41, 30, 1), (41, 30, 1), (1, 30, 1), (1, 30, 1))"
      ]
     },
     "execution_count": 4,
     "metadata": {
      "tags": []
     },
     "output_type": "execute_result"
    }
   ],
   "source": [
    "X_batches.shape, y_batches.shape, X_teste.shape, y_teste.shape"
   ]
  },
  {
   "cell_type": "code",
   "execution_count": 5,
   "metadata": {
    "colab": {
     "base_uri": "https://localhost:8080/",
     "height": 35
    },
    "colab_type": "code",
    "executionInfo": {
     "elapsed": 4568,
     "status": "ok",
     "timestamp": 1599589132131,
     "user": {
      "displayName": "Denny Seccon",
      "photoUrl": "https://lh3.googleusercontent.com/a-/AOh14GgJKBMgIypXsiOd8ZOSskERpZBMuJN6csHlr9Wo=s64",
      "userId": "03904535882374894686"
     },
     "user_tz": 180
    },
    "id": "VI6U9clZoWVP",
    "outputId": "3d6ab876-9c94-4196-87f5-8fc2da184619"
   },
   "outputs": [
    {
     "data": {
      "application/vnd.google.colaboratory.intrinsic+json": {
       "type": "string"
      },
      "text/plain": [
       "'2.3.0'"
      ]
     },
     "execution_count": 5,
     "metadata": {
      "tags": []
     },
     "output_type": "execute_result"
    }
   ],
   "source": [
    "import tensorflow as tf\n",
    "tf.random.set_seed(42)\n",
    "\n",
    "tf.__version__"
   ]
  },
  {
   "cell_type": "code",
   "execution_count": 6,
   "metadata": {
    "colab": {},
    "colab_type": "code",
    "executionInfo": {
     "elapsed": 4548,
     "status": "ok",
     "timestamp": 1599589132132,
     "user": {
      "displayName": "Denny Seccon",
      "photoUrl": "https://lh3.googleusercontent.com/a-/AOh14GgJKBMgIypXsiOd8ZOSskERpZBMuJN6csHlr9Wo=s64",
      "userId": "03904535882374894686"
     },
     "user_tz": 180
    },
    "id": "HUfOgNoSpzSU"
   },
   "outputs": [],
   "source": [
    "entradas = 1\n",
    "neuronios_oculta = 100\n",
    "neuronios_saida = 1"
   ]
  },
  {
   "cell_type": "markdown",
   "metadata": {
    "colab_type": "text",
    "id": "6AuQCKH1qrwV"
   },
   "source": [
    "Segundo https://www.tensorflow.org/guide/migrate#a_note_on_slim_contriblayers, o módulo `tf.contrib` foi descontinuado. "
   ]
  },
  {
   "cell_type": "markdown",
   "metadata": {
    "colab_type": "text",
    "id": "ytuE7-d8J0_u"
   },
   "source": [
    "# Usando RNN Simples"
   ]
  },
  {
   "cell_type": "code",
   "execution_count": 7,
   "metadata": {
    "colab": {},
    "colab_type": "code",
    "executionInfo": {
     "elapsed": 4515,
     "status": "ok",
     "timestamp": 1599589132134,
     "user": {
      "displayName": "Denny Seccon",
      "photoUrl": "https://lh3.googleusercontent.com/a-/AOh14GgJKBMgIypXsiOd8ZOSskERpZBMuJN6csHlr9Wo=s64",
      "userId": "03904535882374894686"
     },
     "user_tz": 180
    },
    "id": "B8RyfbiQp-u4"
   },
   "outputs": [],
   "source": [
    "class Model(tf.keras.Model):\n",
    "    def __init__(self):\n",
    "        super().__init__()\n",
    "        self.rnn = tf.keras.layers.SimpleRNN(units = neuronios_oculta, activation = 'relu', return_sequences = True)\n",
    "        self.dense = tf.keras.layers.Dense(units = neuronios_saida)\n",
    "    \n",
    "    def call(self, inputs):\n",
    "        x = self.rnn(inputs)\n",
    "        x = self.dense(x)\n",
    "\n",
    "        return x"
   ]
  },
  {
   "cell_type": "code",
   "execution_count": 8,
   "metadata": {
    "colab": {
     "base_uri": "https://localhost:8080/",
     "height": 297
    },
    "colab_type": "code",
    "executionInfo": {
     "elapsed": 50039,
     "status": "ok",
     "timestamp": 1599589177697,
     "user": {
      "displayName": "Denny Seccon",
      "photoUrl": "https://lh3.googleusercontent.com/a-/AOh14GgJKBMgIypXsiOd8ZOSskERpZBMuJN6csHlr9Wo=s64",
      "userId": "03904535882374894686"
     },
     "user_tz": 180
    },
    "id": "eAo_BqHtunEw",
    "outputId": "305f1eb8-3f99-40a0-b844-a26de58b7f1d"
   },
   "outputs": [
    {
     "name": "stdout",
     "output_type": "stream",
     "text": [
      "WARNING:tensorflow:Layer model is casting an input tensor from dtype float64 to the layer's dtype of float32, which is new behavior in TensorFlow 2.  The layer has dtype float32 because its dtype defaults to floatx.\n",
      "\n",
      "If you intended to run this layer in float32, you can safely ignore this warning. If in doubt, this warning is likely only an issue if you are porting a TensorFlow 1.X model to TensorFlow 2.\n",
      "\n",
      "To change all layers to have dtype float64 by default, call `tf.keras.backend.set_floatx('float64')`. To change just this layer, pass dtype='float64' to the layer constructor. If you are the author of this layer, you can disable autocasting by passing autocast=False to the base Layer constructor.\n",
      "\n",
      "1  erro:  123.5112094878818\n",
      "101  erro:  2.248128455076205\n",
      "201  erro:  0.5604268391397469\n",
      "301  erro:  0.205570338580093\n",
      "401  erro:  0.1896733230235893\n",
      "501  erro:  0.18783501334466418\n",
      "601  erro:  0.18582517945198102\n",
      "701  erro:  0.17941135761929575\n",
      "801  erro:  0.17474555879383397\n",
      "901  erro:  0.1714701838739803\n"
     ]
    }
   ],
   "source": [
    "model = Model()\n",
    "otimizador = tf.keras.optimizers.Adam(learning_rate = 0.001)\n",
    "\n",
    "for epoca in range(1000):\n",
    "    with tf.GradientTape() as tape:\n",
    "        out = model(X_batches)\n",
    "        erro = tf.keras.losses.mean_squared_error(out, y_batches)\n",
    "    \n",
    "    # Uma das vantagens de escrever o modelo como uma instância de `tf.keras.Model`\n",
    "    # é que podemos recuperar a `var_list` com `model.trainable_variables`\n",
    "    gradientes = tape.gradient(erro, model.trainable_variables)\n",
    "    otimizador.apply_gradients(zip(gradientes, model.trainable_variables))\n",
    "\n",
    "    if epoca % 100 == 0:\n",
    "        print(epoca + 1, ' erro: ', tf.reduce_mean(erro).numpy())"
   ]
  },
  {
   "cell_type": "code",
   "execution_count": 9,
   "metadata": {
    "colab": {
     "base_uri": "https://localhost:8080/",
     "height": 521
    },
    "colab_type": "code",
    "executionInfo": {
     "elapsed": 50017,
     "status": "ok",
     "timestamp": 1599589177703,
     "user": {
      "displayName": "Denny Seccon",
      "photoUrl": "https://lh3.googleusercontent.com/a-/AOh14GgJKBMgIypXsiOd8ZOSskERpZBMuJN6csHlr9Wo=s64",
      "userId": "03904535882374894686"
     },
     "user_tz": 180
    },
    "id": "aRFkzlrvv9Zg",
    "outputId": "3f5b1a77-4d96-46c0-c3da-970e399305d8"
   },
   "outputs": [
    {
     "data": {
      "text/plain": [
       "<tf.Tensor: shape=(1, 30, 1), dtype=float32, numpy=\n",
       "array([[[15.413541],\n",
       "        [15.711014],\n",
       "        [15.127745],\n",
       "        [15.082155],\n",
       "        [15.156298],\n",
       "        [15.110255],\n",
       "        [15.483986],\n",
       "        [15.411455],\n",
       "        [15.449482],\n",
       "        [15.801123],\n",
       "        [15.79926 ],\n",
       "        [15.957372],\n",
       "        [16.135756],\n",
       "        [16.200783],\n",
       "        [16.229218],\n",
       "        [16.45593 ],\n",
       "        [16.770096],\n",
       "        [16.770367],\n",
       "        [16.778345],\n",
       "        [16.990208],\n",
       "        [16.941383],\n",
       "        [16.918566],\n",
       "        [17.005772],\n",
       "        [17.26142 ],\n",
       "        [17.370527],\n",
       "        [17.882738],\n",
       "        [18.317354],\n",
       "        [18.394016],\n",
       "        [18.346802],\n",
       "        [18.37886 ]]], dtype=float32)>"
      ]
     },
     "execution_count": 9,
     "metadata": {
      "tags": []
     },
     "output_type": "execute_result"
    }
   ],
   "source": [
    "previsoes = model(X_teste)\n",
    "previsoes"
   ]
  },
  {
   "cell_type": "code",
   "execution_count": 10,
   "metadata": {
    "colab": {},
    "colab_type": "code",
    "executionInfo": {
     "elapsed": 50006,
     "status": "ok",
     "timestamp": 1599589177712,
     "user": {
      "displayName": "Denny Seccon",
      "photoUrl": "https://lh3.googleusercontent.com/a-/AOh14GgJKBMgIypXsiOd8ZOSskERpZBMuJN6csHlr9Wo=s64",
      "userId": "03904535882374894686"
     },
     "user_tz": 180
    },
    "id": "TlTrN9hhyA2Q"
   },
   "outputs": [],
   "source": [
    "import numpy as np\n",
    "y_teste2 = np.ravel(y_teste)"
   ]
  },
  {
   "cell_type": "code",
   "execution_count": 11,
   "metadata": {
    "colab": {},
    "colab_type": "code",
    "executionInfo": {
     "elapsed": 49987,
     "status": "ok",
     "timestamp": 1599589177714,
     "user": {
      "displayName": "Denny Seccon",
      "photoUrl": "https://lh3.googleusercontent.com/a-/AOh14GgJKBMgIypXsiOd8ZOSskERpZBMuJN6csHlr9Wo=s64",
      "userId": "03904535882374894686"
     },
     "user_tz": 180
    },
    "id": "VZlrDI_4yhOb"
   },
   "outputs": [],
   "source": [
    "previsoes2 = np.ravel(previsoes.numpy())"
   ]
  },
  {
   "cell_type": "code",
   "execution_count": 12,
   "metadata": {
    "colab": {
     "base_uri": "https://localhost:8080/",
     "height": 33
    },
    "colab_type": "code",
    "executionInfo": {
     "elapsed": 49993,
     "status": "ok",
     "timestamp": 1599589177740,
     "user": {
      "displayName": "Denny Seccon",
      "photoUrl": "https://lh3.googleusercontent.com/a-/AOh14GgJKBMgIypXsiOd8ZOSskERpZBMuJN6csHlr9Wo=s64",
      "userId": "03904535882374894686"
     },
     "user_tz": 180
    },
    "id": "n2Y6SzTVykYD",
    "outputId": "9ebbedb5-2322-49c8-cb8f-6ad4de476223"
   },
   "outputs": [
    {
     "data": {
      "text/plain": [
       "0.17386122467447945"
      ]
     },
     "execution_count": 12,
     "metadata": {
      "tags": []
     },
     "output_type": "execute_result"
    }
   ],
   "source": [
    "from sklearn.metrics import mean_absolute_error\n",
    "mae = mean_absolute_error(y_teste2, previsoes2)\n",
    "mae"
   ]
  },
  {
   "cell_type": "code",
   "execution_count": 13,
   "metadata": {
    "colab": {
     "base_uri": "https://localhost:8080/",
     "height": 281
    },
    "colab_type": "code",
    "executionInfo": {
     "elapsed": 49964,
     "status": "ok",
     "timestamp": 1599589177741,
     "user": {
      "displayName": "Denny Seccon",
      "photoUrl": "https://lh3.googleusercontent.com/a-/AOh14GgJKBMgIypXsiOd8ZOSskERpZBMuJN6csHlr9Wo=s64",
      "userId": "03904535882374894686"
     },
     "user_tz": 180
    },
    "id": "1yIsMhFeyuPB",
    "outputId": "868485ec-5c07-45bf-92fc-a994674f3ba3"
   },
   "outputs": [
    {
     "data": {
      "text/plain": [
       "<matplotlib.legend.Legend at 0x7f2c7dd58080>"
      ]
     },
     "execution_count": 13,
     "metadata": {
      "tags": []
     },
     "output_type": "execute_result"
    },
    {
     "data": {
      "image/png": "[encoded data removed]",
      "text/plain": [
       "<Figure size 432x288 with 1 Axes>"
      ]
     },
     "metadata": {
      "needs_background": "light",
      "tags": []
     },
     "output_type": "display_data"
    }
   ],
   "source": [
    "plt.plot(y_teste2, '*', markersize = 10, label = 'Valor real')\n",
    "plt.plot(previsoes2, 'o', label = 'Previsões')\n",
    "plt.legend()"
   ]
  },
  {
   "cell_type": "code",
   "execution_count": 14,
   "metadata": {
    "colab": {
     "base_uri": "https://localhost:8080/",
     "height": 281
    },
    "colab_type": "code",
    "executionInfo": {
     "elapsed": 50425,
     "status": "ok",
     "timestamp": 1599589178233,
     "user": {
      "displayName": "Denny Seccon",
      "photoUrl": "https://lh3.googleusercontent.com/a-/AOh14GgJKBMgIypXsiOd8ZOSskERpZBMuJN6csHlr9Wo=s64",
      "userId": "03904535882374894686"
     },
     "user_tz": 180
    },
    "id": "2yevGjKCy4WW",
    "outputId": "7ad1b291-b200-4041-8d07-ed4f0ff6498f"
   },
   "outputs": [
    {
     "data": {
      "text/plain": [
       "<matplotlib.legend.Legend at 0x7f2c7dce5940>"
      ]
     },
     "execution_count": 14,
     "metadata": {
      "tags": []
     },
     "output_type": "execute_result"
    },
    {
     "data": {
      "image/png": "[encoded data removed]",
      "text/plain": [
       "<Figure size 432x288 with 1 Axes>"
      ]
     },
     "metadata": {
      "needs_background": "light",
      "tags": []
     },
     "output_type": "display_data"
    }
   ],
   "source": [
    "plt.plot(y_teste2, label = 'Valor real')\n",
    "plt.plot(y_teste2, 'w*', markersize = 10, color = 'red')\n",
    "plt.plot(previsoes2, label = 'Previsões')\n",
    "plt.legend()"
   ]
  },
  {
   "cell_type": "markdown",
   "metadata": {
    "colab_type": "text",
    "id": "l_MlsqQtJ7SH"
   },
   "source": [
    "# Usando LSTM"
   ]
  },
  {
   "cell_type": "code",
   "execution_count": 15,
   "metadata": {
    "colab": {},
    "colab_type": "code",
    "executionInfo": {
     "elapsed": 50368,
     "status": "ok",
     "timestamp": 1599589178234,
     "user": {
      "displayName": "Denny Seccon",
      "photoUrl": "https://lh3.googleusercontent.com/a-/AOh14GgJKBMgIypXsiOd8ZOSskERpZBMuJN6csHlr9Wo=s64",
      "userId": "03904535882374894686"
     },
     "user_tz": 180
    },
    "id": "TWk3o7kbJ6kq"
   },
   "outputs": [],
   "source": [
    "class Model(tf.keras.Model):\n",
    "    def __init__(self):\n",
    "        super().__init__()\n",
    "        self.lstm = tf.keras.layers.LSTM(units = neuronios_oculta, activation = 'relu', return_sequences = True)\n",
    "        self.dense = tf.keras.layers.Dense(units = neuronios_saida)\n",
    "    \n",
    "    def call(self, inputs):\n",
    "        x = self.lstm(inputs)\n",
    "        x = self.dense(x)\n",
    "\n",
    "        return x"
   ]
  },
  {
   "cell_type": "code",
   "execution_count": 16,
   "metadata": {
    "colab": {
     "base_uri": "https://localhost:8080/",
     "height": 297
    },
    "colab_type": "code",
    "executionInfo": {
     "elapsed": 131420,
     "status": "ok",
     "timestamp": 1599589259310,
     "user": {
      "displayName": "Denny Seccon",
      "photoUrl": "https://lh3.googleusercontent.com/a-/AOh14GgJKBMgIypXsiOd8ZOSskERpZBMuJN6csHlr9Wo=s64",
      "userId": "03904535882374894686"
     },
     "user_tz": 180
    },
    "id": "qubhgGx8J6k0",
    "outputId": "3f770af7-48a8-4b6b-db8f-63b05b77308f"
   },
   "outputs": [
    {
     "name": "stdout",
     "output_type": "stream",
     "text": [
      "WARNING:tensorflow:Layer model_1 is casting an input tensor from dtype float64 to the layer's dtype of float32, which is new behavior in TensorFlow 2.  The layer has dtype float32 because its dtype defaults to floatx.\n",
      "\n",
      "If you intended to run this layer in float32, you can safely ignore this warning. If in doubt, this warning is likely only an issue if you are porting a TensorFlow 1.X model to TensorFlow 2.\n",
      "\n",
      "To change all layers to have dtype float64 by default, call `tf.keras.backend.set_floatx('float64')`. To change just this layer, pass dtype='float64' to the layer constructor. If you are the author of this layer, you can disable autocasting by passing autocast=False to the base Layer constructor.\n",
      "\n",
      "1  erro:  146.02638828273203\n",
      "101  erro:  6.062502630294103\n",
      "201  erro:  2.238208858393262\n",
      "301  erro:  0.4434352489726186\n",
      "401  erro:  0.19654635220640773\n",
      "501  erro:  0.17794733291115375\n",
      "601  erro:  0.17532183391857603\n",
      "701  erro:  0.17234733320388101\n",
      "801  erro:  0.1585406379463371\n",
      "901  erro:  0.1463977553090012\n"
     ]
    }
   ],
   "source": [
    "model = Model()\n",
    "otimizador = tf.keras.optimizers.Adam(learning_rate = 0.001)\n",
    "\n",
    "for epoca in range(1000):\n",
    "    with tf.GradientTape() as tape:\n",
    "        out = model(X_batches)\n",
    "        erro = tf.keras.losses.mean_squared_error(out, y_batches)\n",
    "    \n",
    "    # Uma das vantagens de escrever o modelo como uma instância de `tf.keras.Model`\n",
    "    # é que podemos recuperar a `var_list` com `model.trainable_variables`\n",
    "    gradientes = tape.gradient(erro, model.trainable_variables)\n",
    "    otimizador.apply_gradients(zip(gradientes, model.trainable_variables))\n",
    "\n",
    "    if epoca % 100 == 0:\n",
    "        print(epoca + 1, ' erro: ', tf.reduce_mean(erro).numpy())"
   ]
  },
  {
   "cell_type": "code",
   "execution_count": 17,
   "metadata": {
    "colab": {
     "base_uri": "https://localhost:8080/",
     "height": 521
    },
    "colab_type": "code",
    "executionInfo": {
     "elapsed": 131390,
     "status": "ok",
     "timestamp": 1599589259326,
     "user": {
      "displayName": "Denny Seccon",
      "photoUrl": "https://lh3.googleusercontent.com/a-/AOh14GgJKBMgIypXsiOd8ZOSskERpZBMuJN6csHlr9Wo=s64",
      "userId": "03904535882374894686"
     },
     "user_tz": 180
    },
    "id": "4ebRp4n3J6k8",
    "outputId": "2370e0a3-8309-4798-8bf2-05298c19d5b1"
   },
   "outputs": [
    {
     "data": {
      "text/plain": [
       "<tf.Tensor: shape=(1, 30, 1), dtype=float32, numpy=\n",
       "array([[[15.403061 ],\n",
       "        [15.666862 ],\n",
       "        [15.149902 ],\n",
       "        [15.173392 ],\n",
       "        [15.292043 ],\n",
       "        [15.23158  ],\n",
       "        [15.179492 ],\n",
       "        [15.2367525],\n",
       "        [15.598362 ],\n",
       "        [15.69919  ],\n",
       "        [15.770866 ],\n",
       "        [15.936618 ],\n",
       "        [16.116943 ],\n",
       "        [16.128193 ],\n",
       "        [16.18997  ],\n",
       "        [16.48451  ],\n",
       "        [16.78791  ],\n",
       "        [16.82304  ],\n",
       "        [16.95389  ],\n",
       "        [17.171616 ],\n",
       "        [17.025639 ],\n",
       "        [17.00232  ],\n",
       "        [16.81711  ],\n",
       "        [17.116934 ],\n",
       "        [17.500856 ],\n",
       "        [18.163198 ],\n",
       "        [18.560755 ],\n",
       "        [18.66575  ],\n",
       "        [18.321114 ],\n",
       "        [17.592762 ]]], dtype=float32)>"
      ]
     },
     "execution_count": 17,
     "metadata": {
      "tags": []
     },
     "output_type": "execute_result"
    }
   ],
   "source": [
    "previsoes = model(X_teste)\n",
    "previsoes"
   ]
  },
  {
   "cell_type": "code",
   "execution_count": 18,
   "metadata": {
    "colab": {
     "base_uri": "https://localhost:8080/",
     "height": 33
    },
    "colab_type": "code",
    "executionInfo": {
     "elapsed": 131341,
     "status": "ok",
     "timestamp": 1599589259328,
     "user": {
      "displayName": "Denny Seccon",
      "photoUrl": "https://lh3.googleusercontent.com/a-/AOh14GgJKBMgIypXsiOd8ZOSskERpZBMuJN6csHlr9Wo=s64",
      "userId": "03904535882374894686"
     },
     "user_tz": 180
    },
    "id": "IifZ9i6FJ6lJ",
    "outputId": "c75c1e3b-1181-4d7e-a45b-a40900ff90bc"
   },
   "outputs": [
    {
     "data": {
      "text/plain": [
       "0.21834127816772503"
      ]
     },
     "execution_count": 18,
     "metadata": {
      "tags": []
     },
     "output_type": "execute_result"
    }
   ],
   "source": [
    "y_teste2 = np.ravel(y_teste)\n",
    "previsoes2 = np.ravel(previsoes.numpy())\n",
    "mae = mean_absolute_error(y_teste2, previsoes2)\n",
    "mae"
   ]
  },
  {
   "cell_type": "markdown",
   "metadata": {
    "colab_type": "text",
    "id": "Rpyz03WQLNBY"
   },
   "source": [
    "# Múltiplas camadas LSTM\n",
    "\n",
    "O construtor para empilhar células com estrutura de RNN deve ser `tf.keras.layers.StackedRNNCells`, que depois deve ser consolidada em uma camada usando o construtor `tf.keras.layers.RNN`, conforme exemplo em https://www.tensorflow.org/api_docs/python/tf/keras/layers/StackedRNNCells#examples"
   ]
  },
  {
   "cell_type": "code",
   "execution_count": 19,
   "metadata": {
    "colab": {},
    "colab_type": "code",
    "executionInfo": {
     "elapsed": 131323,
     "status": "ok",
     "timestamp": 1599589259329,
     "user": {
      "displayName": "Denny Seccon",
      "photoUrl": "https://lh3.googleusercontent.com/a-/AOh14GgJKBMgIypXsiOd8ZOSskERpZBMuJN6csHlr9Wo=s64",
      "userId": "03904535882374894686"
     },
     "user_tz": 180
    },
    "id": "tfImuHB0LLzN"
   },
   "outputs": [],
   "source": [
    "class Model(tf.keras.Model):\n",
    "    def __init__(self):\n",
    "        super().__init__()\n",
    "        lstms = [tf.keras.layers.LSTMCell(units = neuronios_oculta, activation = 'relu') for _ in range(4)]\n",
    "        stacked_lstm = tf.keras.layers.StackedRNNCells(cells = lstms)\n",
    "        self.lstm_layer = tf.keras.layers.RNN(cell = stacked_lstm, return_sequences = True)\n",
    "        self.dense = tf.keras.layers.Dense(units = neuronios_saida)\n",
    "    \n",
    "    def call(self, inputs):\n",
    "        x = self.lstm_layer(inputs)\n",
    "        x = self.dense(x)\n",
    "\n",
    "        return x"
   ]
  },
  {
   "cell_type": "code",
   "execution_count": 20,
   "metadata": {
    "colab": {
     "base_uri": "https://localhost:8080/",
     "height": 297
    },
    "colab_type": "code",
    "executionInfo": {
     "elapsed": 476971,
     "status": "ok",
     "timestamp": 1599589605007,
     "user": {
      "displayName": "Denny Seccon",
      "photoUrl": "https://lh3.googleusercontent.com/a-/AOh14GgJKBMgIypXsiOd8ZOSskERpZBMuJN6csHlr9Wo=s64",
      "userId": "03904535882374894686"
     },
     "user_tz": 180
    },
    "id": "ZV1RpxdiLLzR",
    "outputId": "31313b52-ba03-408d-dd12-25740bc7e422"
   },
   "outputs": [
    {
     "name": "stdout",
     "output_type": "stream",
     "text": [
      "WARNING:tensorflow:Layer model_2 is casting an input tensor from dtype float64 to the layer's dtype of float32, which is new behavior in TensorFlow 2.  The layer has dtype float32 because its dtype defaults to floatx.\n",
      "\n",
      "If you intended to run this layer in float32, you can safely ignore this warning. If in doubt, this warning is likely only an issue if you are porting a TensorFlow 1.X model to TensorFlow 2.\n",
      "\n",
      "To change all layers to have dtype float64 by default, call `tf.keras.backend.set_floatx('float64')`. To change just this layer, pass dtype='float64' to the layer constructor. If you are the author of this layer, you can disable autocasting by passing autocast=False to the base Layer constructor.\n",
      "\n",
      "1  erro:  205.58804442689694\n",
      "101  erro:  16.171051754821026\n",
      "201  erro:  4.739298619874494\n",
      "301  erro:  0.8384997545823752\n",
      "401  erro:  0.827148930423916\n",
      "501  erro:  0.4789546910498136\n",
      "601  erro:  0.36720645315388534\n",
      "701  erro:  0.3121628280684808\n",
      "801  erro:  0.2656845797621961\n",
      "901  erro:  0.3364047531026066\n"
     ]
    }
   ],
   "source": [
    "model = Model()\n",
    "otimizador = tf.keras.optimizers.Adam(learning_rate = 0.001)\n",
    "\n",
    "for epoca in range(1000):\n",
    "    with tf.GradientTape() as tape:\n",
    "        out = model(X_batches)\n",
    "        erro = tf.keras.losses.mean_squared_error(out, y_batches)\n",
    "    \n",
    "    # Uma das vantagens de escrever o modelo como uma instância de `tf.keras.Model`\n",
    "    # é que podemos recuperar a `var_list` com `model.trainable_variables`\n",
    "    gradientes = tape.gradient(erro, model.trainable_variables)\n",
    "    otimizador.apply_gradients(zip(gradientes, model.trainable_variables))\n",
    "\n",
    "    if epoca % 100 == 0:\n",
    "        print(epoca + 1, ' erro: ', tf.reduce_mean(erro).numpy())"
   ]
  },
  {
   "cell_type": "code",
   "execution_count": 21,
   "metadata": {
    "colab": {
     "base_uri": "https://localhost:8080/",
     "height": 521
    },
    "colab_type": "code",
    "executionInfo": {
     "elapsed": 476968,
     "status": "ok",
     "timestamp": 1599589605023,
     "user": {
      "displayName": "Denny Seccon",
      "photoUrl": "https://lh3.googleusercontent.com/a-/AOh14GgJKBMgIypXsiOd8ZOSskERpZBMuJN6csHlr9Wo=s64",
      "userId": "03904535882374894686"
     },
     "user_tz": 180
    },
    "id": "a189PyWELLzU",
    "outputId": "49f3b833-4f2f-4282-d436-3631a9c332d5"
   },
   "outputs": [
    {
     "data": {
      "text/plain": [
       "<tf.Tensor: shape=(1, 30, 1), dtype=float32, numpy=\n",
       "array([[[15.462924],\n",
       "        [15.465266],\n",
       "        [15.520151],\n",
       "        [15.433026],\n",
       "        [15.317963],\n",
       "        [15.228615],\n",
       "        [15.136157],\n",
       "        [15.272528],\n",
       "        [15.387009],\n",
       "        [15.585243],\n",
       "        [15.845898],\n",
       "        [15.909593],\n",
       "        [16.106228],\n",
       "        [16.012682],\n",
       "        [16.001709],\n",
       "        [16.222486],\n",
       "        [16.390627],\n",
       "        [16.426296],\n",
       "        [16.331596],\n",
       "        [16.398088],\n",
       "        [16.47245 ],\n",
       "        [16.401989],\n",
       "        [16.390467],\n",
       "        [16.749777],\n",
       "        [16.923624],\n",
       "        [16.886076],\n",
       "        [17.311932],\n",
       "        [17.796661],\n",
       "        [18.242445],\n",
       "        [18.51887 ]]], dtype=float32)>"
      ]
     },
     "execution_count": 21,
     "metadata": {
      "tags": []
     },
     "output_type": "execute_result"
    }
   ],
   "source": [
    "previsoes = model(X_teste)\n",
    "previsoes"
   ]
  },
  {
   "cell_type": "code",
   "execution_count": 22,
   "metadata": {
    "colab": {
     "base_uri": "https://localhost:8080/",
     "height": 33
    },
    "colab_type": "code",
    "executionInfo": {
     "elapsed": 476767,
     "status": "ok",
     "timestamp": 1599589605028,
     "user": {
      "displayName": "Denny Seccon",
      "photoUrl": "https://lh3.googleusercontent.com/a-/AOh14GgJKBMgIypXsiOd8ZOSskERpZBMuJN6csHlr9Wo=s64",
      "userId": "03904535882374894686"
     },
     "user_tz": 180
    },
    "id": "nBhXqs6nLLzg",
    "outputId": "51cb4ffe-0bd4-4b42-b9d5-ed9aca433edc"
   },
   "outputs": [
    {
     "data": {
      "text/plain": [
       "0.42639547684122736"
      ]
     },
     "execution_count": 22,
     "metadata": {
      "tags": []
     },
     "output_type": "execute_result"
    }
   ],
   "source": [
    "y_teste2 = np.ravel(y_teste)\n",
    "previsoes2 = np.ravel(previsoes.numpy())\n",
    "mae = mean_absolute_error(y_teste2, previsoes2)\n",
    "mae"
   ]
  },
  {
   "cell_type": "markdown",
   "metadata": {
    "colab_type": "text",
    "id": "QxOsCNuOSQBu"
   },
   "source": [
    "# Com dropout"
   ]
  },
  {
   "cell_type": "code",
   "execution_count": 23,
   "metadata": {
    "colab": {},
    "colab_type": "code",
    "executionInfo": {
     "elapsed": 476737,
     "status": "ok",
     "timestamp": 1599589605031,
     "user": {
      "displayName": "Denny Seccon",
      "photoUrl": "https://lh3.googleusercontent.com/a-/AOh14GgJKBMgIypXsiOd8ZOSskERpZBMuJN6csHlr9Wo=s64",
      "userId": "03904535882374894686"
     },
     "user_tz": 180
    },
    "id": "hLUEyv7sSVrY"
   },
   "outputs": [],
   "source": [
    "class Model(tf.keras.Model):\n",
    "    def __init__(self):\n",
    "        super().__init__()\n",
    "        lstms = [tf.keras.layers.LSTMCell(units = neuronios_oculta, activation = 'relu') for _ in range(4)]\n",
    "        stacked_lstm = tf.keras.layers.StackedRNNCells(cells = lstms)\n",
    "        self.lstm_layer = tf.keras.layers.RNN(cell = stacked_lstm, return_sequences = True)\n",
    "        self.dropout = tf.keras.layers.Dropout(rate = 0.1)\n",
    "        self.dense = tf.keras.layers.Dense(units = neuronios_saida)\n",
    "    \n",
    "    def call(self, inputs):\n",
    "        x = self.lstm_layer(inputs)\n",
    "        x = self.dropout(x)\n",
    "        x = self.dense(x)\n",
    "\n",
    "        return x"
   ]
  },
  {
   "cell_type": "code",
   "execution_count": 24,
   "metadata": {
    "colab": {
     "base_uri": "https://localhost:8080/",
     "height": 297
    },
    "colab_type": "code",
    "executionInfo": {
     "elapsed": 820825,
     "status": "ok",
     "timestamp": 1599589949143,
     "user": {
      "displayName": "Denny Seccon",
      "photoUrl": "https://lh3.googleusercontent.com/a-/AOh14GgJKBMgIypXsiOd8ZOSskERpZBMuJN6csHlr9Wo=s64",
      "userId": "03904535882374894686"
     },
     "user_tz": 180
    },
    "id": "A2T_kIx4SVrf",
    "outputId": "15565d28-affb-49cd-c238-e9899df39e9d"
   },
   "outputs": [
    {
     "name": "stdout",
     "output_type": "stream",
     "text": [
      "WARNING:tensorflow:Layer model_3 is casting an input tensor from dtype float64 to the layer's dtype of float32, which is new behavior in TensorFlow 2.  The layer has dtype float32 because its dtype defaults to floatx.\n",
      "\n",
      "If you intended to run this layer in float32, you can safely ignore this warning. If in doubt, this warning is likely only an issue if you are porting a TensorFlow 1.X model to TensorFlow 2.\n",
      "\n",
      "To change all layers to have dtype float64 by default, call `tf.keras.backend.set_floatx('float64')`. To change just this layer, pass dtype='float64' to the layer constructor. If you are the author of this layer, you can disable autocasting by passing autocast=False to the base Layer constructor.\n",
      "\n",
      "1  erro:  221.33118085912352\n",
      "101  erro:  14.026478847603745\n",
      "201  erro:  1.018236887904483\n",
      "301  erro:  0.3083717630357303\n",
      "401  erro:  0.32749422631554365\n",
      "501  erro:  0.15093164526284855\n",
      "601  erro:  0.13895919378277818\n",
      "701  erro:  0.13676955136024457\n",
      "801  erro:  0.20022988639810987\n",
      "901  erro:  0.11445338707193443\n"
     ]
    }
   ],
   "source": [
    "model = Model()\n",
    "otimizador = tf.keras.optimizers.Adam(learning_rate = 0.001)\n",
    "\n",
    "for epoca in range(1000):\n",
    "    with tf.GradientTape() as tape:\n",
    "        out = model(X_batches)\n",
    "        erro = tf.keras.losses.mean_squared_error(out, y_batches)\n",
    "    \n",
    "    # Uma das vantagens de escrever o modelo como uma instância de `tf.keras.Model`\n",
    "    # é que podemos recuperar a `var_list` com `model.trainable_variables`\n",
    "    gradientes = tape.gradient(erro, model.trainable_variables)\n",
    "    otimizador.apply_gradients(zip(gradientes, model.trainable_variables))\n",
    "\n",
    "    if epoca % 100 == 0:\n",
    "        print(epoca + 1, ' erro: ', tf.reduce_mean(erro).numpy())"
   ]
  },
  {
   "cell_type": "code",
   "execution_count": 25,
   "metadata": {
    "colab": {
     "base_uri": "https://localhost:8080/",
     "height": 521
    },
    "colab_type": "code",
    "executionInfo": {
     "elapsed": 820791,
     "status": "ok",
     "timestamp": 1599589949148,
     "user": {
      "displayName": "Denny Seccon",
      "photoUrl": "https://lh3.googleusercontent.com/a-/AOh14GgJKBMgIypXsiOd8ZOSskERpZBMuJN6csHlr9Wo=s64",
      "userId": "03904535882374894686"
     },
     "user_tz": 180
    },
    "id": "ZNBP6EA6SVrk",
    "outputId": "7ca31837-60a0-4a65-d149-529a821b1b93"
   },
   "outputs": [
    {
     "data": {
      "text/plain": [
       "<tf.Tensor: shape=(1, 30, 1), dtype=float32, numpy=\n",
       "array([[[15.181871 ],\n",
       "        [15.711775 ],\n",
       "        [15.232873 ],\n",
       "        [15.356727 ],\n",
       "        [15.2214775],\n",
       "        [15.217579 ],\n",
       "        [15.231234 ],\n",
       "        [15.133102 ],\n",
       "        [15.3503   ],\n",
       "        [15.556724 ],\n",
       "        [15.72226  ],\n",
       "        [15.724763 ],\n",
       "        [15.91631  ],\n",
       "        [16.041918 ],\n",
       "        [16.023273 ],\n",
       "        [16.440226 ],\n",
       "        [16.685778 ],\n",
       "        [16.788527 ],\n",
       "        [16.681759 ],\n",
       "        [17.07559  ],\n",
       "        [16.665295 ],\n",
       "        [17.420763 ],\n",
       "        [16.687757 ],\n",
       "        [17.861105 ],\n",
       "        [16.618387 ],\n",
       "        [17.55171  ],\n",
       "        [16.766592 ],\n",
       "        [18.803743 ],\n",
       "        [17.391253 ],\n",
       "        [17.757595 ]]], dtype=float32)>"
      ]
     },
     "execution_count": 25,
     "metadata": {
      "tags": []
     },
     "output_type": "execute_result"
    }
   ],
   "source": [
    "previsoes = model(X_teste)\n",
    "previsoes"
   ]
  },
  {
   "cell_type": "code",
   "execution_count": 26,
   "metadata": {
    "colab": {
     "base_uri": "https://localhost:8080/",
     "height": 33
    },
    "colab_type": "code",
    "executionInfo": {
     "elapsed": 820731,
     "status": "ok",
     "timestamp": 1599589949154,
     "user": {
      "displayName": "Denny Seccon",
      "photoUrl": "https://lh3.googleusercontent.com/a-/AOh14GgJKBMgIypXsiOd8ZOSskERpZBMuJN6csHlr9Wo=s64",
      "userId": "03904535882374894686"
     },
     "user_tz": 180
    },
    "id": "jateuY7_SVro",
    "outputId": "7fc5b522-9d1d-4b68-f8ff-126fb4e8fcf9"
   },
   "outputs": [
    {
     "data": {
      "text/plain": [
       "0.4247350924357098"
      ]
     },
     "execution_count": 26,
     "metadata": {
      "tags": []
     },
     "output_type": "execute_result"
    }
   ],
   "source": [
    "y_teste2 = np.ravel(y_teste)\n",
    "previsoes2 = np.ravel(previsoes.numpy())\n",
    "mae = mean_absolute_error(y_teste2, previsoes2)\n",
    "mae"
   ]
  },
  {
   "cell_type": "code",
   "execution_count": 27,
   "metadata": {
    "colab": {
     "base_uri": "https://localhost:8080/",
     "height": 281
    },
    "colab_type": "code",
    "executionInfo": {
     "elapsed": 821544,
     "status": "ok",
     "timestamp": 1599589949993,
     "user": {
      "displayName": "Denny Seccon",
      "photoUrl": "https://lh3.googleusercontent.com/a-/AOh14GgJKBMgIypXsiOd8ZOSskERpZBMuJN6csHlr9Wo=s64",
      "userId": "03904535882374894686"
     },
     "user_tz": 180
    },
    "id": "bMjZQZPITJ2i",
    "outputId": "63c0d345-c39a-40b9-fc13-9d1383f8a75c"
   },
   "outputs": [
    {
     "data": {
      "text/plain": [
       "<matplotlib.legend.Legend at 0x7f2c7dc39a20>"
      ]
     },
     "execution_count": 27,
     "metadata": {
      "tags": []
     },
     "output_type": "execute_result"
    },
    {
     "data": {
      "image/png": "[encoded data removed]",
      "text/plain": [
       "<Figure size 432x288 with 1 Axes>"
      ]
     },
     "metadata": {
      "needs_background": "light",
      "tags": []
     },
     "output_type": "display_data"
    }
   ],
   "source": [
    "plt.plot(y_teste2, '*', markersize = 10, label = 'Valor real')\n",
    "plt.plot(previsoes2, 'o', label = 'Previsões')\n",
    "plt.legend()"
   ]
  }
 ],
 "metadata": {
  "colab": {
   "authorship_tag": "ABX9TyOxnY7HsNWf4hxii2VK8bRg",
   "collapsed_sections": [],
   "name": "1 serie_temporal_rede_recorrente.ipynb",
   "provenance": [],
   "toc_visible": true
  },
  "kernelspec": {
   "display_name": "Python 3 (ipykernel)",
   "language": "python",
   "name": "python3"
  },
  "language_info": {
   "codemirror_mode": {
    "name": "ipython",
    "version": 3
   },
   "file_extension": ".py",
   "mimetype": "text/x-python",
   "name": "python",
   "nbconvert_exporter": "python",
   "pygments_lexer": "ipython3",
   "version": "3.8.10"
  }
 },
 "nbformat": 4,
 "nbformat_minor": 1
}
